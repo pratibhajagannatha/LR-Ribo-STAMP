{
 "cells": [
  {
   "cell_type": "code",
   "execution_count": 1,
   "id": "237195a8-fb8b-4214-99a9-14035c6d4a29",
   "metadata": {},
   "outputs": [],
   "source": [
    "import os\n",
    "import pybedtools\n",
    "import pandas as pd\n",
    "import numpy as np\n",
    "import glob\n",
    "import tqdm\n",
    "import seaborn as sns\n",
    "import matplotlib.pyplot as plt\n",
    "import random\n",
    "from Bio import SeqIO\n",
    "from Bio.Seq import Seq\n",
    "import pysam"
   ]
  },
  {
   "cell_type": "code",
   "execution_count": 2,
   "id": "821e6e83-59e5-4329-aad8-2ce71a204374",
   "metadata": {},
   "outputs": [],
   "source": [
    "transcript_df = pd.read_csv('/tscc/nfs/home/pjaganna1/projects/STAMP/stamp_v3_pipeline/notebooks/RPS2/annotated_transcript_editsC_lm_dec2023.txt', sep='\\t')"
   ]
  },
  {
   "cell_type": "code",
   "execution_count": 3,
   "id": "857e5a28-55c0-45eb-9596-34c642d04a55",
   "metadata": {},
   "outputs": [
    {
     "name": "stderr",
     "output_type": "stream",
     "text": [
      "/tscc/projects/ps-yeolab4/software/miniconda_tscc2/envs/python3essential-1.99.0/lib/python3.9/site-packages/numpy/core/fromnumeric.py:59: FutureWarning: 'DataFrame.swapaxes' is deprecated and will be removed in a future version. Please use 'DataFrame.transpose' instead.\n",
      "  return bound(*args, **kwds)\n"
     ]
    }
   ],
   "source": [
    "low_translation_transcript = np.array_split(transcript_df.sort_values('RPS2_mean'), 4)[0].transcript_id.tolist()\n",
    "high_translation_transcript = np.array_split(transcript_df.sort_values('RPS2_mean'), 4)[3].transcript_id.tolist()"
   ]
  },
  {
   "cell_type": "code",
   "execution_count": 4,
   "id": "35568868-62fe-43fe-8606-ac4b21467085",
   "metadata": {},
   "outputs": [],
   "source": [
    "gtf_file = '/tscc/nfs/home/pjaganna1/projects/STAMP/stamp_v3_pipeline/refs/hg19/gencode.v19.annotation.gtf'  # Replace with your GTF file path\n",
    "fasta_file = '/tscc/nfs/home/pjaganna1/projects/STAMP/stamp_v3_pipeline/refs/hg19/hg19.fa'"
   ]
  },
  {
   "cell_type": "code",
   "execution_count": 5,
   "id": "5c42cd9a-2aa4-4cd5-85df-17c7d89f2069",
   "metadata": {},
   "outputs": [],
   "source": [
    "from Bio import SeqIO\n",
    "\n",
    "def extract_sequences(fasta_file, df):\n",
    "    # Load the genome sequence\n",
    "    genome = SeqIO.to_dict(SeqIO.parse(fasta_file, \"fasta\"))\n",
    "\n",
    "    # Extract sequences\n",
    "    sequences = {}\n",
    "    for _, row in df.iterrows():\n",
    "        seqname = row[0]\n",
    "        start = row[3]\n",
    "        end = row[4]\n",
    "        sequence = genome[seqname].seq[start-1:end]  # Adjust for 0-based indexing\n",
    "        sequences[row['key']] = str(sequence)\n",
    "\n",
    "    return sequences"
   ]
  },
  {
   "cell_type": "code",
   "execution_count": 6,
   "id": "1d93bb76-5c7a-439f-8189-2cf6ddf07997",
   "metadata": {},
   "outputs": [],
   "source": [
    "def assign_utr(x):\n",
    "    strand = x[6]\n",
    "    utr_start = x[3]\n",
    "    utr_end = x[4]\n",
    "    if strand =='+':\n",
    "        if utr_end < gtf_CDS_start[x['transcript_id']]:\n",
    "            return '5UTR'\n",
    "        elif utr_start > gtf_CDS_end[x['transcript_id']]:\n",
    "            return '3UTR'\n",
    "\n",
    "    if strand =='-':\n",
    "        if utr_start > gtf_CDS_end[x['transcript_id']]:\n",
    "            return '5UTR'\n",
    "        elif utr_end <  gtf_CDS_start[x['transcript_id']]:\n",
    "            return '3UTR'"
   ]
  },
  {
   "cell_type": "code",
   "execution_count": 7,
   "id": "3720b850-871b-408c-a9d8-e8c36edfeb8e",
   "metadata": {},
   "outputs": [],
   "source": [
    "# load GTF and get isoform characteristics\n",
    "gencode_transcripts = pd.read_csv(gtf_file, sep='\\t', comment='#', header=None)\n",
    "gencode_transcripts['transcript_id'] = gencode_transcripts[8].str.extract('transcript_id \"([^\"]+)\"')\n",
    "gencode_transcripts['gene_id'] = gencode_transcripts[8].str.extract('gene_id \"([^\"]+)\"')\n",
    "gencode_transcripts['gene_name'] = gencode_transcripts[8].str.extract('gene_name \"([^\"]+)\"')"
   ]
  },
  {
   "cell_type": "markdown",
   "id": "6283f2b3-cfec-4289-8fc2-e6b779cdae3f",
   "metadata": {},
   "source": [
    "### get CDS features"
   ]
  },
  {
   "cell_type": "code",
   "execution_count": 9,
   "id": "b4e28f45-cf23-4bff-9485-21ffc27af537",
   "metadata": {},
   "outputs": [],
   "source": [
    "CDS = gencode_transcripts[gencode_transcripts[2]=='CDS']"
   ]
  },
  {
   "cell_type": "code",
   "execution_count": 10,
   "id": "bf5719f0-b686-4ee0-8b79-793a8d795d5b",
   "metadata": {},
   "outputs": [],
   "source": [
    "gtf_CDS_start = dict(zip(CDS['transcript_id'], CDS[3]))\n",
    "gtf_CDS_end = dict(zip(CDS['transcript_id'], CDS[4]))"
   ]
  },
  {
   "cell_type": "code",
   "execution_count": 13,
   "id": "fa5d3085-5d86-4d41-932e-3da8ce07e62a",
   "metadata": {},
   "outputs": [
    {
     "name": "stderr",
     "output_type": "stream",
     "text": [
      "/tmp/ipykernel_1441204/4172467024.py:1: SettingWithCopyWarning: \n",
      "A value is trying to be set on a copy of a slice from a DataFrame.\n",
      "Try using .loc[row_indexer,col_indexer] = value instead\n",
      "\n",
      "See the caveats in the documentation: https://pandas.pydata.org/pandas-docs/stable/user_guide/indexing.html#returning-a-view-versus-a-copy\n",
      "  CDS['length'] = CDS[4] - CDS[3]\n",
      "/tmp/ipykernel_1441204/4172467024.py:2: SettingWithCopyWarning: \n",
      "A value is trying to be set on a copy of a slice from a DataFrame.\n",
      "Try using .loc[row_indexer,col_indexer] = value instead\n",
      "\n",
      "See the caveats in the documentation: https://pandas.pydata.org/pandas-docs/stable/user_guide/indexing.html#returning-a-view-versus-a-copy\n",
      "  CDS['key'] = CDS.apply(lambda x: f\"{x['transcript_id']}:{x[0]}:{x[3]}:{x[4]}\", axis=1)\n"
     ]
    }
   ],
   "source": [
    "CDS['length'] = CDS[4] - CDS[3]\n",
    "CDS['key'] = CDS.apply(lambda x: f\"{x['transcript_id']}:{x[0]}:{x[3]}:{x[4]}\", axis=1)"
   ]
  },
  {
   "cell_type": "code",
   "execution_count": 14,
   "id": "9ab01bd1-5c82-4cad-ad31-c4e31867833e",
   "metadata": {},
   "outputs": [],
   "source": [
    "CDS_seq_dict = extract_sequences(fasta_file, CDS)"
   ]
  },
  {
   "cell_type": "markdown",
   "id": "0f39598a-9172-45b5-aebe-ee46eb8f227e",
   "metadata": {},
   "source": [
    "### Get UTR features"
   ]
  },
  {
   "cell_type": "code",
   "execution_count": 15,
   "id": "ccc73028-ca81-47d5-b662-478d9dd899df",
   "metadata": {},
   "outputs": [
    {
     "name": "stderr",
     "output_type": "stream",
     "text": [
      "/tmp/ipykernel_1441204/3028768742.py:2: SettingWithCopyWarning: \n",
      "A value is trying to be set on a copy of a slice from a DataFrame.\n",
      "Try using .loc[row_indexer,col_indexer] = value instead\n",
      "\n",
      "See the caveats in the documentation: https://pandas.pydata.org/pandas-docs/stable/user_guide/indexing.html#returning-a-view-versus-a-copy\n",
      "  UTR[2] = UTR.apply(assign_utr, axis=1)\n"
     ]
    }
   ],
   "source": [
    "UTR = gencode_transcripts[gencode_transcripts[2]=='UTR']\n",
    "UTR[2] = UTR.apply(assign_utr, axis=1)"
   ]
  },
  {
   "cell_type": "code",
   "execution_count": 16,
   "id": "448dbedd-f395-4b37-8f13-3aefd370c062",
   "metadata": {},
   "outputs": [
    {
     "name": "stderr",
     "output_type": "stream",
     "text": [
      "/tmp/ipykernel_1441204/3718035876.py:3: SettingWithCopyWarning: \n",
      "A value is trying to be set on a copy of a slice from a DataFrame.\n",
      "Try using .loc[row_indexer,col_indexer] = value instead\n",
      "\n",
      "See the caveats in the documentation: https://pandas.pydata.org/pandas-docs/stable/user_guide/indexing.html#returning-a-view-versus-a-copy\n",
      "  five_UTR['key'] = five_UTR.apply(lambda x: f\"{x['transcript_id']}:{x[0]}:{x[3]}:{x[4]}\", axis=1)\n",
      "/tmp/ipykernel_1441204/3718035876.py:4: SettingWithCopyWarning: \n",
      "A value is trying to be set on a copy of a slice from a DataFrame.\n",
      "Try using .loc[row_indexer,col_indexer] = value instead\n",
      "\n",
      "See the caveats in the documentation: https://pandas.pydata.org/pandas-docs/stable/user_guide/indexing.html#returning-a-view-versus-a-copy\n",
      "  three_UTR['key'] = three_UTR.apply(lambda x: f\"{x['transcript_id']}:{x[0]}:{x[3]}:{x[4]}\", axis=1)\n"
     ]
    }
   ],
   "source": [
    "five_UTR = UTR[UTR[2]=='5UTR']\n",
    "three_UTR = UTR[UTR[2]=='3UTR']\n",
    "five_UTR['key'] = five_UTR.apply(lambda x: f\"{x['transcript_id']}:{x[0]}:{x[3]}:{x[4]}\", axis=1)\n",
    "three_UTR['key'] = three_UTR.apply(lambda x: f\"{x['transcript_id']}:{x[0]}:{x[3]}:{x[4]}\", axis=1)\n"
   ]
  },
  {
   "cell_type": "code",
   "execution_count": 17,
   "id": "a7290496-5093-486b-9608-449eada7faee",
   "metadata": {},
   "outputs": [
    {
     "name": "stderr",
     "output_type": "stream",
     "text": [
      "/tmp/ipykernel_1441204/3584739827.py:1: SettingWithCopyWarning: \n",
      "A value is trying to be set on a copy of a slice from a DataFrame.\n",
      "Try using .loc[row_indexer,col_indexer] = value instead\n",
      "\n",
      "See the caveats in the documentation: https://pandas.pydata.org/pandas-docs/stable/user_guide/indexing.html#returning-a-view-versus-a-copy\n",
      "  five_UTR['length'] = five_UTR[4] - five_UTR[3]\n",
      "/tmp/ipykernel_1441204/3584739827.py:2: SettingWithCopyWarning: \n",
      "A value is trying to be set on a copy of a slice from a DataFrame.\n",
      "Try using .loc[row_indexer,col_indexer] = value instead\n",
      "\n",
      "See the caveats in the documentation: https://pandas.pydata.org/pandas-docs/stable/user_guide/indexing.html#returning-a-view-versus-a-copy\n",
      "  three_UTR['length'] = three_UTR[4] - three_UTR[3]\n"
     ]
    }
   ],
   "source": [
    "five_UTR['length'] = five_UTR[4] - five_UTR[3]\n",
    "three_UTR['length'] = three_UTR[4] - three_UTR[3]"
   ]
  },
  {
   "cell_type": "code",
   "execution_count": 18,
   "id": "6d17fd81-f41c-4c2a-beda-441fe195d805",
   "metadata": {},
   "outputs": [],
   "source": [
    "five_UTR_seq_dict = extract_sequences(fasta_file, five_UTR)\n",
    "three_UTR_seq_dict = extract_sequences(fasta_file, three_UTR)"
   ]
  },
  {
   "cell_type": "markdown",
   "id": "e8c79a1f-4eb6-4d87-8f53-75273be557c3",
   "metadata": {},
   "source": [
    "### Add sequence and get sequence features"
   ]
  },
  {
   "cell_type": "code",
   "execution_count": 19,
   "id": "5d30d0d3-c03e-40c2-aa43-e801b4e43527",
   "metadata": {},
   "outputs": [
    {
     "name": "stderr",
     "output_type": "stream",
     "text": [
      "/tmp/ipykernel_1441204/3567514383.py:1: SettingWithCopyWarning: \n",
      "A value is trying to be set on a copy of a slice from a DataFrame.\n",
      "Try using .loc[row_indexer,col_indexer] = value instead\n",
      "\n",
      "See the caveats in the documentation: https://pandas.pydata.org/pandas-docs/stable/user_guide/indexing.html#returning-a-view-versus-a-copy\n",
      "  CDS['sequence'] = CDS.key.map(CDS_seq_dict)\n"
     ]
    }
   ],
   "source": [
    "CDS['sequence'] = CDS.key.map(CDS_seq_dict)"
   ]
  },
  {
   "cell_type": "code",
   "execution_count": 20,
   "id": "bdd8cad8-cedb-4256-859f-6e0716b09ec6",
   "metadata": {},
   "outputs": [
    {
     "name": "stderr",
     "output_type": "stream",
     "text": [
      "/tmp/ipykernel_1441204/3291725023.py:1: SettingWithCopyWarning: \n",
      "A value is trying to be set on a copy of a slice from a DataFrame.\n",
      "Try using .loc[row_indexer,col_indexer] = value instead\n",
      "\n",
      "See the caveats in the documentation: https://pandas.pydata.org/pandas-docs/stable/user_guide/indexing.html#returning-a-view-versus-a-copy\n",
      "  five_UTR['sequence'] = five_UTR.key.map(five_UTR_seq_dict)\n"
     ]
    }
   ],
   "source": [
    "five_UTR['sequence'] = five_UTR.key.map(five_UTR_seq_dict)"
   ]
  },
  {
   "cell_type": "code",
   "execution_count": 21,
   "id": "03acd641-eb14-4ea6-a138-8ce23a042b7d",
   "metadata": {},
   "outputs": [
    {
     "name": "stderr",
     "output_type": "stream",
     "text": [
      "/tmp/ipykernel_1441204/3127873794.py:1: SettingWithCopyWarning: \n",
      "A value is trying to be set on a copy of a slice from a DataFrame.\n",
      "Try using .loc[row_indexer,col_indexer] = value instead\n",
      "\n",
      "See the caveats in the documentation: https://pandas.pydata.org/pandas-docs/stable/user_guide/indexing.html#returning-a-view-versus-a-copy\n",
      "  three_UTR['sequence'] = three_UTR.key.map(three_UTR_seq_dict)\n"
     ]
    }
   ],
   "source": [
    "three_UTR['sequence'] = three_UTR.key.map(three_UTR_seq_dict)"
   ]
  },
  {
   "cell_type": "code",
   "execution_count": 22,
   "id": "0212974c-8082-42b9-9f1c-0ebe609bb1f3",
   "metadata": {},
   "outputs": [],
   "source": [
    "def calc_gc(x):\n",
    "    seq = x['sequence'].upper()\n",
    "    if len(x['sequence']) > 0:\n",
    "        return (seq.count('C') + seq.count('G'))/((seq.count('C') + seq.count('G') + seq.count('A') + seq.count('T')))\n",
    "    else:\n",
    "        return None"
   ]
  },
  {
   "cell_type": "code",
   "execution_count": 23,
   "id": "40b40025-a9ca-41ae-ba40-0767a7155064",
   "metadata": {},
   "outputs": [
    {
     "name": "stderr",
     "output_type": "stream",
     "text": [
      "/tmp/ipykernel_1441204/2717125845.py:1: SettingWithCopyWarning: \n",
      "A value is trying to be set on a copy of a slice from a DataFrame.\n",
      "Try using .loc[row_indexer,col_indexer] = value instead\n",
      "\n",
      "See the caveats in the documentation: https://pandas.pydata.org/pandas-docs/stable/user_guide/indexing.html#returning-a-view-versus-a-copy\n",
      "  CDS['GC_content'] = CDS.apply(calc_gc, axis=1)\n",
      "/tmp/ipykernel_1441204/2717125845.py:2: SettingWithCopyWarning: \n",
      "A value is trying to be set on a copy of a slice from a DataFrame.\n",
      "Try using .loc[row_indexer,col_indexer] = value instead\n",
      "\n",
      "See the caveats in the documentation: https://pandas.pydata.org/pandas-docs/stable/user_guide/indexing.html#returning-a-view-versus-a-copy\n",
      "  five_UTR['GC_content'] = five_UTR.apply(calc_gc, axis=1)\n",
      "/tmp/ipykernel_1441204/2717125845.py:3: SettingWithCopyWarning: \n",
      "A value is trying to be set on a copy of a slice from a DataFrame.\n",
      "Try using .loc[row_indexer,col_indexer] = value instead\n",
      "\n",
      "See the caveats in the documentation: https://pandas.pydata.org/pandas-docs/stable/user_guide/indexing.html#returning-a-view-versus-a-copy\n",
      "  three_UTR['GC_content'] = three_UTR.apply(calc_gc, axis=1)\n"
     ]
    }
   ],
   "source": [
    "CDS['GC_content'] = CDS.apply(calc_gc, axis=1)\n",
    "five_UTR['GC_content'] = five_UTR.apply(calc_gc, axis=1)\n",
    "three_UTR['GC_content'] = three_UTR.apply(calc_gc, axis=1)"
   ]
  },
  {
   "cell_type": "code",
   "execution_count": 24,
   "id": "809c9691-5c0e-46e9-abdd-359802bbae17",
   "metadata": {},
   "outputs": [],
   "source": [
    "from scipy import stats"
   ]
  },
  {
   "cell_type": "code",
   "execution_count": 29,
   "id": "55bc8e9e-69be-4771-857e-c6ed992e8100",
   "metadata": {},
   "outputs": [],
   "source": [
    "def plot_low_high_boxplot(low, high, scale, feature):\n",
    "    '''plot characteristics in boxplot format for low and high categories'''\n",
    "    sns.set(rc={'figure.figsize':(5,5)})\n",
    "    sns.set_style('white')\n",
    "    low_toplot=low.copy()\n",
    "    high_toplot=high.copy()\n",
    "    low_toplot['category']='low'\n",
    "    high_toplot['category']='high'\n",
    "    sns.boxplot(data=pd.concat([low_toplot, high_toplot]), x='category', y=feature,hue='category',  palette=['#028090','#F38A2E'])\n",
    "    if scale==True:\n",
    "        plt.xscale('log')\n",
    "    plt.text(0.5, np.max(high_toplot[feature]), f\"{stats.ranksums(low[feature], high[feature])[1]:.3f}\")\n",
    "    plt.legend(['low', 'high'])\n",
    "    plt.show()\n",
    "    print(stats.ranksums(low[feature], high[feature]))"
   ]
  },
  {
   "cell_type": "code",
   "execution_count": 30,
   "id": "2d6fa02a-a9ae-4275-8b41-73186ea2d332",
   "metadata": {},
   "outputs": [
    {
     "data": {
      "image/png": "[encoded data removed]",
      "text/plain": [
       "<Figure size 500x500 with 1 Axes>"
      ]
     },
     "metadata": {},
     "output_type": "display_data"
    },
    {
     "name": "stdout",
     "output_type": "stream",
     "text": [
      "RanksumsResult(statistic=1.5788097538650085, pvalue=0.11437970066707796)\n"
     ]
    }
   ],
   "source": [
    "plot_low_high_boxplot(five_UTR[five_UTR['transcript_id'].isin(low_translation_transcript)], five_UTR[five_UTR['transcript_id'].isin(high_translation_transcript)], False, 'length')"
   ]
  },
  {
   "cell_type": "code",
   "execution_count": 31,
   "id": "b1af7893-7d59-440d-8738-4690f2c36d8a",
   "metadata": {},
   "outputs": [
    {
     "data": {
      "image/png": "[encoded data removed]",
      "text/plain": [
       "<Figure size 500x500 with 1 Axes>"
      ]
     },
     "metadata": {},
     "output_type": "display_data"
    },
    {
     "name": "stdout",
     "output_type": "stream",
     "text": [
      "RanksumsResult(statistic=2.7201359378560186, pvalue=0.006525508400918482)\n"
     ]
    }
   ],
   "source": [
    "plot_low_high_boxplot(five_UTR[five_UTR['transcript_id'].isin(low_translation_transcript)], five_UTR[five_UTR['transcript_id'].isin(high_translation_transcript)], False, 'GC_content')"
   ]
  },
  {
   "cell_type": "code",
   "execution_count": 32,
   "id": "e5a2a364-f996-452e-bb9b-e5435aa5cc0b",
   "metadata": {},
   "outputs": [
    {
     "data": {
      "image/png": "[encoded data removed]",
      "text/plain": [
       "<Figure size 500x500 with 1 Axes>"
      ]
     },
     "metadata": {},
     "output_type": "display_data"
    },
    {
     "name": "stdout",
     "output_type": "stream",
     "text": [
      "RanksumsResult(statistic=5.787695108339616, pvalue=7.135878074279573e-09)\n"
     ]
    }
   ],
   "source": [
    "plot_low_high_boxplot(three_UTR[three_UTR['transcript_id'].isin(low_translation_transcript)], three_UTR[three_UTR['transcript_id'].isin(high_translation_transcript)], False, 'GC_content')"
   ]
  },
  {
   "cell_type": "markdown",
   "id": "af9ad601-aa4e-49be-902c-92d489da0096",
   "metadata": {},
   "source": [
    "### RBP motif analysis"
   ]
  },
  {
   "cell_type": "code",
   "execution_count": 34,
   "id": "a89db3d8-b2fd-41fc-92d7-7e8f4d990265",
   "metadata": {},
   "outputs": [],
   "source": [
    "motif_dir=\"/tscc/nfs/home/pjaganna1/projects/STAMP/stamp_v3_pipeline/eCLIP_benchmarks/selex_linear\""
   ]
  },
  {
   "cell_type": "code",
   "execution_count": 36,
   "id": "144c4da1-25b7-4f97-af06-32a38dab6caa",
   "metadata": {},
   "outputs": [],
   "source": [
    "# get RBP motifs\n",
    "nuc_dict={0:'A', 1:'C', 2:'G', 3:'T'}\n",
    "RBP_motifs={}\n",
    "for d in glob.glob(os.path.join(motif_dir, \"*\")):\n",
    "    tmp = pd.read_csv(d, index_col=0)\n",
    "    consensus=[]\n",
    "    for row, index in tmp.iterrows():\n",
    "        nucleotide_probabilities=tmp.loc[row, :].values.tolist()\n",
    "        max_value = max(nucleotide_probabilities)\n",
    "        for i in [index for index, item in enumerate(nucleotide_probabilities) if item == max_value][:1]:\n",
    "            consensus.append(nuc_dict[i])\n",
    "    RBP_motifs[d.split('/')[-1].strip('.motif.csv')]=(''.join(consensus))\n",
    "    "
   ]
  },
  {
   "cell_type": "code",
   "execution_count": 38,
   "id": "719587b8-7586-4dcc-9048-5815d747cf84",
   "metadata": {},
   "outputs": [],
   "source": [
    "RBP_motifs['RBFOX2']='GCATG'\n",
    "RBP_motifs['EIF4A']='GAAG'"
   ]
  },
  {
   "cell_type": "code",
   "execution_count": 40,
   "id": "25147873-6756-44c2-9f29-2738951ae9d5",
   "metadata": {},
   "outputs": [],
   "source": [
    "def get_all_possible_motif_seqs(df):\n",
    "    '''generate background'''\n",
    "    all_possible = dict.fromkeys(list(RBP_motifs.keys()), 0)\n",
    "    for key in RBP_motifs:\n",
    "        count = 0\n",
    "        for index, row in df.iterrows():\n",
    "            query_seq = row['sequence']\n",
    "            m = RBP_motifs[key]\n",
    "            for i in range(0,len(query_seq)-len(m)+1):\n",
    "                count +=1\n",
    "        all_possible[key] = count\n",
    "    return all_possible  "
   ]
  },
  {
   "cell_type": "code",
   "execution_count": 41,
   "id": "bed7fa78-42e5-421e-8b54-9e0675754b90",
   "metadata": {},
   "outputs": [],
   "source": [
    "high_3p_background = get_all_possible_motif_seqs(three_UTR[three_UTR['transcript_id'].isin(high_translation_transcript)])"
   ]
  },
  {
   "cell_type": "code",
   "execution_count": 42,
   "id": "abb272ad-3e62-4d2d-9124-b1a02060219e",
   "metadata": {},
   "outputs": [],
   "source": [
    "low_3p_background = get_all_possible_motif_seqs(three_UTR[three_UTR['transcript_id'].isin(low_translation_transcript)])"
   ]
  },
  {
   "cell_type": "code",
   "execution_count": 47,
   "id": "9bfae436-620a-4b75-826c-f32c35d9aebf",
   "metadata": {},
   "outputs": [],
   "source": [
    "def count_motif_ocurrence(df):\n",
    "    '''look for exact matches for each motif'''\n",
    "    motif_count = {} # stores the number of times a motif appears in a sequence\n",
    "    motif_present = {} # stores binary info, whether an isoform contains the motif or not\n",
    "    for index, row in df.iterrows():\n",
    "        motif_count[row['transcript_id']] = dict.fromkeys(list(RBP_motifs.keys()), 0)\n",
    "        motif_present[row['transcript_id']] = dict.fromkeys(list(RBP_motifs.keys()), 0)\n",
    "        for key in RBP_motifs:\n",
    "            query_seq = row['sequence']\n",
    "            m = RBP_motifs[key]\n",
    "            for i in range(0,len(query_seq)-len(m)+1):\n",
    "                if query_seq[i: i+len(m)] == m:\n",
    "                    motif_count[row['transcript_id']][key] +=1\n",
    "            if motif_count[row['transcript_id']][key] >=1:\n",
    "                motif_present[row['transcript_id']][key] = 1\n",
    "    return motif_count, motif_present"
   ]
  },
  {
   "cell_type": "code",
   "execution_count": 48,
   "id": "0e89732a-4ef5-4789-9137-14d2ffea3c3d",
   "metadata": {},
   "outputs": [],
   "source": [
    "high_3P_motif_count, high_3P_motif_present = count_motif_ocurrence(three_UTR[three_UTR['transcript_id'].isin(high_translation_transcript)])"
   ]
  },
  {
   "cell_type": "code",
   "execution_count": 49,
   "id": "910bbaa8-1a89-4e22-94e1-32004e10e9a5",
   "metadata": {},
   "outputs": [],
   "source": [
    "low_3P_motif_count, low_3P_motif_present = count_motif_ocurrence(three_UTR[three_UTR['transcript_id'].isin(low_translation_transcript)])"
   ]
  },
  {
   "cell_type": "code",
   "execution_count": 56,
   "id": "87fabd91-4dcd-4408-881a-5b30c1b98b56",
   "metadata": {},
   "outputs": [],
   "source": [
    "high_3p_present_df = pd.DataFrame.from_dict(high_3P_motif_present).T # convert dictionary to dataframe"
   ]
  },
  {
   "cell_type": "code",
   "execution_count": 57,
   "id": "f4d05715-8ccc-4e5d-9f92-0171c5fb2f86",
   "metadata": {},
   "outputs": [],
   "source": [
    "high_3p_count_df = pd.DataFrame.from_dict(high_3P_motif_count).T # convert dictionary to dataframe"
   ]
  },
  {
   "cell_type": "code",
   "execution_count": 58,
   "id": "050e2570-946a-483b-83a2-41142ce4c06a",
   "metadata": {},
   "outputs": [],
   "source": [
    "low_3p_present_df = pd.DataFrame.from_dict(low_3P_motif_present).T # convert dictionary to dataframe"
   ]
  },
  {
   "cell_type": "code",
   "execution_count": 59,
   "id": "14aad23a-2231-44cc-82a0-8823849b6ad9",
   "metadata": {},
   "outputs": [],
   "source": [
    "low_3p_count_df = pd.DataFrame.from_dict(low_3P_motif_count).T # convert dictionary to dataframe"
   ]
  },
  {
   "cell_type": "code",
   "execution_count": 60,
   "id": "8f702b93-2607-478c-9f34-2abe09a17e92",
   "metadata": {},
   "outputs": [],
   "source": [
    "from scipy.stats import chi2_contingency, fisher_exact"
   ]
  },
  {
   "cell_type": "code",
   "execution_count": 62,
   "id": "598055c4-a0e2-4239-b441-14091a4f920b",
   "metadata": {},
   "outputs": [
    {
     "name": "stdout",
     "output_type": "stream",
     "text": [
      "ZFP36 [[14, 286], [9, 292]]\n",
      "CELF3 [[1, 299], [0, 301]]\n",
      "KHDRBS1 [[44, 256], [30, 271]]\n",
      "MEX3D [[8, 292], [6, 295]]\n",
      "ESRP1 [[1, 299], [0, 301]]\n",
      "ZC3H8 [[69, 231], [38, 263]]\n",
      "CSDA [[23, 277], [6, 295]]\n",
      "CELF1 [[3, 297], [1, 300]]\n",
      "RBM24 [[6, 294], [1, 300]]\n",
      "TARDBP [[2, 298], [0, 301]]\n",
      "YBX2 [[4, 296], [1, 300]]\n",
      "RBM14 [[5, 295], [0, 301]]\n",
      "SART3 [[1, 299], [0, 301]]\n",
      "ELAVL4 [[8, 292], [8, 293]]\n",
      "SNRPA [[9, 291], [6, 295]]\n",
      "HNRPLL [[0, 300], [1, 300]]\n",
      "HNRNPA3 [[1, 299], [0, 301]]\n",
      "PCBP1 [[1, 299], [0, 301]]\n",
      "RBPMS2 [[155, 145], [79, 222]]\n",
      "IGF2BP1 [[8, 292], [5, 296]]\n",
      "ZCRB1 [[3, 297], [2, 299]]\n",
      "NOVA2 [[21, 279], [9, 292]]\n",
      "HNRNPC [[2, 298], [0, 301]]\n",
      "RBM46 [[35, 265], [15, 286]]\n",
      "MEX3B [[1, 299], [0, 301]]\n",
      "KHDRBS2 [[3, 297], [4, 297]]\n",
      "ELAVL1 [[4, 296], [1, 300]]\n",
      "HNRNPCL1 [[3, 297], [0, 301]]\n",
      "PUM1 [[0, 300], [1, 300]]\n",
      "DAZAP1 [[1, 299], [0, 301]]\n",
      "CELF4 [[3, 297], [2, 299]]\n",
      "RBPMS [[12, 288], [2, 299]]\n",
      "ELAVL3 [[71, 229], [57, 244]]\n",
      "DAZL [[10, 290], [6, 295]]\n",
      "RBFOX2 [[212, 88], [154, 147]]\n",
      "POLYA [[247, 53], [222, 79]]\n",
      "IRE [[256, 44], [186, 115]]\n",
      "EIF4A [[291, 9], [260, 41]]\n"
     ]
    }
   ],
   "source": [
    "## Chi-squared test of RBP motif presence\n",
    "# a: Number of times an isoform has the motif from Group A\n",
    "# b: Number of times an isoform does not have the motif from Group A\n",
    "# c: Number of times an isoform has the motif from Group B\n",
    "# d: Number of times an isoform does not have the motif from Group B\n",
    "# N: Total observations\n",
    "from scipy.stats import chi2_contingency, fisher_exact\n",
    "chi2_results =[]\n",
    "for rbp in RBP_motifs.keys():\n",
    "    if 1 in low_3p_present_df[rbp].tolist():\n",
    "        a, b = low_3p_present_df[rbp].value_counts()[1],low_3p_present_df[rbp].value_counts()[0]\n",
    "        #print(a, b)\n",
    "    else:\n",
    "        a, b = 0,low_3p_present_df[rbp].value_counts()[0]\n",
    "    \n",
    "    if 1 in high_3p_present_df[rbp].tolist():     \n",
    "        c, d = high_3p_present_df[rbp].value_counts()[1],high_3p_present_df[rbp].value_counts()[0]\n",
    "        #print(c,d)\n",
    "    else:\n",
    "        c, d = 0, high_3p_present_df[rbp].value_counts()[0]\n",
    "    # Chi-squared Test\n",
    "    if a!= 0 or c != 0 :\n",
    "        chi2, p_chi2, dof, expected = chi2_contingency([[a, b], [c, d]])\n",
    "        print(rbp, [[a, b], [c, d]])\n",
    "        N = np.sum(np.array([[a, b],[c, d]]))\n",
    "        phi = np.sqrt(chi2 / N)\n",
    "\n",
    "        chi2_results.append([rbp, phi, p_chi2])\n",
    "        #print(rbp, \"Chi-squared test p-value:\", p_chi2)"
   ]
  },
  {
   "cell_type": "code",
   "execution_count": 63,
   "id": "0c818ea0-1f71-485b-9880-c87684035543",
   "metadata": {},
   "outputs": [],
   "source": [
    "chi2_results_df = pd.DataFrame(chi2_results)"
   ]
  },
  {
   "cell_type": "code",
   "execution_count": 64,
   "id": "9870789f-004b-4b99-8717-8d890f891abb",
   "metadata": {},
   "outputs": [
    {
     "data": {
      "text/html": [
       "<div>\n",
       "<style scoped>\n",
       "    .dataframe tbody tr th:only-of-type {\n",
       "        vertical-align: middle;\n",
       "    }\n",
       "\n",
       "    .dataframe tbody tr th {\n",
       "        vertical-align: top;\n",
       "    }\n",
       "\n",
       "    .dataframe thead th {\n",
       "        text-align: right;\n",
       "    }\n",
       "</style>\n",
       "<table border=\"1\" class=\"dataframe\">\n",
       "  <thead>\n",
       "    <tr style=\"text-align: right;\">\n",
       "      <th></th>\n",
       "      <th>0</th>\n",
       "      <th>1</th>\n",
       "      <th>2</th>\n",
       "    </tr>\n",
       "  </thead>\n",
       "  <tbody>\n",
       "    <tr>\n",
       "      <th>0</th>\n",
       "      <td>ZFP36</td>\n",
       "      <td>0.035024</td>\n",
       "      <td>0.390546</td>\n",
       "    </tr>\n",
       "    <tr>\n",
       "      <th>1</th>\n",
       "      <td>CELF3</td>\n",
       "      <td>0.000068</td>\n",
       "      <td>0.998671</td>\n",
       "    </tr>\n",
       "    <tr>\n",
       "      <th>2</th>\n",
       "      <td>KHDRBS1</td>\n",
       "      <td>0.066453</td>\n",
       "      <td>0.103287</td>\n",
       "    </tr>\n",
       "    <tr>\n",
       "      <th>3</th>\n",
       "      <td>MEX3D</td>\n",
       "      <td>0.011288</td>\n",
       "      <td>0.781988</td>\n",
       "    </tr>\n",
       "    <tr>\n",
       "      <th>4</th>\n",
       "      <td>ESRP1</td>\n",
       "      <td>0.000068</td>\n",
       "      <td>0.998671</td>\n",
       "    </tr>\n",
       "  </tbody>\n",
       "</table>\n",
       "</div>"
      ],
      "text/plain": [
       "         0         1         2\n",
       "0    ZFP36  0.035024  0.390546\n",
       "1    CELF3  0.000068  0.998671\n",
       "2  KHDRBS1  0.066453  0.103287\n",
       "3    MEX3D  0.011288  0.781988\n",
       "4    ESRP1  0.000068  0.998671"
      ]
     },
     "execution_count": 64,
     "metadata": {},
     "output_type": "execute_result"
    }
   ],
   "source": [
    "chi2_results_df.head()"
   ]
  },
  {
   "cell_type": "code",
   "execution_count": 65,
   "id": "cea58107-e2c6-4f9d-b344-6c65b5739ffd",
   "metadata": {},
   "outputs": [
    {
     "data": {
      "text/html": [
       "<div>\n",
       "<style scoped>\n",
       "    .dataframe tbody tr th:only-of-type {\n",
       "        vertical-align: middle;\n",
       "    }\n",
       "\n",
       "    .dataframe tbody tr th {\n",
       "        vertical-align: top;\n",
       "    }\n",
       "\n",
       "    .dataframe thead th {\n",
       "        text-align: right;\n",
       "    }\n",
       "</style>\n",
       "<table border=\"1\" class=\"dataframe\">\n",
       "  <thead>\n",
       "    <tr style=\"text-align: right;\">\n",
       "      <th></th>\n",
       "      <th>0</th>\n",
       "      <th>1</th>\n",
       "      <th>2</th>\n",
       "    </tr>\n",
       "  </thead>\n",
       "  <tbody>\n",
       "    <tr>\n",
       "      <th>34</th>\n",
       "      <td>RBFOX2</td>\n",
       "      <td>0.196434</td>\n",
       "      <td>0.000001</td>\n",
       "    </tr>\n",
       "    <tr>\n",
       "      <th>37</th>\n",
       "      <td>EIF4A</td>\n",
       "      <td>0.186266</td>\n",
       "      <td>0.000005</td>\n",
       "    </tr>\n",
       "  </tbody>\n",
       "</table>\n",
       "</div>"
      ],
      "text/plain": [
       "         0         1         2\n",
       "34  RBFOX2  0.196434  0.000001\n",
       "37   EIF4A  0.186266  0.000005"
      ]
     },
     "execution_count": 65,
     "metadata": {},
     "output_type": "execute_result"
    }
   ],
   "source": [
    "chi2_results_df[chi2_results_df[0].isin(['RBFOX2', 'EIF4A'])]"
   ]
  },
  {
   "cell_type": "code",
   "execution_count": 66,
   "id": "0125afd9-2c26-4cf5-9250-1958d13596df",
   "metadata": {},
   "outputs": [],
   "source": [
    "chi2_results_df[3] = -np.log10(chi2_results_df[2]) # calculate the -log10(p-value)"
   ]
  },
  {
   "cell_type": "code",
   "execution_count": 69,
   "id": "daecc7ce-c5ac-437c-b26f-70ceb55d692b",
   "metadata": {},
   "outputs": [],
   "source": [
    "# subset of RBPs we are interested in \n",
    "interest_RBPs = ['EIF4A', 'CELF1', 'CELF3', 'CELF4', 'ELAVL1', 'ELAVL3', 'HNRNPC', 'RBFOX2']"
   ]
  },
  {
   "cell_type": "code",
   "execution_count": 70,
   "id": "9c5db036-75c9-4974-965e-4029925d8f68",
   "metadata": {},
   "outputs": [
    {
     "data": {
      "text/plain": [
       "<matplotlib.lines.Line2D at 0x7fff116fd7c0>"
      ]
     },
     "execution_count": 70,
     "metadata": {},
     "output_type": "execute_result"
    },
    {
     "data": {
      "image/png": "[encoded data removed]",
      "text/plain": [
       "<Figure size 300x500 with 1 Axes>"
      ]
     },
     "metadata": {},
     "output_type": "display_data"
    }
   ],
   "source": [
    "sns.set(rc={'figure.figsize':(3,5)})\n",
    "sns.set_style('whitegrid')\n",
    "sns.scatterplot(data=chi2_results_df[(~chi2_results_df[0].isin(['IRE', 'POLYA'])) & (chi2_results_df[0].isin(interest_RBPs))].sort_values(3, ascending=False), y=0, x=3, color='#7E1F86')#, size=1)\n",
    "plt.axvline(-np.log10(0.05), linestyle='dashed', color='grey')"
   ]
  },
  {
   "cell_type": "code",
   "execution_count": 74,
   "id": "f9918b60-597c-466a-aceb-03cf12b7a6d8",
   "metadata": {},
   "outputs": [
    {
     "data": {
      "text/plain": [
       "(<Figure size 300x300 with 3 Axes>,\n",
       " {('Low', 'RBFOX2 Present'): (0.0,\n",
       "   0.0,\n",
       "   0.4966846300941218,\n",
       "   0.7043189368770764),\n",
       "  ('Low', 'RBFOX2 Absent'): (0.0,\n",
       "   0.7076411960132889,\n",
       "   0.4966846300941218,\n",
       "   0.29235880398671094),\n",
       "  ('High', 'RBFOX2 Present'): (0.5016597544722312,\n",
       "   0.0,\n",
       "   0.49834024552776884,\n",
       "   0.5099281464884493),\n",
       "  ('High', 'RBFOX2 Absent'): (0.5016597544722312,\n",
       "   0.513250405624662,\n",
       "   0.49834024552776884,\n",
       "   0.48674959437533794)})"
      ]
     },
     "execution_count": 74,
     "metadata": {},
     "output_type": "execute_result"
    },
    {
     "data": {
      "image/png": "[encoded data removed]",
      "text/plain": [
       "<Figure size 300x300 with 3 Axes>"
      ]
     },
     "metadata": {},
     "output_type": "display_data"
    }
   ],
   "source": [
    "# Contingency table for RBFOX2\n",
    "from statsmodels.graphics.mosaicplot import mosaic\n",
    "sns.set(rc={'figure.figsize':(3,3)})\n",
    "mosaic({('Low', 'RBFOX2 Present'): low_3p_present_df['RBFOX2'].sum(),\n",
    "             ('Low', 'RBFOX2 Absent'): low_3p_present_df['RBFOX2'].value_counts().loc[0,],\n",
    "             ('High', 'RBFOX2 Present'): high_3p_present_df['RBFOX2'].sum(),\n",
    "             ('High', 'RBFOX2 Absent'): high_3p_present_df['RBFOX2'].value_counts().loc[0,]}, \n",
    "       labelizer=None, \n",
    "       title='Presence of RBFOX2 motif',properties=lambda key: {'color': 'darkgrey' if 'RBFOX2 Present' in key else 'lightgrey',})"
   ]
  },
  {
   "cell_type": "code",
   "execution_count": 75,
   "id": "1b60e8c3-2c01-48d7-a37b-804fde0de54d",
   "metadata": {},
   "outputs": [
    {
     "data": {
      "text/plain": [
       "(<Figure size 300x300 with 3 Axes>,\n",
       " {('Low', 'EIF4A Present'): (0.0, 0.0, 0.4966846300941218, 0.9667774086378736),\n",
       "  ('Low', 'EIF4A Absent'): (0.0,\n",
       "   0.9700996677740863,\n",
       "   0.4966846300941218,\n",
       "   0.029900332225913647),\n",
       "  ('High', 'EIF4A Present'): (0.5016597544722312,\n",
       "   0.0,\n",
       "   0.49834024552776884,\n",
       "   0.8609176499155637),\n",
       "  ('High', 'EIF4A Absent'): (0.5016597544722312,\n",
       "   0.8642399090517764,\n",
       "   0.49834024552776884,\n",
       "   0.13576009094822353)})"
      ]
     },
     "execution_count": 75,
     "metadata": {},
     "output_type": "execute_result"
    },
    {
     "data": {
      "image/png": "[encoded data removed]",
      "text/plain": [
       "<Figure size 300x300 with 3 Axes>"
      ]
     },
     "metadata": {},
     "output_type": "display_data"
    }
   ],
   "source": [
    "# Contingency table for EIF4A\n",
    "from statsmodels.graphics.mosaicplot import mosaic\n",
    "sns.set(rc={'figure.figsize':(3,3)})\n",
    "mosaic({('Low', 'EIF4A Present'): low_3p_present_df['EIF4A'].sum(),\n",
    "             ('Low', 'EIF4A Absent'): low_3p_present_df['EIF4A'].value_counts().loc[0,],\n",
    "             ('High', 'EIF4A Present'): high_3p_present_df['EIF4A'].sum(),\n",
    "             ('High', 'EIF4A Absent'): high_3p_present_df['EIF4A'].value_counts().loc[0,]}, \n",
    "       labelizer=None, \n",
    "       title='Presence of EIF4A motif',properties=lambda key: {'color': 'darkgrey' if 'EIF4A Present' in key else 'lightgrey',})"
   ]
  },
  {
   "cell_type": "markdown",
   "id": "af7c7afc-502c-4ca4-a517-e272dbf2b303",
   "metadata": {},
   "source": [
    "### 5' UTR uORF Analysis "
   ]
  },
  {
   "cell_type": "markdown",
   "id": "15ea02a9-8770-4a6e-9345-f729fc4ce1ec",
   "metadata": {},
   "source": [
    "1) uORF downloaded from uORFdb: https://www.bioinformatics.uni-muenster.de/tools/uorfdb/download/index.hbi?\n",
    "2) selected for hg38 and ATG starts only\n",
    "3) liftOver to hg19\n",
    "\n",
    "```liftOver 5p_coords_uORF.bed ~/projects/genomes/hg19/liftOver_files/hg38ToHg19.over.chain.gz 5p_coords_uORF.hg19.bed 5p_coords_uORF.hg19.unmapped```"
   ]
  },
  {
   "cell_type": "code",
   "execution_count": 76,
   "id": "1cf37f26-9d93-4011-8a3a-f4c98f7b09e1",
   "metadata": {},
   "outputs": [],
   "source": [
    "low_5p_UTRs = five_UTR[five_UTR['transcript_id'].isin(low_translation_transcript)][[0,3,4,'key',5,6]]\n",
    "high_5p_UTRs = five_UTR[five_UTR['transcript_id'].isin(high_translation_transcript)][[0,3,4,'key',5,6]]"
   ]
  },
  {
   "cell_type": "code",
   "execution_count": 77,
   "id": "c14add38-3c96-4797-a71b-82af60479942",
   "metadata": {},
   "outputs": [],
   "source": [
    "low_5p_UTRs.columns = [0,1,2,3,4,5]\n",
    "high_5p_UTRs.columns = [0,1,2,3,4,5]"
   ]
  },
  {
   "cell_type": "code",
   "execution_count": 78,
   "id": "417dcb99-766f-4a75-8d8b-fec8d8f135af",
   "metadata": {},
   "outputs": [],
   "source": [
    "#low_5p_UTRs.sort_values(by=[0,1,2]).to_csv('5p_coords_low.bed', sep='\\t', header=None, index=False)"
   ]
  },
  {
   "cell_type": "code",
   "execution_count": 79,
   "id": "477a084f-c9d5-447b-b577-1a2b5c0114f0",
   "metadata": {},
   "outputs": [],
   "source": [
    "#high_5p_UTRs.sort_values(by=[0,1,2]).to_csv('5p_coords_high.bed', sep='\\t', header=None, index=False)"
   ]
  },
  {
   "cell_type": "markdown",
   "id": "84f9e313-0e13-4f80-9e18-ae20689c7005",
   "metadata": {},
   "source": [
    "overlap with 5' UTRs of low and high translation (bedtools intersect)\n",
    "\n",
    "```bedtools intersect -a 5p_coords_uORF.hg19.bed -b 5p_coords_high.bed -wb > 5p_coords_high_uORF_overlap.txt```\n",
    "\n",
    "```bedtools intersect -a 5p_coords_uORF.hg19.bed -b 5p_coords_low.bed -wb > 5p_coords_low_uORF_overlap.txt```"
   ]
  },
  {
   "cell_type": "code",
   "execution_count": 83,
   "id": "86528a22-1f67-4df9-91d1-d38f4a54fcd1",
   "metadata": {},
   "outputs": [],
   "source": [
    "# load in overlap files\n",
    "high_uorf_overlap = pd.read_csv('/tscc/nfs/home/pjaganna1/projects/STAMP/stamp_v3_pipeline/notebooks/RPS2/5p_coords_high_uORF_overlap.txt', sep='\\t', header=None)"
   ]
  },
  {
   "cell_type": "code",
   "execution_count": 84,
   "id": "f97c82fd-4333-4dd7-a0eb-17526ddad344",
   "metadata": {},
   "outputs": [],
   "source": [
    "# load in overlap files\n",
    "low_uorf_overlap = pd.read_csv('/tscc/nfs/home/pjaganna1/projects/STAMP/stamp_v3_pipeline/notebooks/RPS2/5p_coords_low_uORF_overlap.txt', sep='\\t', header=None)"
   ]
  },
  {
   "cell_type": "code",
   "execution_count": 85,
   "id": "73d23515-037b-4ec0-921c-cc7b6eccd2ec",
   "metadata": {},
   "outputs": [],
   "source": [
    "high_uorf_overlap['transcript_id'] = high_uorf_overlap.apply(lambda x: x[9].split(':')[0], axis=1)"
   ]
  },
  {
   "cell_type": "code",
   "execution_count": 86,
   "id": "945fb200-fbc6-47fb-844a-101be35df3c8",
   "metadata": {},
   "outputs": [],
   "source": [
    "low_uorf_overlap['transcript_id'] = low_uorf_overlap.apply(lambda x: x[9].split(':')[0], axis=1)"
   ]
  },
  {
   "cell_type": "code",
   "execution_count": 88,
   "id": "694f8ed7-5426-4606-8dbf-8a208091940d",
   "metadata": {},
   "outputs": [],
   "source": [
    "a_uorf = len(set(low_uorf_overlap['transcript_id']))\n",
    "b_uorf = len(set(low_translation_transcript)) - len(set(low_uorf_overlap['transcript_id']))\n",
    "c_uorf = len(set(high_uorf_overlap['transcript_id']))\n",
    "d_uorf = len(set(high_translation_transcript)) - len(set(high_uorf_overlap['transcript_id']))\n",
    "\n",
    "chi2_uorf , p_chi2_uorf , dof_uorf , expected_uorf  = chi2_contingency([[a_uorf, b_uorf], [c_uorf, d_uorf]])"
   ]
  },
  {
   "cell_type": "code",
   "execution_count": 91,
   "id": "552fb0de-5852-421f-aaa8-2b1ceda7e939",
   "metadata": {},
   "outputs": [
    {
     "data": {
      "image/png": "[encoded data removed]",
      "text/plain": [
       "<Figure size 300x300 with 3 Axes>"
      ]
     },
     "metadata": {},
     "output_type": "display_data"
    }
   ],
   "source": [
    "# Chi-squared for uORF presence\n",
    "from statsmodels.graphics.mosaicplot import mosaic\n",
    "\n",
    "# Example NumPy array\n",
    "data = np.array([[a_uorf, b_uorf], [c_uorf, d_uorf]])\n",
    "\n",
    "# Convert the array to a format suitable for the mosaic function\n",
    "data_dict = {('Low', 'uORF'): data[0, 0],\n",
    "             ('Low', 'no uORF'): data[0, 1],\n",
    "             ('High', 'uORF'): data[1, 0],\n",
    "             ('High', 'no uORF'): data[1, 1]}\n",
    "props = lambda key: {'color': 'teal' if 'uORF' in key else 'lightseagreen',}\n",
    "\n",
    "# Create the mosaic plot\n",
    "sns.set(rc={'figure.figsize':(3,3)})\n",
    "\n",
    "mosaic(data_dict, labelizer=None, title='Presence of uORFs',properties=props)\n",
    "plt.show()"
   ]
  },
  {
   "cell_type": "code",
   "execution_count": null,
   "id": "a3912000-9964-4537-8410-5b51bafddd12",
   "metadata": {},
   "outputs": [],
   "source": []
  },
  {
   "cell_type": "code",
   "execution_count": 92,
   "id": "418cc35e-d869-4614-a2b8-e842822b14da",
   "metadata": {},
   "outputs": [],
   "source": [
    "low_3p_UTRs = three_UTR[three_UTR['transcript_id'].isin(low_translation_transcript)][[0,3,4,'key',5,6]]\n",
    "high_3p_UTRs = three_UTR[three_UTR['transcript_id'].isin(high_translation_transcript)][[0,3,4,'key',5,6]]"
   ]
  },
  {
   "cell_type": "code",
   "execution_count": 93,
   "id": "f7411f8d-8016-4aae-b599-49a772d91a48",
   "metadata": {},
   "outputs": [],
   "source": [
    "low_3p_UTRs.columns = [0,1,2,3,4,5]\n",
    "high_3p_UTRs.columns = [0,1,2,3,4,5]"
   ]
  },
  {
   "cell_type": "code",
   "execution_count": 94,
   "id": "b7e6722c-cb5e-4d5f-a916-a9d4ac77d968",
   "metadata": {},
   "outputs": [],
   "source": [
    "#low_3p_UTRs.sort_values(by=[0,1,2]).to_csv('3p_coords_low.bed', sep='\\t', header=None, index=False)\n",
    "#high_3p_UTRs.sort_values(by=[0,1,2]).to_csv('3p_coords_high.bed', sep='\\t', header=None, index=False)"
   ]
  },
  {
   "cell_type": "markdown",
   "id": "61fbb34c-5195-4b18-9dad-25d9ef436d11",
   "metadata": {},
   "source": [
    "overlap with predicted miRNA binding sites using bedtools and re-load file"
   ]
  },
  {
   "cell_type": "code",
   "execution_count": 97,
   "id": "981f9291-9a7b-4e9c-8ae6-ee17a0901540",
   "metadata": {},
   "outputs": [],
   "source": [
    "high_mirna_overlap = pd.read_csv('/tscc/nfs/home/pjaganna1/projects/STAMP/stamp_v3_pipeline/notebooks/RPS2/3p_coords_high_mirna_overlap.txt', sep='\\t', header=None)"
   ]
  },
  {
   "cell_type": "code",
   "execution_count": 98,
   "id": "95368af1-e603-413f-808f-3168a63ee72f",
   "metadata": {},
   "outputs": [],
   "source": [
    "low_mirna_overlap = pd.read_csv('/tscc/nfs/home/pjaganna1/projects/STAMP/stamp_v3_pipeline/notebooks/RPS2/3p_coords_low_mirna_overlap.txt', sep='\\t', header=None)"
   ]
  },
  {
   "cell_type": "code",
   "execution_count": 99,
   "id": "566f76a5-5519-41f5-88df-fdaf2120506d",
   "metadata": {},
   "outputs": [],
   "source": [
    "low_mirna_overlap['transcript_id'] = low_mirna_overlap.apply(lambda x: x[8].split(':')[0], axis=1)"
   ]
  },
  {
   "cell_type": "code",
   "execution_count": 100,
   "id": "488cd5b8-7e6e-469c-8335-eabefaded4a3",
   "metadata": {},
   "outputs": [],
   "source": [
    "high_mirna_overlap['transcript_id'] = high_mirna_overlap.apply(lambda x: x[8].split(':')[0], axis=1)"
   ]
  },
  {
   "cell_type": "code",
   "execution_count": 101,
   "id": "ad71ce41-99bf-4743-a487-b40c54380023",
   "metadata": {},
   "outputs": [],
   "source": [
    "a_mirna = len(set(low_mirna_overlap['transcript_id']))\n",
    "b_mirna = len(set(low_translation_transcript)) - len(set(low_mirna_overlap['transcript_id']))\n",
    "c_mirna = len(set(high_uorf_overlap['transcript_id']))\n",
    "d_mirna = len(set(high_translation_transcript)) - len(set(high_mirna_overlap['transcript_id']))\n",
    "\n",
    "chi2_mirna , p_chi2_mirna , dof_mirna , expected_mirna  = chi2_contingency([[a_mirna, b_mirna], [c_mirna, d_mirna]])"
   ]
  },
  {
   "cell_type": "code",
   "execution_count": 102,
   "id": "3cb70be9-09be-4b96-83ba-e94406b4bd69",
   "metadata": {},
   "outputs": [
    {
     "data": {
      "image/png": "[encoded data removed]",
      "text/plain": [
       "<Figure size 300x300 with 3 Axes>"
      ]
     },
     "metadata": {},
     "output_type": "display_data"
    }
   ],
   "source": [
    "# Chi-squared test for predicted miRNA binding\n",
    "from statsmodels.graphics.mosaicplot import mosaic\n",
    "\n",
    "# Example NumPy array\n",
    "data = np.array([[a_mirna, b_mirna], [c_mirna, d_mirna]])\n",
    "\n",
    "# Convert the array to a format suitable for the mosaic function\n",
    "data_dict = {('Low', 'miRNA'): data[0, 0],\n",
    "             ('Low', 'no miRNA'): data[0, 1],\n",
    "             ('High', 'miRNA'): data[1, 0],\n",
    "             ('High', 'no miRNA'): data[1, 1]}\n",
    "props = lambda key: {'color': 'orange' if 'miRNA' in key else 'moccasin',}\n",
    "\n",
    "# Create the mosaic plot\n",
    "sns.set(rc={'figure.figsize':(3,3)})\n",
    "\n",
    "mosaic(data_dict, labelizer=None, title='Presence of miRNA Sites',properties=props)\n",
    "plt.show()"
   ]
  }
 ],
 "metadata": {
  "kernelspec": {
   "display_name": "Python 3 (ipykernel)",
   "language": "python",
   "name": "python3"
  },
  "language_info": {
   "codemirror_mode": {
    "name": "ipython",
    "version": 3
   },
   "file_extension": ".py",
   "mimetype": "text/x-python",
   "name": "python",
   "nbconvert_exporter": "python",
   "pygments_lexer": "ipython3",
   "version": "3.11.6"
  }
 },
 "nbformat": 4,
 "nbformat_minor": 5
}
