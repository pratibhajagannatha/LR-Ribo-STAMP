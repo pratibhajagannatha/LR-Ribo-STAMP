{
 "cells": [
  {
   "cell_type": "code",
   "execution_count": 1,
   "id": "237195a8-fb8b-4214-99a9-14035c6d4a29",
   "metadata": {},
   "outputs": [],
   "source": [
    "import os\n",
    "import pybedtools\n",
    "import pandas as pd\n",
    "import numpy as np\n",
    "import glob\n",
    "import tqdm\n",
    "import seaborn as sns\n",
    "import matplotlib.pyplot as plt\n",
    "#import pybedtools\n",
    "import random\n",
    "from Bio import SeqIO\n",
    "from Bio.Seq import Seq\n",
    "import pysam"
   ]
  },
  {
   "cell_type": "code",
   "execution_count": 2,
   "id": "acfa667e-3c8d-48ac-9b16-aaf61091f89b",
   "metadata": {},
   "outputs": [],
   "source": [
    "fig_path = '/tscc/nfs/home/pjaganna1/projects/STAMP/stamp_v3_pipeline/notebooks/figs/'"
   ]
  },
  {
   "cell_type": "code",
   "execution_count": 3,
   "id": "821e6e83-59e5-4329-aad8-2ce71a204374",
   "metadata": {},
   "outputs": [],
   "source": [
    "transcript_df = pd.read_csv('annotated_transcript_editsC_lm_dec2023.txt', sep='\\t')"
   ]
  },
  {
   "cell_type": "code",
   "execution_count": 4,
   "id": "912129f3-8598-471f-9565-b0b104170a87",
   "metadata": {},
   "outputs": [
    {
     "data": {
      "text/plain": [
       "transcript_type\n",
       "protein_coding             1201\n",
       "nonsense_mediated_decay       3\n",
       "Name: count, dtype: int64"
      ]
     },
     "execution_count": 4,
     "metadata": {},
     "output_type": "execute_result"
    }
   ],
   "source": [
    "transcript_df['transcript_type'].value_counts()"
   ]
  },
  {
   "cell_type": "code",
   "execution_count": 5,
   "id": "8700ba30-efd5-4440-b402-928d34cfb644",
   "metadata": {},
   "outputs": [],
   "source": [
    "transcript_df_ranked = transcript_df[transcript_df['sig']==True].sort_values(by='RPS2_mean', ascending=False).reset_index()"
   ]
  },
  {
   "cell_type": "code",
   "execution_count": 6,
   "id": "9d4a693a-d4f1-418c-bb52-c33070ef250a",
   "metadata": {},
   "outputs": [
    {
     "data": {
      "text/plain": [
       "(177, 21)"
      ]
     },
     "execution_count": 6,
     "metadata": {},
     "output_type": "execute_result"
    }
   ],
   "source": [
    "transcript_df_ranked.shape"
   ]
  },
  {
   "cell_type": "code",
   "execution_count": 7,
   "id": "26743170-197f-40e0-9eb4-fbcaab22a607",
   "metadata": {},
   "outputs": [
    {
     "data": {
      "text/html": [
       "<div>\n",
       "<style scoped>\n",
       "    .dataframe tbody tr th:only-of-type {\n",
       "        vertical-align: middle;\n",
       "    }\n",
       "\n",
       "    .dataframe tbody tr th {\n",
       "        vertical-align: top;\n",
       "    }\n",
       "\n",
       "    .dataframe thead th {\n",
       "        text-align: right;\n",
       "    }\n",
       "</style>\n",
       "<table border=\"1\" class=\"dataframe\">\n",
       "  <thead>\n",
       "    <tr style=\"text-align: right;\">\n",
       "      <th></th>\n",
       "      <th>index</th>\n",
       "      <th>transcript_id</th>\n",
       "      <th>editsC_APO_rep1</th>\n",
       "      <th>editsC_APO_rep2</th>\n",
       "      <th>editsC_APO_rep3</th>\n",
       "      <th>editsC_RPS2_rep1</th>\n",
       "      <th>editsC_RPS2_rep2</th>\n",
       "      <th>editsC_RPS2_rep3</th>\n",
       "      <th>gene_name</th>\n",
       "      <th>transcript_type</th>\n",
       "      <th>...</th>\n",
       "      <th>RPS2_1_count</th>\n",
       "      <th>APO1_2_count</th>\n",
       "      <th>RPS2_2_count</th>\n",
       "      <th>APO1_3_count</th>\n",
       "      <th>RPS2_3_count</th>\n",
       "      <th>APO_mean</th>\n",
       "      <th>RPS2_mean</th>\n",
       "      <th>shortened_transcript_id</th>\n",
       "      <th>residuals</th>\n",
       "      <th>sig</th>\n",
       "    </tr>\n",
       "  </thead>\n",
       "  <tbody>\n",
       "    <tr>\n",
       "      <th>176</th>\n",
       "      <td>1190</td>\n",
       "      <td>ENST00000460231.1</td>\n",
       "      <td>0.0</td>\n",
       "      <td>0.0</td>\n",
       "      <td>0.0</td>\n",
       "      <td>0.004008</td>\n",
       "      <td>0.004008</td>\n",
       "      <td>0.008016</td>\n",
       "      <td>PCNP</td>\n",
       "      <td>nonsense_mediated_decay</td>\n",
       "      <td>...</td>\n",
       "      <td>47.0</td>\n",
       "      <td>29.0</td>\n",
       "      <td>58.0</td>\n",
       "      <td>41.0</td>\n",
       "      <td>79.0</td>\n",
       "      <td>0.0</td>\n",
       "      <td>0.005344</td>\n",
       "      <td>ENST00000460231</td>\n",
       "      <td>-0.001158</td>\n",
       "      <td>True</td>\n",
       "    </tr>\n",
       "  </tbody>\n",
       "</table>\n",
       "<p>1 rows × 21 columns</p>\n",
       "</div>"
      ],
      "text/plain": [
       "     index      transcript_id  editsC_APO_rep1  editsC_APO_rep2  \\\n",
       "176   1190  ENST00000460231.1              0.0              0.0   \n",
       "\n",
       "     editsC_APO_rep3  editsC_RPS2_rep1  editsC_RPS2_rep2  editsC_RPS2_rep3  \\\n",
       "176              0.0          0.004008          0.004008          0.008016   \n",
       "\n",
       "    gene_name          transcript_type  ...  RPS2_1_count  APO1_2_count  \\\n",
       "176      PCNP  nonsense_mediated_decay  ...          47.0          29.0   \n",
       "\n",
       "     RPS2_2_count  APO1_3_count  RPS2_3_count  APO_mean  RPS2_mean  \\\n",
       "176          58.0          41.0          79.0       0.0   0.005344   \n",
       "\n",
       "     shortened_transcript_id residuals   sig  \n",
       "176          ENST00000460231 -0.001158  True  \n",
       "\n",
       "[1 rows x 21 columns]"
      ]
     },
     "execution_count": 7,
     "metadata": {},
     "output_type": "execute_result"
    }
   ],
   "source": [
    "transcript_df_ranked[transcript_df_ranked['transcript_type']=='nonsense_mediated_decay']"
   ]
  },
  {
   "cell_type": "code",
   "execution_count": null,
   "id": "1e1c98bb-150a-4e76-bf50-a44f852c982a",
   "metadata": {},
   "outputs": [],
   "source": []
  },
  {
   "cell_type": "code",
   "execution_count": 8,
   "id": "857e5a28-55c0-45eb-9596-34c642d04a55",
   "metadata": {},
   "outputs": [
    {
     "name": "stderr",
     "output_type": "stream",
     "text": [
      "/tscc/projects/ps-yeolab4/software/miniconda_tscc2/envs/python3essential-1.99.0/lib/python3.9/site-packages/numpy/core/fromnumeric.py:59: FutureWarning: 'DataFrame.swapaxes' is deprecated and will be removed in a future version. Please use 'DataFrame.transpose' instead.\n",
      "  return bound(*args, **kwds)\n"
     ]
    }
   ],
   "source": [
    "low_translation_transcript = np.array_split(transcript_df.sort_values('RPS2_mean'), 4)[0].transcript_id.tolist()\n",
    "high_translation_transcript = np.array_split(transcript_df.sort_values('RPS2_mean'), 4)[3].transcript_id.tolist()"
   ]
  },
  {
   "cell_type": "code",
   "execution_count": 9,
   "id": "594c4fcd-3780-4e8a-89c2-3b5093887424",
   "metadata": {},
   "outputs": [
    {
     "data": {
      "text/plain": [
       "Index(['index', 'transcript_id', 'editsC_APO_rep1', 'editsC_APO_rep2',\n",
       "       'editsC_APO_rep3', 'editsC_RPS2_rep1', 'editsC_RPS2_rep2',\n",
       "       'editsC_RPS2_rep3', 'gene_name', 'transcript_type', 'APO1_1_count',\n",
       "       'RPS2_1_count', 'APO1_2_count', 'RPS2_2_count', 'APO1_3_count',\n",
       "       'RPS2_3_count', 'APO_mean', 'RPS2_mean', 'shortened_transcript_id',\n",
       "       'residuals', 'sig'],\n",
       "      dtype='object')"
      ]
     },
     "execution_count": 9,
     "metadata": {},
     "output_type": "execute_result"
    }
   ],
   "source": [
    "transcript_df_ranked.columns"
   ]
  },
  {
   "cell_type": "code",
   "execution_count": 10,
   "id": "9103b2b8-837b-49ab-a365-42ad0421d106",
   "metadata": {},
   "outputs": [
    {
     "data": {
      "text/html": [
       "<div>\n",
       "<style scoped>\n",
       "    .dataframe tbody tr th:only-of-type {\n",
       "        vertical-align: middle;\n",
       "    }\n",
       "\n",
       "    .dataframe tbody tr th {\n",
       "        vertical-align: top;\n",
       "    }\n",
       "\n",
       "    .dataframe thead th {\n",
       "        text-align: right;\n",
       "    }\n",
       "</style>\n",
       "<table border=\"1\" class=\"dataframe\">\n",
       "  <thead>\n",
       "    <tr style=\"text-align: right;\">\n",
       "      <th></th>\n",
       "      <th>transcript_id</th>\n",
       "      <th>gene_name</th>\n",
       "      <th>transcript_type</th>\n",
       "    </tr>\n",
       "  </thead>\n",
       "  <tbody>\n",
       "    <tr>\n",
       "      <th>0</th>\n",
       "      <td>ENST00000371646.5</td>\n",
       "      <td>HSP90AB1</td>\n",
       "      <td>protein_coding</td>\n",
       "    </tr>\n",
       "    <tr>\n",
       "      <th>1</th>\n",
       "      <td>ENST00000262982.2</td>\n",
       "      <td>CSE1L</td>\n",
       "      <td>protein_coding</td>\n",
       "    </tr>\n",
       "    <tr>\n",
       "      <th>2</th>\n",
       "      <td>ENST00000299767.5</td>\n",
       "      <td>HSP90B1</td>\n",
       "      <td>protein_coding</td>\n",
       "    </tr>\n",
       "    <tr>\n",
       "      <th>3</th>\n",
       "      <td>ENST00000237530.6</td>\n",
       "      <td>RPN2</td>\n",
       "      <td>protein_coding</td>\n",
       "    </tr>\n",
       "    <tr>\n",
       "      <th>4</th>\n",
       "      <td>ENST00000355899.3</td>\n",
       "      <td>PLS3</td>\n",
       "      <td>protein_coding</td>\n",
       "    </tr>\n",
       "    <tr>\n",
       "      <th>...</th>\n",
       "      <td>...</td>\n",
       "      <td>...</td>\n",
       "      <td>...</td>\n",
       "    </tr>\n",
       "    <tr>\n",
       "      <th>172</th>\n",
       "      <td>ENST00000410111.3</td>\n",
       "      <td>IMMT</td>\n",
       "      <td>protein_coding</td>\n",
       "    </tr>\n",
       "    <tr>\n",
       "      <th>173</th>\n",
       "      <td>ENST00000391973.2</td>\n",
       "      <td>SEPT2</td>\n",
       "      <td>protein_coding</td>\n",
       "    </tr>\n",
       "    <tr>\n",
       "      <th>174</th>\n",
       "      <td>ENST00000360384.5</td>\n",
       "      <td>HNRNPK</td>\n",
       "      <td>protein_coding</td>\n",
       "    </tr>\n",
       "    <tr>\n",
       "      <th>175</th>\n",
       "      <td>ENST00000283179.9</td>\n",
       "      <td>HNRNPU</td>\n",
       "      <td>protein_coding</td>\n",
       "    </tr>\n",
       "    <tr>\n",
       "      <th>176</th>\n",
       "      <td>ENST00000460231.1</td>\n",
       "      <td>PCNP</td>\n",
       "      <td>nonsense_mediated_decay</td>\n",
       "    </tr>\n",
       "  </tbody>\n",
       "</table>\n",
       "<p>177 rows × 3 columns</p>\n",
       "</div>"
      ],
      "text/plain": [
       "         transcript_id gene_name          transcript_type\n",
       "0    ENST00000371646.5  HSP90AB1           protein_coding\n",
       "1    ENST00000262982.2     CSE1L           protein_coding\n",
       "2    ENST00000299767.5   HSP90B1           protein_coding\n",
       "3    ENST00000237530.6      RPN2           protein_coding\n",
       "4    ENST00000355899.3      PLS3           protein_coding\n",
       "..                 ...       ...                      ...\n",
       "172  ENST00000410111.3      IMMT           protein_coding\n",
       "173  ENST00000391973.2     SEPT2           protein_coding\n",
       "174  ENST00000360384.5    HNRNPK           protein_coding\n",
       "175  ENST00000283179.9    HNRNPU           protein_coding\n",
       "176  ENST00000460231.1      PCNP  nonsense_mediated_decay\n",
       "\n",
       "[177 rows x 3 columns]"
      ]
     },
     "execution_count": 10,
     "metadata": {},
     "output_type": "execute_result"
    }
   ],
   "source": [
    "transcript_df_ranked[['transcript_id', 'gene_name', 'transcript_type']]"
   ]
  },
  {
   "cell_type": "code",
   "execution_count": 11,
   "id": "35568868-62fe-43fe-8606-ac4b21467085",
   "metadata": {},
   "outputs": [],
   "source": [
    "gtf_file = '/tscc/nfs/home/pjaganna1/projects/STAMP/stamp_v3_pipeline/refs/hg19/gencode.v19.annotation.gtf'  # Replace with your GTF file path\n",
    "fasta_file = '/tscc/nfs/home/pjaganna1/projects/STAMP/stamp_v3_pipeline/refs/hg19/hg19.fa'"
   ]
  },
  {
   "cell_type": "code",
   "execution_count": 12,
   "id": "5c42cd9a-2aa4-4cd5-85df-17c7d89f2069",
   "metadata": {},
   "outputs": [],
   "source": [
    "from Bio import SeqIO\n",
    "\n",
    "def extract_sequences(fasta_file, df):\n",
    "    # Load the genome sequence\n",
    "    genome = SeqIO.to_dict(SeqIO.parse(fasta_file, \"fasta\"))\n",
    "\n",
    "    # Extract sequences\n",
    "    sequences = {}\n",
    "    for _, row in df.iterrows():\n",
    "        seqname = row[0]\n",
    "        start = row[3]\n",
    "        end = row[4]\n",
    "        sequence = genome[seqname].seq[start-1:end]  # Adjust for 0-based indexing\n",
    "        sequences[row['key']] = str(sequence)\n",
    "\n",
    "    return sequences"
   ]
  },
  {
   "cell_type": "code",
   "execution_count": 13,
   "id": "1d93bb76-5c7a-439f-8189-2cf6ddf07997",
   "metadata": {},
   "outputs": [],
   "source": [
    "def assign_utr(x):\n",
    "    strand = x[6]\n",
    "    utr_start = x[3]\n",
    "    utr_end = x[4]\n",
    "    if strand =='+':\n",
    "        if utr_end < gtf_CDS_start[x['transcript_id']]:\n",
    "            return '5UTR'\n",
    "        elif utr_start > gtf_CDS_end[x['transcript_id']]:\n",
    "            return '3UTR'\n",
    "\n",
    "    if strand =='-':\n",
    "        if utr_start > gtf_CDS_end[x['transcript_id']]:\n",
    "            return '5UTR'\n",
    "        elif utr_end <  gtf_CDS_start[x['transcript_id']]:\n",
    "            return '3UTR'"
   ]
  },
  {
   "cell_type": "code",
   "execution_count": 14,
   "id": "3720b850-871b-408c-a9d8-e8c36edfeb8e",
   "metadata": {},
   "outputs": [],
   "source": [
    "gencode_transcripts = pd.read_csv(gtf_file, sep='\\t', comment='#', header=None)"
   ]
  },
  {
   "cell_type": "code",
   "execution_count": 15,
   "id": "9c07ddaa-e009-46dc-a47f-5dcb65126c09",
   "metadata": {},
   "outputs": [
    {
     "data": {
      "text/plain": [
       "(2619444, 9)"
      ]
     },
     "execution_count": 15,
     "metadata": {},
     "output_type": "execute_result"
    }
   ],
   "source": [
    "gencode_transcripts.shape"
   ]
  },
  {
   "cell_type": "code",
   "execution_count": 16,
   "id": "8ae7f315-d41a-4eda-810c-71996488e05f",
   "metadata": {},
   "outputs": [],
   "source": [
    "gencode_transcripts['transcript_id'] = gencode_transcripts[8].str.extract('transcript_id \"([^\"]+)\"')\n",
    "gencode_transcripts['gene_id'] = gencode_transcripts[8].str.extract('gene_id \"([^\"]+)\"')\n",
    "gencode_transcripts['gene_name'] = gencode_transcripts[8].str.extract('gene_name \"([^\"]+)\"')"
   ]
  },
  {
   "cell_type": "code",
   "execution_count": 17,
   "id": "b4e28f45-cf23-4bff-9485-21ffc27af537",
   "metadata": {},
   "outputs": [],
   "source": [
    "CDS = gencode_transcripts[gencode_transcripts[2]=='CDS']"
   ]
  },
  {
   "cell_type": "code",
   "execution_count": 18,
   "id": "bf5719f0-b686-4ee0-8b79-793a8d795d5b",
   "metadata": {},
   "outputs": [],
   "source": [
    "gtf_CDS_start = dict(zip(CDS['transcript_id'], CDS[3]))\n",
    "gtf_CDS_end = dict(zip(CDS['transcript_id'], CDS[4]))"
   ]
  },
  {
   "cell_type": "code",
   "execution_count": 19,
   "id": "fa5d3085-5d86-4d41-932e-3da8ce07e62a",
   "metadata": {},
   "outputs": [
    {
     "name": "stderr",
     "output_type": "stream",
     "text": [
      "/tmp/ipykernel_369994/1627043137.py:1: SettingWithCopyWarning: \n",
      "A value is trying to be set on a copy of a slice from a DataFrame.\n",
      "Try using .loc[row_indexer,col_indexer] = value instead\n",
      "\n",
      "See the caveats in the documentation: https://pandas.pydata.org/pandas-docs/stable/user_guide/indexing.html#returning-a-view-versus-a-copy\n",
      "  CDS['length'] = CDS[4] - CDS[3]\n",
      "/tmp/ipykernel_369994/1627043137.py:2: SettingWithCopyWarning: \n",
      "A value is trying to be set on a copy of a slice from a DataFrame.\n",
      "Try using .loc[row_indexer,col_indexer] = value instead\n",
      "\n",
      "See the caveats in the documentation: https://pandas.pydata.org/pandas-docs/stable/user_guide/indexing.html#returning-a-view-versus-a-copy\n",
      "  CDS['key'] = CDS.apply(lambda x: f\"{x['transcript_id']}:{x[0]}:{x[3]}:{x[4]}\", axis=1)\n"
     ]
    },
    {
     "data": {
      "text/html": [
       "<div>\n",
       "<style scoped>\n",
       "    .dataframe tbody tr th:only-of-type {\n",
       "        vertical-align: middle;\n",
       "    }\n",
       "\n",
       "    .dataframe tbody tr th {\n",
       "        vertical-align: top;\n",
       "    }\n",
       "\n",
       "    .dataframe thead th {\n",
       "        text-align: right;\n",
       "    }\n",
       "</style>\n",
       "<table border=\"1\" class=\"dataframe\">\n",
       "  <thead>\n",
       "    <tr style=\"text-align: right;\">\n",
       "      <th></th>\n",
       "      <th>0</th>\n",
       "      <th>1</th>\n",
       "      <th>2</th>\n",
       "      <th>3</th>\n",
       "      <th>4</th>\n",
       "      <th>5</th>\n",
       "      <th>6</th>\n",
       "      <th>7</th>\n",
       "      <th>8</th>\n",
       "      <th>transcript_id</th>\n",
       "      <th>gene_id</th>\n",
       "      <th>gene_name</th>\n",
       "      <th>length</th>\n",
       "      <th>key</th>\n",
       "    </tr>\n",
       "  </thead>\n",
       "  <tbody>\n",
       "    <tr>\n",
       "      <th>1401331</th>\n",
       "      <td>chr11</td>\n",
       "      <td>HAVANA</td>\n",
       "      <td>CDS</td>\n",
       "      <td>62284219</td>\n",
       "      <td>62301546</td>\n",
       "      <td>.</td>\n",
       "      <td>-</td>\n",
       "      <td>0</td>\n",
       "      <td>gene_id \"ENSG00000124942.9\"; transcript_id \"EN...</td>\n",
       "      <td>ENST00000378024.4</td>\n",
       "      <td>ENSG00000124942.9</td>\n",
       "      <td>AHNAK</td>\n",
       "      <td>17327</td>\n",
       "      <td>ENST00000378024.4:chr11:62284219:62301546</td>\n",
       "    </tr>\n",
       "    <tr>\n",
       "      <th>1780820</th>\n",
       "      <td>chr14</td>\n",
       "      <td>HAVANA</td>\n",
       "      <td>CDS</td>\n",
       "      <td>105404403</td>\n",
       "      <td>105421136</td>\n",
       "      <td>.</td>\n",
       "      <td>-</td>\n",
       "      <td>0</td>\n",
       "      <td>gene_id \"ENSG00000185567.6\"; transcript_id \"EN...</td>\n",
       "      <td>ENST00000333244.5</td>\n",
       "      <td>ENSG00000185567.6</td>\n",
       "      <td>AHNAK2</td>\n",
       "      <td>16733</td>\n",
       "      <td>ENST00000333244.5:chr14:105404403:105421136</td>\n",
       "    </tr>\n",
       "    <tr>\n",
       "      <th>1004748</th>\n",
       "      <td>chr7</td>\n",
       "      <td>HAVANA</td>\n",
       "      <td>CDS</td>\n",
       "      <td>100633866</td>\n",
       "      <td>100648800</td>\n",
       "      <td>.</td>\n",
       "      <td>+</td>\n",
       "      <td>0</td>\n",
       "      <td>gene_id \"ENSG00000205277.5\"; transcript_id \"EN...</td>\n",
       "      <td>ENST00000379442.3</td>\n",
       "      <td>ENSG00000205277.5</td>\n",
       "      <td>MUC12</td>\n",
       "      <td>14934</td>\n",
       "      <td>ENST00000379442.3:chr7:100633866:100648800</td>\n",
       "    </tr>\n",
       "    <tr>\n",
       "      <th>148898</th>\n",
       "      <td>chr1</td>\n",
       "      <td>HAVANA</td>\n",
       "      <td>CDS</td>\n",
       "      <td>152275179</td>\n",
       "      <td>152287223</td>\n",
       "      <td>.</td>\n",
       "      <td>-</td>\n",
       "      <td>0</td>\n",
       "      <td>gene_id \"ENSG00000143631.10\"; transcript_id \"E...</td>\n",
       "      <td>ENST00000368799.1</td>\n",
       "      <td>ENSG00000143631.10</td>\n",
       "      <td>FLG</td>\n",
       "      <td>12044</td>\n",
       "      <td>ENST00000368799.1:chr1:152275179:152287223</td>\n",
       "    </tr>\n",
       "    <tr>\n",
       "      <th>2000854</th>\n",
       "      <td>chr16</td>\n",
       "      <td>HAVANA</td>\n",
       "      <td>CDS</td>\n",
       "      <td>88493879</td>\n",
       "      <td>88505737</td>\n",
       "      <td>.</td>\n",
       "      <td>+</td>\n",
       "      <td>0</td>\n",
       "      <td>gene_id \"ENSG00000225614.2\"; transcript_id \"EN...</td>\n",
       "      <td>ENST00000565624.1</td>\n",
       "      <td>ENSG00000225614.2</td>\n",
       "      <td>ZNF469</td>\n",
       "      <td>11858</td>\n",
       "      <td>ENST00000565624.1:chr16:88493879:88505737</td>\n",
       "    </tr>\n",
       "  </tbody>\n",
       "</table>\n",
       "</div>"
      ],
      "text/plain": [
       "             0       1    2          3          4  5  6  7  \\\n",
       "1401331  chr11  HAVANA  CDS   62284219   62301546  .  -  0   \n",
       "1780820  chr14  HAVANA  CDS  105404403  105421136  .  -  0   \n",
       "1004748   chr7  HAVANA  CDS  100633866  100648800  .  +  0   \n",
       "148898    chr1  HAVANA  CDS  152275179  152287223  .  -  0   \n",
       "2000854  chr16  HAVANA  CDS   88493879   88505737  .  +  0   \n",
       "\n",
       "                                                         8      transcript_id  \\\n",
       "1401331  gene_id \"ENSG00000124942.9\"; transcript_id \"EN...  ENST00000378024.4   \n",
       "1780820  gene_id \"ENSG00000185567.6\"; transcript_id \"EN...  ENST00000333244.5   \n",
       "1004748  gene_id \"ENSG00000205277.5\"; transcript_id \"EN...  ENST00000379442.3   \n",
       "148898   gene_id \"ENSG00000143631.10\"; transcript_id \"E...  ENST00000368799.1   \n",
       "2000854  gene_id \"ENSG00000225614.2\"; transcript_id \"EN...  ENST00000565624.1   \n",
       "\n",
       "                    gene_id gene_name  length  \\\n",
       "1401331   ENSG00000124942.9     AHNAK   17327   \n",
       "1780820   ENSG00000185567.6    AHNAK2   16733   \n",
       "1004748   ENSG00000205277.5     MUC12   14934   \n",
       "148898   ENSG00000143631.10       FLG   12044   \n",
       "2000854   ENSG00000225614.2    ZNF469   11858   \n",
       "\n",
       "                                                 key  \n",
       "1401331    ENST00000378024.4:chr11:62284219:62301546  \n",
       "1780820  ENST00000333244.5:chr14:105404403:105421136  \n",
       "1004748   ENST00000379442.3:chr7:100633866:100648800  \n",
       "148898    ENST00000368799.1:chr1:152275179:152287223  \n",
       "2000854    ENST00000565624.1:chr16:88493879:88505737  "
      ]
     },
     "execution_count": 19,
     "metadata": {},
     "output_type": "execute_result"
    }
   ],
   "source": [
    "CDS['length'] = CDS[4] - CDS[3]\n",
    "CDS['key'] = CDS.apply(lambda x: f\"{x['transcript_id']}:{x[0]}:{x[3]}:{x[4]}\", axis=1)\n",
    "CDS[CDS[7]=='0'].sort_values('length', ascending=False).drop_duplicates(subset='transcript_id').head()"
   ]
  },
  {
   "cell_type": "code",
   "execution_count": 20,
   "id": "9ab01bd1-5c82-4cad-ad31-c4e31867833e",
   "metadata": {},
   "outputs": [],
   "source": [
    "CDS_seq_dict = extract_sequences(fasta_file, CDS)"
   ]
  },
  {
   "cell_type": "code",
   "execution_count": 21,
   "id": "ccc73028-ca81-47d5-b662-478d9dd899df",
   "metadata": {},
   "outputs": [
    {
     "name": "stderr",
     "output_type": "stream",
     "text": [
      "/tmp/ipykernel_369994/3028768742.py:2: SettingWithCopyWarning: \n",
      "A value is trying to be set on a copy of a slice from a DataFrame.\n",
      "Try using .loc[row_indexer,col_indexer] = value instead\n",
      "\n",
      "See the caveats in the documentation: https://pandas.pydata.org/pandas-docs/stable/user_guide/indexing.html#returning-a-view-versus-a-copy\n",
      "  UTR[2] = UTR.apply(assign_utr, axis=1)\n"
     ]
    }
   ],
   "source": [
    "UTR = gencode_transcripts[gencode_transcripts[2]=='UTR']\n",
    "UTR[2] = UTR.apply(assign_utr, axis=1)"
   ]
  },
  {
   "cell_type": "code",
   "execution_count": 22,
   "id": "448dbedd-f395-4b37-8f13-3aefd370c062",
   "metadata": {},
   "outputs": [
    {
     "name": "stderr",
     "output_type": "stream",
     "text": [
      "/tmp/ipykernel_369994/3718035876.py:3: SettingWithCopyWarning: \n",
      "A value is trying to be set on a copy of a slice from a DataFrame.\n",
      "Try using .loc[row_indexer,col_indexer] = value instead\n",
      "\n",
      "See the caveats in the documentation: https://pandas.pydata.org/pandas-docs/stable/user_guide/indexing.html#returning-a-view-versus-a-copy\n",
      "  five_UTR['key'] = five_UTR.apply(lambda x: f\"{x['transcript_id']}:{x[0]}:{x[3]}:{x[4]}\", axis=1)\n",
      "/tmp/ipykernel_369994/3718035876.py:4: SettingWithCopyWarning: \n",
      "A value is trying to be set on a copy of a slice from a DataFrame.\n",
      "Try using .loc[row_indexer,col_indexer] = value instead\n",
      "\n",
      "See the caveats in the documentation: https://pandas.pydata.org/pandas-docs/stable/user_guide/indexing.html#returning-a-view-versus-a-copy\n",
      "  three_UTR['key'] = three_UTR.apply(lambda x: f\"{x['transcript_id']}:{x[0]}:{x[3]}:{x[4]}\", axis=1)\n"
     ]
    }
   ],
   "source": [
    "five_UTR = UTR[UTR[2]=='5UTR']\n",
    "three_UTR = UTR[UTR[2]=='3UTR']\n",
    "five_UTR['key'] = five_UTR.apply(lambda x: f\"{x['transcript_id']}:{x[0]}:{x[3]}:{x[4]}\", axis=1)\n",
    "three_UTR['key'] = three_UTR.apply(lambda x: f\"{x['transcript_id']}:{x[0]}:{x[3]}:{x[4]}\", axis=1)\n"
   ]
  },
  {
   "cell_type": "code",
   "execution_count": 23,
   "id": "a7290496-5093-486b-9608-449eada7faee",
   "metadata": {},
   "outputs": [
    {
     "name": "stderr",
     "output_type": "stream",
     "text": [
      "/tmp/ipykernel_369994/3584739827.py:1: SettingWithCopyWarning: \n",
      "A value is trying to be set on a copy of a slice from a DataFrame.\n",
      "Try using .loc[row_indexer,col_indexer] = value instead\n",
      "\n",
      "See the caveats in the documentation: https://pandas.pydata.org/pandas-docs/stable/user_guide/indexing.html#returning-a-view-versus-a-copy\n",
      "  five_UTR['length'] = five_UTR[4] - five_UTR[3]\n",
      "/tmp/ipykernel_369994/3584739827.py:2: SettingWithCopyWarning: \n",
      "A value is trying to be set on a copy of a slice from a DataFrame.\n",
      "Try using .loc[row_indexer,col_indexer] = value instead\n",
      "\n",
      "See the caveats in the documentation: https://pandas.pydata.org/pandas-docs/stable/user_guide/indexing.html#returning-a-view-versus-a-copy\n",
      "  three_UTR['length'] = three_UTR[4] - three_UTR[3]\n"
     ]
    }
   ],
   "source": [
    "five_UTR['length'] = five_UTR[4] - five_UTR[3]\n",
    "three_UTR['length'] = three_UTR[4] - three_UTR[3]"
   ]
  },
  {
   "cell_type": "code",
   "execution_count": 24,
   "id": "6d17fd81-f41c-4c2a-beda-441fe195d805",
   "metadata": {},
   "outputs": [],
   "source": [
    "five_UTR_seq_dict = extract_sequences(fasta_file, five_UTR)\n",
    "three_UTR_seq_dict = extract_sequences(fasta_file, three_UTR)"
   ]
  },
  {
   "cell_type": "code",
   "execution_count": 25,
   "id": "5d30d0d3-c03e-40c2-aa43-e801b4e43527",
   "metadata": {},
   "outputs": [
    {
     "name": "stderr",
     "output_type": "stream",
     "text": [
      "/tmp/ipykernel_369994/3567514383.py:1: SettingWithCopyWarning: \n",
      "A value is trying to be set on a copy of a slice from a DataFrame.\n",
      "Try using .loc[row_indexer,col_indexer] = value instead\n",
      "\n",
      "See the caveats in the documentation: https://pandas.pydata.org/pandas-docs/stable/user_guide/indexing.html#returning-a-view-versus-a-copy\n",
      "  CDS['sequence'] = CDS.key.map(CDS_seq_dict)\n"
     ]
    }
   ],
   "source": [
    "CDS['sequence'] = CDS.key.map(CDS_seq_dict)"
   ]
  },
  {
   "cell_type": "code",
   "execution_count": 26,
   "id": "bdd8cad8-cedb-4256-859f-6e0716b09ec6",
   "metadata": {},
   "outputs": [
    {
     "name": "stderr",
     "output_type": "stream",
     "text": [
      "/tmp/ipykernel_369994/3291725023.py:1: SettingWithCopyWarning: \n",
      "A value is trying to be set on a copy of a slice from a DataFrame.\n",
      "Try using .loc[row_indexer,col_indexer] = value instead\n",
      "\n",
      "See the caveats in the documentation: https://pandas.pydata.org/pandas-docs/stable/user_guide/indexing.html#returning-a-view-versus-a-copy\n",
      "  five_UTR['sequence'] = five_UTR.key.map(five_UTR_seq_dict)\n"
     ]
    }
   ],
   "source": [
    "five_UTR['sequence'] = five_UTR.key.map(five_UTR_seq_dict)"
   ]
  },
  {
   "cell_type": "code",
   "execution_count": 27,
   "id": "03acd641-eb14-4ea6-a138-8ce23a042b7d",
   "metadata": {},
   "outputs": [
    {
     "name": "stderr",
     "output_type": "stream",
     "text": [
      "/tmp/ipykernel_369994/3127873794.py:1: SettingWithCopyWarning: \n",
      "A value is trying to be set on a copy of a slice from a DataFrame.\n",
      "Try using .loc[row_indexer,col_indexer] = value instead\n",
      "\n",
      "See the caveats in the documentation: https://pandas.pydata.org/pandas-docs/stable/user_guide/indexing.html#returning-a-view-versus-a-copy\n",
      "  three_UTR['sequence'] = three_UTR.key.map(three_UTR_seq_dict)\n"
     ]
    }
   ],
   "source": [
    "three_UTR['sequence'] = three_UTR.key.map(three_UTR_seq_dict)"
   ]
  },
  {
   "cell_type": "code",
   "execution_count": 28,
   "id": "0212974c-8082-42b9-9f1c-0ebe609bb1f3",
   "metadata": {},
   "outputs": [],
   "source": [
    "def calc_gc(x):\n",
    "    seq = x['sequence'].upper()\n",
    "    if len(x['sequence']) > 0:\n",
    "        return (seq.count('C') + seq.count('G'))/((seq.count('C') + seq.count('G') + seq.count('A') + seq.count('T')))\n",
    "    else:\n",
    "        return None"
   ]
  },
  {
   "cell_type": "code",
   "execution_count": 29,
   "id": "40b40025-a9ca-41ae-ba40-0767a7155064",
   "metadata": {},
   "outputs": [
    {
     "name": "stderr",
     "output_type": "stream",
     "text": [
      "/tmp/ipykernel_369994/2717125845.py:1: SettingWithCopyWarning: \n",
      "A value is trying to be set on a copy of a slice from a DataFrame.\n",
      "Try using .loc[row_indexer,col_indexer] = value instead\n",
      "\n",
      "See the caveats in the documentation: https://pandas.pydata.org/pandas-docs/stable/user_guide/indexing.html#returning-a-view-versus-a-copy\n",
      "  CDS['GC_content'] = CDS.apply(calc_gc, axis=1)\n",
      "/tmp/ipykernel_369994/2717125845.py:2: SettingWithCopyWarning: \n",
      "A value is trying to be set on a copy of a slice from a DataFrame.\n",
      "Try using .loc[row_indexer,col_indexer] = value instead\n",
      "\n",
      "See the caveats in the documentation: https://pandas.pydata.org/pandas-docs/stable/user_guide/indexing.html#returning-a-view-versus-a-copy\n",
      "  five_UTR['GC_content'] = five_UTR.apply(calc_gc, axis=1)\n",
      "/tmp/ipykernel_369994/2717125845.py:3: SettingWithCopyWarning: \n",
      "A value is trying to be set on a copy of a slice from a DataFrame.\n",
      "Try using .loc[row_indexer,col_indexer] = value instead\n",
      "\n",
      "See the caveats in the documentation: https://pandas.pydata.org/pandas-docs/stable/user_guide/indexing.html#returning-a-view-versus-a-copy\n",
      "  three_UTR['GC_content'] = three_UTR.apply(calc_gc, axis=1)\n"
     ]
    }
   ],
   "source": [
    "CDS['GC_content'] = CDS.apply(calc_gc, axis=1)\n",
    "five_UTR['GC_content'] = five_UTR.apply(calc_gc, axis=1)\n",
    "three_UTR['GC_content'] = three_UTR.apply(calc_gc, axis=1)"
   ]
  },
  {
   "cell_type": "code",
   "execution_count": 30,
   "id": "809c9691-5c0e-46e9-abdd-359802bbae17",
   "metadata": {},
   "outputs": [],
   "source": [
    "from scipy import stats"
   ]
  },
  {
   "cell_type": "code",
   "execution_count": 31,
   "id": "02bfb43a-1ab4-4420-91fc-cd1f4af0125c",
   "metadata": {},
   "outputs": [],
   "source": [
    "def plot_low_high(low, high, scale, fig_name):\n",
    "    sns.set(rc={'figure.figsize':(5,5)})\n",
    "    sns.set_style('white')\n",
    "    sns.histplot(low, color='#028090', edgecolor='#028090', linewidth=0.5)\n",
    "    sns.histplot(high, color='#F38A2E',edgecolor='#F38A2E',linewidth=0.5)\n",
    "    plt.axvline(low.mean(), linestyle='dashed', color='#028090')\n",
    "    plt.axvline(high.mean(), linestyle='dashed', color='#F27D18')\n",
    "    if scale==True:\n",
    "        plt.xscale('log')\n",
    "    plt.text(np.max(high), 50, f\"{stats.ranksums(low, high)[1]:.3f}\")\n",
    "    # plt.savefig(os.path.join(fig_path,f'{fig_name}.png'))\n",
    "    # plt.savefig(os.path.join(fig_path,f'{fig_name}.svg'))\n",
    "    # plt.savefig(os.path.join(fig_path,f'{fig_name}.jpg'))  \n",
    "    plt.legend(['low', 'high'])\n",
    "    plt.show()\n",
    "    print(stats.ttest_ind(low, high))\n",
    "    print(stats.ranksums(low, high))\n",
    "    "
   ]
  },
  {
   "cell_type": "code",
   "execution_count": 32,
   "id": "55bc8e9e-69be-4771-857e-c6ed992e8100",
   "metadata": {},
   "outputs": [],
   "source": [
    "def plot_low_high_boxplot(low, high, scale, fig_name, feature):\n",
    "    sns.set(rc={'figure.figsize':(5,5)})\n",
    "    sns.set_style('white')\n",
    "    low_toplot=low.copy()\n",
    "    high_toplot=high.copy()\n",
    "    low_toplot['category']='low'\n",
    "    high_toplot['category']='high'\n",
    "    sns.boxplot(data=pd.concat([low_toplot, high_toplot]), x='category', y=feature,hue='category',  palette=['#028090','#F38A2E'])\n",
    "    if scale==True:\n",
    "        plt.xscale('log')\n",
    "    plt.text(0.5, np.max(high_toplot[feature]), f\"{stats.ranksums(low[feature], high[feature])[1]:.3f}\")\n",
    "    # plt.savefig(os.path.join(fig_path,f'{fig_name}.png'))\n",
    "    # plt.savefig(os.path.join(fig_path,f'{fig_name}.svg'))\n",
    "    # plt.savefig(os.path.join(fig_path,f'{fig_name}.jpg'))  \n",
    "    plt.legend(['low', 'high'])\n",
    "    plt.show()\n",
    "    print(stats.ttest_ind(low[feature], high[feature]))\n",
    "    print(stats.ranksums(low[feature], high[feature]))"
   ]
  },
  {
   "cell_type": "code",
   "execution_count": 33,
   "id": "92f08a24-8181-409f-a915-764678b6ed55",
   "metadata": {},
   "outputs": [
    {
     "data": {
      "image/png": "[encoded data removed]",
      "text/plain": [
       "<Figure size 500x500 with 1 Axes>"
      ]
     },
     "metadata": {},
     "output_type": "display_data"
    },
    {
     "name": "stdout",
     "output_type": "stream",
     "text": [
      "TtestResult(statistic=1.978984241347797, pvalue=0.048154813829656806, df=813.0)\n",
      "RanksumsResult(statistic=1.5788097538650085, pvalue=0.11437970066707796)\n"
     ]
    }
   ],
   "source": [
    "plot_low_high(five_UTR[five_UTR['transcript_id'].isin(low_translation_transcript)]['length'], five_UTR[five_UTR['transcript_id'].isin(high_translation_transcript)]['length'], False, 'fig3/5utr_length')"
   ]
  },
  {
   "cell_type": "code",
   "execution_count": 34,
   "id": "2d6fa02a-a9ae-4275-8b41-73186ea2d332",
   "metadata": {},
   "outputs": [
    {
     "data": {
      "image/png": "[encoded data removed]",
      "text/plain": [
       "<Figure size 500x500 with 1 Axes>"
      ]
     },
     "metadata": {},
     "output_type": "display_data"
    },
    {
     "name": "stdout",
     "output_type": "stream",
     "text": [
      "TtestResult(statistic=1.978984241347797, pvalue=0.048154813829656806, df=813.0)\n",
      "RanksumsResult(statistic=1.5788097538650085, pvalue=0.11437970066707796)\n"
     ]
    }
   ],
   "source": [
    "plot_low_high_boxplot(five_UTR[five_UTR['transcript_id'].isin(low_translation_transcript)], five_UTR[five_UTR['transcript_id'].isin(high_translation_transcript)], False, 'fig3/5utr_length_boxplot', 'length')"
   ]
  },
  {
   "cell_type": "code",
   "execution_count": 35,
   "id": "13689c6f-7ea5-4103-90e3-60a5dd346752",
   "metadata": {},
   "outputs": [
    {
     "data": {
      "image/png": "[encoded data removed]",
      "text/plain": [
       "<Figure size 500x500 with 1 Axes>"
      ]
     },
     "metadata": {},
     "output_type": "display_data"
    },
    {
     "name": "stdout",
     "output_type": "stream",
     "text": [
      "TtestResult(statistic=2.170731514992765, pvalue=0.03024020033836381, df=813.0)\n",
      "RanksumsResult(statistic=2.7201359378560186, pvalue=0.006525508400918482)\n"
     ]
    }
   ],
   "source": [
    "plot_low_high(five_UTR[five_UTR['transcript_id'].isin(low_translation_transcript)]['GC_content'], five_UTR[five_UTR['transcript_id'].isin(high_translation_transcript)]['GC_content'], False, 'fig3/5utr_gc')"
   ]
  },
  {
   "cell_type": "code",
   "execution_count": 36,
   "id": "b1af7893-7d59-440d-8738-4690f2c36d8a",
   "metadata": {},
   "outputs": [
    {
     "data": {
      "image/png": "[encoded data removed]",
      "text/plain": [
       "<Figure size 500x500 with 1 Axes>"
      ]
     },
     "metadata": {},
     "output_type": "display_data"
    },
    {
     "name": "stdout",
     "output_type": "stream",
     "text": [
      "TtestResult(statistic=2.170731514992765, pvalue=0.03024020033836381, df=813.0)\n",
      "RanksumsResult(statistic=2.7201359378560186, pvalue=0.006525508400918482)\n"
     ]
    }
   ],
   "source": [
    "plot_low_high_boxplot(five_UTR[five_UTR['transcript_id'].isin(low_translation_transcript)], five_UTR[five_UTR['transcript_id'].isin(high_translation_transcript)], False, 'fig3/5utr_gc_boxplot', 'GC_content')"
   ]
  },
  {
   "cell_type": "code",
   "execution_count": 37,
   "id": "3e1d8617-1c98-402b-a680-079db66d37bc",
   "metadata": {},
   "outputs": [
    {
     "data": {
      "image/png": "[encoded data removed]",
      "text/plain": [
       "<Figure size 500x500 with 1 Axes>"
      ]
     },
     "metadata": {},
     "output_type": "display_data"
    },
    {
     "name": "stdout",
     "output_type": "stream",
     "text": [
      "TtestResult(statistic=4.424645336629576, pvalue=1.1473852693493119e-05, df=600.0)\n",
      "RanksumsResult(statistic=3.29473732856209, pvalue=0.0009851371796909983)\n"
     ]
    }
   ],
   "source": [
    "plot_low_high(CDS[CDS[7]=='0'].drop_duplicates(subset='transcript_id')[CDS[CDS[7]=='0'].drop_duplicates(subset='transcript_id')['transcript_id'].isin(low_translation_transcript)]['length'],CDS[CDS[7]=='0'].drop_duplicates(subset='transcript_id')[CDS[CDS[7]=='0'].drop_duplicates(subset='transcript_id')['transcript_id'].isin(high_translation_transcript)]['length'], False,'fig3/CDS_length' )\n"
   ]
  },
  {
   "cell_type": "code",
   "execution_count": 38,
   "id": "1dfcb26f-dc2b-4469-bf48-f872805cf7da",
   "metadata": {},
   "outputs": [
    {
     "data": {
      "image/png": "[encoded data removed]",
      "text/plain": [
       "<Figure size 500x500 with 1 Axes>"
      ]
     },
     "metadata": {},
     "output_type": "display_data"
    },
    {
     "name": "stdout",
     "output_type": "stream",
     "text": [
      "TtestResult(statistic=12.397738789762066, pvalue=1.0474044004670647e-34, df=4297.0)\n",
      "RanksumsResult(statistic=11.546580817570714, pvalue=7.681601338742935e-31)\n"
     ]
    }
   ],
   "source": [
    "plot_low_high(CDS[CDS[7]=='0'].drop_duplicates()[CDS[CDS[7]=='0'].drop_duplicates()['transcript_id'].isin(low_translation_transcript)]['GC_content'],CDS[CDS[7]=='0'].drop_duplicates()[CDS[CDS[7]=='0'].drop_duplicates()['transcript_id'].isin(high_translation_transcript)]['GC_content'], False, 'fig3/CDS_gc')"
   ]
  },
  {
   "cell_type": "code",
   "execution_count": 39,
   "id": "7239c561-1f7d-4ead-96ef-b0001610d853",
   "metadata": {},
   "outputs": [
    {
     "data": {
      "image/png": "[encoded data removed]",
      "text/plain": [
       "<Figure size 500x500 with 1 Axes>"
      ]
     },
     "metadata": {},
     "output_type": "display_data"
    },
    {
     "name": "stdout",
     "output_type": "stream",
     "text": [
      "TtestResult(statistic=9.42470930860092, pvalue=7.682697655368859e-20, df=642.0)\n",
      "RanksumsResult(statistic=9.456928159858805, pvalue=3.171225036451264e-21)\n"
     ]
    }
   ],
   "source": [
    "plot_low_high(three_UTR[three_UTR['transcript_id'].isin(low_translation_transcript)]['length'],three_UTR[three_UTR['transcript_id'].isin(high_translation_transcript)]['length'], False, 'fig3/3utr_length')"
   ]
  },
  {
   "cell_type": "code",
   "execution_count": 40,
   "id": "e5a2a364-f996-452e-bb9b-e5435aa5cc0b",
   "metadata": {},
   "outputs": [
    {
     "data": {
      "image/png": "[encoded data removed]",
      "text/plain": [
       "<Figure size 500x500 with 1 Axes>"
      ]
     },
     "metadata": {},
     "output_type": "display_data"
    },
    {
     "name": "stdout",
     "output_type": "stream",
     "text": [
      "TtestResult(statistic=5.848490315018077, pvalue=7.90257310532615e-09, df=642.0)\n",
      "RanksumsResult(statistic=5.787695108339616, pvalue=7.135878074279573e-09)\n"
     ]
    }
   ],
   "source": [
    "plot_low_high_boxplot(three_UTR[three_UTR['transcript_id'].isin(low_translation_transcript)], three_UTR[three_UTR['transcript_id'].isin(high_translation_transcript)], False, 'fig3/3utr_length_boxplot', 'GC_content')"
   ]
  },
  {
   "cell_type": "code",
   "execution_count": 41,
   "id": "0cbaa115-4d83-4e2b-9529-199192a35066",
   "metadata": {},
   "outputs": [
    {
     "data": {
      "image/png": "[encoded data removed]",
      "text/plain": [
       "<Figure size 500x500 with 1 Axes>"
      ]
     },
     "metadata": {},
     "output_type": "display_data"
    },
    {
     "name": "stdout",
     "output_type": "stream",
     "text": [
      "TtestResult(statistic=5.848490315018077, pvalue=7.90257310532615e-09, df=642.0)\n",
      "RanksumsResult(statistic=5.787695108339616, pvalue=7.135878074279573e-09)\n"
     ]
    }
   ],
   "source": [
    "plot_low_high(three_UTR[three_UTR['transcript_id'].isin(low_translation_transcript)]['GC_content'],three_UTR[three_UTR['transcript_id'].isin(high_translation_transcript)]['GC_content'], False, 'fig3/3utr_gc')"
   ]
  },
  {
   "cell_type": "code",
   "execution_count": 42,
   "id": "a89db3d8-b2fd-41fc-92d7-7e8f4d990265",
   "metadata": {},
   "outputs": [],
   "source": [
    "motif_dir=\"/tscc/nfs/home/pjaganna1/projects/STAMP/stamp_v3_pipeline/eCLIP_benchmarks/selex_linear\""
   ]
  },
  {
   "cell_type": "markdown",
   "id": "b29a5dc7-51cb-4223-87f4-6a0fa820ff74",
   "metadata": {},
   "source": [
    "Paper for DAZL https://www.nature.com/articles/s41586-021-03222-x\n",
    "paper for IRE and motif https://molecularneurodegeneration.biomedcentral.com/articles/10.1186/s13024-017-0218-4"
   ]
  },
  {
   "cell_type": "code",
   "execution_count": 43,
   "id": "144c4da1-25b7-4f97-af06-32a38dab6caa",
   "metadata": {},
   "outputs": [],
   "source": [
    "nuc_dict={0:'A', 1:'C', 2:'G', 3:'T'}\n",
    "RBP_motifs={}\n",
    "for d in glob.glob(os.path.join(motif_dir, \"*\")):\n",
    "    tmp = pd.read_csv(d, index_col=0)\n",
    "    consensus=[]\n",
    "    for row, index in tmp.iterrows():\n",
    "        nucleotide_probabilities=tmp.loc[row, :].values.tolist()\n",
    "        max_value = max(nucleotide_probabilities)\n",
    "        for i in [index for index, item in enumerate(nucleotide_probabilities) if item == max_value][:1]:\n",
    "            consensus.append(nuc_dict[i])\n",
    "    RBP_motifs[d.split('/')[-1].strip('.motif.csv')]=(''.join(consensus))\n",
    "    "
   ]
  },
  {
   "cell_type": "code",
   "execution_count": 44,
   "id": "719587b8-7586-4dcc-9048-5815d747cf84",
   "metadata": {},
   "outputs": [],
   "source": [
    "RBP_motifs['DAZL']='GCGTTTC'\n",
    "RBP_motifs['RBFOX2']='GCATG'\n",
    "RBP_motifs['POLYA'] = 'AATAAA'\n",
    "RBP_motifs['IRE']='CAGTG'\n",
    "RBP_motifs['EIF4A']='GAAG'"
   ]
  },
  {
   "cell_type": "code",
   "execution_count": 45,
   "id": "00045e14-50fb-48d4-9a91-443964119a2e",
   "metadata": {},
   "outputs": [
    {
     "data": {
      "text/plain": [
       "['ZFR', 'ZRANB2', 'HNRNPA1L2', 'ZFP36', 'CELF3']"
      ]
     },
     "execution_count": 45,
     "metadata": {},
     "output_type": "execute_result"
    }
   ],
   "source": [
    "list(RBP_motifs.keys())[:5]"
   ]
  },
  {
   "cell_type": "code",
   "execution_count": 46,
   "id": "c4e8656e-c394-4f62-a98c-e25a86ec0d4f",
   "metadata": {},
   "outputs": [],
   "source": [
    "#three_UTR[three_UTR['transcript_id'].isin(low_translation_transcript)]['sequence'].tolist()\n",
    "#three_UTR[three_UTR['transcript_id'].isin(high_translation_transcript)]['sequence'].tolist()"
   ]
  },
  {
   "cell_type": "code",
   "execution_count": 47,
   "id": "25147873-6756-44c2-9f29-2738951ae9d5",
   "metadata": {},
   "outputs": [],
   "source": [
    "def get_all_possible_motif_seqs(df):\n",
    "    all_possible = dict.fromkeys(list(RBP_motifs.keys()), 0)\n",
    "    for key in RBP_motifs:\n",
    "        count = 0\n",
    "        for index, row in df.iterrows():\n",
    "            query_seq = row['sequence']\n",
    "            m = RBP_motifs[key]\n",
    "            for i in range(0,len(query_seq)-len(m)+1):\n",
    "                count +=1\n",
    "        all_possible[key] = count\n",
    "    return all_possible  "
   ]
  },
  {
   "cell_type": "code",
   "execution_count": 48,
   "id": "bed7fa78-42e5-421e-8b54-9e0675754b90",
   "metadata": {},
   "outputs": [],
   "source": [
    "high_3p_background = get_all_possible_motif_seqs(three_UTR[three_UTR['transcript_id'].isin(high_translation_transcript)])"
   ]
  },
  {
   "cell_type": "code",
   "execution_count": 49,
   "id": "abb272ad-3e62-4d2d-9124-b1a02060219e",
   "metadata": {},
   "outputs": [],
   "source": [
    "low_3p_background = get_all_possible_motif_seqs(three_UTR[three_UTR['transcript_id'].isin(low_translation_transcript)])"
   ]
  },
  {
   "cell_type": "code",
   "execution_count": 50,
   "id": "9bfae436-620a-4b75-826c-f32c35d9aebf",
   "metadata": {},
   "outputs": [],
   "source": [
    "def count_motif_ocurrence(df):\n",
    "    motif_count = {}\n",
    "    motif_present = {}\n",
    "    for index, row in df.iterrows():\n",
    "        #print(row['transcript_id'])\n",
    "        motif_count[row['transcript_id']] = dict.fromkeys(list(RBP_motifs.keys()), 0)\n",
    "        motif_present[row['transcript_id']] = dict.fromkeys(list(RBP_motifs.keys()), 0)\n",
    "        #print(motif_check)\n",
    "        for key in RBP_motifs:\n",
    "            query_seq = row['sequence']\n",
    "            m = RBP_motifs[key]\n",
    "            #print(key, m)\n",
    "            #print(motif_check[row['transcript_id']][key])\n",
    "            for i in range(0,len(query_seq)-len(m)+1):\n",
    "                if query_seq[i: i+len(m)] == m:\n",
    "                    #print(query_seq[i: i+len(m)], m)\n",
    "                    motif_count[row['transcript_id']][key] +=1\n",
    "            if motif_count[row['transcript_id']][key] >=1:\n",
    "                motif_present[row['transcript_id']][key] = 1\n",
    "    return motif_count, motif_present"
   ]
  },
  {
   "cell_type": "code",
   "execution_count": 51,
   "id": "0e89732a-4ef5-4789-9137-14d2ffea3c3d",
   "metadata": {},
   "outputs": [],
   "source": [
    "high_3P_motif_count, high_3P_motif_present = count_motif_ocurrence(three_UTR[three_UTR['transcript_id'].isin(high_translation_transcript)])"
   ]
  },
  {
   "cell_type": "code",
   "execution_count": 52,
   "id": "910bbaa8-1a89-4e22-94e1-32004e10e9a5",
   "metadata": {},
   "outputs": [],
   "source": [
    "low_3P_motif_count, low_3P_motif_present = count_motif_ocurrence(three_UTR[three_UTR['transcript_id'].isin(low_translation_transcript)])"
   ]
  },
  {
   "cell_type": "code",
   "execution_count": 53,
   "id": "f99047e7-9b36-4736-b8a7-c83b6ec1f5ec",
   "metadata": {},
   "outputs": [
    {
     "data": {
      "text/html": [
       "<div>\n",
       "<style scoped>\n",
       "    .dataframe tbody tr th:only-of-type {\n",
       "        vertical-align: middle;\n",
       "    }\n",
       "\n",
       "    .dataframe tbody tr th {\n",
       "        vertical-align: top;\n",
       "    }\n",
       "\n",
       "    .dataframe thead th {\n",
       "        text-align: right;\n",
       "    }\n",
       "</style>\n",
       "<table border=\"1\" class=\"dataframe\">\n",
       "  <thead>\n",
       "    <tr style=\"text-align: right;\">\n",
       "      <th></th>\n",
       "      <th>ZFR</th>\n",
       "      <th>ZRANB2</th>\n",
       "      <th>HNRNPA1L2</th>\n",
       "      <th>ZFP36</th>\n",
       "      <th>CELF3</th>\n",
       "      <th>KHDRBS3</th>\n",
       "      <th>KHDRBS1</th>\n",
       "      <th>MEX3D</th>\n",
       "      <th>ESRP1</th>\n",
       "      <th>RNPC3</th>\n",
       "      <th>...</th>\n",
       "      <th>RBPMS</th>\n",
       "      <th>ELAVL3</th>\n",
       "      <th>SNRPB2</th>\n",
       "      <th>QKI</th>\n",
       "      <th>MSI2</th>\n",
       "      <th>DAZL</th>\n",
       "      <th>RBFOX2</th>\n",
       "      <th>POLYA</th>\n",
       "      <th>IRE</th>\n",
       "      <th>EIF4A</th>\n",
       "    </tr>\n",
       "  </thead>\n",
       "  <tbody>\n",
       "    <tr>\n",
       "      <th>ENST00000234590.4</th>\n",
       "      <td>0</td>\n",
       "      <td>0</td>\n",
       "      <td>0</td>\n",
       "      <td>0</td>\n",
       "      <td>0</td>\n",
       "      <td>0</td>\n",
       "      <td>0</td>\n",
       "      <td>0</td>\n",
       "      <td>0</td>\n",
       "      <td>0</td>\n",
       "      <td>...</td>\n",
       "      <td>0</td>\n",
       "      <td>0</td>\n",
       "      <td>0</td>\n",
       "      <td>0</td>\n",
       "      <td>0</td>\n",
       "      <td>0</td>\n",
       "      <td>0</td>\n",
       "      <td>0</td>\n",
       "      <td>0</td>\n",
       "      <td>3</td>\n",
       "    </tr>\n",
       "    <tr>\n",
       "      <th>ENST00000327300.7</th>\n",
       "      <td>0</td>\n",
       "      <td>0</td>\n",
       "      <td>0</td>\n",
       "      <td>0</td>\n",
       "      <td>0</td>\n",
       "      <td>0</td>\n",
       "      <td>0</td>\n",
       "      <td>0</td>\n",
       "      <td>0</td>\n",
       "      <td>0</td>\n",
       "      <td>...</td>\n",
       "      <td>0</td>\n",
       "      <td>0</td>\n",
       "      <td>0</td>\n",
       "      <td>0</td>\n",
       "      <td>0</td>\n",
       "      <td>0</td>\n",
       "      <td>1</td>\n",
       "      <td>2</td>\n",
       "      <td>0</td>\n",
       "      <td>7</td>\n",
       "    </tr>\n",
       "    <tr>\n",
       "      <th>ENST00000373548.3</th>\n",
       "      <td>0</td>\n",
       "      <td>0</td>\n",
       "      <td>0</td>\n",
       "      <td>0</td>\n",
       "      <td>0</td>\n",
       "      <td>0</td>\n",
       "      <td>0</td>\n",
       "      <td>0</td>\n",
       "      <td>0</td>\n",
       "      <td>0</td>\n",
       "      <td>...</td>\n",
       "      <td>0</td>\n",
       "      <td>0</td>\n",
       "      <td>0</td>\n",
       "      <td>0</td>\n",
       "      <td>0</td>\n",
       "      <td>0</td>\n",
       "      <td>0</td>\n",
       "      <td>1</td>\n",
       "      <td>0</td>\n",
       "      <td>1</td>\n",
       "    </tr>\n",
       "    <tr>\n",
       "      <th>ENST00000357214.5</th>\n",
       "      <td>0</td>\n",
       "      <td>0</td>\n",
       "      <td>0</td>\n",
       "      <td>0</td>\n",
       "      <td>0</td>\n",
       "      <td>0</td>\n",
       "      <td>0</td>\n",
       "      <td>0</td>\n",
       "      <td>0</td>\n",
       "      <td>0</td>\n",
       "      <td>...</td>\n",
       "      <td>0</td>\n",
       "      <td>0</td>\n",
       "      <td>0</td>\n",
       "      <td>0</td>\n",
       "      <td>0</td>\n",
       "      <td>0</td>\n",
       "      <td>2</td>\n",
       "      <td>1</td>\n",
       "      <td>1</td>\n",
       "      <td>7</td>\n",
       "    </tr>\n",
       "    <tr>\n",
       "      <th>ENST00000373062.3</th>\n",
       "      <td>0</td>\n",
       "      <td>0</td>\n",
       "      <td>0</td>\n",
       "      <td>0</td>\n",
       "      <td>0</td>\n",
       "      <td>0</td>\n",
       "      <td>0</td>\n",
       "      <td>0</td>\n",
       "      <td>0</td>\n",
       "      <td>0</td>\n",
       "      <td>...</td>\n",
       "      <td>0</td>\n",
       "      <td>1</td>\n",
       "      <td>0</td>\n",
       "      <td>0</td>\n",
       "      <td>0</td>\n",
       "      <td>0</td>\n",
       "      <td>0</td>\n",
       "      <td>1</td>\n",
       "      <td>0</td>\n",
       "      <td>0</td>\n",
       "    </tr>\n",
       "  </tbody>\n",
       "</table>\n",
       "<p>5 rows × 67 columns</p>\n",
       "</div>"
      ],
      "text/plain": [
       "                   ZFR  ZRANB2  HNRNPA1L2  ZFP36  CELF3  KHDRBS3  KHDRBS1  \\\n",
       "ENST00000234590.4    0       0          0      0      0        0        0   \n",
       "ENST00000327300.7    0       0          0      0      0        0        0   \n",
       "ENST00000373548.3    0       0          0      0      0        0        0   \n",
       "ENST00000357214.5    0       0          0      0      0        0        0   \n",
       "ENST00000373062.3    0       0          0      0      0        0        0   \n",
       "\n",
       "                   MEX3D  ESRP1  RNPC3  ...  RBPMS  ELAVL3  SNRPB2  QKI  MSI2  \\\n",
       "ENST00000234590.4      0      0      0  ...      0       0       0    0     0   \n",
       "ENST00000327300.7      0      0      0  ...      0       0       0    0     0   \n",
       "ENST00000373548.3      0      0      0  ...      0       0       0    0     0   \n",
       "ENST00000357214.5      0      0      0  ...      0       0       0    0     0   \n",
       "ENST00000373062.3      0      0      0  ...      0       1       0    0     0   \n",
       "\n",
       "                   DAZL  RBFOX2  POLYA  IRE  EIF4A  \n",
       "ENST00000234590.4     0       0      0    0      3  \n",
       "ENST00000327300.7     0       1      2    0      7  \n",
       "ENST00000373548.3     0       0      1    0      1  \n",
       "ENST00000357214.5     0       2      1    1      7  \n",
       "ENST00000373062.3     0       0      1    0      0  \n",
       "\n",
       "[5 rows x 67 columns]"
      ]
     },
     "execution_count": 53,
     "metadata": {},
     "output_type": "execute_result"
    }
   ],
   "source": [
    "pd.DataFrame.from_dict(high_3P_motif_count).T.head()"
   ]
  },
  {
   "cell_type": "code",
   "execution_count": 54,
   "id": "1b262811-f055-4d8f-9016-8e05035f0ad0",
   "metadata": {},
   "outputs": [
    {
     "data": {
      "text/plain": [
       "(301, 67)"
      ]
     },
     "execution_count": 54,
     "metadata": {},
     "output_type": "execute_result"
    }
   ],
   "source": [
    "pd.DataFrame.from_dict(high_3P_motif_count).T.shape"
   ]
  },
  {
   "cell_type": "code",
   "execution_count": 55,
   "id": "87fabd91-4dcd-4408-881a-5b30c1b98b56",
   "metadata": {},
   "outputs": [],
   "source": [
    "high_3p_present_df = pd.DataFrame.from_dict(high_3P_motif_present).T"
   ]
  },
  {
   "cell_type": "code",
   "execution_count": 56,
   "id": "f4d05715-8ccc-4e5d-9f92-0171c5fb2f86",
   "metadata": {},
   "outputs": [],
   "source": [
    "high_3p_count_df = pd.DataFrame.from_dict(high_3P_motif_count).T"
   ]
  },
  {
   "cell_type": "code",
   "execution_count": 57,
   "id": "b0112baa-19d3-4ff4-accc-b7d1dfaff9cb",
   "metadata": {},
   "outputs": [
    {
     "data": {
      "text/plain": [
       "(301, 67)"
      ]
     },
     "execution_count": 57,
     "metadata": {},
     "output_type": "execute_result"
    }
   ],
   "source": [
    "pd.DataFrame.from_dict(high_3P_motif_present).T.shape"
   ]
  },
  {
   "cell_type": "code",
   "execution_count": 58,
   "id": "bd35373c-fe13-4e9d-8d55-8da10aa62aca",
   "metadata": {},
   "outputs": [
    {
     "data": {
      "text/html": [
       "<div>\n",
       "<style scoped>\n",
       "    .dataframe tbody tr th:only-of-type {\n",
       "        vertical-align: middle;\n",
       "    }\n",
       "\n",
       "    .dataframe tbody tr th {\n",
       "        vertical-align: top;\n",
       "    }\n",
       "\n",
       "    .dataframe thead th {\n",
       "        text-align: right;\n",
       "    }\n",
       "</style>\n",
       "<table border=\"1\" class=\"dataframe\">\n",
       "  <thead>\n",
       "    <tr style=\"text-align: right;\">\n",
       "      <th></th>\n",
       "      <th>ZFR</th>\n",
       "      <th>ZRANB2</th>\n",
       "      <th>HNRNPA1L2</th>\n",
       "      <th>ZFP36</th>\n",
       "      <th>CELF3</th>\n",
       "      <th>KHDRBS3</th>\n",
       "      <th>KHDRBS1</th>\n",
       "      <th>MEX3D</th>\n",
       "      <th>ESRP1</th>\n",
       "      <th>RNPC3</th>\n",
       "      <th>...</th>\n",
       "      <th>RBPMS</th>\n",
       "      <th>ELAVL3</th>\n",
       "      <th>SNRPB2</th>\n",
       "      <th>QKI</th>\n",
       "      <th>MSI2</th>\n",
       "      <th>DAZL</th>\n",
       "      <th>RBFOX2</th>\n",
       "      <th>POLYA</th>\n",
       "      <th>IRE</th>\n",
       "      <th>EIF4A</th>\n",
       "    </tr>\n",
       "  </thead>\n",
       "  <tbody>\n",
       "    <tr>\n",
       "      <th>ENST00000378609.4</th>\n",
       "      <td>0</td>\n",
       "      <td>0</td>\n",
       "      <td>0</td>\n",
       "      <td>0</td>\n",
       "      <td>0</td>\n",
       "      <td>0</td>\n",
       "      <td>0</td>\n",
       "      <td>0</td>\n",
       "      <td>0</td>\n",
       "      <td>0</td>\n",
       "      <td>...</td>\n",
       "      <td>0</td>\n",
       "      <td>0</td>\n",
       "      <td>0</td>\n",
       "      <td>0</td>\n",
       "      <td>0</td>\n",
       "      <td>0</td>\n",
       "      <td>4</td>\n",
       "      <td>1</td>\n",
       "      <td>1</td>\n",
       "      <td>10</td>\n",
       "    </tr>\n",
       "    <tr>\n",
       "      <th>ENST00000378251.1</th>\n",
       "      <td>0</td>\n",
       "      <td>0</td>\n",
       "      <td>0</td>\n",
       "      <td>0</td>\n",
       "      <td>0</td>\n",
       "      <td>0</td>\n",
       "      <td>0</td>\n",
       "      <td>0</td>\n",
       "      <td>0</td>\n",
       "      <td>0</td>\n",
       "      <td>...</td>\n",
       "      <td>0</td>\n",
       "      <td>0</td>\n",
       "      <td>0</td>\n",
       "      <td>0</td>\n",
       "      <td>0</td>\n",
       "      <td>0</td>\n",
       "      <td>0</td>\n",
       "      <td>0</td>\n",
       "      <td>1</td>\n",
       "      <td>0</td>\n",
       "    </tr>\n",
       "    <tr>\n",
       "      <th>ENST00000343813.5</th>\n",
       "      <td>0</td>\n",
       "      <td>0</td>\n",
       "      <td>0</td>\n",
       "      <td>0</td>\n",
       "      <td>0</td>\n",
       "      <td>0</td>\n",
       "      <td>0</td>\n",
       "      <td>0</td>\n",
       "      <td>0</td>\n",
       "      <td>0</td>\n",
       "      <td>...</td>\n",
       "      <td>0</td>\n",
       "      <td>0</td>\n",
       "      <td>0</td>\n",
       "      <td>0</td>\n",
       "      <td>0</td>\n",
       "      <td>0</td>\n",
       "      <td>1</td>\n",
       "      <td>5</td>\n",
       "      <td>6</td>\n",
       "      <td>13</td>\n",
       "    </tr>\n",
       "    <tr>\n",
       "      <th>ENST00000376810.5</th>\n",
       "      <td>0</td>\n",
       "      <td>0</td>\n",
       "      <td>0</td>\n",
       "      <td>0</td>\n",
       "      <td>0</td>\n",
       "      <td>0</td>\n",
       "      <td>1</td>\n",
       "      <td>0</td>\n",
       "      <td>0</td>\n",
       "      <td>0</td>\n",
       "      <td>...</td>\n",
       "      <td>0</td>\n",
       "      <td>1</td>\n",
       "      <td>0</td>\n",
       "      <td>0</td>\n",
       "      <td>0</td>\n",
       "      <td>1</td>\n",
       "      <td>2</td>\n",
       "      <td>0</td>\n",
       "      <td>2</td>\n",
       "      <td>9</td>\n",
       "    </tr>\n",
       "    <tr>\n",
       "      <th>ENST00000375759.3</th>\n",
       "      <td>0</td>\n",
       "      <td>0</td>\n",
       "      <td>0</td>\n",
       "      <td>0</td>\n",
       "      <td>0</td>\n",
       "      <td>0</td>\n",
       "      <td>0</td>\n",
       "      <td>0</td>\n",
       "      <td>0</td>\n",
       "      <td>0</td>\n",
       "      <td>...</td>\n",
       "      <td>0</td>\n",
       "      <td>0</td>\n",
       "      <td>0</td>\n",
       "      <td>0</td>\n",
       "      <td>0</td>\n",
       "      <td>0</td>\n",
       "      <td>0</td>\n",
       "      <td>0</td>\n",
       "      <td>3</td>\n",
       "      <td>7</td>\n",
       "    </tr>\n",
       "  </tbody>\n",
       "</table>\n",
       "<p>5 rows × 67 columns</p>\n",
       "</div>"
      ],
      "text/plain": [
       "                   ZFR  ZRANB2  HNRNPA1L2  ZFP36  CELF3  KHDRBS3  KHDRBS1  \\\n",
       "ENST00000378609.4    0       0          0      0      0        0        0   \n",
       "ENST00000378251.1    0       0          0      0      0        0        0   \n",
       "ENST00000343813.5    0       0          0      0      0        0        0   \n",
       "ENST00000376810.5    0       0          0      0      0        0        1   \n",
       "ENST00000375759.3    0       0          0      0      0        0        0   \n",
       "\n",
       "                   MEX3D  ESRP1  RNPC3  ...  RBPMS  ELAVL3  SNRPB2  QKI  MSI2  \\\n",
       "ENST00000378609.4      0      0      0  ...      0       0       0    0     0   \n",
       "ENST00000378251.1      0      0      0  ...      0       0       0    0     0   \n",
       "ENST00000343813.5      0      0      0  ...      0       0       0    0     0   \n",
       "ENST00000376810.5      0      0      0  ...      0       1       0    0     0   \n",
       "ENST00000375759.3      0      0      0  ...      0       0       0    0     0   \n",
       "\n",
       "                   DAZL  RBFOX2  POLYA  IRE  EIF4A  \n",
       "ENST00000378609.4     0       4      1    1     10  \n",
       "ENST00000378251.1     0       0      0    1      0  \n",
       "ENST00000343813.5     0       1      5    6     13  \n",
       "ENST00000376810.5     1       2      0    2      9  \n",
       "ENST00000375759.3     0       0      0    3      7  \n",
       "\n",
       "[5 rows x 67 columns]"
      ]
     },
     "execution_count": 58,
     "metadata": {},
     "output_type": "execute_result"
    }
   ],
   "source": [
    "pd.DataFrame.from_dict(low_3P_motif_count).T.head()"
   ]
  },
  {
   "cell_type": "code",
   "execution_count": 59,
   "id": "1e96e96e-17ed-49ed-99f8-17b7de0c8087",
   "metadata": {},
   "outputs": [
    {
     "data": {
      "text/plain": [
       "(300, 67)"
      ]
     },
     "execution_count": 59,
     "metadata": {},
     "output_type": "execute_result"
    }
   ],
   "source": [
    "pd.DataFrame.from_dict(low_3P_motif_count).T.shape"
   ]
  },
  {
   "cell_type": "code",
   "execution_count": 60,
   "id": "050e2570-946a-483b-83a2-41142ce4c06a",
   "metadata": {},
   "outputs": [],
   "source": [
    "low_3p_present_df = pd.DataFrame.from_dict(low_3P_motif_present).T"
   ]
  },
  {
   "cell_type": "code",
   "execution_count": 61,
   "id": "14aad23a-2231-44cc-82a0-8823849b6ad9",
   "metadata": {},
   "outputs": [],
   "source": [
    "low_3p_count_df = pd.DataFrame.from_dict(low_3P_motif_count).T"
   ]
  },
  {
   "cell_type": "code",
   "execution_count": 62,
   "id": "41c1cc01-8c83-4c41-9ffb-899dc9991cbe",
   "metadata": {},
   "outputs": [
    {
     "data": {
      "text/plain": [
       "(300, 67)"
      ]
     },
     "execution_count": 62,
     "metadata": {},
     "output_type": "execute_result"
    }
   ],
   "source": [
    "pd.DataFrame.from_dict(low_3P_motif_present).T.shape"
   ]
  },
  {
   "cell_type": "code",
   "execution_count": 63,
   "id": "8f702b93-2607-478c-9f34-2abe09a17e92",
   "metadata": {},
   "outputs": [],
   "source": [
    "from scipy.stats import chi2_contingency, fisher_exact\n"
   ]
  },
  {
   "cell_type": "code",
   "execution_count": 134,
   "id": "598055c4-a0e2-4239-b441-14091a4f920b",
   "metadata": {},
   "outputs": [
    {
     "name": "stdout",
     "output_type": "stream",
     "text": [
      "ZFP36 [[14, 286], [9, 292]]\n",
      "CELF3 [[1, 299], [0, 301]]\n",
      "KHDRBS1 [[44, 256], [30, 271]]\n",
      "MEX3D [[8, 292], [6, 295]]\n",
      "ESRP1 [[1, 299], [0, 301]]\n",
      "ZC3H8 [[69, 231], [38, 263]]\n",
      "CSDA [[23, 277], [6, 295]]\n",
      "CELF1 [[3, 297], [1, 300]]\n",
      "RBM24 [[6, 294], [1, 300]]\n",
      "TARDBP [[2, 298], [0, 301]]\n",
      "YBX2 [[4, 296], [1, 300]]\n",
      "RBM14 [[5, 295], [0, 301]]\n",
      "SART3 [[1, 299], [0, 301]]\n",
      "ELAVL4 [[8, 292], [8, 293]]\n",
      "SNRPA [[9, 291], [6, 295]]\n",
      "HNRPLL [[0, 300], [1, 300]]\n",
      "HNRNPA3 [[1, 299], [0, 301]]\n",
      "PCBP1 [[1, 299], [0, 301]]\n",
      "RBPMS2 [[155, 145], [79, 222]]\n",
      "IGF2BP1 [[8, 292], [5, 296]]\n",
      "ZCRB1 [[3, 297], [2, 299]]\n",
      "NOVA2 [[21, 279], [9, 292]]\n",
      "HNRNPC [[2, 298], [0, 301]]\n",
      "RBM46 [[35, 265], [15, 286]]\n",
      "MEX3B [[1, 299], [0, 301]]\n",
      "KHDRBS2 [[3, 297], [4, 297]]\n",
      "ELAVL1 [[4, 296], [1, 300]]\n",
      "HNRNPCL1 [[3, 297], [0, 301]]\n",
      "PUM1 [[0, 300], [1, 300]]\n",
      "DAZAP1 [[1, 299], [0, 301]]\n",
      "CELF4 [[3, 297], [2, 299]]\n",
      "RBPMS [[12, 288], [2, 299]]\n",
      "ELAVL3 [[71, 229], [57, 244]]\n",
      "DAZL [[10, 290], [6, 295]]\n",
      "RBFOX2 [[212, 88], [154, 147]]\n",
      "POLYA [[247, 53], [222, 79]]\n",
      "IRE [[256, 44], [186, 115]]\n",
      "EIF4A [[291, 9], [260, 41]]\n"
     ]
    }
   ],
   "source": [
    "# a: Number of times the motif is present in transcripts from Group A\n",
    "# b: Number of times the motif is absent in transcripts from Group A\n",
    "# c: Number of times the motif is present in transcripts from Group B\n",
    "# d: Number of times the motif is absent in transcripts from Group B\n",
    "# N: Total observations\n",
    "from scipy.stats import chi2_contingency, fisher_exact\n",
    "chi2_results =[]\n",
    "for rbp in RBP_motifs.keys():\n",
    "    if 1 in low_3p_present_df[rbp].tolist():\n",
    "        a, b = low_3p_present_df[rbp].value_counts()[1],low_3p_present_df[rbp].value_counts()[0]\n",
    "        #print(a, b)\n",
    "    else:\n",
    "        a, b = 0,low_3p_present_df[rbp].value_counts()[0]\n",
    "    \n",
    "    if 1 in high_3p_present_df[rbp].tolist():     \n",
    "        c, d = high_3p_present_df[rbp].value_counts()[1],high_3p_present_df[rbp].value_counts()[0]\n",
    "        #print(c,d)\n",
    "    else:\n",
    "        c, d = 0, high_3p_present_df[rbp].value_counts()[0]\n",
    "    # Chi-squared Test\n",
    "    if a!= 0 or c != 0 :\n",
    "        chi2, p_chi2, dof, expected = chi2_contingency([[a, b], [c, d]])\n",
    "        print(rbp, [[a, b], [c, d]])\n",
    "        N = np.sum(np.array([[a, b],[c, d]]))\n",
    "        phi = np.sqrt(chi2 / N)\n",
    "\n",
    "        chi2_results.append([rbp, phi, p_chi2])\n",
    "        #print(rbp, \"Chi-squared test p-value:\", p_chi2)"
   ]
  },
  {
   "cell_type": "code",
   "execution_count": 65,
   "id": "0c818ea0-1f71-485b-9880-c87684035543",
   "metadata": {},
   "outputs": [],
   "source": [
    "chi2_results_df = pd.DataFrame(chi2_results)"
   ]
  },
  {
   "cell_type": "code",
   "execution_count": 66,
   "id": "9870789f-004b-4b99-8717-8d890f891abb",
   "metadata": {},
   "outputs": [
    {
     "data": {
      "text/html": [
       "<div>\n",
       "<style scoped>\n",
       "    .dataframe tbody tr th:only-of-type {\n",
       "        vertical-align: middle;\n",
       "    }\n",
       "\n",
       "    .dataframe tbody tr th {\n",
       "        vertical-align: top;\n",
       "    }\n",
       "\n",
       "    .dataframe thead th {\n",
       "        text-align: right;\n",
       "    }\n",
       "</style>\n",
       "<table border=\"1\" class=\"dataframe\">\n",
       "  <thead>\n",
       "    <tr style=\"text-align: right;\">\n",
       "      <th></th>\n",
       "      <th>0</th>\n",
       "      <th>1</th>\n",
       "      <th>2</th>\n",
       "    </tr>\n",
       "  </thead>\n",
       "  <tbody>\n",
       "    <tr>\n",
       "      <th>0</th>\n",
       "      <td>ZFP36</td>\n",
       "      <td>0.035024</td>\n",
       "      <td>0.390546</td>\n",
       "    </tr>\n",
       "    <tr>\n",
       "      <th>1</th>\n",
       "      <td>CELF3</td>\n",
       "      <td>0.000068</td>\n",
       "      <td>0.998671</td>\n",
       "    </tr>\n",
       "    <tr>\n",
       "      <th>2</th>\n",
       "      <td>KHDRBS1</td>\n",
       "      <td>0.066453</td>\n",
       "      <td>0.103287</td>\n",
       "    </tr>\n",
       "    <tr>\n",
       "      <th>3</th>\n",
       "      <td>MEX3D</td>\n",
       "      <td>0.011288</td>\n",
       "      <td>0.781988</td>\n",
       "    </tr>\n",
       "    <tr>\n",
       "      <th>4</th>\n",
       "      <td>ESRP1</td>\n",
       "      <td>0.000068</td>\n",
       "      <td>0.998671</td>\n",
       "    </tr>\n",
       "  </tbody>\n",
       "</table>\n",
       "</div>"
      ],
      "text/plain": [
       "         0         1         2\n",
       "0    ZFP36  0.035024  0.390546\n",
       "1    CELF3  0.000068  0.998671\n",
       "2  KHDRBS1  0.066453  0.103287\n",
       "3    MEX3D  0.011288  0.781988\n",
       "4    ESRP1  0.000068  0.998671"
      ]
     },
     "execution_count": 66,
     "metadata": {},
     "output_type": "execute_result"
    }
   ],
   "source": [
    "chi2_results_df.head()"
   ]
  },
  {
   "cell_type": "code",
   "execution_count": 70,
   "id": "cea58107-e2c6-4f9d-b344-6c65b5739ffd",
   "metadata": {},
   "outputs": [
    {
     "data": {
      "text/html": [
       "<div>\n",
       "<style scoped>\n",
       "    .dataframe tbody tr th:only-of-type {\n",
       "        vertical-align: middle;\n",
       "    }\n",
       "\n",
       "    .dataframe tbody tr th {\n",
       "        vertical-align: top;\n",
       "    }\n",
       "\n",
       "    .dataframe thead th {\n",
       "        text-align: right;\n",
       "    }\n",
       "</style>\n",
       "<table border=\"1\" class=\"dataframe\">\n",
       "  <thead>\n",
       "    <tr style=\"text-align: right;\">\n",
       "      <th></th>\n",
       "      <th>0</th>\n",
       "      <th>1</th>\n",
       "      <th>2</th>\n",
       "    </tr>\n",
       "  </thead>\n",
       "  <tbody>\n",
       "    <tr>\n",
       "      <th>34</th>\n",
       "      <td>RBFOX2</td>\n",
       "      <td>0.196434</td>\n",
       "      <td>0.000001</td>\n",
       "    </tr>\n",
       "    <tr>\n",
       "      <th>37</th>\n",
       "      <td>EIF4A</td>\n",
       "      <td>0.186266</td>\n",
       "      <td>0.000005</td>\n",
       "    </tr>\n",
       "  </tbody>\n",
       "</table>\n",
       "</div>"
      ],
      "text/plain": [
       "         0         1         2\n",
       "34  RBFOX2  0.196434  0.000001\n",
       "37   EIF4A  0.186266  0.000005"
      ]
     },
     "execution_count": 70,
     "metadata": {},
     "output_type": "execute_result"
    }
   ],
   "source": [
    "chi2_results_df[chi2_results_df[0].isin(['RBFOX2', 'EIF4A'])]"
   ]
  },
  {
   "cell_type": "code",
   "execution_count": 71,
   "id": "0125afd9-2c26-4cf5-9250-1958d13596df",
   "metadata": {},
   "outputs": [],
   "source": [
    "chi2_results_df[3] = -np.log10(chi2_results_df[2])"
   ]
  },
  {
   "cell_type": "code",
   "execution_count": 72,
   "id": "e70a5a51-e42f-4bdc-8aa6-006322784ad5",
   "metadata": {},
   "outputs": [],
   "source": [
    "\n",
    "# for rbp in chi2_results_df[chi2_results_df[2] < 0.05][0].tolist():\n",
    "#     if 1 in low_3p_present_df[rbp].tolist():\n",
    "#         a, b = low_3p_present_df[rbp].value_counts()[1],low_3p_present_df[rbp].value_counts()[0]\n",
    "#         #print(a, b)\n",
    "#     else:\n",
    "#         a, b = 0,low_3p_present_df[rbp].value_counts()[0]\n",
    "    \n",
    "#     if 1 in high_3p_present_df[rbp].tolist():     \n",
    "#         c, d = high_3p_present_df[rbp].value_counts()[1],high_3p_present_df[rbp].value_counts()[0]\n",
    "#         #print(c,d)\n",
    "#     else:\n",
    "#         c, d = 0, high_3p_present_df[rbp].value_counts()[0]\n",
    "#     # Chi-squared Test\n",
    "#     if a!= 0 and c != 0 :\n",
    "#         sns.set(rc={'figure.figsize':(2,2)})\n",
    "#         sns.heatmap(pd.DataFrame([[a, b], [c, d]]), cmap='mako_r')\n",
    "#         plt.title(rbp)\n",
    "#         plt.show()"
   ]
  },
  {
   "cell_type": "code",
   "execution_count": 73,
   "id": "c01f5f1c-b27b-40da-a67c-26280624c2b7",
   "metadata": {},
   "outputs": [
    {
     "data": {
      "text/plain": [
       "1.3010299956639813"
      ]
     },
     "execution_count": 73,
     "metadata": {},
     "output_type": "execute_result"
    }
   ],
   "source": [
    "-np.log10(0.05)"
   ]
  },
  {
   "cell_type": "code",
   "execution_count": 74,
   "id": "55189ed9-2c7b-4981-81b7-93d9dd91fff7",
   "metadata": {},
   "outputs": [
    {
     "data": {
      "text/plain": [
       "<matplotlib.lines.Line2D at 0x155477979a60>"
      ]
     },
     "execution_count": 74,
     "metadata": {},
     "output_type": "execute_result"
    },
    {
     "data": {
      "image/png": "[encoded data removed]",
      "text/plain": [
       "<Figure size 300x900 with 1 Axes>"
      ]
     },
     "metadata": {},
     "output_type": "display_data"
    }
   ],
   "source": [
    "sns.set(rc={'figure.figsize':(3,9)})\n",
    "sns.set_style('whitegrid')\n",
    "sns.scatterplot(data=chi2_results_df[~chi2_results_df[0].isin(['IRE', 'POLYA'])].sort_values(3, ascending=False), y=0, x=3)#, size=1)\n",
    "plt.axvline(-np.log10(0.05), linestyle='dashed', color='grey')"
   ]
  },
  {
   "cell_type": "markdown",
   "id": "a4bc517a-1747-4cd3-838f-fb5974c1ec7d",
   "metadata": {},
   "source": [
    "EIF4A: A well-known translation initiation factor directly involved in translation regulation.\n",
    "CELF1, CELF3, and CELF4: Members of the CELF family known to regulate splicing, mRNA stability, and translation.\n",
    "ELAVL1 (HuR) and ELAVL3: Bind to AU-rich elements in 3'UTRs, influencing mRNA stability and translation.\n",
    "HNRNPC: Involved in mRNA processing and can influence translation.\n",
    "RBFOX2: Primarily known for alternative splicing but can indirectly affect translation.\n",
    "IGF2BP1: Known to regulate mRNA stability and localization, impacting translation.\n",
    "QKI: Implicated in RNA splicing, stability, and transport, which can affect translation."
   ]
  },
  {
   "cell_type": "code",
   "execution_count": 75,
   "id": "daecc7ce-c5ac-437c-b26f-70ceb55d692b",
   "metadata": {},
   "outputs": [],
   "source": [
    "interest_RBPs = ['EIF4A', 'CELF1', 'CELF3', 'CELF4', 'ELAVL1', 'ELAVL3', 'HNRNPC', 'RBFOX2']"
   ]
  },
  {
   "cell_type": "code",
   "execution_count": 76,
   "id": "9c5db036-75c9-4974-965e-4029925d8f68",
   "metadata": {},
   "outputs": [
    {
     "data": {
      "text/plain": [
       "<matplotlib.lines.Line2D at 0x15546365edf0>"
      ]
     },
     "execution_count": 76,
     "metadata": {},
     "output_type": "execute_result"
    },
    {
     "data": {
      "image/png": "[encoded data removed]",
      "text/plain": [
       "<Figure size 300x500 with 1 Axes>"
      ]
     },
     "metadata": {},
     "output_type": "display_data"
    }
   ],
   "source": [
    "sns.set(rc={'figure.figsize':(3,5)})\n",
    "sns.set_style('whitegrid')\n",
    "sns.scatterplot(data=chi2_results_df[(~chi2_results_df[0].isin(['IRE', 'POLYA'])) & (chi2_results_df[0].isin(interest_RBPs))].sort_values(3, ascending=False), y=0, x=3, color='#7E1F86')#, size=1)\n",
    "plt.axvline(-np.log10(0.05), linestyle='dashed', color='grey')\n",
    "# plt.savefig(os.path.join(fig_path,f'fig3/3utr_rbp_chi.png'))\n",
    "# plt.savefig(os.path.join(fig_path,f'fig3/3utr_rbp_chi.svg'))\n",
    "# plt.savefig(os.path.join(fig_path,f'fig3/3utr_rbp_chi.jpg')) "
   ]
  },
  {
   "cell_type": "code",
   "execution_count": 79,
   "id": "70d82981-5b4a-4fee-87a8-5f96010231a7",
   "metadata": {},
   "outputs": [
    {
     "ename": "NameError",
     "evalue": "name 'a_uorf' is not defined",
     "output_type": "error",
     "traceback": [
      "\u001b[0;31m---------------------------------------------------------------------------\u001b[0m",
      "\u001b[0;31mNameError\u001b[0m                                 Traceback (most recent call last)",
      "Cell \u001b[0;32mIn[79], line 4\u001b[0m\n\u001b[1;32m      1\u001b[0m \u001b[38;5;28;01mfrom\u001b[39;00m \u001b[38;5;21;01mstatsmodels\u001b[39;00m\u001b[38;5;21;01m.\u001b[39;00m\u001b[38;5;21;01mgraphics\u001b[39;00m\u001b[38;5;21;01m.\u001b[39;00m\u001b[38;5;21;01mmosaicplot\u001b[39;00m \u001b[38;5;28;01mimport\u001b[39;00m mosaic\n\u001b[1;32m      3\u001b[0m \u001b[38;5;66;03m# Example NumPy array\u001b[39;00m\n\u001b[0;32m----> 4\u001b[0m data \u001b[38;5;241m=\u001b[39m np\u001b[38;5;241m.\u001b[39marray([[\u001b[43ma_uorf\u001b[49m, b_uorf], [c_uorf, d_uorf]])\n\u001b[1;32m      6\u001b[0m \u001b[38;5;66;03m# Convert the array to a format suitable for the mosaic function\u001b[39;00m\n\u001b[1;32m      7\u001b[0m data_dict \u001b[38;5;241m=\u001b[39m {(\u001b[38;5;124m'\u001b[39m\u001b[38;5;124mLow\u001b[39m\u001b[38;5;124m'\u001b[39m, \u001b[38;5;124m'\u001b[39m\u001b[38;5;124muORF\u001b[39m\u001b[38;5;124m'\u001b[39m): data[\u001b[38;5;241m0\u001b[39m, \u001b[38;5;241m0\u001b[39m],\n\u001b[1;32m      8\u001b[0m              (\u001b[38;5;124m'\u001b[39m\u001b[38;5;124mLow\u001b[39m\u001b[38;5;124m'\u001b[39m, \u001b[38;5;124m'\u001b[39m\u001b[38;5;124mno uORF\u001b[39m\u001b[38;5;124m'\u001b[39m): data[\u001b[38;5;241m0\u001b[39m, \u001b[38;5;241m1\u001b[39m],\n\u001b[1;32m      9\u001b[0m              (\u001b[38;5;124m'\u001b[39m\u001b[38;5;124mHigh\u001b[39m\u001b[38;5;124m'\u001b[39m, \u001b[38;5;124m'\u001b[39m\u001b[38;5;124muORF\u001b[39m\u001b[38;5;124m'\u001b[39m): data[\u001b[38;5;241m1\u001b[39m, \u001b[38;5;241m0\u001b[39m],\n\u001b[1;32m     10\u001b[0m              (\u001b[38;5;124m'\u001b[39m\u001b[38;5;124mHigh\u001b[39m\u001b[38;5;124m'\u001b[39m, \u001b[38;5;124m'\u001b[39m\u001b[38;5;124mno uORF\u001b[39m\u001b[38;5;124m'\u001b[39m): data[\u001b[38;5;241m1\u001b[39m, \u001b[38;5;241m1\u001b[39m]}\n",
      "\u001b[0;31mNameError\u001b[0m: name 'a_uorf' is not defined"
     ]
    }
   ],
   "source": [
    "from statsmodels.graphics.mosaicplot import mosaic\n",
    "\n",
    "# Example NumPy array\n",
    "data = np.array([[a_uorf, b_uorf], [c_uorf, d_uorf]])\n",
    "\n",
    "# Convert the array to a format suitable for the mosaic function\n",
    "data_dict = {('Low', 'uORF'): data[0, 0],\n",
    "             ('Low', 'no uORF'): data[0, 1],\n",
    "             ('High', 'uORF'): data[1, 0],\n",
    "             ('High', 'no uORF'): data[1, 1]}\n",
    "props = lambda key: {'color': 'teal' if 'uORF' in key else 'lightseagreen',}\n",
    "\n",
    "# Create the mosaic plot\n",
    "sns.set(rc={'figure.figsize':(3,3)})\n",
    "\n",
    "mosaic(data_dict, labelizer=None, title='Presence of uORFs',properties=props)\n",
    "# plt.savefig(os.path.join(fig_path,f'fig3/5utr_uorfs.png'))\n",
    "# plt.savefig(os.path.join(fig_path,f'fig3/5utr_uorfs.svg'))\n",
    "# plt.savefig(os.path.join(fig_path,f'fig3/5utr_uorfs.jpg')) \n",
    "# plt.show()"
   ]
  },
  {
   "cell_type": "code",
   "execution_count": 80,
   "id": "af5ab455-5df8-4b68-9c3d-5d682ea08cb0",
   "metadata": {},
   "outputs": [
    {
     "data": {
      "text/plain": [
       "88"
      ]
     },
     "execution_count": 80,
     "metadata": {},
     "output_type": "execute_result"
    }
   ],
   "source": [
    "low_3p_present_df['RBFOX2'].value_counts().loc[0,]"
   ]
  },
  {
   "cell_type": "code",
   "execution_count": 81,
   "id": "f9918b60-597c-466a-aceb-03cf12b7a6d8",
   "metadata": {},
   "outputs": [
    {
     "data": {
      "text/plain": [
       "(<Figure size 300x300 with 3 Axes>,\n",
       " {('Low', 'RBFOX2 Present'): (0.0,\n",
       "   0.0,\n",
       "   0.4966846300941218,\n",
       "   0.7043189368770764),\n",
       "  ('Low', 'RBFOX2 Absent'): (0.0,\n",
       "   0.7076411960132889,\n",
       "   0.4966846300941218,\n",
       "   0.29235880398671094),\n",
       "  ('High', 'RBFOX2 Present'): (0.5016597544722312,\n",
       "   0.0,\n",
       "   0.49834024552776884,\n",
       "   0.5099281464884493),\n",
       "  ('High', 'RBFOX2 Absent'): (0.5016597544722312,\n",
       "   0.513250405624662,\n",
       "   0.49834024552776884,\n",
       "   0.48674959437533794)})"
      ]
     },
     "execution_count": 81,
     "metadata": {},
     "output_type": "execute_result"
    },
    {
     "data": {
      "image/png": "[encoded data removed]",
      "text/plain": [
       "<Figure size 300x300 with 3 Axes>"
      ]
     },
     "metadata": {},
     "output_type": "display_data"
    }
   ],
   "source": [
    "from statsmodels.graphics.mosaicplot import mosaic\n",
    "sns.set(rc={'figure.figsize':(3,3)})\n",
    "mosaic({('Low', 'RBFOX2 Present'): low_3p_present_df['RBFOX2'].sum(),\n",
    "             ('Low', 'RBFOX2 Absent'): low_3p_present_df['RBFOX2'].value_counts().loc[0,],\n",
    "             ('High', 'RBFOX2 Present'): high_3p_present_df['RBFOX2'].sum(),\n",
    "             ('High', 'RBFOX2 Absent'): high_3p_present_df['RBFOX2'].value_counts().loc[0,]}, \n",
    "       labelizer=None, \n",
    "       title='Presence of RBFOX2 motif',properties=lambda key: {'color': 'darkgrey' if 'RBFOX2 Present' in key else 'lightgrey',})\n",
    "# plt.savefig(os.path.join(fig_path,f'sup2/3utr_RBFOX2.png'))\n",
    "# plt.savefig(os.path.join(fig_path,f'sup2/3utr_RBFOX2.svg'))\n",
    "# plt.savefig(os.path.join(fig_path,f'sup2/3utr_RBFOX2.jpg')) "
   ]
  },
  {
   "cell_type": "code",
   "execution_count": 82,
   "id": "1b60e8c3-2c01-48d7-a37b-804fde0de54d",
   "metadata": {},
   "outputs": [
    {
     "data": {
      "image/png": "[encoded data removed]",
      "text/plain": [
       "<Figure size 300x300 with 3 Axes>"
      ]
     },
     "metadata": {},
     "output_type": "display_data"
    }
   ],
   "source": [
    "from statsmodels.graphics.mosaicplot import mosaic\n",
    "sns.set(rc={'figure.figsize':(3,3)})\n",
    "mosaic({('Low', 'EIF4A Present'): low_3p_present_df['EIF4A'].sum(),\n",
    "             ('Low', 'EIF4A Absent'): low_3p_present_df['EIF4A'].value_counts().loc[0,],\n",
    "             ('High', 'EIF4A Present'): high_3p_present_df['EIF4A'].sum(),\n",
    "             ('High', 'EIF4A Absent'): high_3p_present_df['EIF4A'].value_counts().loc[0,]}, \n",
    "       labelizer=None, \n",
    "       title='Presence of EIF4A motif',properties=lambda key: {'color': 'darkgrey' if 'EIF4A Present' in key else 'lightgrey',})\n",
    "plt.savefig(os.path.join(fig_path,f'sup2/3utr_EIF4A.png'))\n",
    "plt.savefig(os.path.join(fig_path,f'sup2/3utr_EIF4A.svg'))\n",
    "plt.savefig(os.path.join(fig_path,f'sup2/3utr_EIF4A.jpg')) "
   ]
  },
  {
   "cell_type": "code",
   "execution_count": 83,
   "id": "093e2022-4130-4918-8328-25573251d30b",
   "metadata": {},
   "outputs": [
    {
     "data": {
      "text/plain": [
       "CELF1\n",
       "0    297\n",
       "1      3\n",
       "Name: count, dtype: int64"
      ]
     },
     "execution_count": 83,
     "metadata": {},
     "output_type": "execute_result"
    }
   ],
   "source": [
    "low_3p_present_df['CELF1'].value_counts()"
   ]
  },
  {
   "cell_type": "code",
   "execution_count": 84,
   "id": "964fe86a-414b-4859-a5d5-1a5b3e8fd562",
   "metadata": {},
   "outputs": [
    {
     "name": "stdout",
     "output_type": "stream",
     "text": [
      "EIF4A\n",
      "[[291, 9], [260, 41]]\n",
      "32.333333333333336\n",
      "6.341463414634147\n",
      "CELF1\n",
      "[[3, 297], [1, 300]]\n",
      "0.010101010101010102\n",
      "0.0033333333333333335\n",
      "CELF3\n",
      "[[1, 299], [0, 301]]\n",
      "0.0033444816053511705\n",
      "0.0\n",
      "CELF4\n",
      "[[3, 297], [2, 299]]\n",
      "0.010101010101010102\n",
      "0.006688963210702341\n",
      "ELAVL1\n",
      "[[4, 296], [1, 300]]\n",
      "0.013513513513513514\n",
      "0.0033333333333333335\n",
      "ELAVL3\n",
      "[[71, 229], [57, 244]]\n",
      "0.31004366812227074\n",
      "0.2336065573770492\n",
      "HNRNPC\n",
      "[[2, 298], [0, 301]]\n",
      "0.006711409395973154\n",
      "0.0\n",
      "RBFOX2\n",
      "[[212, 88], [154, 147]]\n",
      "2.409090909090909\n",
      "1.0476190476190477\n"
     ]
    },
    {
     "name": "stderr",
     "output_type": "stream",
     "text": [
      "/tmp/ipykernel_369994/1801427146.py:14: RuntimeWarning: divide by zero encountered in scalar divide\n",
      "  odds_ratio_dict[rbp] = ((cont_table[0][0])/(cont_table[0][1]))/((cont_table[1][0])/(cont_table[1][1]))\n"
     ]
    }
   ],
   "source": [
    "odds_ratio_dict = {}\n",
    "for rbp in interest_RBPs:\n",
    "    print(rbp)\n",
    "    cont_table = [[low_3p_present_df[rbp].sum(),low_3p_present_df[rbp].value_counts()[0]],\n",
    "     [high_3p_present_df[rbp].sum(),high_3p_present_df[rbp].value_counts()[0]]]\n",
    "    print(cont_table)\n",
    "    if cont_table[0][1] != 0 and cont_table[1][1] != 0:\n",
    "        #print(cont_table[0][0], cont_table[1][0], cont_table[0][1], cont_table[1][1])\n",
    "        #print((cont_table[0][0])/(cont_table[1][0]))\n",
    "        #print((cont_table[0][1])/(cont_table[1][1]))\n",
    "        #print((cont_table[0][0]/cont_table[1][0])/(cont_table[0][1]/cont_table[1][1]))\n",
    "        print((cont_table[0][0])/(cont_table[0][1]))\n",
    "        print((cont_table[1][0])/(cont_table[1][1]))\n",
    "        odds_ratio_dict[rbp] = ((cont_table[0][0])/(cont_table[0][1]))/((cont_table[1][0])/(cont_table[1][1]))"
   ]
  },
  {
   "cell_type": "code",
   "execution_count": 85,
   "id": "4dde16b4-4a2c-498e-ba95-aa78b3310382",
   "metadata": {},
   "outputs": [],
   "source": [
    "cont_tables_df = pd.DataFrame.from_dict(odds_ratio_dict, orient='index').sort_values(by=0, ascending=False).reset_index()"
   ]
  },
  {
   "cell_type": "code",
   "execution_count": 86,
   "id": "3983e999-be9a-4249-aba1-c83b3089cc88",
   "metadata": {},
   "outputs": [
    {
     "data": {
      "text/html": [
       "<div>\n",
       "<style scoped>\n",
       "    .dataframe tbody tr th:only-of-type {\n",
       "        vertical-align: middle;\n",
       "    }\n",
       "\n",
       "    .dataframe tbody tr th {\n",
       "        vertical-align: top;\n",
       "    }\n",
       "\n",
       "    .dataframe thead th {\n",
       "        text-align: right;\n",
       "    }\n",
       "</style>\n",
       "<table border=\"1\" class=\"dataframe\">\n",
       "  <thead>\n",
       "    <tr style=\"text-align: right;\">\n",
       "      <th></th>\n",
       "      <th>index</th>\n",
       "      <th>0</th>\n",
       "    </tr>\n",
       "  </thead>\n",
       "  <tbody>\n",
       "    <tr>\n",
       "      <th>0</th>\n",
       "      <td>CELF3</td>\n",
       "      <td>inf</td>\n",
       "    </tr>\n",
       "    <tr>\n",
       "      <th>1</th>\n",
       "      <td>HNRNPC</td>\n",
       "      <td>inf</td>\n",
       "    </tr>\n",
       "    <tr>\n",
       "      <th>2</th>\n",
       "      <td>EIF4A</td>\n",
       "      <td>5.098718</td>\n",
       "    </tr>\n",
       "    <tr>\n",
       "      <th>3</th>\n",
       "      <td>ELAVL1</td>\n",
       "      <td>4.054054</td>\n",
       "    </tr>\n",
       "    <tr>\n",
       "      <th>4</th>\n",
       "      <td>CELF1</td>\n",
       "      <td>3.030303</td>\n",
       "    </tr>\n",
       "    <tr>\n",
       "      <th>5</th>\n",
       "      <td>RBFOX2</td>\n",
       "      <td>2.299587</td>\n",
       "    </tr>\n",
       "    <tr>\n",
       "      <th>6</th>\n",
       "      <td>CELF4</td>\n",
       "      <td>1.510101</td>\n",
       "    </tr>\n",
       "    <tr>\n",
       "      <th>7</th>\n",
       "      <td>ELAVL3</td>\n",
       "      <td>1.327204</td>\n",
       "    </tr>\n",
       "  </tbody>\n",
       "</table>\n",
       "</div>"
      ],
      "text/plain": [
       "    index         0\n",
       "0   CELF3       inf\n",
       "1  HNRNPC       inf\n",
       "2   EIF4A  5.098718\n",
       "3  ELAVL1  4.054054\n",
       "4   CELF1  3.030303\n",
       "5  RBFOX2  2.299587\n",
       "6   CELF4  1.510101\n",
       "7  ELAVL3  1.327204"
      ]
     },
     "execution_count": 86,
     "metadata": {},
     "output_type": "execute_result"
    }
   ],
   "source": [
    "cont_tables_df"
   ]
  },
  {
   "cell_type": "code",
   "execution_count": 87,
   "id": "ac068c6b-3b15-4216-8ee9-2c39df032344",
   "metadata": {},
   "outputs": [],
   "source": [
    "#cont_tables_df['log2(Odds Ratio)']=np.log2(cont_tables_df[0])"
   ]
  },
  {
   "cell_type": "code",
   "execution_count": 88,
   "id": "773334ee-ef8d-4e05-82b2-d538c583cbfb",
   "metadata": {},
   "outputs": [],
   "source": [
    "rbp_chi_pvals = dict(zip(chi2_results_df[0], chi2_results_df[3]))"
   ]
  },
  {
   "cell_type": "code",
   "execution_count": 89,
   "id": "e1a44d0a-087b-4d75-9e6a-61379baad69a",
   "metadata": {},
   "outputs": [
    {
     "data": {
      "text/plain": [
       "<Axes: xlabel='0', ylabel='index'>"
      ]
     },
     "execution_count": 89,
     "metadata": {},
     "output_type": "execute_result"
    },
    {
     "data": {
      "image/png": "[encoded data removed]",
      "text/plain": [
       "<Figure size 300x500 with 1 Axes>"
      ]
     },
     "metadata": {},
     "output_type": "display_data"
    }
   ],
   "source": [
    "sns.set(rc={'figure.figsize':(3,5)})\n",
    "sns.set_style('whitegrid')\n",
    "sns.barplot(cont_tables_df, y='index', x=0)"
   ]
  },
  {
   "cell_type": "code",
   "execution_count": 90,
   "id": "0dfb1f50-4c52-463a-879f-69f37798efe1",
   "metadata": {},
   "outputs": [
    {
     "data": {
      "text/plain": [
       "<matplotlib.lines.Line2D at 0x1554643f0d60>"
      ]
     },
     "execution_count": 90,
     "metadata": {},
     "output_type": "execute_result"
    },
    {
     "data": {
      "image/png": "[encoded data removed]",
      "text/plain": [
       "<Figure size 300x500 with 1 Axes>"
      ]
     },
     "metadata": {},
     "output_type": "display_data"
    }
   ],
   "source": [
    "sns.set(rc={'figure.figsize':(3,5)})\n",
    "sns.set_style('whitegrid')\n",
    "sns.scatterplot(data=chi2_results_df[(~chi2_results_df[0].isin(['IRE', 'POLYA'])) & (chi2_results_df[2] <0.05)].sort_values(3, ascending=False), y=0, x=3)#, size=1)\n",
    "plt.axvline(-np.log10(0.05), linestyle='dashed', color='grey')"
   ]
  },
  {
   "cell_type": "code",
   "execution_count": 91,
   "id": "92788b32-8b42-48ec-b34f-4fabfc67b51e",
   "metadata": {},
   "outputs": [
    {
     "data": {
      "text/plain": [
       "0"
      ]
     },
     "execution_count": 91,
     "metadata": {},
     "output_type": "execute_result"
    }
   ],
   "source": [
    "high_3p_present_df['HNRNPC'].sum()"
   ]
  },
  {
   "cell_type": "code",
   "execution_count": 92,
   "id": "6c79e42a-d0d8-4e05-8e0e-06381024f50a",
   "metadata": {},
   "outputs": [],
   "source": [
    "# a: Number of times the motif is present in transcripts from Group A\n",
    "# b: Number of times the motif is absent in transcripts from Group A\n",
    "# c: Number of times the motif is present in transcripts from Group B\n",
    "# d: Number of times the motif is absent in transcripts from Group B\n",
    "# N: Total observations\n",
    "from scipy.stats import chi2_contingency, fisher_exact\n",
    "chi2_results_count =[]\n",
    "for rbp in RBP_motifs.keys():\n",
    "    a_count, b_count = low_3p_count_df[rbp].sum(),low_3p_background[rbp] - low_3p_count_df[rbp].sum()\n",
    "    c_count, d_count = high_3p_count_df[rbp].sum(),high_3p_background[rbp] - high_3p_count_df[rbp].sum()\n",
    "    \n",
    "    # Chi-squared Test\n",
    "    if a_count!= 0 or c_count != 0 :\n",
    "        chi2_count, p_chi2_count, dof_count, expected_count = chi2_contingency([[a_count, b_count], [c_count, d_count]])\n",
    "        N_count = np.sum(np.array([[a_count, b_count],[c_count, d_count]]))\n",
    "        phi_count = np.sqrt(chi2_count / N_count)\n",
    "\n",
    "        chi2_results_count.append([rbp, phi_count, p_chi2_count])\n",
    "        #print(rbp, \"Chi-squared test p-value:\", p_chi2)"
   ]
  },
  {
   "cell_type": "code",
   "execution_count": 93,
   "id": "a5136563-12f8-4d66-a5a6-03853596d13a",
   "metadata": {},
   "outputs": [],
   "source": [
    "chi2_count_results_df = pd.DataFrame(chi2_results_count)\n",
    "chi2_count_results_df[3] = -np.log10(chi2_count_results_df[2])"
   ]
  },
  {
   "cell_type": "code",
   "execution_count": 94,
   "id": "47de94b7-3551-4a3e-af02-b1a3ef0f6b2e",
   "metadata": {},
   "outputs": [
    {
     "data": {
      "text/plain": [
       "<matplotlib.lines.Line2D at 0x15546431ac70>"
      ]
     },
     "execution_count": 94,
     "metadata": {},
     "output_type": "execute_result"
    },
    {
     "data": {
      "image/png": "[encoded data removed]",
      "text/plain": [
       "<Figure size 300x900 with 1 Axes>"
      ]
     },
     "metadata": {},
     "output_type": "display_data"
    }
   ],
   "source": [
    "sns.set(rc={'figure.figsize':(3,9)})\n",
    "sns.set_style('whitegrid')\n",
    "sns.scatterplot(data=chi2_count_results_df[~chi2_count_results_df[0].isin(['IRE', 'POLYA'])].sort_values(3, ascending=False), y=0, x=3)#, size=1)\n",
    "plt.axvline(-np.log10(0.05), linestyle='dashed', color='grey')"
   ]
  },
  {
   "cell_type": "code",
   "execution_count": 95,
   "id": "dc1aeb28-0081-4790-9171-1fd70c6e0a1d",
   "metadata": {},
   "outputs": [
    {
     "data": {
      "text/html": [
       "<div>\n",
       "<style scoped>\n",
       "    .dataframe tbody tr th:only-of-type {\n",
       "        vertical-align: middle;\n",
       "    }\n",
       "\n",
       "    .dataframe tbody tr th {\n",
       "        vertical-align: top;\n",
       "    }\n",
       "\n",
       "    .dataframe thead th {\n",
       "        text-align: right;\n",
       "    }\n",
       "</style>\n",
       "<table border=\"1\" class=\"dataframe\">\n",
       "  <thead>\n",
       "    <tr style=\"text-align: right;\">\n",
       "      <th></th>\n",
       "      <th>EIF4A</th>\n",
       "    </tr>\n",
       "  </thead>\n",
       "  <tbody>\n",
       "    <tr>\n",
       "      <th>ENST00000378609.4</th>\n",
       "      <td>10</td>\n",
       "    </tr>\n",
       "    <tr>\n",
       "      <th>ENST00000378251.1</th>\n",
       "      <td>0</td>\n",
       "    </tr>\n",
       "    <tr>\n",
       "      <th>ENST00000343813.5</th>\n",
       "      <td>13</td>\n",
       "    </tr>\n",
       "    <tr>\n",
       "      <th>ENST00000376810.5</th>\n",
       "      <td>9</td>\n",
       "    </tr>\n",
       "    <tr>\n",
       "      <th>ENST00000375759.3</th>\n",
       "      <td>7</td>\n",
       "    </tr>\n",
       "    <tr>\n",
       "      <th>...</th>\n",
       "      <td>...</td>\n",
       "    </tr>\n",
       "    <tr>\n",
       "      <th>ENST00000441076.2</th>\n",
       "      <td>0</td>\n",
       "    </tr>\n",
       "    <tr>\n",
       "      <th>ENST00000342983.2</th>\n",
       "      <td>8</td>\n",
       "    </tr>\n",
       "    <tr>\n",
       "      <th>ENST00000316077.9</th>\n",
       "      <td>2</td>\n",
       "    </tr>\n",
       "    <tr>\n",
       "      <th>ENST00000320676.7</th>\n",
       "      <td>4</td>\n",
       "    </tr>\n",
       "    <tr>\n",
       "      <th>ENST00000330374.6</th>\n",
       "      <td>11</td>\n",
       "    </tr>\n",
       "  </tbody>\n",
       "</table>\n",
       "<p>300 rows × 1 columns</p>\n",
       "</div>"
      ],
      "text/plain": [
       "                   EIF4A\n",
       "ENST00000378609.4     10\n",
       "ENST00000378251.1      0\n",
       "ENST00000343813.5     13\n",
       "ENST00000376810.5      9\n",
       "ENST00000375759.3      7\n",
       "...                  ...\n",
       "ENST00000441076.2      0\n",
       "ENST00000342983.2      8\n",
       "ENST00000316077.9      2\n",
       "ENST00000320676.7      4\n",
       "ENST00000330374.6     11\n",
       "\n",
       "[300 rows x 1 columns]"
      ]
     },
     "execution_count": 95,
     "metadata": {},
     "output_type": "execute_result"
    }
   ],
   "source": [
    "low_3p_count_df[['EIF4A']]"
   ]
  },
  {
   "cell_type": "markdown",
   "id": "15ea02a9-8770-4a6e-9345-f729fc4ce1ec",
   "metadata": {},
   "source": [
    "1) uORF downloaded from uORFdb: https://www.bioinformatics.uni-muenster.de/tools/uorfdb/download/index.hbi?\n",
    "2) selected for hg38 and ATG starts only\n",
    "3) liftOver to hg19\n",
    "\n",
    "liftOver 5p_coords_uORF.bed ~/projects/genomes/hg19/liftOver_files/hg38ToHg19.over.chain.gz 5p_coords_uORF.hg19.bed 5p_coords_uORF.hg19.unmapped\n",
    "\n",
    "5) overlap with 5' UTRs of low and high translation (bedtools intersect)\n",
    "\n",
    "bedtools intersect -a 5p_coords_uORF.hg19.bed -b 5p_coords_high.bed -wb > 5p_coords_high_uORF_overlap.txt\n",
    "bedtools intersect -a 5p_coords_uORF.hg19.bed -b 5p_coords_low.bed -wb > 5p_coords_low_uORF_overlap.txt"
   ]
  },
  {
   "cell_type": "code",
   "execution_count": 96,
   "id": "7fa12372-fa47-4f88-be19-3514e14805f6",
   "metadata": {},
   "outputs": [],
   "source": [
    "TISdb = pd.read_csv('/tscc/nfs/home/pjaganna1/projects/STAMP/stamp_v3_pipeline/notebooks/RPS2/uORF_dump_uORFdb.hg38.header.tsv', sep='\\t')\n"
   ]
  },
  {
   "cell_type": "code",
   "execution_count": 97,
   "id": "ae884da5-9b2b-4d07-8e64-e032a9942eba",
   "metadata": {},
   "outputs": [
    {
     "data": {
      "text/plain": [
       "Index(['Taxon', 'Assembly', 'Chr', ' Symbol', 'GeneID', 'GenBankID',\n",
       "       'SymbolAliases', 'GeneNames', ' NCBIID', 'TranscrStart', 'TranscrEnd',\n",
       "       'Strand', 'TranscrLength', 'TLSlength', 'CDSstart', 'CDSend',\n",
       "       'TranscrKozakContext', ' TranscrKozakStrength', ' ExonStarts',\n",
       "       ' ExonEnds', ' uORF_ID', 'uORFstart', 'uORFend', 'uORFstartCodon',\n",
       "       'uORFstopCodon', 'uORFlength', 'uORFCDSdistance', ' uORF5'-capDistance',\n",
       "       'uORFkozakContext', 'uORFkozakStrength', ' uORFtype',\n",
       "       'uORFreadingFrame', 'uORFnucleotideSeq', 'uORFaminoSeq',\n",
       "       ' SharedStartCodon'],\n",
       "      dtype='object')"
      ]
     },
     "execution_count": 97,
     "metadata": {},
     "output_type": "execute_result"
    }
   ],
   "source": [
    "TISdb.columns"
   ]
  },
  {
   "cell_type": "code",
   "execution_count": 98,
   "id": "41fbd497-7205-439c-82bb-86e62d96a039",
   "metadata": {},
   "outputs": [],
   "source": [
    "TISdb = TISdb[(TISdb['uORFstartCodon']=='ATG')]\n",
    "TISdb[4] = '.'"
   ]
  },
  {
   "cell_type": "code",
   "execution_count": 99,
   "id": "d592ac8b-40a5-4792-b36d-6c8977749e43",
   "metadata": {},
   "outputs": [],
   "source": [
    "TISdb_bed = TISdb[['Chr', 'uORFstart', 'uORFend', ' uORF_ID', 4,'Strand']]\n",
    "TISdb_bed.columns = [0,1,2,3,4,5]"
   ]
  },
  {
   "cell_type": "code",
   "execution_count": 100,
   "id": "229cebf8-fb28-4f64-bcd5-9bed20d5b1ff",
   "metadata": {},
   "outputs": [],
   "source": [
    "TISdb_bed = TISdb_bed.sort_values(by=[0,1,2])"
   ]
  },
  {
   "cell_type": "code",
   "execution_count": 101,
   "id": "dbff76fc-2236-4dfc-ae73-6b2c375f37f0",
   "metadata": {},
   "outputs": [],
   "source": [
    "TISdb_bed = TISdb_bed.drop_duplicates(subset=[0,1,2])"
   ]
  },
  {
   "cell_type": "code",
   "execution_count": 102,
   "id": "4270ff5d-c2b4-4743-b3ae-34f018ca3146",
   "metadata": {},
   "outputs": [],
   "source": [
    "TISdb_bed[1] = TISdb_bed[1].astype(int)\n",
    "TISdb_bed[2] = TISdb_bed[2].astype(int)"
   ]
  },
  {
   "cell_type": "code",
   "execution_count": 103,
   "id": "6b890f12-57bd-4626-9056-c1139cca0bbd",
   "metadata": {},
   "outputs": [
    {
     "data": {
      "text/html": [
       "<div>\n",
       "<style scoped>\n",
       "    .dataframe tbody tr th:only-of-type {\n",
       "        vertical-align: middle;\n",
       "    }\n",
       "\n",
       "    .dataframe tbody tr th {\n",
       "        vertical-align: top;\n",
       "    }\n",
       "\n",
       "    .dataframe thead th {\n",
       "        text-align: right;\n",
       "    }\n",
       "</style>\n",
       "<table border=\"1\" class=\"dataframe\">\n",
       "  <thead>\n",
       "    <tr style=\"text-align: right;\">\n",
       "      <th></th>\n",
       "      <th>0</th>\n",
       "      <th>1</th>\n",
       "      <th>2</th>\n",
       "      <th>3</th>\n",
       "      <th>4</th>\n",
       "      <th>5</th>\n",
       "    </tr>\n",
       "  </thead>\n",
       "  <tbody>\n",
       "    <tr>\n",
       "      <th>1</th>\n",
       "      <td>chr1</td>\n",
       "      <td>65524</td>\n",
       "      <td>69065</td>\n",
       "      <td>NM_001005484.2_ATG.1</td>\n",
       "      <td>.</td>\n",
       "      <td>+</td>\n",
       "    </tr>\n",
       "    <tr>\n",
       "      <th>27</th>\n",
       "      <td>chr1</td>\n",
       "      <td>924214</td>\n",
       "      <td>924283</td>\n",
       "      <td>NM_001385641.1_ATG.1</td>\n",
       "      <td>.</td>\n",
       "      <td>+</td>\n",
       "    </tr>\n",
       "    <tr>\n",
       "      <th>214</th>\n",
       "      <td>chr1</td>\n",
       "      <td>980574</td>\n",
       "      <td>981170</td>\n",
       "      <td>NM_001291367.2_ATG.1</td>\n",
       "      <td>.</td>\n",
       "      <td>-</td>\n",
       "    </tr>\n",
       "    <tr>\n",
       "      <th>142</th>\n",
       "      <td>chr1</td>\n",
       "      <td>980994</td>\n",
       "      <td>981084</td>\n",
       "      <td>NM_001369898.1_ATG.4</td>\n",
       "      <td>.</td>\n",
       "      <td>-</td>\n",
       "    </tr>\n",
       "    <tr>\n",
       "      <th>171</th>\n",
       "      <td>chr1</td>\n",
       "      <td>980994</td>\n",
       "      <td>982021</td>\n",
       "      <td>NM_001369897.1_ATG.2</td>\n",
       "      <td>.</td>\n",
       "      <td>-</td>\n",
       "    </tr>\n",
       "  </tbody>\n",
       "</table>\n",
       "</div>"
      ],
      "text/plain": [
       "        0       1       2                     3  4  5\n",
       "1    chr1   65524   69065  NM_001005484.2_ATG.1  .  +\n",
       "27   chr1  924214  924283  NM_001385641.1_ATG.1  .  +\n",
       "214  chr1  980574  981170  NM_001291367.2_ATG.1  .  -\n",
       "142  chr1  980994  981084  NM_001369898.1_ATG.4  .  -\n",
       "171  chr1  980994  982021  NM_001369897.1_ATG.2  .  -"
      ]
     },
     "execution_count": 103,
     "metadata": {},
     "output_type": "execute_result"
    }
   ],
   "source": [
    "TISdb_bed.head()\n"
   ]
  },
  {
   "cell_type": "code",
   "execution_count": 104,
   "id": "cf469a38-c73f-4954-8a77-d88bf1f7bc42",
   "metadata": {},
   "outputs": [
    {
     "data": {
      "text/plain": [
       "0    object\n",
       "1     int64\n",
       "2     int64\n",
       "3    object\n",
       "4    object\n",
       "5    object\n",
       "dtype: object"
      ]
     },
     "execution_count": 104,
     "metadata": {},
     "output_type": "execute_result"
    }
   ],
   "source": [
    "TISdb_bed.dtypes"
   ]
  },
  {
   "cell_type": "code",
   "execution_count": 105,
   "id": "66fcd339-3400-4fd5-a6e7-ab1c239bd8a6",
   "metadata": {},
   "outputs": [],
   "source": [
    "#TISdb_bed.to_csv('5p_coords_uORF.bed', sep='\\t', header=None, index=False)"
   ]
  },
  {
   "cell_type": "code",
   "execution_count": 106,
   "id": "1cf37f26-9d93-4011-8a3a-f4c98f7b09e1",
   "metadata": {},
   "outputs": [],
   "source": [
    "low_5p_UTRs = five_UTR[five_UTR['transcript_id'].isin(low_translation_transcript)][[0,3,4,'key',5,6]]\n",
    "high_5p_UTRs = five_UTR[five_UTR['transcript_id'].isin(high_translation_transcript)][[0,3,4,'key',5,6]]"
   ]
  },
  {
   "cell_type": "code",
   "execution_count": 107,
   "id": "c14add38-3c96-4797-a71b-82af60479942",
   "metadata": {},
   "outputs": [],
   "source": [
    "low_5p_UTRs.columns = [0,1,2,3,4,5]\n",
    "high_5p_UTRs.columns = [0,1,2,3,4,5]"
   ]
  },
  {
   "cell_type": "code",
   "execution_count": 112,
   "id": "417dcb99-766f-4a75-8d8b-fec8d8f135af",
   "metadata": {},
   "outputs": [],
   "source": [
    "#low_5p_UTRs.sort_values(by=[0,1,2]).to_csv('5p_coords_low.bed', sep='\\t', header=None, index=False)"
   ]
  },
  {
   "cell_type": "code",
   "execution_count": 113,
   "id": "477a084f-c9d5-447b-b577-1a2b5c0114f0",
   "metadata": {},
   "outputs": [],
   "source": [
    "#high_5p_UTRs.sort_values(by=[0,1,2]).to_csv('5p_coords_high.bed', sep='\\t', header=None, index=False)"
   ]
  },
  {
   "cell_type": "code",
   "execution_count": 108,
   "id": "86528a22-1f67-4df9-91d1-d38f4a54fcd1",
   "metadata": {},
   "outputs": [],
   "source": [
    "high_uorf_overlap = pd.read_csv('5p_coords_high_uORF_overlap.txt', sep='\\t', header=None)"
   ]
  },
  {
   "cell_type": "code",
   "execution_count": 109,
   "id": "f97c82fd-4333-4dd7-a0eb-17526ddad344",
   "metadata": {},
   "outputs": [],
   "source": [
    "low_uorf_overlap = pd.read_csv('5p_coords_low_uORF_overlap.txt', sep='\\t', header=None)"
   ]
  },
  {
   "cell_type": "code",
   "execution_count": 110,
   "id": "73d23515-037b-4ec0-921c-cc7b6eccd2ec",
   "metadata": {},
   "outputs": [],
   "source": [
    "high_uorf_overlap['transcript_id'] = high_uorf_overlap.apply(lambda x: x[9].split(':')[0], axis=1)"
   ]
  },
  {
   "cell_type": "code",
   "execution_count": 111,
   "id": "945fb200-fbc6-47fb-844a-101be35df3c8",
   "metadata": {},
   "outputs": [],
   "source": [
    "low_uorf_overlap['transcript_id'] = low_uorf_overlap.apply(lambda x: x[9].split(':')[0], axis=1)"
   ]
  },
  {
   "cell_type": "code",
   "execution_count": 112,
   "id": "5a4baedb-49f8-451e-ae86-ef984b988614",
   "metadata": {},
   "outputs": [
    {
     "data": {
      "text/plain": [
       "<Axes: ylabel='Density'>"
      ]
     },
     "execution_count": 112,
     "metadata": {},
     "output_type": "execute_result"
    },
    {
     "data": {
      "image/png": "[encoded data removed]",
      "text/plain": [
       "<Figure size 300x900 with 1 Axes>"
      ]
     },
     "metadata": {},
     "output_type": "display_data"
    }
   ],
   "source": [
    "sns.kdeplot(high_uorf_overlap.groupby('transcript_id').count()[[0]])\n",
    "sns.kdeplot(low_uorf_overlap.groupby('transcript_id').count()[[0]])"
   ]
  },
  {
   "cell_type": "code",
   "execution_count": 113,
   "id": "694f8ed7-5426-4606-8dbf-8a208091940d",
   "metadata": {},
   "outputs": [],
   "source": [
    "a_uorf = len(set(low_uorf_overlap['transcript_id']))\n",
    "b_uorf = len(set(low_translation_transcript)) - len(set(low_uorf_overlap['transcript_id']))\n",
    "c_uorf = len(set(high_uorf_overlap['transcript_id']))\n",
    "d_uorf = len(set(high_translation_transcript)) - len(set(high_uorf_overlap['transcript_id']))\n",
    "\n",
    "chi2_uorf , p_chi2_uorf , dof_uorf , expected_uorf  = chi2_contingency([[a_uorf, b_uorf], [c_uorf, d_uorf]])"
   ]
  },
  {
   "cell_type": "code",
   "execution_count": 114,
   "id": "756f1ee3-5748-4fe5-b6bd-c8900c74bcba",
   "metadata": {},
   "outputs": [
    {
     "data": {
      "text/plain": [
       "0.0015182371749310488"
      ]
     },
     "execution_count": 114,
     "metadata": {},
     "output_type": "execute_result"
    }
   ],
   "source": [
    "p_chi2_uorf"
   ]
  },
  {
   "cell_type": "code",
   "execution_count": 115,
   "id": "552fb0de-5852-421f-aaa8-2b1ceda7e939",
   "metadata": {},
   "outputs": [
    {
     "data": {
      "image/png": "[encoded data removed]",
      "text/plain": [
       "<Figure size 300x300 with 3 Axes>"
      ]
     },
     "metadata": {},
     "output_type": "display_data"
    }
   ],
   "source": [
    "from statsmodels.graphics.mosaicplot import mosaic\n",
    "\n",
    "# Example NumPy array\n",
    "data = np.array([[a_uorf, b_uorf], [c_uorf, d_uorf]])\n",
    "\n",
    "# Convert the array to a format suitable for the mosaic function\n",
    "data_dict = {('Low', 'uORF'): data[0, 0],\n",
    "             ('Low', 'no uORF'): data[0, 1],\n",
    "             ('High', 'uORF'): data[1, 0],\n",
    "             ('High', 'no uORF'): data[1, 1]}\n",
    "props = lambda key: {'color': 'teal' if 'uORF' in key else 'lightseagreen',}\n",
    "\n",
    "# Create the mosaic plot\n",
    "sns.set(rc={'figure.figsize':(3,3)})\n",
    "\n",
    "mosaic(data_dict, labelizer=None, title='Presence of uORFs',properties=props)\n",
    "plt.savefig(os.path.join(fig_path,f'fig3/5utr_uorfs.png'))\n",
    "plt.savefig(os.path.join(fig_path,f'fig3/5utr_uorfs.svg'))\n",
    "plt.savefig(os.path.join(fig_path,f'fig3/5utr_uorfs.jpg')) \n",
    "plt.show()"
   ]
  },
  {
   "cell_type": "code",
   "execution_count": 116,
   "id": "85f25326-7425-4056-b7d9-8d8058a534dd",
   "metadata": {},
   "outputs": [
    {
     "name": "stdout",
     "output_type": "stream",
     "text": [
      "[[123 178]\n",
      " [ 85 216]]\n"
     ]
    }
   ],
   "source": [
    "print(np.array([[a_uorf, b_uorf], [c_uorf, d_uorf]]))"
   ]
  },
  {
   "cell_type": "code",
   "execution_count": 117,
   "id": "95195f1f-184f-42ab-b065-091c93bf8ed8",
   "metadata": {},
   "outputs": [],
   "source": [
    "high_uorf_overlap['kozak_strength'] = high_uorf_overlap[3].map(dict(zip(TISdb[' uORF_ID'], TISdb.uORFkozakStrength)))"
   ]
  },
  {
   "cell_type": "code",
   "execution_count": 118,
   "id": "cb68fd85-b2cf-431b-a923-69b9ecd4543c",
   "metadata": {},
   "outputs": [],
   "source": [
    "low_uorf_overlap['kozak_strength'] = low_uorf_overlap[3].map(dict(zip(TISdb[' uORF_ID'], TISdb.uORFkozakStrength)))"
   ]
  },
  {
   "cell_type": "code",
   "execution_count": 119,
   "id": "1e48e854-7adf-41a4-874e-78691f779045",
   "metadata": {},
   "outputs": [
    {
     "data": {
      "text/plain": [
       "kozak_strength\n",
       "adequate    91\n",
       "weak        58\n",
       "strong      35\n",
       "Name: count, dtype: int64"
      ]
     },
     "execution_count": 119,
     "metadata": {},
     "output_type": "execute_result"
    }
   ],
   "source": [
    "high_uorf_overlap['kozak_strength'].value_counts()"
   ]
  },
  {
   "cell_type": "code",
   "execution_count": 120,
   "id": "bed4d7d3-b670-43c8-bbb0-ed051a39d0a5",
   "metadata": {},
   "outputs": [
    {
     "data": {
      "image/png": "[encoded data removed]",
      "text/plain": [
       "<Figure size 400x400 with 1 Axes>"
      ]
     },
     "metadata": {},
     "output_type": "display_data"
    }
   ],
   "source": [
    "plt.figure(figsize=(4, 4))\n",
    "plt.pie(high_uorf_overlap['kozak_strength'].value_counts(), labels=high_uorf_overlap['kozak_strength'].value_counts().index, autopct='%1.1f%%', startangle=140)\n",
    "plt.title('Category Distribution')\n",
    "plt.show()"
   ]
  },
  {
   "cell_type": "code",
   "execution_count": 121,
   "id": "60c14933-9567-40bc-b17f-b92946cb1aa1",
   "metadata": {},
   "outputs": [
    {
     "data": {
      "text/plain": [
       "kozak_strength\n",
       "adequate    211\n",
       "weak        144\n",
       "strong       86\n",
       "Name: count, dtype: int64"
      ]
     },
     "execution_count": 121,
     "metadata": {},
     "output_type": "execute_result"
    }
   ],
   "source": [
    "low_uorf_overlap['kozak_strength'].value_counts()"
   ]
  },
  {
   "cell_type": "code",
   "execution_count": 122,
   "id": "815abf6b-0c28-4991-9e7b-1722ca9df26e",
   "metadata": {},
   "outputs": [
    {
     "data": {
      "image/png": "[encoded data removed]",
      "text/plain": [
       "<Figure size 400x400 with 1 Axes>"
      ]
     },
     "metadata": {},
     "output_type": "display_data"
    }
   ],
   "source": [
    "plt.figure(figsize=(4, 4))\n",
    "plt.pie(low_uorf_overlap['kozak_strength'].value_counts(), labels=low_uorf_overlap['kozak_strength'].value_counts().index, autopct='%1.1f%%', startangle=140)\n",
    "plt.title('Category Distribution')\n",
    "plt.show()"
   ]
  },
  {
   "cell_type": "code",
   "execution_count": 123,
   "id": "418cc35e-d869-4614-a2b8-e842822b14da",
   "metadata": {},
   "outputs": [],
   "source": [
    "low_3p_UTRs = three_UTR[three_UTR['transcript_id'].isin(low_translation_transcript)][[0,3,4,'key',5,6]]\n",
    "high_3p_UTRs = three_UTR[three_UTR['transcript_id'].isin(high_translation_transcript)][[0,3,4,'key',5,6]]"
   ]
  },
  {
   "cell_type": "code",
   "execution_count": 124,
   "id": "f7411f8d-8016-4aae-b599-49a772d91a48",
   "metadata": {},
   "outputs": [],
   "source": [
    "low_3p_UTRs.columns = [0,1,2,3,4,5]\n",
    "high_3p_UTRs.columns = [0,1,2,3,4,5]"
   ]
  },
  {
   "cell_type": "code",
   "execution_count": 125,
   "id": "b7e6722c-cb5e-4d5f-a916-a9d4ac77d968",
   "metadata": {},
   "outputs": [],
   "source": [
    "#low_3p_UTRs.sort_values(by=[0,1,2]).to_csv('3p_coords_low.bed', sep='\\t', header=None, index=False)\n",
    "#high_3p_UTRs.sort_values(by=[0,1,2]).to_csv('3p_coords_high.bed', sep='\\t', header=None, index=False)"
   ]
  },
  {
   "cell_type": "code",
   "execution_count": 126,
   "id": "981f9291-9a7b-4e9c-8ae6-ee17a0901540",
   "metadata": {},
   "outputs": [],
   "source": [
    "high_mirna_overlap = pd.read_csv('3p_coords_high_mirna_overlap.txt', sep='\\t', header=None)"
   ]
  },
  {
   "cell_type": "code",
   "execution_count": 127,
   "id": "95368af1-e603-413f-808f-3168a63ee72f",
   "metadata": {},
   "outputs": [],
   "source": [
    "low_mirna_overlap = pd.read_csv('3p_coords_low_mirna_overlap.txt', sep='\\t', header=None)"
   ]
  },
  {
   "cell_type": "code",
   "execution_count": 128,
   "id": "566f76a5-5519-41f5-88df-fdaf2120506d",
   "metadata": {},
   "outputs": [],
   "source": [
    "low_mirna_overlap['transcript_id'] = low_mirna_overlap.apply(lambda x: x[8].split(':')[0], axis=1)"
   ]
  },
  {
   "cell_type": "code",
   "execution_count": 129,
   "id": "488cd5b8-7e6e-469c-8335-eabefaded4a3",
   "metadata": {},
   "outputs": [],
   "source": [
    "high_mirna_overlap['transcript_id'] = high_mirna_overlap.apply(lambda x: x[8].split(':')[0], axis=1)"
   ]
  },
  {
   "cell_type": "code",
   "execution_count": 130,
   "id": "ad71ce41-99bf-4743-a487-b40c54380023",
   "metadata": {},
   "outputs": [],
   "source": [
    "a_mirna = len(set(low_mirna_overlap['transcript_id']))\n",
    "b_mirna = len(set(low_translation_transcript)) - len(set(low_mirna_overlap['transcript_id']))\n",
    "c_mirna = len(set(high_uorf_overlap['transcript_id']))\n",
    "d_mirna = len(set(high_translation_transcript)) - len(set(high_mirna_overlap['transcript_id']))\n",
    "\n",
    "chi2_mirna , p_chi2_mirna , dof_mirna , expected_mirna  = chi2_contingency([[a_mirna, b_mirna], [c_mirna, d_mirna]])"
   ]
  },
  {
   "cell_type": "code",
   "execution_count": 131,
   "id": "62da6bd9-3c9b-419c-af9a-b04b3e729d00",
   "metadata": {},
   "outputs": [
    {
     "data": {
      "text/plain": [
       "3.481615723588729e-17"
      ]
     },
     "execution_count": 131,
     "metadata": {},
     "output_type": "execute_result"
    }
   ],
   "source": [
    "p_chi2_mirna"
   ]
  },
  {
   "cell_type": "code",
   "execution_count": 132,
   "id": "f0e98621-194e-4ffd-b497-674c55972c1e",
   "metadata": {},
   "outputs": [
    {
     "data": {
      "text/plain": [
       "[[236, 65], [85, 121]]"
      ]
     },
     "execution_count": 132,
     "metadata": {},
     "output_type": "execute_result"
    }
   ],
   "source": [
    "[[a_mirna, b_mirna], [c_mirna, d_mirna]]"
   ]
  },
  {
   "cell_type": "code",
   "execution_count": 133,
   "id": "3cb70be9-09be-4b96-83ba-e94406b4bd69",
   "metadata": {},
   "outputs": [
    {
     "data": {
      "image/png": "[encoded data removed]",
      "text/plain": [
       "<Figure size 300x300 with 3 Axes>"
      ]
     },
     "metadata": {},
     "output_type": "display_data"
    }
   ],
   "source": [
    "from statsmodels.graphics.mosaicplot import mosaic\n",
    "\n",
    "# Example NumPy array\n",
    "data = np.array([[a_mirna, b_mirna], [c_mirna, d_mirna]])\n",
    "\n",
    "# Convert the array to a format suitable for the mosaic function\n",
    "data_dict = {('Low', 'miRNA'): data[0, 0],\n",
    "             ('Low', 'no miRNA'): data[0, 1],\n",
    "             ('High', 'miRNA'): data[1, 0],\n",
    "             ('High', 'no miRNA'): data[1, 1]}\n",
    "props = lambda key: {'color': 'orange' if 'miRNA' in key else 'moccasin',}\n",
    "\n",
    "# Create the mosaic plot\n",
    "sns.set(rc={'figure.figsize':(3,3)})\n",
    "\n",
    "mosaic(data_dict, labelizer=None, title='Presence of miRNA Sites',properties=props)\n",
    "# plt.savefig(os.path.join(fig_path,f'fig3/3utr_mirna.png'))\n",
    "# plt.savefig(os.path.join(fig_path,f'fig3/3utr_mirna.svg'))\n",
    "# plt.savefig(os.path.join(fig_path,f'fig3/3utr_mirna.jpg')) \n",
    "plt.show()"
   ]
  },
  {
   "cell_type": "code",
   "execution_count": 33,
   "id": "3fb49c47-16e5-4105-b603-d77a51cd4f83",
   "metadata": {},
   "outputs": [],
   "source": [
    "import re \n",
    "def find_five_top(five_seq):\n",
    "\n",
    "    if five_seq[6]=='+':\n",
    "        seq = str(five_seq.sequence)\n",
    "    elif five_seq[6]=='-':\n",
    "        complement = {'A': 'T', 'T': 'A', 'G': 'C', 'C': 'G'}\n",
    "        seq = ''.join([complement[base.upper()] for base in reversed(five_seq.sequence)])\n",
    "        #print(five_seq.sequence, seq)\n",
    "    \n",
    "    pattern = re.compile(r\"^C[CT]{4,15}\")\n",
    "    \n",
    "    # Search each sequence for the pattern\n",
    "    if pattern.match(seq):\n",
    "        return True\n",
    "    else:\n",
    "        return False"
   ]
  },
  {
   "cell_type": "code",
   "execution_count": 34,
   "id": "88779eba-b6b2-47b7-a3f5-be196797d5b5",
   "metadata": {},
   "outputs": [
    {
     "name": "stderr",
     "output_type": "stream",
     "text": [
      "/tmp/ipykernel_2455965/1552484994.py:1: SettingWithCopyWarning: \n",
      "A value is trying to be set on a copy of a slice from a DataFrame.\n",
      "Try using .loc[row_indexer,col_indexer] = value instead\n",
      "\n",
      "See the caveats in the documentation: https://pandas.pydata.org/pandas-docs/stable/user_guide/indexing.html#returning-a-view-versus-a-copy\n",
      "  five_UTR['five_top_motif'] = five_UTR.apply(find_five_top, axis=1)\n"
     ]
    }
   ],
   "source": [
    "five_UTR['five_top_motif'] = five_UTR.apply(find_five_top, axis=1)"
   ]
  },
  {
   "cell_type": "code",
   "execution_count": 35,
   "id": "33b6ce7e-ca42-4d64-8e10-99480db4d6b1",
   "metadata": {},
   "outputs": [
    {
     "data": {
      "text/html": [
       "<div>\n",
       "<style scoped>\n",
       "    .dataframe tbody tr th:only-of-type {\n",
       "        vertical-align: middle;\n",
       "    }\n",
       "\n",
       "    .dataframe tbody tr th {\n",
       "        vertical-align: top;\n",
       "    }\n",
       "\n",
       "    .dataframe thead th {\n",
       "        text-align: right;\n",
       "    }\n",
       "</style>\n",
       "<table border=\"1\" class=\"dataframe\">\n",
       "  <thead>\n",
       "    <tr style=\"text-align: right;\">\n",
       "      <th></th>\n",
       "      <th>0</th>\n",
       "      <th>1</th>\n",
       "      <th>2</th>\n",
       "      <th>3</th>\n",
       "      <th>4</th>\n",
       "      <th>5</th>\n",
       "      <th>6</th>\n",
       "      <th>7</th>\n",
       "      <th>8</th>\n",
       "      <th>transcript_id</th>\n",
       "      <th>gene_id</th>\n",
       "      <th>gene_name</th>\n",
       "      <th>key</th>\n",
       "      <th>length</th>\n",
       "      <th>sequence</th>\n",
       "      <th>GC_content</th>\n",
       "      <th>five_top_motif</th>\n",
       "    </tr>\n",
       "  </thead>\n",
       "  <tbody>\n",
       "    <tr>\n",
       "      <th>148</th>\n",
       "      <td>chr1</td>\n",
       "      <td>ENSEMBL</td>\n",
       "      <td>5UTR</td>\n",
       "      <td>139310</td>\n",
       "      <td>139379</td>\n",
       "      <td>.</td>\n",
       "      <td>-</td>\n",
       "      <td>.</td>\n",
       "      <td>gene_id \"ENSG00000237683.5\"; transcript_id \"EN...</td>\n",
       "      <td>ENST00000423372.3</td>\n",
       "      <td>ENSG00000237683.5</td>\n",
       "      <td>AL627309.1</td>\n",
       "      <td>ENST00000423372.3:chr1:139310:139379</td>\n",
       "      <td>69</td>\n",
       "      <td>AGAAGCTGGGCGTGAAGAATCTGCTGTGAGGCAGACGTTGGGACTG...</td>\n",
       "      <td>0.600000</td>\n",
       "      <td>False</td>\n",
       "    </tr>\n",
       "    <tr>\n",
       "      <th>283</th>\n",
       "      <td>chr1</td>\n",
       "      <td>HAVANA</td>\n",
       "      <td>5UTR</td>\n",
       "      <td>367640</td>\n",
       "      <td>367658</td>\n",
       "      <td>.</td>\n",
       "      <td>+</td>\n",
       "      <td>.</td>\n",
       "      <td>gene_id \"ENSG00000235249.1\"; transcript_id \"EN...</td>\n",
       "      <td>ENST00000426406.1</td>\n",
       "      <td>ENSG00000235249.1</td>\n",
       "      <td>OR4F29</td>\n",
       "      <td>ENST00000426406.1:chr1:367640:367658</td>\n",
       "      <td>18</td>\n",
       "      <td>AGCCCAGTTGGCTGGACCA</td>\n",
       "      <td>0.631579</td>\n",
       "      <td>False</td>\n",
       "    </tr>\n",
       "    <tr>\n",
       "      <th>381</th>\n",
       "      <td>chr1</td>\n",
       "      <td>HAVANA</td>\n",
       "      <td>5UTR</td>\n",
       "      <td>622035</td>\n",
       "      <td>622053</td>\n",
       "      <td>.</td>\n",
       "      <td>-</td>\n",
       "      <td>.</td>\n",
       "      <td>gene_id \"ENSG00000185097.2\"; transcript_id \"EN...</td>\n",
       "      <td>ENST00000332831.2</td>\n",
       "      <td>ENSG00000185097.2</td>\n",
       "      <td>OR4F16</td>\n",
       "      <td>ENST00000332831.2:chr1:622035:622053</td>\n",
       "      <td>18</td>\n",
       "      <td>TGGTCCAGCCAACTGGGCT</td>\n",
       "      <td>0.631579</td>\n",
       "      <td>False</td>\n",
       "    </tr>\n",
       "    <tr>\n",
       "      <th>655</th>\n",
       "      <td>chr1</td>\n",
       "      <td>HAVANA</td>\n",
       "      <td>5UTR</td>\n",
       "      <td>860260</td>\n",
       "      <td>860328</td>\n",
       "      <td>.</td>\n",
       "      <td>+</td>\n",
       "      <td>.</td>\n",
       "      <td>gene_id \"ENSG00000187634.6\"; transcript_id \"EN...</td>\n",
       "      <td>ENST00000420190.1</td>\n",
       "      <td>ENSG00000187634.6</td>\n",
       "      <td>SAMD11</td>\n",
       "      <td>ENST00000420190.1:chr1:860260:860328</td>\n",
       "      <td>68</td>\n",
       "      <td>CCAACGAGTTCCAGTTCGTCAGCGGCCGCGAGACGGCCAAGGACTG...</td>\n",
       "      <td>0.637681</td>\n",
       "      <td>False</td>\n",
       "    </tr>\n",
       "    <tr>\n",
       "      <th>656</th>\n",
       "      <td>chr1</td>\n",
       "      <td>HAVANA</td>\n",
       "      <td>5UTR</td>\n",
       "      <td>861302</td>\n",
       "      <td>861321</td>\n",
       "      <td>.</td>\n",
       "      <td>+</td>\n",
       "      <td>.</td>\n",
       "      <td>gene_id \"ENSG00000187634.6\"; transcript_id \"EN...</td>\n",
       "      <td>ENST00000420190.1</td>\n",
       "      <td>ENSG00000187634.6</td>\n",
       "      <td>SAMD11</td>\n",
       "      <td>ENST00000420190.1:chr1:861302:861321</td>\n",
       "      <td>19</td>\n",
       "      <td>GGAAAAGTCTGAAGACGCTT</td>\n",
       "      <td>0.450000</td>\n",
       "      <td>False</td>\n",
       "    </tr>\n",
       "  </tbody>\n",
       "</table>\n",
       "</div>"
      ],
      "text/plain": [
       "        0        1     2       3       4  5  6  7  \\\n",
       "148  chr1  ENSEMBL  5UTR  139310  139379  .  -  .   \n",
       "283  chr1   HAVANA  5UTR  367640  367658  .  +  .   \n",
       "381  chr1   HAVANA  5UTR  622035  622053  .  -  .   \n",
       "655  chr1   HAVANA  5UTR  860260  860328  .  +  .   \n",
       "656  chr1   HAVANA  5UTR  861302  861321  .  +  .   \n",
       "\n",
       "                                                     8      transcript_id  \\\n",
       "148  gene_id \"ENSG00000237683.5\"; transcript_id \"EN...  ENST00000423372.3   \n",
       "283  gene_id \"ENSG00000235249.1\"; transcript_id \"EN...  ENST00000426406.1   \n",
       "381  gene_id \"ENSG00000185097.2\"; transcript_id \"EN...  ENST00000332831.2   \n",
       "655  gene_id \"ENSG00000187634.6\"; transcript_id \"EN...  ENST00000420190.1   \n",
       "656  gene_id \"ENSG00000187634.6\"; transcript_id \"EN...  ENST00000420190.1   \n",
       "\n",
       "               gene_id   gene_name                                   key  \\\n",
       "148  ENSG00000237683.5  AL627309.1  ENST00000423372.3:chr1:139310:139379   \n",
       "283  ENSG00000235249.1      OR4F29  ENST00000426406.1:chr1:367640:367658   \n",
       "381  ENSG00000185097.2      OR4F16  ENST00000332831.2:chr1:622035:622053   \n",
       "655  ENSG00000187634.6      SAMD11  ENST00000420190.1:chr1:860260:860328   \n",
       "656  ENSG00000187634.6      SAMD11  ENST00000420190.1:chr1:861302:861321   \n",
       "\n",
       "     length                                           sequence  GC_content  \\\n",
       "148      69  AGAAGCTGGGCGTGAAGAATCTGCTGTGAGGCAGACGTTGGGACTG...    0.600000   \n",
       "283      18                                AGCCCAGTTGGCTGGACCA    0.631579   \n",
       "381      18                                TGGTCCAGCCAACTGGGCT    0.631579   \n",
       "655      68  CCAACGAGTTCCAGTTCGTCAGCGGCCGCGAGACGGCCAAGGACTG...    0.637681   \n",
       "656      19                               GGAAAAGTCTGAAGACGCTT    0.450000   \n",
       "\n",
       "     five_top_motif  \n",
       "148           False  \n",
       "283           False  \n",
       "381           False  \n",
       "655           False  \n",
       "656           False  "
      ]
     },
     "execution_count": 35,
     "metadata": {},
     "output_type": "execute_result"
    }
   ],
   "source": [
    "five_UTR.head()"
   ]
  },
  {
   "cell_type": "code",
   "execution_count": 175,
   "id": "cd241b83-bd9b-4b0d-b584-c7bbdd80f16b",
   "metadata": {},
   "outputs": [],
   "source": [
    "five_UTR.to_csv('5UTR_gtf_seq_annotation.txt', sep='\\t', index=False)"
   ]
  },
  {
   "cell_type": "code",
   "execution_count": 36,
   "id": "299b2cbb-250e-4ce3-ace7-34d078986ee8",
   "metadata": {},
   "outputs": [
    {
     "data": {
      "text/plain": [
       "(3491, 17)"
      ]
     },
     "execution_count": 36,
     "metadata": {},
     "output_type": "execute_result"
    }
   ],
   "source": [
    "five_UTR[five_UTR['five_top_motif']==True].shape"
   ]
  },
  {
   "cell_type": "code",
   "execution_count": 37,
   "id": "2046580d-724f-4015-b4e9-3c1964ced3e5",
   "metadata": {},
   "outputs": [
    {
     "data": {
      "text/plain": [
       "(144605, 17)"
      ]
     },
     "execution_count": 37,
     "metadata": {},
     "output_type": "execute_result"
    }
   ],
   "source": [
    "five_UTR[five_UTR['five_top_motif']==False].shape"
   ]
  },
  {
   "cell_type": "code",
   "execution_count": 38,
   "id": "952d2b93-cd01-4295-9111-2d8f1938f0b9",
   "metadata": {},
   "outputs": [],
   "source": [
    "a_fivetop = len(set(five_UTR[(five_UTR['transcript_id'].isin(low_translation_transcript)) &(five_UTR['five_top_motif']==True)]['transcript_id']))\n",
    "b_fivetop = len(set(low_translation_transcript)) - a_fivetop\n",
    "c_fivetop = len(five_UTR[(five_UTR['transcript_id'].isin(high_translation_transcript)) &(five_UTR['five_top_motif']==True)]['transcript_id'])\n",
    "d_fivetop = len(set(high_translation_transcript)) - c_fivetop\n",
    "\n",
    "chi2_fivetop , p_chi2_fivetop , dof_fivetop , expected_fivetop  = chi2_contingency([[a_fivetop, b_fivetop], [c_fivetop, d_fivetop]])"
   ]
  },
  {
   "cell_type": "code",
   "execution_count": 39,
   "id": "8a925f8e-4fdb-44bd-8703-ee2872161b4a",
   "metadata": {},
   "outputs": [
    {
     "data": {
      "text/plain": [
       "0.03125869767525504"
      ]
     },
     "execution_count": 39,
     "metadata": {},
     "output_type": "execute_result"
    }
   ],
   "source": [
    "p_chi2_fivetop"
   ]
  },
  {
   "cell_type": "code",
   "execution_count": 40,
   "id": "bef96bea-8ce8-4940-8b59-53cc0b199ad5",
   "metadata": {},
   "outputs": [
    {
     "data": {
      "image/png": "[encoded data removed]",
      "text/plain": [
       "<Figure size 300x300 with 3 Axes>"
      ]
     },
     "metadata": {},
     "output_type": "display_data"
    }
   ],
   "source": [
    "from statsmodels.graphics.mosaicplot import mosaic\n",
    "\n",
    "# Example NumPy array\n",
    "data = np.array([[a_fivetop, b_fivetop], [c_fivetop, d_fivetop]])\n",
    "\n",
    "# Convert the array to a format suitable for the mosaic function\n",
    "data_dict = {('Low', '5\\' TOP Motif'): data[0, 0],\n",
    "             ('Low', 'no 5\\' TOP Motif'): data[0, 1],\n",
    "             ('High', '5\\' TOP Motif'): data[1, 0],\n",
    "             ('High', 'no 5\\' TOP Motif'): data[1, 1]}\n",
    "props = lambda key: {'color': 'purple' if '5\\' TOP Motif' in key else '#C8ADC0'}\n",
    "\n",
    "# Create the mosaic plot\n",
    "sns.set(rc={'figure.figsize':(3,3)})\n",
    "\n",
    "mosaic(data_dict, labelizer=None, title='Presence of 5\\' TOP Motif Sites',properties=props)\n",
    "#plt.savefig(os.path.join(fig_path,f'fig3/3utr_mirna.png'))\n",
    "#plt.savefig(os.path.join(fig_path,f'fig3/3utr_mirna.svg'))\n",
    "#plt.savefig(os.path.join(fig_path,f'fig3/3utr_mirna.jpg')) \n",
    "plt.show()"
   ]
  },
  {
   "cell_type": "code",
   "execution_count": 41,
   "id": "159ae229-e51c-4edc-b59a-bfe23be3e23b",
   "metadata": {},
   "outputs": [
    {
     "data": {
      "text/html": [
       "<div>\n",
       "<style scoped>\n",
       "    .dataframe tbody tr th:only-of-type {\n",
       "        vertical-align: middle;\n",
       "    }\n",
       "\n",
       "    .dataframe tbody tr th {\n",
       "        vertical-align: top;\n",
       "    }\n",
       "\n",
       "    .dataframe thead th {\n",
       "        text-align: right;\n",
       "    }\n",
       "</style>\n",
       "<table border=\"1\" class=\"dataframe\">\n",
       "  <thead>\n",
       "    <tr style=\"text-align: right;\">\n",
       "      <th></th>\n",
       "      <th>0</th>\n",
       "      <th>1</th>\n",
       "      <th>2</th>\n",
       "      <th>3</th>\n",
       "      <th>4</th>\n",
       "      <th>5</th>\n",
       "      <th>6</th>\n",
       "      <th>7</th>\n",
       "      <th>8</th>\n",
       "      <th>transcript_id</th>\n",
       "      <th>gene_id</th>\n",
       "      <th>gene_name</th>\n",
       "      <th>key</th>\n",
       "      <th>length</th>\n",
       "      <th>sequence</th>\n",
       "      <th>GC_content</th>\n",
       "      <th>five_top_motif</th>\n",
       "    </tr>\n",
       "  </thead>\n",
       "  <tbody>\n",
       "    <tr>\n",
       "      <th>146161</th>\n",
       "      <td>chr1</td>\n",
       "      <td>HAVANA</td>\n",
       "      <td>5UTR</td>\n",
       "      <td>151318797</td>\n",
       "      <td>151318809</td>\n",
       "      <td>.</td>\n",
       "      <td>-</td>\n",
       "      <td>.</td>\n",
       "      <td>gene_id \"ENSG00000143390.13\"; transcript_id \"E...</td>\n",
       "      <td>ENST00000290524.4</td>\n",
       "      <td>ENSG00000143390.13</td>\n",
       "      <td>RFX5</td>\n",
       "      <td>ENST00000290524.4:chr1:151318797:151318809</td>\n",
       "      <td>12</td>\n",
       "      <td>CCCGGCATGAGGG</td>\n",
       "      <td>0.769231</td>\n",
       "      <td>True</td>\n",
       "    </tr>\n",
       "    <tr>\n",
       "      <th>501445</th>\n",
       "      <td>chr3</td>\n",
       "      <td>HAVANA</td>\n",
       "      <td>5UTR</td>\n",
       "      <td>58419537</td>\n",
       "      <td>58419579</td>\n",
       "      <td>.</td>\n",
       "      <td>-</td>\n",
       "      <td>.</td>\n",
       "      <td>gene_id \"ENSG00000168291.8\"; transcript_id \"EN...</td>\n",
       "      <td>ENST00000302746.6</td>\n",
       "      <td>ENSG00000168291.8</td>\n",
       "      <td>PDHB</td>\n",
       "      <td>ENST00000302746.6:chr3:58419537:58419579</td>\n",
       "      <td>42</td>\n",
       "      <td>CTTGGTCGTGTCCTCTATCCGCTGCCAAACGACAACAGAGGGG</td>\n",
       "      <td>0.581395</td>\n",
       "      <td>True</td>\n",
       "    </tr>\n",
       "    <tr>\n",
       "      <th>781166</th>\n",
       "      <td>chr5</td>\n",
       "      <td>ENSEMBL</td>\n",
       "      <td>5UTR</td>\n",
       "      <td>148930528</td>\n",
       "      <td>148931007</td>\n",
       "      <td>.</td>\n",
       "      <td>-</td>\n",
       "      <td>.</td>\n",
       "      <td>gene_id \"ENSG00000113712.12\"; transcript_id \"E...</td>\n",
       "      <td>ENST00000377843.2</td>\n",
       "      <td>ENSG00000113712.12</td>\n",
       "      <td>CSNK1A1</td>\n",
       "      <td>ENST00000377843.2:chr5:148930528:148931007</td>\n",
       "      <td>479</td>\n",
       "      <td>CCTGAGAGACGAAGATGGAGGCTGGGGCCAAGCCCCGACACCTCTG...</td>\n",
       "      <td>0.660417</td>\n",
       "      <td>True</td>\n",
       "    </tr>\n",
       "    <tr>\n",
       "      <th>809144</th>\n",
       "      <td>chr5</td>\n",
       "      <td>HAVANA</td>\n",
       "      <td>5UTR</td>\n",
       "      <td>180229680</td>\n",
       "      <td>180229885</td>\n",
       "      <td>.</td>\n",
       "      <td>-</td>\n",
       "      <td>.</td>\n",
       "      <td>gene_id \"ENSG00000131446.11\"; transcript_id \"E...</td>\n",
       "      <td>ENST00000307826.4</td>\n",
       "      <td>ENSG00000131446.11</td>\n",
       "      <td>MGAT1</td>\n",
       "      <td>ENST00000307826.4:chr5:180229680:180229885</td>\n",
       "      <td>205</td>\n",
       "      <td>CAGGTCCTCCCGACGTCCTGGCCCCGAACTTGGCCTGCTCCGGGGC...</td>\n",
       "      <td>0.796117</td>\n",
       "      <td>True</td>\n",
       "    </tr>\n",
       "  </tbody>\n",
       "</table>\n",
       "</div>"
      ],
      "text/plain": [
       "           0        1     2          3          4  5  6  7  \\\n",
       "146161  chr1   HAVANA  5UTR  151318797  151318809  .  -  .   \n",
       "501445  chr3   HAVANA  5UTR   58419537   58419579  .  -  .   \n",
       "781166  chr5  ENSEMBL  5UTR  148930528  148931007  .  -  .   \n",
       "809144  chr5   HAVANA  5UTR  180229680  180229885  .  -  .   \n",
       "\n",
       "                                                        8      transcript_id  \\\n",
       "146161  gene_id \"ENSG00000143390.13\"; transcript_id \"E...  ENST00000290524.4   \n",
       "501445  gene_id \"ENSG00000168291.8\"; transcript_id \"EN...  ENST00000302746.6   \n",
       "781166  gene_id \"ENSG00000113712.12\"; transcript_id \"E...  ENST00000377843.2   \n",
       "809144  gene_id \"ENSG00000131446.11\"; transcript_id \"E...  ENST00000307826.4   \n",
       "\n",
       "                   gene_id gene_name  \\\n",
       "146161  ENSG00000143390.13      RFX5   \n",
       "501445   ENSG00000168291.8      PDHB   \n",
       "781166  ENSG00000113712.12   CSNK1A1   \n",
       "809144  ENSG00000131446.11     MGAT1   \n",
       "\n",
       "                                               key  length  \\\n",
       "146161  ENST00000290524.4:chr1:151318797:151318809      12   \n",
       "501445    ENST00000302746.6:chr3:58419537:58419579      42   \n",
       "781166  ENST00000377843.2:chr5:148930528:148931007     479   \n",
       "809144  ENST00000307826.4:chr5:180229680:180229885     205   \n",
       "\n",
       "                                                 sequence  GC_content  \\\n",
       "146161                                      CCCGGCATGAGGG    0.769231   \n",
       "501445        CTTGGTCGTGTCCTCTATCCGCTGCCAAACGACAACAGAGGGG    0.581395   \n",
       "781166  CCTGAGAGACGAAGATGGAGGCTGGGGCCAAGCCCCGACACCTCTG...    0.660417   \n",
       "809144  CAGGTCCTCCCGACGTCCTGGCCCCGAACTTGGCCTGCTCCGGGGC...    0.796117   \n",
       "\n",
       "        five_top_motif  \n",
       "146161            True  \n",
       "501445            True  \n",
       "781166            True  \n",
       "809144            True  "
      ]
     },
     "execution_count": 41,
     "metadata": {},
     "output_type": "execute_result"
    }
   ],
   "source": [
    "five_UTR[(five_UTR['transcript_id'].isin(low_translation_transcript)) &(five_UTR['five_top_motif']==True)]\n"
   ]
  },
  {
   "cell_type": "code",
   "execution_count": 43,
   "id": "fdf63cc8-1e63-4ac9-bcb6-7e07d72aaa39",
   "metadata": {},
   "outputs": [
    {
     "data": {
      "text/plain": [
       "['CAPN2',\n",
       " 'NUP133',\n",
       " 'YWHAQ',\n",
       " 'HADHB',\n",
       " 'CCNI',\n",
       " 'HSPA4',\n",
       " 'EIF2AK1',\n",
       " 'STRAP',\n",
       " 'SF3B3',\n",
       " 'KPNA2',\n",
       " 'CDH2',\n",
       " 'PPP2R1A',\n",
       " 'MAGED1',\n",
       " 'TAF9B']"
      ]
     },
     "execution_count": 43,
     "metadata": {},
     "output_type": "execute_result"
    }
   ],
   "source": [
    "five_UTR[(five_UTR['transcript_id'].isin(high_translation_transcript)) &(five_UTR['five_top_motif']==True)]['gene_name'].tolist()"
   ]
  },
  {
   "cell_type": "code",
   "execution_count": null,
   "id": "7b4bccea-c963-44d9-8a7d-67716673592b",
   "metadata": {},
   "outputs": [],
   "source": []
  }
 ],
 "metadata": {
  "kernelspec": {
   "display_name": "Python 3 (ipykernel)",
   "language": "python",
   "name": "python3"
  },
  "language_info": {
   "codemirror_mode": {
    "name": "ipython",
    "version": 3
   },
   "file_extension": ".py",
   "mimetype": "text/x-python",
   "name": "python",
   "nbconvert_exporter": "python",
   "pygments_lexer": "ipython3",
   "version": "3.9.15"
  }
 },
 "nbformat": 4,
 "nbformat_minor": 5
}
