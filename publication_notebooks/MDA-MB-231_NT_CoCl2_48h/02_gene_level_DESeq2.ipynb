{
 "cells": [
  {
   "cell_type": "code",
   "execution_count": 22,
   "id": "ceb4eb17-403a-4f62-ba75-9215e45d0ae2",
   "metadata": {},
   "outputs": [],
   "source": [
    "library(\"tximport\")\n",
    "library(\"readr\")\n",
    "library(\"DESeq2\")"
   ]
  },
  {
   "cell_type": "code",
   "execution_count": 23,
   "id": "ac097e2d-60c7-455e-91ef-7f7d5b22b0fc",
   "metadata": {},
   "outputs": [],
   "source": [
    "cts <- as.matrix(read.csv('all_sample_counts_matrix_gene_isoquant.csv',row.names=\"gene_id\"))"
   ]
  },
  {
   "cell_type": "code",
   "execution_count": 24,
   "id": "03d58682-26b9-41e3-831a-807b49572ec1",
   "metadata": {},
   "outputs": [
    {
     "data": {
      "text/html": [
       "<table class=\"dataframe\">\n",
       "<caption>A matrix: 6 × 4 of type dbl</caption>\n",
       "<thead>\n",
       "\t<tr><th></th><th scope=col>X231_NT_rep1</th><th scope=col>X231_NT_rep2</th><th scope=col>X231_cocl2_rep1</th><th scope=col>X231_cocl2_rep2</th></tr>\n",
       "</thead>\n",
       "<tbody>\n",
       "\t<tr><th scope=row>ENSG00000000003.15</th><td>113</td><td> 87</td><td> 58</td><td> 76</td></tr>\n",
       "\t<tr><th scope=row>ENSG00000000419.14</th><td> 39</td><td> 54</td><td> 46</td><td> 44</td></tr>\n",
       "\t<tr><th scope=row>ENSG00000001036.14</th><td>371</td><td>557</td><td>429</td><td>406</td></tr>\n",
       "\t<tr><th scope=row>ENSG00000001461.17</th><td> 49</td><td> 48</td><td> 59</td><td> 49</td></tr>\n",
       "\t<tr><th scope=row>ENSG00000001497.18</th><td> 22</td><td> 24</td><td> 23</td><td> 27</td></tr>\n",
       "\t<tr><th scope=row>ENSG00000001630.17</th><td> 60</td><td> 55</td><td> 30</td><td> 28</td></tr>\n",
       "</tbody>\n",
       "</table>\n"
      ],
      "text/latex": [
       "A matrix: 6 × 4 of type dbl\n",
       "\\begin{tabular}{r|llll}\n",
       "  & X231\\_NT\\_rep1 & X231\\_NT\\_rep2 & X231\\_cocl2\\_rep1 & X231\\_cocl2\\_rep2\\\\\n",
       "\\hline\n",
       "\tENSG00000000003.15 & 113 &  87 &  58 &  76\\\\\n",
       "\tENSG00000000419.14 &  39 &  54 &  46 &  44\\\\\n",
       "\tENSG00000001036.14 & 371 & 557 & 429 & 406\\\\\n",
       "\tENSG00000001461.17 &  49 &  48 &  59 &  49\\\\\n",
       "\tENSG00000001497.18 &  22 &  24 &  23 &  27\\\\\n",
       "\tENSG00000001630.17 &  60 &  55 &  30 &  28\\\\\n",
       "\\end{tabular}\n"
      ],
      "text/markdown": [
       "\n",
       "A matrix: 6 × 4 of type dbl\n",
       "\n",
       "| <!--/--> | X231_NT_rep1 | X231_NT_rep2 | X231_cocl2_rep1 | X231_cocl2_rep2 |\n",
       "|---|---|---|---|---|\n",
       "| ENSG00000000003.15 | 113 |  87 |  58 |  76 |\n",
       "| ENSG00000000419.14 |  39 |  54 |  46 |  44 |\n",
       "| ENSG00000001036.14 | 371 | 557 | 429 | 406 |\n",
       "| ENSG00000001461.17 |  49 |  48 |  59 |  49 |\n",
       "| ENSG00000001497.18 |  22 |  24 |  23 |  27 |\n",
       "| ENSG00000001630.17 |  60 |  55 |  30 |  28 |\n",
       "\n"
      ],
      "text/plain": [
       "                   X231_NT_rep1 X231_NT_rep2 X231_cocl2_rep1 X231_cocl2_rep2\n",
       "ENSG00000000003.15 113           87           58              76            \n",
       "ENSG00000000419.14  39           54           46              44            \n",
       "ENSG00000001036.14 371          557          429             406            \n",
       "ENSG00000001461.17  49           48           59              49            \n",
       "ENSG00000001497.18  22           24           23              27            \n",
       "ENSG00000001630.17  60           55           30              28            "
      ]
     },
     "metadata": {},
     "output_type": "display_data"
    }
   ],
   "source": [
    "head(cts)"
   ]
  },
  {
   "cell_type": "code",
   "execution_count": 25,
   "id": "f93bc31d-3497-4a4d-80b9-6a6bce93c3a3",
   "metadata": {},
   "outputs": [],
   "source": [
    "coldata <- read.csv('sample_file.txt', sep='\\t', row.names=1)"
   ]
  },
  {
   "cell_type": "code",
   "execution_count": 26,
   "id": "9c03e710-31ca-4789-9c2f-9a07a2b762ec",
   "metadata": {},
   "outputs": [],
   "source": [
    "coldata <- coldata[,c(\"condition\",\"type\")]"
   ]
  },
  {
   "cell_type": "code",
   "execution_count": 27,
   "id": "995c11c2-c982-4b83-8cc0-08cc1430164a",
   "metadata": {},
   "outputs": [],
   "source": [
    "coldata$condition <- factor(coldata$condition)"
   ]
  },
  {
   "cell_type": "code",
   "execution_count": 28,
   "id": "26e7dfd9-b73f-4d23-a8fb-0ca78ec4d0d0",
   "metadata": {},
   "outputs": [],
   "source": [
    "coldata$type <- factor(coldata$type)"
   ]
  },
  {
   "cell_type": "code",
   "execution_count": 29,
   "id": "b47f7177-a7fa-4dfb-a9ea-dabe209763ad",
   "metadata": {},
   "outputs": [
    {
     "data": {
      "text/html": [
       "<table class=\"dataframe\">\n",
       "<caption>A data.frame: 4 × 2</caption>\n",
       "<thead>\n",
       "\t<tr><th></th><th scope=col>condition</th><th scope=col>type</th></tr>\n",
       "\t<tr><th></th><th scope=col>&lt;fct&gt;</th><th scope=col>&lt;fct&gt;</th></tr>\n",
       "</thead>\n",
       "<tbody>\n",
       "\t<tr><th scope=row>X231_NT_rep1</th><td>A</td><td>single-end</td></tr>\n",
       "\t<tr><th scope=row>X231_NT_rep2</th><td>A</td><td>single-end</td></tr>\n",
       "\t<tr><th scope=row>X231_cocl2_rep1</th><td>B</td><td>single-end</td></tr>\n",
       "\t<tr><th scope=row>X231_cocl2_rep2</th><td>B</td><td>single-end</td></tr>\n",
       "</tbody>\n",
       "</table>\n"
      ],
      "text/latex": [
       "A data.frame: 4 × 2\n",
       "\\begin{tabular}{r|ll}\n",
       "  & condition & type\\\\\n",
       "  & <fct> & <fct>\\\\\n",
       "\\hline\n",
       "\tX231\\_NT\\_rep1 & A & single-end\\\\\n",
       "\tX231\\_NT\\_rep2 & A & single-end\\\\\n",
       "\tX231\\_cocl2\\_rep1 & B & single-end\\\\\n",
       "\tX231\\_cocl2\\_rep2 & B & single-end\\\\\n",
       "\\end{tabular}\n"
      ],
      "text/markdown": [
       "\n",
       "A data.frame: 4 × 2\n",
       "\n",
       "| <!--/--> | condition &lt;fct&gt; | type &lt;fct&gt; |\n",
       "|---|---|---|\n",
       "| X231_NT_rep1 | A | single-end |\n",
       "| X231_NT_rep2 | A | single-end |\n",
       "| X231_cocl2_rep1 | B | single-end |\n",
       "| X231_cocl2_rep2 | B | single-end |\n",
       "\n"
      ],
      "text/plain": [
       "                condition type      \n",
       "X231_NT_rep1    A         single-end\n",
       "X231_NT_rep2    A         single-end\n",
       "X231_cocl2_rep1 B         single-end\n",
       "X231_cocl2_rep2 B         single-end"
      ]
     },
     "metadata": {},
     "output_type": "display_data"
    }
   ],
   "source": [
    "coldata"
   ]
  },
  {
   "cell_type": "code",
   "execution_count": 30,
   "id": "5a40ad34-93dd-40dd-a133-ceb897da310d",
   "metadata": {},
   "outputs": [
    {
     "name": "stderr",
     "output_type": "stream",
     "text": [
      "converting counts to integer mode\n",
      "\n"
     ]
    }
   ],
   "source": [
    "dds <- DESeqDataSetFromMatrix(countData = cts,\n",
    "                              colData = coldata,\n",
    "                              design = ~ condition)"
   ]
  },
  {
   "cell_type": "code",
   "execution_count": 32,
   "id": "7cd69c83-a402-43c6-8a17-c046935a9964",
   "metadata": {},
   "outputs": [],
   "source": [
    "smallestGroupSize <- 2\n",
    "keep <- rowSums(counts(dds) >= 10) >= smallestGroupSize\n",
    "dds <- dds[keep,]"
   ]
  },
  {
   "cell_type": "code",
   "execution_count": 33,
   "id": "f02f4447-0ad2-4f06-9b49-d4f9a02bbf10",
   "metadata": {},
   "outputs": [
    {
     "name": "stderr",
     "output_type": "stream",
     "text": [
      "estimating size factors\n",
      "\n",
      "estimating dispersions\n",
      "\n",
      "gene-wise dispersion estimates\n",
      "\n",
      "mean-dispersion relationship\n",
      "\n",
      "final dispersion estimates\n",
      "\n",
      "fitting model and testing\n",
      "\n"
     ]
    },
    {
     "data": {
      "text/plain": [
       "log2 fold change (MLE): condition B vs A \n",
       "Wald test p-value: condition B vs A \n",
       "DataFrame with 4698 rows and 6 columns\n",
       "                    baseMean log2FoldChange     lfcSE       stat    pvalue\n",
       "                   <numeric>      <numeric> <numeric>  <numeric> <numeric>\n",
       "ENSG00000000003.15   84.1797    -0.52945224  0.386774 -1.3688919  0.171033\n",
       "ENSG00000000419.14   45.9085     0.00698858  0.468394  0.0149203  0.988096\n",
       "ENSG00000001036.14  441.6150    -0.09556255  0.245641 -0.3890326  0.697252\n",
       "ENSG00000001461.17   51.5741     0.19967892  0.442719  0.4510283  0.651969\n",
       "ENSG00000001497.18   24.2013     0.17377655  0.618386  0.2810165  0.778698\n",
       "...                      ...            ...       ...        ...       ...\n",
       "ENSG00000284194.3    65.2507       0.865097  0.412716   2.096108 0.0360726\n",
       "ENSG00000284753.2    51.9735       0.848320  0.446645   1.899318 0.0575227\n",
       "ENSG00000284770.2    41.3930      -0.363449  0.507298  -0.716441 0.4737190\n",
       "ENSG00000286112.1    39.6188       0.738992  0.497827   1.484434 0.1376939\n",
       "ENSG00000288722.1   314.2185       0.554148  0.243301   2.277623 0.0227490\n",
       "                        padj\n",
       "                   <numeric>\n",
       "ENSG00000000003.15  0.259660\n",
       "ENSG00000000419.14  0.993034\n",
       "ENSG00000001036.14  0.768702\n",
       "ENSG00000001461.17  0.729651\n",
       "ENSG00000001497.18        NA\n",
       "...                      ...\n",
       "ENSG00000284194.3  0.0842139\n",
       "ENSG00000284753.2  0.1166271\n",
       "ENSG00000284770.2  0.5698023\n",
       "ENSG00000286112.1  0.2206294\n",
       "ENSG00000288722.1  0.0605546"
      ]
     },
     "metadata": {},
     "output_type": "display_data"
    }
   ],
   "source": [
    "dds <- DESeq(dds)\n",
    "res <- results(dds)\n",
    "res"
   ]
  },
  {
   "cell_type": "code",
   "execution_count": 34,
   "id": "0081b937-bb37-460c-b2ce-e3016db00173",
   "metadata": {},
   "outputs": [],
   "source": [
    "resOrdered <- res[order(res$pvalue),]\n"
   ]
  },
  {
   "cell_type": "code",
   "execution_count": 35,
   "id": "78b2df7f-1f06-429d-b9c7-218933abed99",
   "metadata": {},
   "outputs": [
    {
     "name": "stdout",
     "output_type": "stream",
     "text": [
      "\n",
      "out of 4698 with nonzero total read count\n",
      "adjusted p-value < 0.1\n",
      "LFC > 0 (up)       : 1017, 22%\n",
      "LFC < 0 (down)     : 1040, 22%\n",
      "outliers [1]       : 0, 0%\n",
      "low counts [2]     : 274, 5.8%\n",
      "(mean count < 33)\n",
      "[1] see 'cooksCutoff' argument of ?results\n",
      "[2] see 'independentFiltering' argument of ?results\n",
      "\n"
     ]
    }
   ],
   "source": [
    "summary(res)\n"
   ]
  },
  {
   "cell_type": "code",
   "execution_count": 36,
   "id": "ec17bb96-cb7b-4285-b5fe-de51043678f3",
   "metadata": {},
   "outputs": [
    {
     "data": {
      "text/html": [
       "722"
      ],
      "text/latex": [
       "722"
      ],
      "text/markdown": [
       "722"
      ],
      "text/plain": [
       "[1] 722"
      ]
     },
     "metadata": {},
     "output_type": "display_data"
    }
   ],
   "source": [
    "sum(res$padj < 0.01, na.rm=TRUE)\n"
   ]
  },
  {
   "cell_type": "code",
   "execution_count": 37,
   "id": "8460a397-563e-4a55-89f7-fa406078369b",
   "metadata": {},
   "outputs": [
    {
     "data": {
      "image/png": "[encoded data removed]",
      "text/plain": [
       "Plot with title “”"
      ]
     },
     "metadata": {
      "image/png": {
       "height": 420,
       "width": 420
      }
     },
     "output_type": "display_data"
    }
   ],
   "source": [
    "plotMA(res, ylim=c(-2,2))"
   ]
  },
  {
   "cell_type": "code",
   "execution_count": 39,
   "id": "83b183c7-33f8-4c7b-948e-da73390468e8",
   "metadata": {},
   "outputs": [],
   "source": [
    "write.csv(as.data.frame(resOrdered), \n",
    "          file=\"231_WT_vs_Cocl2_gene.csv\")"
   ]
  },
  {
   "cell_type": "code",
   "execution_count": null,
   "id": "f45b49fe-4995-4539-82ad-287db52180d2",
   "metadata": {},
   "outputs": [],
   "source": []
  }
 ],
 "metadata": {
  "kernelspec": {
   "display_name": "R [conda env:R_env]",
   "language": "R",
   "name": "conda-env-R_env-r"
  },
  "language_info": {
   "codemirror_mode": "r",
   "file_extension": ".r",
   "mimetype": "text/x-r-source",
   "name": "R",
   "pygments_lexer": "r",
   "version": "4.3.1"
  }
 },
 "nbformat": 4,
 "nbformat_minor": 5
}
