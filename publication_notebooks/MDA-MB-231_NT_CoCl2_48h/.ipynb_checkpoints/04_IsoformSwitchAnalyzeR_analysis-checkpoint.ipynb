{
 "cells": [
  {
   "cell_type": "code",
   "execution_count": 2,
   "id": "2f631ad8-7110-44de-bae6-dd18ac625001",
   "metadata": {},
   "outputs": [],
   "source": [
    "library(IsoformSwitchAnalyzeR)\n",
    "library(dplyr)\n",
    "library(data.table)"
   ]
  },
  {
   "cell_type": "code",
   "execution_count": 3,
   "id": "38fffcc5-48c9-464a-a0dd-57f77266ebea",
   "metadata": {},
   "outputs": [],
   "source": [
    "isoformCountMatrix <- fread(\"all_sample_transcript_count_isoswitchR.tsv\",sep = \"\\t\",header = T,check.names = F,data.table = F)\n",
    "colnames(isoformCountMatrix) <- c(\"isoform_id\", \"NT-1\", \"NT-2\", \"COCL2-1\", \"COCL2-2\")"
   ]
  },
  {
   "cell_type": "code",
   "execution_count": 4,
   "id": "5b2ab10c-c7ef-4953-b341-d13208b57eaa",
   "metadata": {},
   "outputs": [],
   "source": [
    "isoformRepExpression <- fread(\"all_sample_transcript_tpm_isoswitchR.tsv\",sep = \"\\t\",header = T,check.names = F,data.table = F)\n",
    "colnames(isoformRepExpression) <- c(\"isoform_id\", \"NT-1\", \"NT-2\", \"COCL2-1\", \"COCL2-2\")"
   ]
  },
  {
   "cell_type": "code",
   "execution_count": 5,
   "id": "e9e0d8d3-8f5e-4598-81c9-69b041b2a529",
   "metadata": {},
   "outputs": [],
   "source": [
    "designMatrix <- data.frame(\n",
    "  sampleID = colnames(isoformCountMatrix[-1]),\n",
    "  condition = rep(c(\"NT\",\"COCL2\"),each = 2)\n",
    ")"
   ]
  },
  {
   "cell_type": "code",
   "execution_count": 6,
   "id": "c28864b7-337c-455c-9467-5c839fe82eaa",
   "metadata": {},
   "outputs": [
    {
     "data": {
      "text/html": [
       "<table class=\"dataframe\">\n",
       "<caption>A data.frame: 4 × 2</caption>\n",
       "<thead>\n",
       "\t<tr><th scope=col>sampleID</th><th scope=col>condition</th></tr>\n",
       "\t<tr><th scope=col>&lt;chr&gt;</th><th scope=col>&lt;chr&gt;</th></tr>\n",
       "</thead>\n",
       "<tbody>\n",
       "\t<tr><td>NT-1   </td><td>NT   </td></tr>\n",
       "\t<tr><td>NT-2   </td><td>NT   </td></tr>\n",
       "\t<tr><td>COCL2-1</td><td>COCL2</td></tr>\n",
       "\t<tr><td>COCL2-2</td><td>COCL2</td></tr>\n",
       "</tbody>\n",
       "</table>\n"
      ],
      "text/latex": [
       "A data.frame: 4 × 2\n",
       "\\begin{tabular}{ll}\n",
       " sampleID & condition\\\\\n",
       " <chr> & <chr>\\\\\n",
       "\\hline\n",
       "\t NT-1    & NT   \\\\\n",
       "\t NT-2    & NT   \\\\\n",
       "\t COCL2-1 & COCL2\\\\\n",
       "\t COCL2-2 & COCL2\\\\\n",
       "\\end{tabular}\n"
      ],
      "text/markdown": [
       "\n",
       "A data.frame: 4 × 2\n",
       "\n",
       "| sampleID &lt;chr&gt; | condition &lt;chr&gt; |\n",
       "|---|---|\n",
       "| NT-1    | NT    |\n",
       "| NT-2    | NT    |\n",
       "| COCL2-1 | COCL2 |\n",
       "| COCL2-2 | COCL2 |\n",
       "\n"
      ],
      "text/plain": [
       "  sampleID condition\n",
       "1 NT-1     NT       \n",
       "2 NT-2     NT       \n",
       "3 COCL2-1  COCL2    \n",
       "4 COCL2-2  COCL2    "
      ]
     },
     "metadata": {},
     "output_type": "display_data"
    }
   ],
   "source": [
    "designMatrix"
   ]
  },
  {
   "cell_type": "code",
   "execution_count": 7,
   "id": "cc904b7d-b321-4847-b338-c7c10f4d7e96",
   "metadata": {},
   "outputs": [],
   "source": [
    "isoformExonAnnoation <- \"gencode.v38.annotation.filtered.gtf\""
   ]
  },
  {
   "cell_type": "code",
   "execution_count": 8,
   "id": "eec46aa4-ae7c-4916-869d-a82aa34c471c",
   "metadata": {},
   "outputs": [],
   "source": [
    "isoformNtFasta <- \"gencode.v38.transcripts.fa\""
   ]
  },
  {
   "cell_type": "code",
   "execution_count": 9,
   "id": "c0e44d51-3e04-46d0-bc4f-16c08d8fa393",
   "metadata": {},
   "outputs": [],
   "source": [
    "comparisonsToMake <- data.frame(\n",
    "  condition_1 = c(\"NT\"),\n",
    "  condition_2 = c(\"COCL2\")\n",
    ")"
   ]
  },
  {
   "cell_type": "code",
   "execution_count": 10,
   "id": "d1517025-7946-4ee0-a0f9-577855ab9a05",
   "metadata": {},
   "outputs": [
    {
     "data": {
      "text/html": [
       "<table class=\"dataframe\">\n",
       "<caption>A data.frame: 1 × 2</caption>\n",
       "<thead>\n",
       "\t<tr><th scope=col>condition_1</th><th scope=col>condition_2</th></tr>\n",
       "\t<tr><th scope=col>&lt;chr&gt;</th><th scope=col>&lt;chr&gt;</th></tr>\n",
       "</thead>\n",
       "<tbody>\n",
       "\t<tr><td>NT</td><td>COCL2</td></tr>\n",
       "</tbody>\n",
       "</table>\n"
      ],
      "text/latex": [
       "A data.frame: 1 × 2\n",
       "\\begin{tabular}{ll}\n",
       " condition\\_1 & condition\\_2\\\\\n",
       " <chr> & <chr>\\\\\n",
       "\\hline\n",
       "\t NT & COCL2\\\\\n",
       "\\end{tabular}\n"
      ],
      "text/markdown": [
       "\n",
       "A data.frame: 1 × 2\n",
       "\n",
       "| condition_1 &lt;chr&gt; | condition_2 &lt;chr&gt; |\n",
       "|---|---|\n",
       "| NT | COCL2 |\n",
       "\n"
      ],
      "text/plain": [
       "  condition_1 condition_2\n",
       "1 NT          COCL2      "
      ]
     },
     "metadata": {},
     "output_type": "display_data"
    }
   ],
   "source": [
    "comparisonsToMake"
   ]
  },
  {
   "cell_type": "code",
   "execution_count": 11,
   "id": "9318f2ae-293b-4adb-b634-d4e0e5fdb011",
   "metadata": {},
   "outputs": [
    {
     "name": "stderr",
     "output_type": "stream",
     "text": [
      "Step 1 of 10: Checking data...\n",
      "\n",
      "Step 2 of 10: Obtaining annotation...\n",
      "\n",
      "    importing GTF (this may take a while)...\n",
      "\n",
      "Step 3 of 10: Fixing StringTie gene annoation problems...\n",
      "\n",
      "    There were no need to rescue any annotation\n",
      "\n",
      "    9406 genes_id were assigned their original gene_id instead of the StringTie gene_id.\n",
      "        This was only done when it could be done unambiguous.\n",
      "\n",
      "Step 4 of 10: Calculating expression estimates from count data...\n",
      "\n",
      "    Skipped as user supplied expression via the \"isoformRepExpression\" argument...\n",
      "\n",
      "Step 5 of 10: Testing for unwanted effects...\n",
      "\n",
      "    No unwanted effects added\n",
      "\n",
      "Step 6 of 10: Batch correcting expression estimates...\n",
      "\n",
      "    Skipped as no batch effects were found or annoated...\n",
      "\n",
      "Step 7 of 10: Extracting data from each condition...\n",
      "\n"
     ]
    },
    {
     "name": "stdout",
     "output_type": "stream",
     "text": [
      "  |======================================================================| 100%\n"
     ]
    },
    {
     "name": "stderr",
     "output_type": "stream",
     "text": [
      "Step 8 of 10: Making comparisons...\n",
      "\n"
     ]
    },
    {
     "name": "stdout",
     "output_type": "stream",
     "text": [
      "  |======================================================================| 100%\n"
     ]
    },
    {
     "name": "stderr",
     "output_type": "stream",
     "text": [
      "Step 9 of 10: Making switchAnalyzeRlist object...\n",
      "\n",
      "Step 10 of 10: Guestimating differential usage...\n",
      "\n",
      "    The GUESSTIMATED number of genes with differential isoform usage are:\n",
      "\n"
     ]
    },
    {
     "name": "stdout",
     "output_type": "stream",
     "text": [
      "   comparison estimated_genes_with_dtu\n",
      "1 NT vs COCL2                    0 - 0\n"
     ]
    },
    {
     "name": "stderr",
     "output_type": "stream",
     "text": [
      "Done\n",
      "\n",
      "\n"
     ]
    }
   ],
   "source": [
    "aSwitchList <- importRdata(\n",
    "  isoformCountMatrix = isoformCountMatrix,\n",
    "  isoformRepExpression = isoformRepExpression,\n",
    "  designMatrix = designMatrix,\n",
    "  isoformExonAnnoation = isoformExonAnnoation,\n",
    "  isoformNtFasta = isoformNtFasta,\n",
    "  comparisonsToMake = comparisonsToMake\n",
    ")"
   ]
  },
  {
   "cell_type": "code",
   "execution_count": 12,
   "id": "83b48678-d82d-4510-b289-246a09a56228",
   "metadata": {},
   "outputs": [
    {
     "data": {
      "text/html": [
       "<style>\n",
       ".list-inline {list-style: none; margin:0; padding: 0}\n",
       ".list-inline>li {display: inline-block}\n",
       ".list-inline>li:not(:last-child)::after {content: \"\\00b7\"; padding: 0 .5ex}\n",
       "</style>\n",
       "<ol class=list-inline><li>'isoformFeatures'</li><li>'exons'</li><li>'conditions'</li><li>'designMatrix'</li><li>'sourceId'</li><li>'isoformCountMatrix'</li><li>'isoformRepExpression'</li><li>'runInfo'</li><li>'orfAnalysis'</li><li>'isoformRepIF'</li><li>'ntSequence'</li></ol>\n"
      ],
      "text/latex": [
       "\\begin{enumerate*}\n",
       "\\item 'isoformFeatures'\n",
       "\\item 'exons'\n",
       "\\item 'conditions'\n",
       "\\item 'designMatrix'\n",
       "\\item 'sourceId'\n",
       "\\item 'isoformCountMatrix'\n",
       "\\item 'isoformRepExpression'\n",
       "\\item 'runInfo'\n",
       "\\item 'orfAnalysis'\n",
       "\\item 'isoformRepIF'\n",
       "\\item 'ntSequence'\n",
       "\\end{enumerate*}\n"
      ],
      "text/markdown": [
       "1. 'isoformFeatures'\n",
       "2. 'exons'\n",
       "3. 'conditions'\n",
       "4. 'designMatrix'\n",
       "5. 'sourceId'\n",
       "6. 'isoformCountMatrix'\n",
       "7. 'isoformRepExpression'\n",
       "8. 'runInfo'\n",
       "9. 'orfAnalysis'\n",
       "10. 'isoformRepIF'\n",
       "11. 'ntSequence'\n",
       "\n",
       "\n"
      ],
      "text/plain": [
       " [1] \"isoformFeatures\"      \"exons\"                \"conditions\"          \n",
       " [4] \"designMatrix\"         \"sourceId\"             \"isoformCountMatrix\"  \n",
       " [7] \"isoformRepExpression\" \"runInfo\"              \"orfAnalysis\"         \n",
       "[10] \"isoformRepIF\"         \"ntSequence\"          "
      ]
     },
     "metadata": {},
     "output_type": "display_data"
    }
   ],
   "source": [
    "names(aSwitchList)"
   ]
  },
  {
   "cell_type": "code",
   "execution_count": 13,
   "id": "ff0dd780-aca1-4715-a93f-aac8f7ce2b51",
   "metadata": {},
   "outputs": [
    {
     "data": {
      "text/html": [
       "'switchAnalyzeRlist'"
      ],
      "text/latex": [
       "'switchAnalyzeRlist'"
      ],
      "text/markdown": [
       "'switchAnalyzeRlist'"
      ],
      "text/plain": [
       "[1] \"switchAnalyzeRlist\"\n",
       "attr(,\"package\")\n",
       "[1] \"IsoformSwitchAnalyzeR\""
      ]
     },
     "metadata": {},
     "output_type": "display_data"
    }
   ],
   "source": [
    "class(aSwitchList)"
   ]
  },
  {
   "cell_type": "code",
   "execution_count": 14,
   "id": "30b6d11d-def1-4d2d-b41c-9ef3277fd144",
   "metadata": {},
   "outputs": [
    {
     "data": {
      "text/html": [
       "<table class=\"dataframe\">\n",
       "<caption>A data.frame: 5 × 30</caption>\n",
       "<thead>\n",
       "\t<tr><th></th><th scope=col>iso_ref</th><th scope=col>gene_ref</th><th scope=col>isoform_id</th><th scope=col>gene_id</th><th scope=col>condition_1</th><th scope=col>condition_2</th><th scope=col>gene_name</th><th scope=col>gene_biotype</th><th scope=col>iso_biotype</th><th scope=col>gene_overall_mean</th><th scope=col>⋯</th><th scope=col>iso_stderr_2</th><th scope=col>iso_log2_fold_change</th><th scope=col>iso_q_value</th><th scope=col>IF_overall</th><th scope=col>IF1</th><th scope=col>IF2</th><th scope=col>dIF</th><th scope=col>isoform_switch_q_value</th><th scope=col>gene_switch_q_value</th><th scope=col>PTC</th></tr>\n",
       "\t<tr><th></th><th scope=col>&lt;chr&gt;</th><th scope=col>&lt;chr&gt;</th><th scope=col>&lt;chr&gt;</th><th scope=col>&lt;chr&gt;</th><th scope=col>&lt;chr&gt;</th><th scope=col>&lt;chr&gt;</th><th scope=col>&lt;chr&gt;</th><th scope=col>&lt;chr&gt;</th><th scope=col>&lt;chr&gt;</th><th scope=col>&lt;dbl&gt;</th><th scope=col>⋯</th><th scope=col>&lt;dbl&gt;</th><th scope=col>&lt;dbl&gt;</th><th scope=col>&lt;lgl&gt;</th><th scope=col>&lt;dbl&gt;</th><th scope=col>&lt;dbl&gt;</th><th scope=col>&lt;dbl&gt;</th><th scope=col>&lt;dbl&gt;</th><th scope=col>&lt;lgl&gt;</th><th scope=col>&lt;lgl&gt;</th><th scope=col>&lt;lgl&gt;</th></tr>\n",
       "</thead>\n",
       "<tbody>\n",
       "\t<tr><th scope=row>5874</th><td>isoComp_00000001</td><td>geneComp_00000001</td><td>ENST00000381278.4 </td><td>A4GALT</td><td>NT</td><td>COCL2</td><td>A4GALT</td><td>protein_coding</td><td>protein_coding</td><td>38.78546</td><td>⋯</td><td>1.4257465</td><td> 0.5482622</td><td>NA</td><td>0.101525</td><td>0.09360</td><td>0.10945</td><td> 0.01585</td><td>NA</td><td>NA</td><td>FALSE</td></tr>\n",
       "\t<tr><th scope=row>5875</th><td>isoComp_00000002</td><td>geneComp_00000001</td><td>ENST00000642412.2 </td><td>A4GALT</td><td>NT</td><td>COCL2</td><td>A4GALT</td><td>protein_coding</td><td>protein_coding</td><td>38.78546</td><td>⋯</td><td>1.4094920</td><td> 0.2618033</td><td>NA</td><td>0.898475</td><td>0.90640</td><td>0.89055</td><td>-0.01585</td><td>NA</td><td>NA</td><td>FALSE</td></tr>\n",
       "\t<tr><th scope=row>2014</th><td>isoComp_00000003</td><td>geneComp_00000002</td><td>ENST00000209873.9 </td><td>AAAS  </td><td>NT</td><td>COCL2</td><td>AAAS  </td><td>protein_coding</td><td>protein_coding</td><td>60.98551</td><td>⋯</td><td>6.9364415</td><td> 0.2958796</td><td>NA</td><td>0.922200</td><td>0.92795</td><td>0.91645</td><td>-0.01150</td><td>NA</td><td>NA</td><td>FALSE</td></tr>\n",
       "\t<tr><th scope=row>2015</th><td>isoComp_00000004</td><td>geneComp_00000002</td><td>ENST00000394384.7 </td><td>AAAS  </td><td>NT</td><td>COCL2</td><td>AAAS  </td><td>protein_coding</td><td>protein_coding</td><td>60.98551</td><td>⋯</td><td>2.5830755</td><td> 0.5419530</td><td>NA</td><td>0.077800</td><td>0.07205</td><td>0.08355</td><td> 0.01150</td><td>NA</td><td>NA</td><td>FALSE</td></tr>\n",
       "\t<tr><th scope=row>1513</th><td>isoComp_00000005</td><td>geneComp_00000003</td><td>ENST00000316519.11</td><td>AACS  </td><td>NT</td><td>COCL2</td><td>AACS  </td><td>protein_coding</td><td>protein_coding</td><td>28.70733</td><td>⋯</td><td>0.1129965</td><td>-1.6319295</td><td>NA</td><td>1.000000</td><td>1.00000</td><td>1.00000</td><td> 0.00000</td><td>NA</td><td>NA</td><td>FALSE</td></tr>\n",
       "</tbody>\n",
       "</table>\n"
      ],
      "text/latex": [
       "A data.frame: 5 × 30\n",
       "\\begin{tabular}{r|lllllllllllllllllllll}\n",
       "  & iso\\_ref & gene\\_ref & isoform\\_id & gene\\_id & condition\\_1 & condition\\_2 & gene\\_name & gene\\_biotype & iso\\_biotype & gene\\_overall\\_mean & ⋯ & iso\\_stderr\\_2 & iso\\_log2\\_fold\\_change & iso\\_q\\_value & IF\\_overall & IF1 & IF2 & dIF & isoform\\_switch\\_q\\_value & gene\\_switch\\_q\\_value & PTC\\\\\n",
       "  & <chr> & <chr> & <chr> & <chr> & <chr> & <chr> & <chr> & <chr> & <chr> & <dbl> & ⋯ & <dbl> & <dbl> & <lgl> & <dbl> & <dbl> & <dbl> & <dbl> & <lgl> & <lgl> & <lgl>\\\\\n",
       "\\hline\n",
       "\t5874 & isoComp\\_00000001 & geneComp\\_00000001 & ENST00000381278.4  & A4GALT & NT & COCL2 & A4GALT & protein\\_coding & protein\\_coding & 38.78546 & ⋯ & 1.4257465 &  0.5482622 & NA & 0.101525 & 0.09360 & 0.10945 &  0.01585 & NA & NA & FALSE\\\\\n",
       "\t5875 & isoComp\\_00000002 & geneComp\\_00000001 & ENST00000642412.2  & A4GALT & NT & COCL2 & A4GALT & protein\\_coding & protein\\_coding & 38.78546 & ⋯ & 1.4094920 &  0.2618033 & NA & 0.898475 & 0.90640 & 0.89055 & -0.01585 & NA & NA & FALSE\\\\\n",
       "\t2014 & isoComp\\_00000003 & geneComp\\_00000002 & ENST00000209873.9  & AAAS   & NT & COCL2 & AAAS   & protein\\_coding & protein\\_coding & 60.98551 & ⋯ & 6.9364415 &  0.2958796 & NA & 0.922200 & 0.92795 & 0.91645 & -0.01150 & NA & NA & FALSE\\\\\n",
       "\t2015 & isoComp\\_00000004 & geneComp\\_00000002 & ENST00000394384.7  & AAAS   & NT & COCL2 & AAAS   & protein\\_coding & protein\\_coding & 60.98551 & ⋯ & 2.5830755 &  0.5419530 & NA & 0.077800 & 0.07205 & 0.08355 &  0.01150 & NA & NA & FALSE\\\\\n",
       "\t1513 & isoComp\\_00000005 & geneComp\\_00000003 & ENST00000316519.11 & AACS   & NT & COCL2 & AACS   & protein\\_coding & protein\\_coding & 28.70733 & ⋯ & 0.1129965 & -1.6319295 & NA & 1.000000 & 1.00000 & 1.00000 &  0.00000 & NA & NA & FALSE\\\\\n",
       "\\end{tabular}\n"
      ],
      "text/markdown": [
       "\n",
       "A data.frame: 5 × 30\n",
       "\n",
       "| <!--/--> | iso_ref &lt;chr&gt; | gene_ref &lt;chr&gt; | isoform_id &lt;chr&gt; | gene_id &lt;chr&gt; | condition_1 &lt;chr&gt; | condition_2 &lt;chr&gt; | gene_name &lt;chr&gt; | gene_biotype &lt;chr&gt; | iso_biotype &lt;chr&gt; | gene_overall_mean &lt;dbl&gt; | ⋯ ⋯ | iso_stderr_2 &lt;dbl&gt; | iso_log2_fold_change &lt;dbl&gt; | iso_q_value &lt;lgl&gt; | IF_overall &lt;dbl&gt; | IF1 &lt;dbl&gt; | IF2 &lt;dbl&gt; | dIF &lt;dbl&gt; | isoform_switch_q_value &lt;lgl&gt; | gene_switch_q_value &lt;lgl&gt; | PTC &lt;lgl&gt; |\n",
       "|---|---|---|---|---|---|---|---|---|---|---|---|---|---|---|---|---|---|---|---|---|---|\n",
       "| 5874 | isoComp_00000001 | geneComp_00000001 | ENST00000381278.4  | A4GALT | NT | COCL2 | A4GALT | protein_coding | protein_coding | 38.78546 | ⋯ | 1.4257465 |  0.5482622 | NA | 0.101525 | 0.09360 | 0.10945 |  0.01585 | NA | NA | FALSE |\n",
       "| 5875 | isoComp_00000002 | geneComp_00000001 | ENST00000642412.2  | A4GALT | NT | COCL2 | A4GALT | protein_coding | protein_coding | 38.78546 | ⋯ | 1.4094920 |  0.2618033 | NA | 0.898475 | 0.90640 | 0.89055 | -0.01585 | NA | NA | FALSE |\n",
       "| 2014 | isoComp_00000003 | geneComp_00000002 | ENST00000209873.9  | AAAS   | NT | COCL2 | AAAS   | protein_coding | protein_coding | 60.98551 | ⋯ | 6.9364415 |  0.2958796 | NA | 0.922200 | 0.92795 | 0.91645 | -0.01150 | NA | NA | FALSE |\n",
       "| 2015 | isoComp_00000004 | geneComp_00000002 | ENST00000394384.7  | AAAS   | NT | COCL2 | AAAS   | protein_coding | protein_coding | 60.98551 | ⋯ | 2.5830755 |  0.5419530 | NA | 0.077800 | 0.07205 | 0.08355 |  0.01150 | NA | NA | FALSE |\n",
       "| 1513 | isoComp_00000005 | geneComp_00000003 | ENST00000316519.11 | AACS   | NT | COCL2 | AACS   | protein_coding | protein_coding | 28.70733 | ⋯ | 0.1129965 | -1.6319295 | NA | 1.000000 | 1.00000 | 1.00000 |  0.00000 | NA | NA | FALSE |\n",
       "\n"
      ],
      "text/plain": [
       "     iso_ref          gene_ref          isoform_id         gene_id condition_1\n",
       "5874 isoComp_00000001 geneComp_00000001 ENST00000381278.4  A4GALT  NT         \n",
       "5875 isoComp_00000002 geneComp_00000001 ENST00000642412.2  A4GALT  NT         \n",
       "2014 isoComp_00000003 geneComp_00000002 ENST00000209873.9  AAAS    NT         \n",
       "2015 isoComp_00000004 geneComp_00000002 ENST00000394384.7  AAAS    NT         \n",
       "1513 isoComp_00000005 geneComp_00000003 ENST00000316519.11 AACS    NT         \n",
       "     condition_2 gene_name gene_biotype   iso_biotype    gene_overall_mean ⋯\n",
       "5874 COCL2       A4GALT    protein_coding protein_coding 38.78546          ⋯\n",
       "5875 COCL2       A4GALT    protein_coding protein_coding 38.78546          ⋯\n",
       "2014 COCL2       AAAS      protein_coding protein_coding 60.98551          ⋯\n",
       "2015 COCL2       AAAS      protein_coding protein_coding 60.98551          ⋯\n",
       "1513 COCL2       AACS      protein_coding protein_coding 28.70733          ⋯\n",
       "     iso_stderr_2 iso_log2_fold_change iso_q_value IF_overall IF1     IF2    \n",
       "5874 1.4257465     0.5482622           NA          0.101525   0.09360 0.10945\n",
       "5875 1.4094920     0.2618033           NA          0.898475   0.90640 0.89055\n",
       "2014 6.9364415     0.2958796           NA          0.922200   0.92795 0.91645\n",
       "2015 2.5830755     0.5419530           NA          0.077800   0.07205 0.08355\n",
       "1513 0.1129965    -1.6319295           NA          1.000000   1.00000 1.00000\n",
       "     dIF      isoform_switch_q_value gene_switch_q_value PTC  \n",
       "5874  0.01585 NA                     NA                  FALSE\n",
       "5875 -0.01585 NA                     NA                  FALSE\n",
       "2014 -0.01150 NA                     NA                  FALSE\n",
       "2015  0.01150 NA                     NA                  FALSE\n",
       "1513  0.00000 NA                     NA                  FALSE"
      ]
     },
     "metadata": {},
     "output_type": "display_data"
    }
   ],
   "source": [
    "head(aSwitchList, 5)\n"
   ]
  },
  {
   "cell_type": "code",
   "execution_count": 15,
   "id": "bbe08dda-cbb3-4730-bf52-abedf8423031",
   "metadata": {},
   "outputs": [
    {
     "data": {
      "text/plain": [
       "This switchAnalyzeRlist list contains:\n",
       " 15257 isoforms from 9404 genes\n",
       " 1 comparison from 2 conditions (in total 4 samples)\n",
       "\n",
       "Feature analyzed:\n",
       "[1] \"ORFs, ntSequence\""
      ]
     },
     "metadata": {},
     "output_type": "display_data"
    }
   ],
   "source": [
    "aSwitchList"
   ]
  },
  {
   "cell_type": "code",
   "execution_count": 16,
   "id": "31e91ef4-0a98-49a5-b0e7-6c237ba30199",
   "metadata": {},
   "outputs": [
    {
     "data": {
      "text/plain": [
       "This switchAnalyzeRlist list contains:\n",
       " 2 isoforms from 1 genes\n",
       " 1 comparison from 2 conditions (in total 4 samples)\n",
       "\n",
       "Feature analyzed:\n",
       "[1] \"ORFs, ntSequence\""
      ]
     },
     "metadata": {},
     "output_type": "display_data"
    }
   ],
   "source": [
    "subsetSwitchAnalyzeRlist(\n",
    "    aSwitchList,\n",
    "    aSwitchList$isoformFeatures$gene_name == 'AAAS'\n",
    ")"
   ]
  },
  {
   "cell_type": "code",
   "execution_count": 17,
   "id": "b6d45dcc-2f2e-46ff-8589-10fc0b87754f",
   "metadata": {},
   "outputs": [
    {
     "data": {
      "text/plain": [
       "GRanges object with 2 ranges and 3 metadata columns:\n",
       "      seqnames        ranges strand |        isoform_id     gene_id   gene_name\n",
       "         <Rle>     <IRanges>  <Rle> |       <character> <character> <character>\n",
       "  [1]     chr1 629640-630683      + | ENST00000457540.1    MTND2P28    MTND2P28\n",
       "  [2]     chr1 827603-827775      + | ENST00000669922.1   LINC01128   LINC01128\n",
       "  -------\n",
       "  seqinfo: 24 sequences from an unspecified genome; no seqlengths"
      ]
     },
     "metadata": {},
     "output_type": "display_data"
    }
   ],
   "source": [
    "head(aSwitchList$exons,2)"
   ]
  },
  {
   "cell_type": "code",
   "execution_count": 18,
   "id": "2da21225-34e1-4cfd-b715-87364d012386",
   "metadata": {},
   "outputs": [
    {
     "name": "stderr",
     "output_type": "stream",
     "text": [
      "The filtering removed 13819 ( 90.57% of ) transcripts. There is now 1438 isoforms left\n",
      "\n"
     ]
    }
   ],
   "source": [
    "aSwitchListFiltered <- preFilter(\n",
    "    switchAnalyzeRlist = aSwitchList,\n",
    "    geneExpressionCutoff = 20,\n",
    "    isoformExpressionCutoff = 20,\n",
    "    removeSingleIsoformGenes = TRUE\n",
    ")"
   ]
  },
  {
   "cell_type": "code",
   "execution_count": 19,
   "id": "b267127e-9542-4d32-95dd-21a25688dacb",
   "metadata": {},
   "outputs": [
    {
     "name": "stderr",
     "output_type": "stream",
     "text": [
      "Step 1 of 2: Testing each pairwise comparisons with DEXSeq (this might be a bit slow)...\n",
      "\n",
      "    Estimated run time is: 1 min\n",
      "\n",
      "Step 2 of 2: Integrating result into switchAnalyzeRlist...\n",
      "\n",
      "    Isoform switch analysis was performed for 652 gene comparisons (100%).\n",
      "\n",
      "Total runtime: 0.12 min\n",
      "\n",
      "Done\n",
      "\n"
     ]
    }
   ],
   "source": [
    "aSwitchListFilteredAnalyzed <- isoformSwitchTestDEXSeq(\n",
    "    switchAnalyzeRlist = aSwitchListFiltered,\n",
    "    reduceToSwitchingGenes=TRUE\n",
    ")"
   ]
  },
  {
   "cell_type": "code",
   "execution_count": 20,
   "id": "66acc782-ccf8-43be-a159-5f773dab4622",
   "metadata": {},
   "outputs": [
    {
     "data": {
      "text/html": [
       "<table class=\"dataframe\">\n",
       "<caption>A data.frame: 1 × 4</caption>\n",
       "<thead>\n",
       "\t<tr><th scope=col>Comparison</th><th scope=col>nrIsoforms</th><th scope=col>nrSwitches</th><th scope=col>nrGenes</th></tr>\n",
       "\t<tr><th scope=col>&lt;chr&gt;</th><th scope=col>&lt;int&gt;</th><th scope=col>&lt;int&gt;</th><th scope=col>&lt;int&gt;</th></tr>\n",
       "</thead>\n",
       "<tbody>\n",
       "\t<tr><td>NT vs COCL2</td><td>53</td><td>27</td><td>27</td></tr>\n",
       "</tbody>\n",
       "</table>\n"
      ],
      "text/latex": [
       "A data.frame: 1 × 4\n",
       "\\begin{tabular}{llll}\n",
       " Comparison & nrIsoforms & nrSwitches & nrGenes\\\\\n",
       " <chr> & <int> & <int> & <int>\\\\\n",
       "\\hline\n",
       "\t NT vs COCL2 & 53 & 27 & 27\\\\\n",
       "\\end{tabular}\n"
      ],
      "text/markdown": [
       "\n",
       "A data.frame: 1 × 4\n",
       "\n",
       "| Comparison &lt;chr&gt; | nrIsoforms &lt;int&gt; | nrSwitches &lt;int&gt; | nrGenes &lt;int&gt; |\n",
       "|---|---|---|---|\n",
       "| NT vs COCL2 | 53 | 27 | 27 |\n",
       "\n"
      ],
      "text/plain": [
       "  Comparison  nrIsoforms nrSwitches nrGenes\n",
       "1 NT vs COCL2 53         27         27     "
      ]
     },
     "metadata": {},
     "output_type": "display_data"
    }
   ],
   "source": [
    "extractSwitchSummary(aSwitchListFilteredAnalyzed)"
   ]
  },
  {
   "cell_type": "code",
   "execution_count": 21,
   "id": "5863fc9c-3a09-49d2-9f69-a16592cec0b8",
   "metadata": {},
   "outputs": [
    {
     "data": {
      "text/html": [
       "TRUE"
      ],
      "text/latex": [
       "TRUE"
      ],
      "text/markdown": [
       "TRUE"
      ],
      "text/plain": [
       "[1] TRUE"
      ]
     },
     "metadata": {},
     "output_type": "display_data"
    }
   ],
   "source": [
    "\"orfAnalysis\" %in% names(aSwitchListFiltered)"
   ]
  },
  {
   "cell_type": "code",
   "execution_count": 22,
   "id": "052c9e58-e6f4-48da-98ea-758c87ceabb6",
   "metadata": {},
   "outputs": [
    {
     "name": "stderr",
     "output_type": "stream",
     "text": [
      "Step 1 of 3 : Extracting transcript nucleotide sequences...\n",
      "\n",
      "Step 2 of 3 : Extracting ORF AA sequences...\n",
      "\n",
      "Step 3 of 3 : Preparing output...\n",
      "\n",
      "The 'removeLongAAseq' and 'removeShortAAseq' arguments:\n",
      " Removed : 0 isoforms.\n",
      " Trimmed : 2 isoforms (to only contain the first 1000 AA)\n",
      "\n",
      "Done\n",
      "\n"
     ]
    }
   ],
   "source": [
    "aSwitchListFilteredAnalyzed <- extractSequence(\n",
    "    aSwitchListFilteredAnalyzed,\n",
    "    removeLongAAseq=TRUE,\n",
    "    pathToOutput = '~/projects/STAMP/stamp_v3_pipeline/notebooks/231_data/diffsplice/isoformswitch_seqout',\n",
    "    writeToFile=TRUE # to avoid output when running this example data\n",
    ")"
   ]
  },
  {
   "cell_type": "code",
   "execution_count": 23,
   "id": "d8d0d0a5-9460-4169-83ff-3a43fb15c97b",
   "metadata": {},
   "outputs": [],
   "source": [
    "aSwitchListFilteredAnalyzed <- analyzeAlternativeSplicing(\n",
    "    switchAnalyzeRlist = aSwitchListFilteredAnalyzed,\n",
    "    quiet=TRUE\n",
    ")"
   ]
  },
  {
   "cell_type": "code",
   "execution_count": 24,
   "id": "7a9befc6-ca4e-4c99-aa2c-8435d6dbc319",
   "metadata": {},
   "outputs": [
    {
     "data": {
      "text/plain": [
       "This switchAnalyzeRlist list contains:\n",
       " 59 isoforms from 27 genes\n",
       " 1 comparison from 2 conditions (in total 4 samples)\n",
       "\n",
       "Switching features:\n",
       "   Comparison Isoforms Switches Genes\n",
       "1 NT vs COCL2       53       27    27\n",
       "\n",
       "Feature analyzed:\n",
       "[1] \"Isoform Switch Identification, ORFs, ntSequence, aaSequence, Alternative splicing\""
      ]
     },
     "metadata": {},
     "output_type": "display_data"
    }
   ],
   "source": [
    "aSwitchListFilteredAnalyzed"
   ]
  },
  {
   "cell_type": "code",
   "execution_count": 69,
   "id": "799e8b07-6e55-4c75-a949-a03452d368ba",
   "metadata": {},
   "outputs": [
    {
     "data": {
      "text/html": [
       "<strong>png:</strong> 2"
      ],
      "text/latex": [
       "\\textbf{png:} 2"
      ],
      "text/markdown": [
       "**png:** 2"
      ],
      "text/plain": [
       "png \n",
       "  2 "
      ]
     },
     "metadata": {},
     "output_type": "display_data"
    }
   ],
   "source": [
    "jpeg(\"~/projects/STAMP/stamp_v3_pipeline/notebooks/figs/fig4/splicingSummary_rplot.jpg\", width = 500, height = \"500\")\n",
    "png(\"~/projects/STAMP/stamp_v3_pipeline/notebooks/figs/fig4/splicingSummary_rplot.png\", width = 500, height = \"500\")\n",
    "extractSplicingSummary(\n",
    "    aSwitchListFilteredAnalyzed,\n",
    "    asFractionTotal = TRUE,\n",
    "    plotGenes=FALSE\n",
    ")\n",
    "dev.off()\n",
    "extractSplicingSummary(\n",
    "    aSwitchListFilteredAnalyzed,\n",
    "    asFractionTotal = TRUE,\n",
    "    plotGenes=FALSE\n",
    ")"
   ]
  },
  {
   "cell_type": "code",
   "execution_count": 67,
   "id": "756984d9-ae0b-4b14-9c8b-e0aa3ee603c1",
   "metadata": {},
   "outputs": [
    {
     "data": {
      "text/html": [
       "<strong>png:</strong> 2"
      ],
      "text/latex": [
       "\\textbf{png:} 2"
      ],
      "text/markdown": [
       "**png:** 2"
      ],
      "text/plain": [
       "png \n",
       "  2 "
      ]
     },
     "metadata": {},
     "output_type": "display_data"
    }
   ],
   "source": [
    "jpeg(\"~/projects/STAMP/stamp_v3_pipeline/notebooks/figs/fig4/splicingEnrichment_rplot.jpg\", width = 500, height = \"500\")\n",
    "png(\"~/projects/STAMP/stamp_v3_pipeline/notebooks/figs/fig4/splicingEnrichment_rplot.png\", width = 500, height = \"500\")\n",
    "# 2. Create the plot\n",
    "splicingEnrichment <- extractSplicingEnrichment(\n",
    "    aSwitchListFilteredAnalyzed,\n",
    "    splicingToAnalyze='all',\n",
    "    returnResult=TRUE,\n",
    "    returnSummary=TRUE\n",
    ")\n",
    "# 3. Close the file\n",
    "dev.off()\n",
    "splicingEnrichment <- extractSplicingEnrichment(\n",
    "    aSwitchListFilteredAnalyzed,\n",
    "    splicingToAnalyze='all',\n",
    "    returnResult=TRUE,\n",
    "    returnSummary=TRUE\n",
    ")"
   ]
  },
  {
   "cell_type": "code",
   "execution_count": 27,
   "id": "c7275a54-086c-4f7e-9116-e991e2d83219",
   "metadata": {},
   "outputs": [
    {
     "data": {
      "image/png": "[encoded data removed]",
      "text/plain": [
       "plot without title"
      ]
     },
     "metadata": {
      "image/png": {
       "height": 420,
       "width": 420
      }
     },
     "output_type": "display_data"
    }
   ],
   "source": [
    "extractSplicingGenomeWide(\n",
    "    aSwitchListFilteredAnalyzed,\n",
    "    featureToExtract = 'all',                 # all isoforms stored in the switchAnalyzeRlist\n",
    "    splicingToAnalyze = c('IR','A5','A3','ES','MES','ATSS'), # Splice types significantly enriched in COAD\n",
    "    plot=TRUE,\n",
    "    returnResult=FALSE  # Preventing the summary statistics to be returned as a data.frame\n",
    ")"
   ]
  },
  {
   "cell_type": "code",
   "execution_count": 28,
   "id": "028969e9-33e1-495d-a50f-a5550a5c4b55",
   "metadata": {},
   "outputs": [
    {
     "data": {
      "text/html": [
       "<table class=\"dataframe\">\n",
       "<caption>A data.frame: 1 × 12</caption>\n",
       "<thead>\n",
       "\t<tr><th></th><th scope=col>condition_1</th><th scope=col>condition_2</th><th scope=col>AStype</th><th scope=col>nUp</th><th scope=col>nDown</th><th scope=col>propUp</th><th scope=col>propUpCiLo</th><th scope=col>propUpCiHi</th><th scope=col>propUpPval</th><th scope=col>propUpQval</th><th scope=col>Significant</th><th scope=col>Comparison</th></tr>\n",
       "\t<tr><th></th><th scope=col>&lt;chr&gt;</th><th scope=col>&lt;chr&gt;</th><th scope=col>&lt;fct&gt;</th><th scope=col>&lt;int&gt;</th><th scope=col>&lt;int&gt;</th><th scope=col>&lt;dbl&gt;</th><th scope=col>&lt;dbl&gt;</th><th scope=col>&lt;dbl&gt;</th><th scope=col>&lt;dbl&gt;</th><th scope=col>&lt;dbl&gt;</th><th scope=col>&lt;fct&gt;</th><th scope=col>&lt;chr&gt;</th></tr>\n",
       "</thead>\n",
       "<tbody>\n",
       "\t<tr><th scope=row>4</th><td>NT</td><td>COCL2</td><td>ATTS gain (paired with ATTS loss)</td><td>24</td><td>2</td><td>0.9230769</td><td>0.7486971</td><td>0.9905446</td><td>1.049042e-05</td><td>6.29425e-05</td><td>TRUE</td><td>NT\n",
       "vs\n",
       "COCL2</td></tr>\n",
       "</tbody>\n",
       "</table>\n"
      ],
      "text/latex": [
       "A data.frame: 1 × 12\n",
       "\\begin{tabular}{r|llllllllllll}\n",
       "  & condition\\_1 & condition\\_2 & AStype & nUp & nDown & propUp & propUpCiLo & propUpCiHi & propUpPval & propUpQval & Significant & Comparison\\\\\n",
       "  & <chr> & <chr> & <fct> & <int> & <int> & <dbl> & <dbl> & <dbl> & <dbl> & <dbl> & <fct> & <chr>\\\\\n",
       "\\hline\n",
       "\t4 & NT & COCL2 & ATTS gain (paired with ATTS loss) & 24 & 2 & 0.9230769 & 0.7486971 & 0.9905446 & 1.049042e-05 & 6.29425e-05 & TRUE & NT\n",
       "vs\n",
       "COCL2\\\\\n",
       "\\end{tabular}\n"
      ],
      "text/markdown": [
       "\n",
       "A data.frame: 1 × 12\n",
       "\n",
       "| <!--/--> | condition_1 &lt;chr&gt; | condition_2 &lt;chr&gt; | AStype &lt;fct&gt; | nUp &lt;int&gt; | nDown &lt;int&gt; | propUp &lt;dbl&gt; | propUpCiLo &lt;dbl&gt; | propUpCiHi &lt;dbl&gt; | propUpPval &lt;dbl&gt; | propUpQval &lt;dbl&gt; | Significant &lt;fct&gt; | Comparison &lt;chr&gt; |\n",
       "|---|---|---|---|---|---|---|---|---|---|---|---|---|\n",
       "| 4 | NT | COCL2 | ATTS gain (paired with ATTS loss) | 24 | 2 | 0.9230769 | 0.7486971 | 0.9905446 | 1.049042e-05 | 6.29425e-05 | TRUE | NT\n",
       "vs\n",
       "COCL2 |\n",
       "\n"
      ],
      "text/plain": [
       "  condition_1 condition_2 AStype                            nUp nDown propUp   \n",
       "4 NT          COCL2       ATTS gain (paired with ATTS loss) 24  2     0.9230769\n",
       "  propUpCiLo propUpCiHi propUpPval   propUpQval  Significant Comparison   \n",
       "4 0.7486971  0.9905446  1.049042e-05 6.29425e-05 TRUE        NT\\nvs\\nCOCL2"
      ]
     },
     "metadata": {},
     "output_type": "display_data"
    }
   ],
   "source": [
    "subset(splicingEnrichment, splicingEnrichment$AStype == 'ATTS gain (paired with ATTS loss)')\n"
   ]
  },
  {
   "cell_type": "code",
   "execution_count": 29,
   "id": "0695826d-3f0b-485b-9873-b9c5e4c005bf",
   "metadata": {},
   "outputs": [
    {
     "data": {
      "text/plain": [
       "This switchAnalyzeRlist list contains:\n",
       " 59 isoforms from 27 genes\n",
       " 1 comparison from 2 conditions (in total 4 samples)\n",
       "\n",
       "Switching features:\n",
       "   Comparison Isoforms Switches Genes\n",
       "1 NT vs COCL2       53       27    27\n",
       "\n",
       "Feature analyzed:\n",
       "[1] \"Isoform Switch Identification, ORFs, ntSequence, aaSequence, Alternative splicing\""
      ]
     },
     "metadata": {},
     "output_type": "display_data"
    },
    {
     "data": {
      "text/plain": [
       "\n",
       " 0  1  2 \n",
       "52  6  1 "
      ]
     },
     "metadata": {},
     "output_type": "display_data"
    }
   ],
   "source": [
    "aSwitchListFilteredAnalyzed\n",
    "table( aSwitchListFilteredAnalyzed$AlternativeSplicingAnalysis$IR)"
   ]
  },
  {
   "cell_type": "code",
   "execution_count": 30,
   "id": "ec819cf6-210a-479c-a438-f928d4d5d927",
   "metadata": {},
   "outputs": [
    {
     "name": "stderr",
     "output_type": "stream",
     "text": [
      "Step 1 of 3 : Extracting transcript sequences...\n",
      "\n",
      "Step 2 of 3 : Locating potential ORFs...\n",
      "\n"
     ]
    },
    {
     "name": "stdout",
     "output_type": "stream",
     "text": [
      "  |======================================================================| 100%\n"
     ]
    },
    {
     "name": "stderr",
     "output_type": "stream",
     "text": [
      "Step 3 of 3 : Scanning for PTCs...\n",
      "\n",
      "59 putative ORFs were identified, analyzed and added.\n",
      "\n",
      "Done\n",
      "\n"
     ]
    }
   ],
   "source": [
    "aSwitchListFilteredAnalyzed <- analyzeORF(aSwitchListFilteredAnalyzed, genomeObject = Hsapiens)"
   ]
  },
  {
   "cell_type": "code",
   "execution_count": 31,
   "id": "7059544c-8f97-4896-8803-df515994910b",
   "metadata": {},
   "outputs": [],
   "source": [
    "consequencesOfInterest <- c('intron_retention','NMD_status','ORF_seq_similarity')"
   ]
  },
  {
   "cell_type": "code",
   "execution_count": 32,
   "id": "c288e5d2-dfcc-4ba4-8c6d-898de160ee64",
   "metadata": {},
   "outputs": [
    {
     "name": "stderr",
     "output_type": "stream",
     "text": [
      "Step 1 of 4: Extracting genes with isoform switches...\n",
      "\n",
      "Step 2 of 4: Analyzing 27 pairwise isoforms comparisons...\n",
      "\n",
      "Step 3 of 4: Massaging isoforms comparisons results...\n",
      "\n",
      "Step 4 of 4: Preparing output...\n",
      "\n",
      "Identified  genes with containing isoforms switching with functional consequences...\n",
      "\n"
     ]
    }
   ],
   "source": [
    "aSwitchListFilteredAnalyzed <- analyzeSwitchConsequences(\n",
    "    aSwitchListFilteredAnalyzed,\n",
    "    consequencesToAnalyze = consequencesOfInterest, \n",
    "    dIFcutoff = 0.1, # very high cutoff for fast runtimes - you should use the default (0.1)\n",
    "    showProgress=FALSE\n",
    ")"
   ]
  },
  {
   "cell_type": "code",
   "execution_count": 33,
   "id": "44bca45b-65e3-4600-8e0a-8940a7c97a97",
   "metadata": {},
   "outputs": [
    {
     "data": {
      "text/html": [
       "<table class=\"dataframe\">\n",
       "<caption>A data.frame: 1 × 4</caption>\n",
       "<thead>\n",
       "\t<tr><th scope=col>Comparison</th><th scope=col>nrIsoforms</th><th scope=col>nrSwitches</th><th scope=col>nrGenes</th></tr>\n",
       "\t<tr><th scope=col>&lt;chr&gt;</th><th scope=col>&lt;int&gt;</th><th scope=col>&lt;int&gt;</th><th scope=col>&lt;int&gt;</th></tr>\n",
       "</thead>\n",
       "<tbody>\n",
       "\t<tr><td>NT vs COCL2</td><td>53</td><td>27</td><td>27</td></tr>\n",
       "</tbody>\n",
       "</table>\n"
      ],
      "text/latex": [
       "A data.frame: 1 × 4\n",
       "\\begin{tabular}{llll}\n",
       " Comparison & nrIsoforms & nrSwitches & nrGenes\\\\\n",
       " <chr> & <int> & <int> & <int>\\\\\n",
       "\\hline\n",
       "\t NT vs COCL2 & 53 & 27 & 27\\\\\n",
       "\\end{tabular}\n"
      ],
      "text/markdown": [
       "\n",
       "A data.frame: 1 × 4\n",
       "\n",
       "| Comparison &lt;chr&gt; | nrIsoforms &lt;int&gt; | nrSwitches &lt;int&gt; | nrGenes &lt;int&gt; |\n",
       "|---|---|---|---|\n",
       "| NT vs COCL2 | 53 | 27 | 27 |\n",
       "\n"
      ],
      "text/plain": [
       "  Comparison  nrIsoforms nrSwitches nrGenes\n",
       "1 NT vs COCL2 53         27         27     "
      ]
     },
     "metadata": {},
     "output_type": "display_data"
    }
   ],
   "source": [
    "extractSwitchSummary(aSwitchListFilteredAnalyzed, dIFcutoff = 0.1, filterForConsequences = FALSE)"
   ]
  },
  {
   "cell_type": "code",
   "execution_count": 34,
   "id": "fa57cc00-e18e-4d8c-be84-92494656d2d5",
   "metadata": {},
   "outputs": [
    {
     "data": {
      "text/html": [
       "<table class=\"dataframe\">\n",
       "<caption>A data.frame: 1 × 4</caption>\n",
       "<thead>\n",
       "\t<tr><th scope=col>Comparison</th><th scope=col>nrIsoforms</th><th scope=col>nrSwitches</th><th scope=col>nrGenes</th></tr>\n",
       "\t<tr><th scope=col>&lt;chr&gt;</th><th scope=col>&lt;int&gt;</th><th scope=col>&lt;int&gt;</th><th scope=col>&lt;int&gt;</th></tr>\n",
       "</thead>\n",
       "<tbody>\n",
       "\t<tr><td>NT vs COCL2</td><td>36</td><td>18</td><td>18</td></tr>\n",
       "</tbody>\n",
       "</table>\n"
      ],
      "text/latex": [
       "A data.frame: 1 × 4\n",
       "\\begin{tabular}{llll}\n",
       " Comparison & nrIsoforms & nrSwitches & nrGenes\\\\\n",
       " <chr> & <int> & <int> & <int>\\\\\n",
       "\\hline\n",
       "\t NT vs COCL2 & 36 & 18 & 18\\\\\n",
       "\\end{tabular}\n"
      ],
      "text/markdown": [
       "\n",
       "A data.frame: 1 × 4\n",
       "\n",
       "| Comparison &lt;chr&gt; | nrIsoforms &lt;int&gt; | nrSwitches &lt;int&gt; | nrGenes &lt;int&gt; |\n",
       "|---|---|---|---|\n",
       "| NT vs COCL2 | 36 | 18 | 18 |\n",
       "\n"
      ],
      "text/plain": [
       "  Comparison  nrIsoforms nrSwitches nrGenes\n",
       "1 NT vs COCL2 36         18         18     "
      ]
     },
     "metadata": {},
     "output_type": "display_data"
    }
   ],
   "source": [
    "extractSwitchSummary(aSwitchListFilteredAnalyzed, dIFcutoff = 0.1, filterForConsequences = TRUE)"
   ]
  },
  {
   "cell_type": "code",
   "execution_count": 35,
   "id": "05ebef2d-3985-43c3-b31f-3eead2fc6062",
   "metadata": {},
   "outputs": [],
   "source": [
    "switchingIso_nocons <- extractTopSwitches(\n",
    "    aSwitchListFilteredAnalyzed, \n",
    "    n = Inf, \n",
    "    sortByQvals = TRUE)"
   ]
  },
  {
   "cell_type": "code",
   "execution_count": 36,
   "id": "2913c25c-1919-4a78-b927-6873ae4e247d",
   "metadata": {},
   "outputs": [],
   "source": [
    "switchingIso_cons <- extractTopSwitches(\n",
    "    aSwitchListFilteredAnalyzed, \n",
    "    filterForConsequences = TRUE,\n",
    "    n = Inf, \n",
    "    sortByQvals = TRUE)"
   ]
  },
  {
   "cell_type": "markdown",
   "id": "a647d8aa-b92b-42e8-9b24-7e4ffcb2e98a",
   "metadata": {},
   "source": [
    "IL11 ranked highly in splicing but not in translation"
   ]
  },
  {
   "cell_type": "code",
   "execution_count": 37,
   "id": "7bf0c627-2e2d-4c6a-b355-e55488f079e9",
   "metadata": {},
   "outputs": [
    {
     "data": {
      "text/html": [
       "<table class=\"dataframe\">\n",
       "<caption>A data.frame: 27 × 8</caption>\n",
       "<thead>\n",
       "\t<tr><th></th><th scope=col>gene_ref</th><th scope=col>gene_id</th><th scope=col>gene_name</th><th scope=col>condition_1</th><th scope=col>condition_2</th><th scope=col>gene_switch_q_value</th><th scope=col>switchConsequencesGene</th><th scope=col>Rank</th></tr>\n",
       "\t<tr><th></th><th scope=col>&lt;chr&gt;</th><th scope=col>&lt;chr&gt;</th><th scope=col>&lt;chr&gt;</th><th scope=col>&lt;chr&gt;</th><th scope=col>&lt;chr&gt;</th><th scope=col>&lt;dbl&gt;</th><th scope=col>&lt;lgl&gt;</th><th scope=col>&lt;int&gt;</th></tr>\n",
       "</thead>\n",
       "<tbody>\n",
       "\t<tr><th scope=row>1</th><td>geneComp_00003553</td><td>IL11    </td><td>IL11    </td><td>NT</td><td>COCL2</td><td>3.646659e-08</td><td>FALSE</td><td> 1</td></tr>\n",
       "\t<tr><th scope=row>3</th><td>geneComp_00000881</td><td>BUB3    </td><td>BUB3    </td><td>NT</td><td>COCL2</td><td>5.007464e-07</td><td>FALSE</td><td> 2</td></tr>\n",
       "\t<tr><th scope=row>5</th><td>geneComp_00003441</td><td>HSP90B1 </td><td>HSP90B1 </td><td>NT</td><td>COCL2</td><td>6.831339e-06</td><td>FALSE</td><td> 3</td></tr>\n",
       "\t<tr><th scope=row>7</th><td>geneComp_00005394</td><td>PCMT1   </td><td>PCMT1   </td><td>NT</td><td>COCL2</td><td>6.831339e-06</td><td>FALSE</td><td> 4</td></tr>\n",
       "\t<tr><th scope=row>9</th><td>geneComp_00003235</td><td>H2AZ2   </td><td>H2AZ2   </td><td>NT</td><td>COCL2</td><td>2.536703e-05</td><td> TRUE</td><td> 5</td></tr>\n",
       "\t<tr><th scope=row>11</th><td>geneComp_00000223</td><td>AK2     </td><td>AK2     </td><td>NT</td><td>COCL2</td><td>4.331483e-04</td><td> TRUE</td><td> 6</td></tr>\n",
       "\t<tr><th scope=row>13</th><td>geneComp_00007970</td><td>TGM2    </td><td>TGM2    </td><td>NT</td><td>COCL2</td><td>8.334220e-04</td><td>FALSE</td><td> 7</td></tr>\n",
       "\t<tr><th scope=row>15</th><td>geneComp_00003156</td><td>GRK6    </td><td>GRK6    </td><td>NT</td><td>COCL2</td><td>8.757510e-04</td><td> TRUE</td><td> 8</td></tr>\n",
       "\t<tr><th scope=row>17</th><td>geneComp_00003147</td><td>GRB2    </td><td>GRB2    </td><td>NT</td><td>COCL2</td><td>9.445388e-04</td><td> TRUE</td><td> 9</td></tr>\n",
       "\t<tr><th scope=row>19</th><td>geneComp_00008452</td><td>TSC22D4 </td><td>TSC22D4 </td><td>NT</td><td>COCL2</td><td>1.001246e-03</td><td> TRUE</td><td>10</td></tr>\n",
       "\t<tr><th scope=row>21</th><td>geneComp_00000405</td><td>APH1A   </td><td>APH1A   </td><td>NT</td><td>COCL2</td><td>4.676674e-03</td><td> TRUE</td><td>11</td></tr>\n",
       "\t<tr><th scope=row>23</th><td>geneComp_00003871</td><td>KPNB1   </td><td>KPNB1   </td><td>NT</td><td>COCL2</td><td>4.676674e-03</td><td>FALSE</td><td>12</td></tr>\n",
       "\t<tr><th scope=row>25</th><td>geneComp_00003496</td><td>IDS     </td><td>IDS     </td><td>NT</td><td>COCL2</td><td>6.050202e-03</td><td> TRUE</td><td>13</td></tr>\n",
       "\t<tr><th scope=row>27</th><td>geneComp_00008538</td><td>TUBGCP2 </td><td>TUBGCP2 </td><td>NT</td><td>COCL2</td><td>6.050202e-03</td><td> TRUE</td><td>14</td></tr>\n",
       "\t<tr><th scope=row>29</th><td>geneComp_00006287</td><td>RBCK1   </td><td>RBCK1   </td><td>NT</td><td>COCL2</td><td>7.987052e-03</td><td> TRUE</td><td>15</td></tr>\n",
       "\t<tr><th scope=row>31</th><td>geneComp_00000629</td><td>ATP5IF1 </td><td>ATP5IF1 </td><td>NT</td><td>COCL2</td><td>9.603560e-03</td><td> TRUE</td><td>16</td></tr>\n",
       "\t<tr><th scope=row>33</th><td>geneComp_00005973</td><td>PRPF40A </td><td>PRPF40A </td><td>NT</td><td>COCL2</td><td>1.037259e-02</td><td> TRUE</td><td>17</td></tr>\n",
       "\t<tr><th scope=row>35</th><td>geneComp_00004472</td><td>MKRN1   </td><td>MKRN1   </td><td>NT</td><td>COCL2</td><td>1.382602e-02</td><td> TRUE</td><td>18</td></tr>\n",
       "\t<tr><th scope=row>37</th><td>geneComp_00001338</td><td>CENPN   </td><td>CENPN   </td><td>NT</td><td>COCL2</td><td>1.411974e-02</td><td> TRUE</td><td>19</td></tr>\n",
       "\t<tr><th scope=row>39</th><td>geneComp_00004922</td><td>NECTIN2 </td><td>NECTIN2 </td><td>NT</td><td>COCL2</td><td>1.428037e-02</td><td> TRUE</td><td>20</td></tr>\n",
       "\t<tr><th scope=row>41</th><td>geneComp_00000753</td><td>BCCIP   </td><td>BCCIP   </td><td>NT</td><td>COCL2</td><td>1.897735e-02</td><td>FALSE</td><td>21</td></tr>\n",
       "\t<tr><th scope=row>43</th><td>geneComp_00005540</td><td>PHF19   </td><td>PHF19   </td><td>NT</td><td>COCL2</td><td>2.274680e-02</td><td> TRUE</td><td>22</td></tr>\n",
       "\t<tr><th scope=row>45</th><td>geneComp_00001824</td><td>CUL4A   </td><td>CUL4A   </td><td>NT</td><td>COCL2</td><td>2.711670e-02</td><td> TRUE</td><td>23</td></tr>\n",
       "\t<tr><th scope=row>47</th><td>geneComp_00008901</td><td>WDR33   </td><td>WDR33   </td><td>NT</td><td>COCL2</td><td>3.159853e-02</td><td> TRUE</td><td>24</td></tr>\n",
       "\t<tr><th scope=row>49</th><td>geneComp_00003878</td><td>KRR1    </td><td>KRR1    </td><td>NT</td><td>COCL2</td><td>3.302861e-02</td><td> TRUE</td><td>25</td></tr>\n",
       "\t<tr><th scope=row>51</th><td>geneComp_00003676</td><td>ITGA3   </td><td>ITGA3   </td><td>NT</td><td>COCL2</td><td>4.342895e-02</td><td>FALSE</td><td>26</td></tr>\n",
       "\t<tr><th scope=row>53</th><td>geneComp_00006989</td><td>SEPTIN11</td><td>SEPTIN11</td><td>NT</td><td>COCL2</td><td>4.342895e-02</td><td>FALSE</td><td>27</td></tr>\n",
       "</tbody>\n",
       "</table>\n"
      ],
      "text/latex": [
       "A data.frame: 27 × 8\n",
       "\\begin{tabular}{r|llllllll}\n",
       "  & gene\\_ref & gene\\_id & gene\\_name & condition\\_1 & condition\\_2 & gene\\_switch\\_q\\_value & switchConsequencesGene & Rank\\\\\n",
       "  & <chr> & <chr> & <chr> & <chr> & <chr> & <dbl> & <lgl> & <int>\\\\\n",
       "\\hline\n",
       "\t1 & geneComp\\_00003553 & IL11     & IL11     & NT & COCL2 & 3.646659e-08 & FALSE &  1\\\\\n",
       "\t3 & geneComp\\_00000881 & BUB3     & BUB3     & NT & COCL2 & 5.007464e-07 & FALSE &  2\\\\\n",
       "\t5 & geneComp\\_00003441 & HSP90B1  & HSP90B1  & NT & COCL2 & 6.831339e-06 & FALSE &  3\\\\\n",
       "\t7 & geneComp\\_00005394 & PCMT1    & PCMT1    & NT & COCL2 & 6.831339e-06 & FALSE &  4\\\\\n",
       "\t9 & geneComp\\_00003235 & H2AZ2    & H2AZ2    & NT & COCL2 & 2.536703e-05 &  TRUE &  5\\\\\n",
       "\t11 & geneComp\\_00000223 & AK2      & AK2      & NT & COCL2 & 4.331483e-04 &  TRUE &  6\\\\\n",
       "\t13 & geneComp\\_00007970 & TGM2     & TGM2     & NT & COCL2 & 8.334220e-04 & FALSE &  7\\\\\n",
       "\t15 & geneComp\\_00003156 & GRK6     & GRK6     & NT & COCL2 & 8.757510e-04 &  TRUE &  8\\\\\n",
       "\t17 & geneComp\\_00003147 & GRB2     & GRB2     & NT & COCL2 & 9.445388e-04 &  TRUE &  9\\\\\n",
       "\t19 & geneComp\\_00008452 & TSC22D4  & TSC22D4  & NT & COCL2 & 1.001246e-03 &  TRUE & 10\\\\\n",
       "\t21 & geneComp\\_00000405 & APH1A    & APH1A    & NT & COCL2 & 4.676674e-03 &  TRUE & 11\\\\\n",
       "\t23 & geneComp\\_00003871 & KPNB1    & KPNB1    & NT & COCL2 & 4.676674e-03 & FALSE & 12\\\\\n",
       "\t25 & geneComp\\_00003496 & IDS      & IDS      & NT & COCL2 & 6.050202e-03 &  TRUE & 13\\\\\n",
       "\t27 & geneComp\\_00008538 & TUBGCP2  & TUBGCP2  & NT & COCL2 & 6.050202e-03 &  TRUE & 14\\\\\n",
       "\t29 & geneComp\\_00006287 & RBCK1    & RBCK1    & NT & COCL2 & 7.987052e-03 &  TRUE & 15\\\\\n",
       "\t31 & geneComp\\_00000629 & ATP5IF1  & ATP5IF1  & NT & COCL2 & 9.603560e-03 &  TRUE & 16\\\\\n",
       "\t33 & geneComp\\_00005973 & PRPF40A  & PRPF40A  & NT & COCL2 & 1.037259e-02 &  TRUE & 17\\\\\n",
       "\t35 & geneComp\\_00004472 & MKRN1    & MKRN1    & NT & COCL2 & 1.382602e-02 &  TRUE & 18\\\\\n",
       "\t37 & geneComp\\_00001338 & CENPN    & CENPN    & NT & COCL2 & 1.411974e-02 &  TRUE & 19\\\\\n",
       "\t39 & geneComp\\_00004922 & NECTIN2  & NECTIN2  & NT & COCL2 & 1.428037e-02 &  TRUE & 20\\\\\n",
       "\t41 & geneComp\\_00000753 & BCCIP    & BCCIP    & NT & COCL2 & 1.897735e-02 & FALSE & 21\\\\\n",
       "\t43 & geneComp\\_00005540 & PHF19    & PHF19    & NT & COCL2 & 2.274680e-02 &  TRUE & 22\\\\\n",
       "\t45 & geneComp\\_00001824 & CUL4A    & CUL4A    & NT & COCL2 & 2.711670e-02 &  TRUE & 23\\\\\n",
       "\t47 & geneComp\\_00008901 & WDR33    & WDR33    & NT & COCL2 & 3.159853e-02 &  TRUE & 24\\\\\n",
       "\t49 & geneComp\\_00003878 & KRR1     & KRR1     & NT & COCL2 & 3.302861e-02 &  TRUE & 25\\\\\n",
       "\t51 & geneComp\\_00003676 & ITGA3    & ITGA3    & NT & COCL2 & 4.342895e-02 & FALSE & 26\\\\\n",
       "\t53 & geneComp\\_00006989 & SEPTIN11 & SEPTIN11 & NT & COCL2 & 4.342895e-02 & FALSE & 27\\\\\n",
       "\\end{tabular}\n"
      ],
      "text/markdown": [
       "\n",
       "A data.frame: 27 × 8\n",
       "\n",
       "| <!--/--> | gene_ref &lt;chr&gt; | gene_id &lt;chr&gt; | gene_name &lt;chr&gt; | condition_1 &lt;chr&gt; | condition_2 &lt;chr&gt; | gene_switch_q_value &lt;dbl&gt; | switchConsequencesGene &lt;lgl&gt; | Rank &lt;int&gt; |\n",
       "|---|---|---|---|---|---|---|---|---|\n",
       "| 1 | geneComp_00003553 | IL11     | IL11     | NT | COCL2 | 3.646659e-08 | FALSE |  1 |\n",
       "| 3 | geneComp_00000881 | BUB3     | BUB3     | NT | COCL2 | 5.007464e-07 | FALSE |  2 |\n",
       "| 5 | geneComp_00003441 | HSP90B1  | HSP90B1  | NT | COCL2 | 6.831339e-06 | FALSE |  3 |\n",
       "| 7 | geneComp_00005394 | PCMT1    | PCMT1    | NT | COCL2 | 6.831339e-06 | FALSE |  4 |\n",
       "| 9 | geneComp_00003235 | H2AZ2    | H2AZ2    | NT | COCL2 | 2.536703e-05 |  TRUE |  5 |\n",
       "| 11 | geneComp_00000223 | AK2      | AK2      | NT | COCL2 | 4.331483e-04 |  TRUE |  6 |\n",
       "| 13 | geneComp_00007970 | TGM2     | TGM2     | NT | COCL2 | 8.334220e-04 | FALSE |  7 |\n",
       "| 15 | geneComp_00003156 | GRK6     | GRK6     | NT | COCL2 | 8.757510e-04 |  TRUE |  8 |\n",
       "| 17 | geneComp_00003147 | GRB2     | GRB2     | NT | COCL2 | 9.445388e-04 |  TRUE |  9 |\n",
       "| 19 | geneComp_00008452 | TSC22D4  | TSC22D4  | NT | COCL2 | 1.001246e-03 |  TRUE | 10 |\n",
       "| 21 | geneComp_00000405 | APH1A    | APH1A    | NT | COCL2 | 4.676674e-03 |  TRUE | 11 |\n",
       "| 23 | geneComp_00003871 | KPNB1    | KPNB1    | NT | COCL2 | 4.676674e-03 | FALSE | 12 |\n",
       "| 25 | geneComp_00003496 | IDS      | IDS      | NT | COCL2 | 6.050202e-03 |  TRUE | 13 |\n",
       "| 27 | geneComp_00008538 | TUBGCP2  | TUBGCP2  | NT | COCL2 | 6.050202e-03 |  TRUE | 14 |\n",
       "| 29 | geneComp_00006287 | RBCK1    | RBCK1    | NT | COCL2 | 7.987052e-03 |  TRUE | 15 |\n",
       "| 31 | geneComp_00000629 | ATP5IF1  | ATP5IF1  | NT | COCL2 | 9.603560e-03 |  TRUE | 16 |\n",
       "| 33 | geneComp_00005973 | PRPF40A  | PRPF40A  | NT | COCL2 | 1.037259e-02 |  TRUE | 17 |\n",
       "| 35 | geneComp_00004472 | MKRN1    | MKRN1    | NT | COCL2 | 1.382602e-02 |  TRUE | 18 |\n",
       "| 37 | geneComp_00001338 | CENPN    | CENPN    | NT | COCL2 | 1.411974e-02 |  TRUE | 19 |\n",
       "| 39 | geneComp_00004922 | NECTIN2  | NECTIN2  | NT | COCL2 | 1.428037e-02 |  TRUE | 20 |\n",
       "| 41 | geneComp_00000753 | BCCIP    | BCCIP    | NT | COCL2 | 1.897735e-02 | FALSE | 21 |\n",
       "| 43 | geneComp_00005540 | PHF19    | PHF19    | NT | COCL2 | 2.274680e-02 |  TRUE | 22 |\n",
       "| 45 | geneComp_00001824 | CUL4A    | CUL4A    | NT | COCL2 | 2.711670e-02 |  TRUE | 23 |\n",
       "| 47 | geneComp_00008901 | WDR33    | WDR33    | NT | COCL2 | 3.159853e-02 |  TRUE | 24 |\n",
       "| 49 | geneComp_00003878 | KRR1     | KRR1     | NT | COCL2 | 3.302861e-02 |  TRUE | 25 |\n",
       "| 51 | geneComp_00003676 | ITGA3    | ITGA3    | NT | COCL2 | 4.342895e-02 | FALSE | 26 |\n",
       "| 53 | geneComp_00006989 | SEPTIN11 | SEPTIN11 | NT | COCL2 | 4.342895e-02 | FALSE | 27 |\n",
       "\n"
      ],
      "text/plain": [
       "   gene_ref          gene_id  gene_name condition_1 condition_2\n",
       "1  geneComp_00003553 IL11     IL11      NT          COCL2      \n",
       "3  geneComp_00000881 BUB3     BUB3      NT          COCL2      \n",
       "5  geneComp_00003441 HSP90B1  HSP90B1   NT          COCL2      \n",
       "7  geneComp_00005394 PCMT1    PCMT1     NT          COCL2      \n",
       "9  geneComp_00003235 H2AZ2    H2AZ2     NT          COCL2      \n",
       "11 geneComp_00000223 AK2      AK2       NT          COCL2      \n",
       "13 geneComp_00007970 TGM2     TGM2      NT          COCL2      \n",
       "15 geneComp_00003156 GRK6     GRK6      NT          COCL2      \n",
       "17 geneComp_00003147 GRB2     GRB2      NT          COCL2      \n",
       "19 geneComp_00008452 TSC22D4  TSC22D4   NT          COCL2      \n",
       "21 geneComp_00000405 APH1A    APH1A     NT          COCL2      \n",
       "23 geneComp_00003871 KPNB1    KPNB1     NT          COCL2      \n",
       "25 geneComp_00003496 IDS      IDS       NT          COCL2      \n",
       "27 geneComp_00008538 TUBGCP2  TUBGCP2   NT          COCL2      \n",
       "29 geneComp_00006287 RBCK1    RBCK1     NT          COCL2      \n",
       "31 geneComp_00000629 ATP5IF1  ATP5IF1   NT          COCL2      \n",
       "33 geneComp_00005973 PRPF40A  PRPF40A   NT          COCL2      \n",
       "35 geneComp_00004472 MKRN1    MKRN1     NT          COCL2      \n",
       "37 geneComp_00001338 CENPN    CENPN     NT          COCL2      \n",
       "39 geneComp_00004922 NECTIN2  NECTIN2   NT          COCL2      \n",
       "41 geneComp_00000753 BCCIP    BCCIP     NT          COCL2      \n",
       "43 geneComp_00005540 PHF19    PHF19     NT          COCL2      \n",
       "45 geneComp_00001824 CUL4A    CUL4A     NT          COCL2      \n",
       "47 geneComp_00008901 WDR33    WDR33     NT          COCL2      \n",
       "49 geneComp_00003878 KRR1     KRR1      NT          COCL2      \n",
       "51 geneComp_00003676 ITGA3    ITGA3     NT          COCL2      \n",
       "53 geneComp_00006989 SEPTIN11 SEPTIN11  NT          COCL2      \n",
       "   gene_switch_q_value switchConsequencesGene Rank\n",
       "1  3.646659e-08        FALSE                   1  \n",
       "3  5.007464e-07        FALSE                   2  \n",
       "5  6.831339e-06        FALSE                   3  \n",
       "7  6.831339e-06        FALSE                   4  \n",
       "9  2.536703e-05         TRUE                   5  \n",
       "11 4.331483e-04         TRUE                   6  \n",
       "13 8.334220e-04        FALSE                   7  \n",
       "15 8.757510e-04         TRUE                   8  \n",
       "17 9.445388e-04         TRUE                   9  \n",
       "19 1.001246e-03         TRUE                  10  \n",
       "21 4.676674e-03         TRUE                  11  \n",
       "23 4.676674e-03        FALSE                  12  \n",
       "25 6.050202e-03         TRUE                  13  \n",
       "27 6.050202e-03         TRUE                  14  \n",
       "29 7.987052e-03         TRUE                  15  \n",
       "31 9.603560e-03         TRUE                  16  \n",
       "33 1.037259e-02         TRUE                  17  \n",
       "35 1.382602e-02         TRUE                  18  \n",
       "37 1.411974e-02         TRUE                  19  \n",
       "39 1.428037e-02         TRUE                  20  \n",
       "41 1.897735e-02        FALSE                  21  \n",
       "43 2.274680e-02         TRUE                  22  \n",
       "45 2.711670e-02         TRUE                  23  \n",
       "47 3.159853e-02         TRUE                  24  \n",
       "49 3.302861e-02         TRUE                  25  \n",
       "51 4.342895e-02        FALSE                  26  \n",
       "53 4.342895e-02        FALSE                  27  "
      ]
     },
     "metadata": {},
     "output_type": "display_data"
    }
   ],
   "source": [
    "switchingIso_nocons"
   ]
  },
  {
   "cell_type": "code",
   "execution_count": 38,
   "id": "48cee305-2109-41c4-a482-defb04e7823a",
   "metadata": {},
   "outputs": [
    {
     "data": {
      "text/html": [
       "<table class=\"dataframe\">\n",
       "<caption>A data.frame: 18 × 8</caption>\n",
       "<thead>\n",
       "\t<tr><th></th><th scope=col>gene_ref</th><th scope=col>gene_id</th><th scope=col>gene_name</th><th scope=col>condition_1</th><th scope=col>condition_2</th><th scope=col>gene_switch_q_value</th><th scope=col>switchConsequencesGene</th><th scope=col>Rank</th></tr>\n",
       "\t<tr><th></th><th scope=col>&lt;chr&gt;</th><th scope=col>&lt;chr&gt;</th><th scope=col>&lt;chr&gt;</th><th scope=col>&lt;chr&gt;</th><th scope=col>&lt;chr&gt;</th><th scope=col>&lt;dbl&gt;</th><th scope=col>&lt;lgl&gt;</th><th scope=col>&lt;int&gt;</th></tr>\n",
       "</thead>\n",
       "<tbody>\n",
       "\t<tr><th scope=row>1</th><td>geneComp_00003235</td><td>H2AZ2  </td><td>H2AZ2  </td><td>NT</td><td>COCL2</td><td>2.536703e-05</td><td>TRUE</td><td> 1</td></tr>\n",
       "\t<tr><th scope=row>3</th><td>geneComp_00000223</td><td>AK2    </td><td>AK2    </td><td>NT</td><td>COCL2</td><td>4.331483e-04</td><td>TRUE</td><td> 2</td></tr>\n",
       "\t<tr><th scope=row>5</th><td>geneComp_00003156</td><td>GRK6   </td><td>GRK6   </td><td>NT</td><td>COCL2</td><td>8.757510e-04</td><td>TRUE</td><td> 3</td></tr>\n",
       "\t<tr><th scope=row>7</th><td>geneComp_00003147</td><td>GRB2   </td><td>GRB2   </td><td>NT</td><td>COCL2</td><td>9.445388e-04</td><td>TRUE</td><td> 4</td></tr>\n",
       "\t<tr><th scope=row>9</th><td>geneComp_00008452</td><td>TSC22D4</td><td>TSC22D4</td><td>NT</td><td>COCL2</td><td>1.001246e-03</td><td>TRUE</td><td> 5</td></tr>\n",
       "\t<tr><th scope=row>11</th><td>geneComp_00000405</td><td>APH1A  </td><td>APH1A  </td><td>NT</td><td>COCL2</td><td>4.676674e-03</td><td>TRUE</td><td> 6</td></tr>\n",
       "\t<tr><th scope=row>13</th><td>geneComp_00003496</td><td>IDS    </td><td>IDS    </td><td>NT</td><td>COCL2</td><td>6.050202e-03</td><td>TRUE</td><td> 7</td></tr>\n",
       "\t<tr><th scope=row>15</th><td>geneComp_00008538</td><td>TUBGCP2</td><td>TUBGCP2</td><td>NT</td><td>COCL2</td><td>6.050202e-03</td><td>TRUE</td><td> 8</td></tr>\n",
       "\t<tr><th scope=row>17</th><td>geneComp_00006287</td><td>RBCK1  </td><td>RBCK1  </td><td>NT</td><td>COCL2</td><td>7.987052e-03</td><td>TRUE</td><td> 9</td></tr>\n",
       "\t<tr><th scope=row>19</th><td>geneComp_00000629</td><td>ATP5IF1</td><td>ATP5IF1</td><td>NT</td><td>COCL2</td><td>9.603560e-03</td><td>TRUE</td><td>10</td></tr>\n",
       "\t<tr><th scope=row>21</th><td>geneComp_00005973</td><td>PRPF40A</td><td>PRPF40A</td><td>NT</td><td>COCL2</td><td>1.037259e-02</td><td>TRUE</td><td>11</td></tr>\n",
       "\t<tr><th scope=row>23</th><td>geneComp_00004472</td><td>MKRN1  </td><td>MKRN1  </td><td>NT</td><td>COCL2</td><td>1.382602e-02</td><td>TRUE</td><td>12</td></tr>\n",
       "\t<tr><th scope=row>25</th><td>geneComp_00001338</td><td>CENPN  </td><td>CENPN  </td><td>NT</td><td>COCL2</td><td>1.411974e-02</td><td>TRUE</td><td>13</td></tr>\n",
       "\t<tr><th scope=row>27</th><td>geneComp_00004922</td><td>NECTIN2</td><td>NECTIN2</td><td>NT</td><td>COCL2</td><td>1.428037e-02</td><td>TRUE</td><td>14</td></tr>\n",
       "\t<tr><th scope=row>29</th><td>geneComp_00005540</td><td>PHF19  </td><td>PHF19  </td><td>NT</td><td>COCL2</td><td>2.274680e-02</td><td>TRUE</td><td>15</td></tr>\n",
       "\t<tr><th scope=row>31</th><td>geneComp_00001824</td><td>CUL4A  </td><td>CUL4A  </td><td>NT</td><td>COCL2</td><td>2.711670e-02</td><td>TRUE</td><td>16</td></tr>\n",
       "\t<tr><th scope=row>33</th><td>geneComp_00008901</td><td>WDR33  </td><td>WDR33  </td><td>NT</td><td>COCL2</td><td>3.159853e-02</td><td>TRUE</td><td>17</td></tr>\n",
       "\t<tr><th scope=row>35</th><td>geneComp_00003878</td><td>KRR1   </td><td>KRR1   </td><td>NT</td><td>COCL2</td><td>3.302861e-02</td><td>TRUE</td><td>18</td></tr>\n",
       "</tbody>\n",
       "</table>\n"
      ],
      "text/latex": [
       "A data.frame: 18 × 8\n",
       "\\begin{tabular}{r|llllllll}\n",
       "  & gene\\_ref & gene\\_id & gene\\_name & condition\\_1 & condition\\_2 & gene\\_switch\\_q\\_value & switchConsequencesGene & Rank\\\\\n",
       "  & <chr> & <chr> & <chr> & <chr> & <chr> & <dbl> & <lgl> & <int>\\\\\n",
       "\\hline\n",
       "\t1 & geneComp\\_00003235 & H2AZ2   & H2AZ2   & NT & COCL2 & 2.536703e-05 & TRUE &  1\\\\\n",
       "\t3 & geneComp\\_00000223 & AK2     & AK2     & NT & COCL2 & 4.331483e-04 & TRUE &  2\\\\\n",
       "\t5 & geneComp\\_00003156 & GRK6    & GRK6    & NT & COCL2 & 8.757510e-04 & TRUE &  3\\\\\n",
       "\t7 & geneComp\\_00003147 & GRB2    & GRB2    & NT & COCL2 & 9.445388e-04 & TRUE &  4\\\\\n",
       "\t9 & geneComp\\_00008452 & TSC22D4 & TSC22D4 & NT & COCL2 & 1.001246e-03 & TRUE &  5\\\\\n",
       "\t11 & geneComp\\_00000405 & APH1A   & APH1A   & NT & COCL2 & 4.676674e-03 & TRUE &  6\\\\\n",
       "\t13 & geneComp\\_00003496 & IDS     & IDS     & NT & COCL2 & 6.050202e-03 & TRUE &  7\\\\\n",
       "\t15 & geneComp\\_00008538 & TUBGCP2 & TUBGCP2 & NT & COCL2 & 6.050202e-03 & TRUE &  8\\\\\n",
       "\t17 & geneComp\\_00006287 & RBCK1   & RBCK1   & NT & COCL2 & 7.987052e-03 & TRUE &  9\\\\\n",
       "\t19 & geneComp\\_00000629 & ATP5IF1 & ATP5IF1 & NT & COCL2 & 9.603560e-03 & TRUE & 10\\\\\n",
       "\t21 & geneComp\\_00005973 & PRPF40A & PRPF40A & NT & COCL2 & 1.037259e-02 & TRUE & 11\\\\\n",
       "\t23 & geneComp\\_00004472 & MKRN1   & MKRN1   & NT & COCL2 & 1.382602e-02 & TRUE & 12\\\\\n",
       "\t25 & geneComp\\_00001338 & CENPN   & CENPN   & NT & COCL2 & 1.411974e-02 & TRUE & 13\\\\\n",
       "\t27 & geneComp\\_00004922 & NECTIN2 & NECTIN2 & NT & COCL2 & 1.428037e-02 & TRUE & 14\\\\\n",
       "\t29 & geneComp\\_00005540 & PHF19   & PHF19   & NT & COCL2 & 2.274680e-02 & TRUE & 15\\\\\n",
       "\t31 & geneComp\\_00001824 & CUL4A   & CUL4A   & NT & COCL2 & 2.711670e-02 & TRUE & 16\\\\\n",
       "\t33 & geneComp\\_00008901 & WDR33   & WDR33   & NT & COCL2 & 3.159853e-02 & TRUE & 17\\\\\n",
       "\t35 & geneComp\\_00003878 & KRR1    & KRR1    & NT & COCL2 & 3.302861e-02 & TRUE & 18\\\\\n",
       "\\end{tabular}\n"
      ],
      "text/markdown": [
       "\n",
       "A data.frame: 18 × 8\n",
       "\n",
       "| <!--/--> | gene_ref &lt;chr&gt; | gene_id &lt;chr&gt; | gene_name &lt;chr&gt; | condition_1 &lt;chr&gt; | condition_2 &lt;chr&gt; | gene_switch_q_value &lt;dbl&gt; | switchConsequencesGene &lt;lgl&gt; | Rank &lt;int&gt; |\n",
       "|---|---|---|---|---|---|---|---|---|\n",
       "| 1 | geneComp_00003235 | H2AZ2   | H2AZ2   | NT | COCL2 | 2.536703e-05 | TRUE |  1 |\n",
       "| 3 | geneComp_00000223 | AK2     | AK2     | NT | COCL2 | 4.331483e-04 | TRUE |  2 |\n",
       "| 5 | geneComp_00003156 | GRK6    | GRK6    | NT | COCL2 | 8.757510e-04 | TRUE |  3 |\n",
       "| 7 | geneComp_00003147 | GRB2    | GRB2    | NT | COCL2 | 9.445388e-04 | TRUE |  4 |\n",
       "| 9 | geneComp_00008452 | TSC22D4 | TSC22D4 | NT | COCL2 | 1.001246e-03 | TRUE |  5 |\n",
       "| 11 | geneComp_00000405 | APH1A   | APH1A   | NT | COCL2 | 4.676674e-03 | TRUE |  6 |\n",
       "| 13 | geneComp_00003496 | IDS     | IDS     | NT | COCL2 | 6.050202e-03 | TRUE |  7 |\n",
       "| 15 | geneComp_00008538 | TUBGCP2 | TUBGCP2 | NT | COCL2 | 6.050202e-03 | TRUE |  8 |\n",
       "| 17 | geneComp_00006287 | RBCK1   | RBCK1   | NT | COCL2 | 7.987052e-03 | TRUE |  9 |\n",
       "| 19 | geneComp_00000629 | ATP5IF1 | ATP5IF1 | NT | COCL2 | 9.603560e-03 | TRUE | 10 |\n",
       "| 21 | geneComp_00005973 | PRPF40A | PRPF40A | NT | COCL2 | 1.037259e-02 | TRUE | 11 |\n",
       "| 23 | geneComp_00004472 | MKRN1   | MKRN1   | NT | COCL2 | 1.382602e-02 | TRUE | 12 |\n",
       "| 25 | geneComp_00001338 | CENPN   | CENPN   | NT | COCL2 | 1.411974e-02 | TRUE | 13 |\n",
       "| 27 | geneComp_00004922 | NECTIN2 | NECTIN2 | NT | COCL2 | 1.428037e-02 | TRUE | 14 |\n",
       "| 29 | geneComp_00005540 | PHF19   | PHF19   | NT | COCL2 | 2.274680e-02 | TRUE | 15 |\n",
       "| 31 | geneComp_00001824 | CUL4A   | CUL4A   | NT | COCL2 | 2.711670e-02 | TRUE | 16 |\n",
       "| 33 | geneComp_00008901 | WDR33   | WDR33   | NT | COCL2 | 3.159853e-02 | TRUE | 17 |\n",
       "| 35 | geneComp_00003878 | KRR1    | KRR1    | NT | COCL2 | 3.302861e-02 | TRUE | 18 |\n",
       "\n"
      ],
      "text/plain": [
       "   gene_ref          gene_id gene_name condition_1 condition_2\n",
       "1  geneComp_00003235 H2AZ2   H2AZ2     NT          COCL2      \n",
       "3  geneComp_00000223 AK2     AK2       NT          COCL2      \n",
       "5  geneComp_00003156 GRK6    GRK6      NT          COCL2      \n",
       "7  geneComp_00003147 GRB2    GRB2      NT          COCL2      \n",
       "9  geneComp_00008452 TSC22D4 TSC22D4   NT          COCL2      \n",
       "11 geneComp_00000405 APH1A   APH1A     NT          COCL2      \n",
       "13 geneComp_00003496 IDS     IDS       NT          COCL2      \n",
       "15 geneComp_00008538 TUBGCP2 TUBGCP2   NT          COCL2      \n",
       "17 geneComp_00006287 RBCK1   RBCK1     NT          COCL2      \n",
       "19 geneComp_00000629 ATP5IF1 ATP5IF1   NT          COCL2      \n",
       "21 geneComp_00005973 PRPF40A PRPF40A   NT          COCL2      \n",
       "23 geneComp_00004472 MKRN1   MKRN1     NT          COCL2      \n",
       "25 geneComp_00001338 CENPN   CENPN     NT          COCL2      \n",
       "27 geneComp_00004922 NECTIN2 NECTIN2   NT          COCL2      \n",
       "29 geneComp_00005540 PHF19   PHF19     NT          COCL2      \n",
       "31 geneComp_00001824 CUL4A   CUL4A     NT          COCL2      \n",
       "33 geneComp_00008901 WDR33   WDR33     NT          COCL2      \n",
       "35 geneComp_00003878 KRR1    KRR1      NT          COCL2      \n",
       "   gene_switch_q_value switchConsequencesGene Rank\n",
       "1  2.536703e-05        TRUE                    1  \n",
       "3  4.331483e-04        TRUE                    2  \n",
       "5  8.757510e-04        TRUE                    3  \n",
       "7  9.445388e-04        TRUE                    4  \n",
       "9  1.001246e-03        TRUE                    5  \n",
       "11 4.676674e-03        TRUE                    6  \n",
       "13 6.050202e-03        TRUE                    7  \n",
       "15 6.050202e-03        TRUE                    8  \n",
       "17 7.987052e-03        TRUE                    9  \n",
       "19 9.603560e-03        TRUE                   10  \n",
       "21 1.037259e-02        TRUE                   11  \n",
       "23 1.382602e-02        TRUE                   12  \n",
       "25 1.411974e-02        TRUE                   13  \n",
       "27 1.428037e-02        TRUE                   14  \n",
       "29 2.274680e-02        TRUE                   15  \n",
       "31 2.711670e-02        TRUE                   16  \n",
       "33 3.159853e-02        TRUE                   17  \n",
       "35 3.302861e-02        TRUE                   18  "
      ]
     },
     "metadata": {},
     "output_type": "display_data"
    }
   ],
   "source": [
    "switchingIso_cons"
   ]
  },
  {
   "cell_type": "code",
   "execution_count": 70,
   "id": "5fd66446-cce5-4974-8cd9-055c72305ba6",
   "metadata": {},
   "outputs": [
    {
     "data": {
      "text/html": [
       "<strong>png:</strong> 2"
      ],
      "text/latex": [
       "\\textbf{png:} 2"
      ],
      "text/markdown": [
       "**png:** 2"
      ],
      "text/plain": [
       "png \n",
       "  2 "
      ]
     },
     "metadata": {},
     "output_type": "display_data"
    }
   ],
   "source": [
    "jpeg(\"~/projects/STAMP/stamp_v3_pipeline/notebooks/figs/fig4/consequenceSummary_rplot.jpg\", width = 500, height = \"500\")\n",
    "png(\"~/projects/STAMP/stamp_v3_pipeline/notebooks/figs/fig4/consequenceSummary_rplot.png\", width = 500, height = \"500\")\n",
    "extractConsequenceSummary(\n",
    "    aSwitchListFilteredAnalyzed,\n",
    "    plotGenes = FALSE,           # enables analysis of genes (instead of isoforms)\n",
    "    asFractionTotal = TRUE      # enables analysis of fraction of significant features\n",
    ")\n",
    "dev.off()\n",
    "extractConsequenceSummary(\n",
    "    aSwitchListFilteredAnalyzed,\n",
    "    plotGenes = FALSE,           # enables analysis of genes (instead of isoforms)\n",
    "    asFractionTotal = TRUE      # enables analysis of fraction of significant features\n",
    ")"
   ]
  },
  {
   "cell_type": "code",
   "execution_count": 225,
   "id": "97384db0-29c4-44d0-bbc2-5c800f45ae8a",
   "metadata": {},
   "outputs": [],
   "source": [
    "write.table(aSwitchListFilteredAnalyzed[9],file='IsoSwitch_AS_ORF_out.txt', sep = '\\t')"
   ]
  },
  {
   "cell_type": "code",
   "execution_count": 227,
   "id": "d10ddec7-da3f-494f-8cf2-3bf10931bcac",
   "metadata": {},
   "outputs": [],
   "source": [
    "write.table(aSwitchListFilteredAnalyzed[10],file='IsoSwitch_AS_isoformRepIF_out.txt', sep = '\\t')"
   ]
  },
  {
   "cell_type": "code",
   "execution_count": 230,
   "id": "7f676f51-9c75-4ead-9196-abdf3a173c0d",
   "metadata": {},
   "outputs": [],
   "source": [
    "write.table(aSwitchListFilteredAnalyzed[12],file='IsoSwitch_AS_isoformSwitchAnalysis_out.txt', sep = '\\t')"
   ]
  },
  {
   "cell_type": "code",
   "execution_count": 233,
   "id": "757f21b0-494f-4d3c-bf6e-16b71f517392",
   "metadata": {},
   "outputs": [],
   "source": [
    "write.table(aSwitchListFilteredAnalyzed[14],file='IsoSwitch_AS_AlternativeSplicingAnalysis_out.txt', sep = '\\t')"
   ]
  },
  {
   "cell_type": "code",
   "execution_count": 236,
   "id": "ed4722e5-a3a0-4440-9697-d6ea23d97b77",
   "metadata": {},
   "outputs": [],
   "source": [
    "write.table(aSwitchListFilteredAnalyzed[15],file='IsoSwitch_AS_switchConsequence_out.txt', sep = '\\t')"
   ]
  },
  {
   "cell_type": "code",
   "execution_count": 40,
   "id": "3ca1b9db-09ca-4306-b90e-8f00837ad7ed",
   "metadata": {},
   "outputs": [
    {
     "name": "stderr",
     "output_type": "stream",
     "text": [
      "Extracting data...\n",
      "\n",
      "Creating 27 plots...\n",
      "\n"
     ]
    },
    {
     "name": "stdout",
     "output_type": "stream",
     "text": [
      "  |                                                                      |   0%"
     ]
    },
    {
     "name": "stderr",
     "output_type": "stream",
     "text": [
      "Omitting toplogy visualization as it has not been added. You can add this analysis through analyzeDeepTMHMM(). To avoid this message set \"plotTopology=FALSE\"\n",
      "\n"
     ]
    },
    {
     "name": "stdout",
     "output_type": "stream",
     "text": [
      "  |===                                                                   |   4%"
     ]
    },
    {
     "name": "stderr",
     "output_type": "stream",
     "text": [
      "Omitting toplogy visualization as it has not been added. You can add this analysis through analyzeDeepTMHMM(). To avoid this message set \"plotTopology=FALSE\"\n",
      "\n"
     ]
    },
    {
     "name": "stdout",
     "output_type": "stream",
     "text": [
      "  |=====                                                                 |   7%"
     ]
    },
    {
     "name": "stderr",
     "output_type": "stream",
     "text": [
      "Omitting toplogy visualization as it has not been added. You can add this analysis through analyzeDeepTMHMM(). To avoid this message set \"plotTopology=FALSE\"\n",
      "\n"
     ]
    },
    {
     "name": "stdout",
     "output_type": "stream",
     "text": [
      "  |========                                                              |  11%"
     ]
    },
    {
     "name": "stderr",
     "output_type": "stream",
     "text": [
      "Omitting toplogy visualization as it has not been added. You can add this analysis through analyzeDeepTMHMM(). To avoid this message set \"plotTopology=FALSE\"\n",
      "\n"
     ]
    },
    {
     "name": "stdout",
     "output_type": "stream",
     "text": [
      "  |==========                                                            |  15%"
     ]
    },
    {
     "name": "stderr",
     "output_type": "stream",
     "text": [
      "Omitting toplogy visualization as it has not been added. You can add this analysis through analyzeDeepTMHMM(). To avoid this message set \"plotTopology=FALSE\"\n",
      "\n"
     ]
    },
    {
     "name": "stdout",
     "output_type": "stream",
     "text": [
      "  |=============                                                         |  19%"
     ]
    },
    {
     "name": "stderr",
     "output_type": "stream",
     "text": [
      "Omitting toplogy visualization as it has not been added. You can add this analysis through analyzeDeepTMHMM(). To avoid this message set \"plotTopology=FALSE\"\n",
      "\n"
     ]
    },
    {
     "name": "stdout",
     "output_type": "stream",
     "text": [
      "  |================                                                      |  22%"
     ]
    },
    {
     "name": "stderr",
     "output_type": "stream",
     "text": [
      "Omitting toplogy visualization as it has not been added. You can add this analysis through analyzeDeepTMHMM(). To avoid this message set \"plotTopology=FALSE\"\n",
      "\n"
     ]
    },
    {
     "name": "stdout",
     "output_type": "stream",
     "text": [
      "  |==================                                                    |  26%"
     ]
    },
    {
     "name": "stderr",
     "output_type": "stream",
     "text": [
      "Omitting toplogy visualization as it has not been added. You can add this analysis through analyzeDeepTMHMM(). To avoid this message set \"plotTopology=FALSE\"\n",
      "\n"
     ]
    },
    {
     "name": "stdout",
     "output_type": "stream",
     "text": [
      "  |=====================                                                 |  30%"
     ]
    },
    {
     "name": "stderr",
     "output_type": "stream",
     "text": [
      "Omitting toplogy visualization as it has not been added. You can add this analysis through analyzeDeepTMHMM(). To avoid this message set \"plotTopology=FALSE\"\n",
      "\n"
     ]
    },
    {
     "name": "stdout",
     "output_type": "stream",
     "text": [
      "  |=======================                                               |  33%"
     ]
    },
    {
     "name": "stderr",
     "output_type": "stream",
     "text": [
      "Omitting toplogy visualization as it has not been added. You can add this analysis through analyzeDeepTMHMM(). To avoid this message set \"plotTopology=FALSE\"\n",
      "\n"
     ]
    },
    {
     "name": "stdout",
     "output_type": "stream",
     "text": [
      "  |==========================                                            |  37%"
     ]
    },
    {
     "name": "stderr",
     "output_type": "stream",
     "text": [
      "Omitting toplogy visualization as it has not been added. You can add this analysis through analyzeDeepTMHMM(). To avoid this message set \"plotTopology=FALSE\"\n",
      "\n"
     ]
    },
    {
     "name": "stdout",
     "output_type": "stream",
     "text": [
      "  |=============================                                         |  41%"
     ]
    },
    {
     "name": "stderr",
     "output_type": "stream",
     "text": [
      "Omitting toplogy visualization as it has not been added. You can add this analysis through analyzeDeepTMHMM(). To avoid this message set \"plotTopology=FALSE\"\n",
      "\n"
     ]
    },
    {
     "name": "stdout",
     "output_type": "stream",
     "text": [
      "  |===============================                                       |  44%"
     ]
    },
    {
     "name": "stderr",
     "output_type": "stream",
     "text": [
      "Omitting toplogy visualization as it has not been added. You can add this analysis through analyzeDeepTMHMM(). To avoid this message set \"plotTopology=FALSE\"\n",
      "\n"
     ]
    },
    {
     "name": "stdout",
     "output_type": "stream",
     "text": [
      "  |==================================                                    |  48%"
     ]
    },
    {
     "name": "stderr",
     "output_type": "stream",
     "text": [
      "Omitting toplogy visualization as it has not been added. You can add this analysis through analyzeDeepTMHMM(). To avoid this message set \"plotTopology=FALSE\"\n",
      "\n"
     ]
    },
    {
     "name": "stdout",
     "output_type": "stream",
     "text": [
      "  |====================================                                  |  52%"
     ]
    },
    {
     "name": "stderr",
     "output_type": "stream",
     "text": [
      "Omitting toplogy visualization as it has not been added. You can add this analysis through analyzeDeepTMHMM(). To avoid this message set \"plotTopology=FALSE\"\n",
      "\n"
     ]
    },
    {
     "name": "stdout",
     "output_type": "stream",
     "text": [
      "  |=======================================                               |  56%"
     ]
    },
    {
     "name": "stderr",
     "output_type": "stream",
     "text": [
      "Omitting toplogy visualization as it has not been added. You can add this analysis through analyzeDeepTMHMM(). To avoid this message set \"plotTopology=FALSE\"\n",
      "\n"
     ]
    },
    {
     "name": "stdout",
     "output_type": "stream",
     "text": [
      "  |=========================================                             |  59%"
     ]
    },
    {
     "name": "stderr",
     "output_type": "stream",
     "text": [
      "Omitting toplogy visualization as it has not been added. You can add this analysis through analyzeDeepTMHMM(). To avoid this message set \"plotTopology=FALSE\"\n",
      "\n"
     ]
    },
    {
     "name": "stdout",
     "output_type": "stream",
     "text": [
      "  |============================================                          |  63%"
     ]
    },
    {
     "name": "stderr",
     "output_type": "stream",
     "text": [
      "Omitting toplogy visualization as it has not been added. You can add this analysis through analyzeDeepTMHMM(). To avoid this message set \"plotTopology=FALSE\"\n",
      "\n"
     ]
    },
    {
     "name": "stdout",
     "output_type": "stream",
     "text": [
      "  |===============================================                       |  67%"
     ]
    },
    {
     "name": "stderr",
     "output_type": "stream",
     "text": [
      "Omitting toplogy visualization as it has not been added. You can add this analysis through analyzeDeepTMHMM(). To avoid this message set \"plotTopology=FALSE\"\n",
      "\n"
     ]
    },
    {
     "name": "stdout",
     "output_type": "stream",
     "text": [
      "  |=================================================                     |  70%"
     ]
    },
    {
     "name": "stderr",
     "output_type": "stream",
     "text": [
      "Omitting toplogy visualization as it has not been added. You can add this analysis through analyzeDeepTMHMM(). To avoid this message set \"plotTopology=FALSE\"\n",
      "\n"
     ]
    },
    {
     "name": "stdout",
     "output_type": "stream",
     "text": [
      "  |====================================================                  |  74%"
     ]
    },
    {
     "name": "stderr",
     "output_type": "stream",
     "text": [
      "Omitting toplogy visualization as it has not been added. You can add this analysis through analyzeDeepTMHMM(). To avoid this message set \"plotTopology=FALSE\"\n",
      "\n"
     ]
    },
    {
     "name": "stdout",
     "output_type": "stream",
     "text": [
      "  |======================================================                |  78%"
     ]
    },
    {
     "name": "stderr",
     "output_type": "stream",
     "text": [
      "Omitting toplogy visualization as it has not been added. You can add this analysis through analyzeDeepTMHMM(). To avoid this message set \"plotTopology=FALSE\"\n",
      "\n"
     ]
    },
    {
     "name": "stdout",
     "output_type": "stream",
     "text": [
      "  |=========================================================             |  81%"
     ]
    },
    {
     "name": "stderr",
     "output_type": "stream",
     "text": [
      "Omitting toplogy visualization as it has not been added. You can add this analysis through analyzeDeepTMHMM(). To avoid this message set \"plotTopology=FALSE\"\n",
      "\n"
     ]
    },
    {
     "name": "stdout",
     "output_type": "stream",
     "text": [
      "  |============================================================          |  85%"
     ]
    },
    {
     "name": "stderr",
     "output_type": "stream",
     "text": [
      "Omitting toplogy visualization as it has not been added. You can add this analysis through analyzeDeepTMHMM(). To avoid this message set \"plotTopology=FALSE\"\n",
      "\n"
     ]
    },
    {
     "name": "stdout",
     "output_type": "stream",
     "text": [
      "  |==============================================================        |  89%"
     ]
    },
    {
     "name": "stderr",
     "output_type": "stream",
     "text": [
      "Omitting toplogy visualization as it has not been added. You can add this analysis through analyzeDeepTMHMM(). To avoid this message set \"plotTopology=FALSE\"\n",
      "\n"
     ]
    },
    {
     "name": "stdout",
     "output_type": "stream",
     "text": [
      "  |=================================================================     |  93%"
     ]
    },
    {
     "name": "stderr",
     "output_type": "stream",
     "text": [
      "Omitting toplogy visualization as it has not been added. You can add this analysis through analyzeDeepTMHMM(). To avoid this message set \"plotTopology=FALSE\"\n",
      "\n"
     ]
    },
    {
     "name": "stdout",
     "output_type": "stream",
     "text": [
      "  |===================================================================   |  96%"
     ]
    },
    {
     "name": "stderr",
     "output_type": "stream",
     "text": [
      "Omitting toplogy visualization as it has not been added. You can add this analysis through analyzeDeepTMHMM(). To avoid this message set \"plotTopology=FALSE\"\n",
      "\n"
     ]
    },
    {
     "name": "stdout",
     "output_type": "stream",
     "text": [
      "  |======================================================================| 100%\n"
     ]
    },
    {
     "name": "stderr",
     "output_type": "stream",
     "text": [
      "Made 27 plots of genes with isoform switching\n",
      "\n"
     ]
    }
   ],
   "source": [
    "switchPlotTopSwitches(\n",
    "    switchAnalyzeRlist = aSwitchListFilteredAnalyzed, \n",
    "    n = Inf,                                             # Set to Inf for all\n",
    "    filterForConsequences = FALSE,\n",
    "    fileType = \"pdf\",                                   # alternative is \"png\"\n",
    "    pathToOutput = \"~/projects/STAMP/stamp_v3_pipeline/notebooks/231_data/diffsplice/sig_as_plots\"\n",
    ")"
   ]
  },
  {
   "cell_type": "code",
   "execution_count": 75,
   "id": "4bf709fa-1306-47e8-a43f-dd73d5925b24",
   "metadata": {},
   "outputs": [
    {
     "name": "stderr",
     "output_type": "stream",
     "text": [
      "Omitting toplogy visualization as it has not been added. You can add this analysis through analyzeDeepTMHMM(). To avoid this message set \"plotTopology=FALSE\"\n",
      "\n"
     ]
    },
    {
     "data": {
      "text/html": [
       "<strong>png:</strong> 2"
      ],
      "text/latex": [
       "\\textbf{png:} 2"
      ],
      "text/markdown": [
       "**png:** 2"
      ],
      "text/plain": [
       "png \n",
       "  2 "
      ]
     },
     "metadata": {},
     "output_type": "display_data"
    }
   ],
   "source": [
    "jpeg(\"~/projects/STAMP/stamp_v3_pipeline/notebooks/figs/fig4/HSP90B_rplot.jpg\", width = 500, height = \"500\")\n",
    "png(\"~/projects/STAMP/stamp_v3_pipeline/notebooks/figs/fig4/HSP90B_rplot.png\", width = 500, height = \"500\")\n",
    "switchPlot(aSwitchListFilteredAnalyzed, gene = 'HSP90B1')\n",
    "\n",
    "dev.off()"
   ]
  },
  {
   "cell_type": "code",
   "execution_count": 79,
   "id": "dbe2b7bd-5825-41d1-af3d-1bf7e0f31914",
   "metadata": {},
   "outputs": [],
   "source": [
    "#write.table(head(aSwitchListFilteredAnalyzed, 65),file='IsoSwitch_AS_out.txt', sep = '\\t')"
   ]
  },
  {
   "cell_type": "code",
   "execution_count": 82,
   "id": "44df745c-4e4d-4d2d-bd02-f925a14cbd7b",
   "metadata": {},
   "outputs": [
    {
     "name": "stderr",
     "output_type": "stream",
     "text": [
      "Step 1 of 4: Extracting genes with isoform switches...\n",
      "\n",
      "Step 2 of 4: Analyzing 27 pairwise isoforms comparisons...\n",
      "\n",
      "Step 3 of 4: Massaging isoforms comparisons results...\n",
      "\n",
      "Step 4 of 4: Preparing output...\n",
      "\n",
      "Identified  genes with containing isoforms switching with functional consequences...\n",
      "\n"
     ]
    }
   ],
   "source": [
    "bioMechanismeAnalysis <- analyzeSwitchConsequences(\n",
    "    aSwitchListFilteredAnalyzed, \n",
    "    consequencesToAnalyze = c('tss','tts','intron_structure'),\n",
    "    showProgress = FALSE\n",
    ")$switchConsequence"
   ]
  },
  {
   "cell_type": "code",
   "execution_count": 83,
   "id": "80c8ef7b-d2fe-4ff2-b4a8-4cac9aa934a1",
   "metadata": {},
   "outputs": [
    {
     "data": {
      "text/html": [
       "<table class=\"dataframe\">\n",
       "<caption>A data.frame: 78 × 12</caption>\n",
       "<thead>\n",
       "\t<tr><th></th><th scope=col>gene_ref</th><th scope=col>gene_id</th><th scope=col>gene_name</th><th scope=col>condition_1</th><th scope=col>condition_2</th><th scope=col>isoformUpregulated</th><th scope=col>isoformDownregulated</th><th scope=col>iso_ref_up</th><th scope=col>iso_ref_down</th><th scope=col>featureCompared</th><th scope=col>isoformsDifferent</th><th scope=col>switchConsequence</th></tr>\n",
       "\t<tr><th></th><th scope=col>&lt;chr&gt;</th><th scope=col>&lt;chr&gt;</th><th scope=col>&lt;chr&gt;</th><th scope=col>&lt;chr&gt;</th><th scope=col>&lt;chr&gt;</th><th scope=col>&lt;chr&gt;</th><th scope=col>&lt;chr&gt;</th><th scope=col>&lt;chr&gt;</th><th scope=col>&lt;chr&gt;</th><th scope=col>&lt;chr&gt;</th><th scope=col>&lt;lgl&gt;</th><th scope=col>&lt;chr&gt;</th></tr>\n",
       "</thead>\n",
       "<tbody>\n",
       "\t<tr><th scope=row>1</th><td>geneComp_00000223</td><td>AK2    </td><td>AK2    </td><td>NT</td><td>COCL2</td><td>ENST00000672308.1 </td><td>ENST00000373449.7 </td><td>isoComp_00000363</td><td>isoComp_00000360</td><td>tss             </td><td>FALSE</td><td>NA                 </td></tr>\n",
       "\t<tr><th scope=row>2</th><td>geneComp_00000223</td><td>AK2    </td><td>AK2    </td><td>NT</td><td>COCL2</td><td>ENST00000672308.1 </td><td>ENST00000373449.7 </td><td>isoComp_00000363</td><td>isoComp_00000360</td><td>tts             </td><td> TRUE</td><td>Tts more upstream  </td></tr>\n",
       "\t<tr><th scope=row>3</th><td>geneComp_00000223</td><td>AK2    </td><td>AK2    </td><td>NT</td><td>COCL2</td><td>ENST00000672308.1 </td><td>ENST00000373449.7 </td><td>isoComp_00000363</td><td>isoComp_00000360</td><td>intron_structure</td><td> TRUE</td><td>NA                 </td></tr>\n",
       "\t<tr><th scope=row>4</th><td>geneComp_00000405</td><td>APH1A  </td><td>APH1A  </td><td>NT</td><td>COCL2</td><td>ENST00000369109.8 </td><td>ENST00000360244.8 </td><td>isoComp_00000679</td><td>isoComp_00000678</td><td>tss             </td><td> TRUE</td><td>Tss more downstream</td></tr>\n",
       "\t<tr><th scope=row>5</th><td>geneComp_00000405</td><td>APH1A  </td><td>APH1A  </td><td>NT</td><td>COCL2</td><td>ENST00000369109.8 </td><td>ENST00000360244.8 </td><td>isoComp_00000679</td><td>isoComp_00000678</td><td>tts             </td><td>FALSE</td><td>NA                 </td></tr>\n",
       "\t<tr><th scope=row>6</th><td>geneComp_00000405</td><td>APH1A  </td><td>APH1A  </td><td>NT</td><td>COCL2</td><td>ENST00000369109.8 </td><td>ENST00000360244.8 </td><td>isoComp_00000679</td><td>isoComp_00000678</td><td>intron_structure</td><td>FALSE</td><td>NA                 </td></tr>\n",
       "\t<tr><th scope=row>7</th><td>geneComp_00000753</td><td>BCCIP  </td><td>BCCIP  </td><td>NT</td><td>COCL2</td><td>ENST00000278100.11</td><td>ENST00000368759.5 </td><td>isoComp_00001285</td><td>isoComp_00001287</td><td>tss             </td><td>FALSE</td><td>NA                 </td></tr>\n",
       "\t<tr><th scope=row>8</th><td>geneComp_00000753</td><td>BCCIP  </td><td>BCCIP  </td><td>NT</td><td>COCL2</td><td>ENST00000278100.11</td><td>ENST00000368759.5 </td><td>isoComp_00001285</td><td>isoComp_00001287</td><td>tts             </td><td> TRUE</td><td>Tts more downstream</td></tr>\n",
       "\t<tr><th scope=row>9</th><td>geneComp_00000753</td><td>BCCIP  </td><td>BCCIP  </td><td>NT</td><td>COCL2</td><td>ENST00000278100.11</td><td>ENST00000368759.5 </td><td>isoComp_00001285</td><td>isoComp_00001287</td><td>intron_structure</td><td> TRUE</td><td>NA                 </td></tr>\n",
       "\t<tr><th scope=row>10</th><td>geneComp_00000881</td><td>BUB3   </td><td>BUB3   </td><td>NT</td><td>COCL2</td><td>ENST00000368858.9 </td><td>ENST00000368865.9 </td><td>isoComp_00001510</td><td>isoComp_00001511</td><td>tss             </td><td>FALSE</td><td>NA                 </td></tr>\n",
       "\t<tr><th scope=row>11</th><td>geneComp_00000881</td><td>BUB3   </td><td>BUB3   </td><td>NT</td><td>COCL2</td><td>ENST00000368858.9 </td><td>ENST00000368865.9 </td><td>isoComp_00001510</td><td>isoComp_00001511</td><td>tts             </td><td> TRUE</td><td>Tts more downstream</td></tr>\n",
       "\t<tr><th scope=row>12</th><td>geneComp_00000881</td><td>BUB3   </td><td>BUB3   </td><td>NT</td><td>COCL2</td><td>ENST00000368858.9 </td><td>ENST00000368865.9 </td><td>isoComp_00001510</td><td>isoComp_00001511</td><td>intron_structure</td><td> TRUE</td><td>NA                 </td></tr>\n",
       "\t<tr><th scope=row>13</th><td>geneComp_00001338</td><td>CENPN  </td><td>CENPN  </td><td>NT</td><td>COCL2</td><td>ENST00000299572.9 </td><td>ENST00000305850.10</td><td>isoComp_00002253</td><td>isoComp_00002254</td><td>tss             </td><td> TRUE</td><td>Tss more upstream  </td></tr>\n",
       "\t<tr><th scope=row>14</th><td>geneComp_00001338</td><td>CENPN  </td><td>CENPN  </td><td>NT</td><td>COCL2</td><td>ENST00000299572.9 </td><td>ENST00000305850.10</td><td>isoComp_00002253</td><td>isoComp_00002254</td><td>tts             </td><td> TRUE</td><td>Tts more downstream</td></tr>\n",
       "\t<tr><th scope=row>15</th><td>geneComp_00001338</td><td>CENPN  </td><td>CENPN  </td><td>NT</td><td>COCL2</td><td>ENST00000299572.9 </td><td>ENST00000305850.10</td><td>isoComp_00002253</td><td>isoComp_00002254</td><td>intron_structure</td><td> TRUE</td><td>NA                 </td></tr>\n",
       "\t<tr><th scope=row>16</th><td>geneComp_00001824</td><td>CUL4A  </td><td>CUL4A  </td><td>NT</td><td>COCL2</td><td>ENST00000488558.2 </td><td>ENST00000375440.9 </td><td>isoComp_00003020</td><td>isoComp_00003018</td><td>tss             </td><td>FALSE</td><td>NA                 </td></tr>\n",
       "\t<tr><th scope=row>17</th><td>geneComp_00001824</td><td>CUL4A  </td><td>CUL4A  </td><td>NT</td><td>COCL2</td><td>ENST00000488558.2 </td><td>ENST00000375440.9 </td><td>isoComp_00003020</td><td>isoComp_00003018</td><td>tts             </td><td> TRUE</td><td>Tts more upstream  </td></tr>\n",
       "\t<tr><th scope=row>18</th><td>geneComp_00001824</td><td>CUL4A  </td><td>CUL4A  </td><td>NT</td><td>COCL2</td><td>ENST00000488558.2 </td><td>ENST00000375440.9 </td><td>isoComp_00003020</td><td>isoComp_00003018</td><td>intron_structure</td><td> TRUE</td><td>NA                 </td></tr>\n",
       "\t<tr><th scope=row>19</th><td>geneComp_00003147</td><td>GRB2   </td><td>GRB2   </td><td>NT</td><td>COCL2</td><td>ENST00000648046.1 </td><td>ENST00000316804.10</td><td>isoComp_00005138</td><td>isoComp_00005136</td><td>tss             </td><td>FALSE</td><td>NA                 </td></tr>\n",
       "\t<tr><th scope=row>20</th><td>geneComp_00003147</td><td>GRB2   </td><td>GRB2   </td><td>NT</td><td>COCL2</td><td>ENST00000648046.1 </td><td>ENST00000316804.10</td><td>isoComp_00005138</td><td>isoComp_00005136</td><td>tts             </td><td> TRUE</td><td>Tts more upstream  </td></tr>\n",
       "\t<tr><th scope=row>21</th><td>geneComp_00003147</td><td>GRB2   </td><td>GRB2   </td><td>NT</td><td>COCL2</td><td>ENST00000648046.1 </td><td>ENST00000316804.10</td><td>isoComp_00005138</td><td>isoComp_00005136</td><td>intron_structure</td><td>FALSE</td><td>NA                 </td></tr>\n",
       "\t<tr><th scope=row>22</th><td>geneComp_00003156</td><td>GRK6   </td><td>GRK6   </td><td>NT</td><td>COCL2</td><td>ENST00000507633.5 </td><td>ENST00000355472.10</td><td>isoComp_00005150</td><td>isoComp_00005149</td><td>tss             </td><td> TRUE</td><td>Tss more downstream</td></tr>\n",
       "\t<tr><th scope=row>23</th><td>geneComp_00003156</td><td>GRK6   </td><td>GRK6   </td><td>NT</td><td>COCL2</td><td>ENST00000507633.5 </td><td>ENST00000355472.10</td><td>isoComp_00005150</td><td>isoComp_00005149</td><td>tts             </td><td> TRUE</td><td>Tts more upstream  </td></tr>\n",
       "\t<tr><th scope=row>24</th><td>geneComp_00003156</td><td>GRK6   </td><td>GRK6   </td><td>NT</td><td>COCL2</td><td>ENST00000507633.5 </td><td>ENST00000355472.10</td><td>isoComp_00005150</td><td>isoComp_00005149</td><td>intron_structure</td><td>FALSE</td><td>NA                 </td></tr>\n",
       "\t<tr><th scope=row>25</th><td>geneComp_00003235</td><td>H2AZ2  </td><td>H2AZ2  </td><td>NT</td><td>COCL2</td><td>ENST00000308153.9 </td><td>ENST00000222690.10</td><td>isoComp_00005263</td><td>isoComp_00005262</td><td>tss             </td><td>FALSE</td><td>NA                 </td></tr>\n",
       "\t<tr><th scope=row>26</th><td>geneComp_00003235</td><td>H2AZ2  </td><td>H2AZ2  </td><td>NT</td><td>COCL2</td><td>ENST00000308153.9 </td><td>ENST00000222690.10</td><td>isoComp_00005263</td><td>isoComp_00005262</td><td>tts             </td><td> TRUE</td><td>Tts more upstream  </td></tr>\n",
       "\t<tr><th scope=row>27</th><td>geneComp_00003235</td><td>H2AZ2  </td><td>H2AZ2  </td><td>NT</td><td>COCL2</td><td>ENST00000308153.9 </td><td>ENST00000222690.10</td><td>isoComp_00005263</td><td>isoComp_00005262</td><td>intron_structure</td><td> TRUE</td><td>NA                 </td></tr>\n",
       "\t<tr><th scope=row>28</th><td>geneComp_00003441</td><td>HSP90B1</td><td>HSP90B1</td><td>NT</td><td>COCL2</td><td>ENST00000640977.2 </td><td>ENST00000299767.10</td><td>isoComp_00005630</td><td>isoComp_00005628</td><td>tss             </td><td>FALSE</td><td>NA                 </td></tr>\n",
       "\t<tr><th scope=row>29</th><td>geneComp_00003441</td><td>HSP90B1</td><td>HSP90B1</td><td>NT</td><td>COCL2</td><td>ENST00000640977.2 </td><td>ENST00000299767.10</td><td>isoComp_00005630</td><td>isoComp_00005628</td><td>tts             </td><td> TRUE</td><td>Tts more upstream  </td></tr>\n",
       "\t<tr><th scope=row>30</th><td>geneComp_00003441</td><td>HSP90B1</td><td>HSP90B1</td><td>NT</td><td>COCL2</td><td>ENST00000640977.2 </td><td>ENST00000299767.10</td><td>isoComp_00005630</td><td>isoComp_00005628</td><td>intron_structure</td><td>FALSE</td><td>NA                 </td></tr>\n",
       "\t<tr><th scope=row>⋮</th><td>⋮</td><td>⋮</td><td>⋮</td><td>⋮</td><td>⋮</td><td>⋮</td><td>⋮</td><td>⋮</td><td>⋮</td><td>⋮</td><td>⋮</td><td>⋮</td></tr>\n",
       "\t<tr><th scope=row>49</th><td>geneComp_00004922</td><td>NECTIN2 </td><td>NECTIN2 </td><td>NT</td><td>COCL2</td><td>ENST00000252485.8 </td><td>ENST00000252483.10</td><td>isoComp_00007990</td><td>isoComp_00007989</td><td>tss             </td><td> TRUE</td><td>Tss more upstream  </td></tr>\n",
       "\t<tr><th scope=row>50</th><td>geneComp_00004922</td><td>NECTIN2 </td><td>NECTIN2 </td><td>NT</td><td>COCL2</td><td>ENST00000252485.8 </td><td>ENST00000252483.10</td><td>isoComp_00007990</td><td>isoComp_00007989</td><td>tts             </td><td> TRUE</td><td>Tts more upstream  </td></tr>\n",
       "\t<tr><th scope=row>51</th><td>geneComp_00004922</td><td>NECTIN2 </td><td>NECTIN2 </td><td>NT</td><td>COCL2</td><td>ENST00000252485.8 </td><td>ENST00000252483.10</td><td>isoComp_00007990</td><td>isoComp_00007989</td><td>intron_structure</td><td> TRUE</td><td>NA                 </td></tr>\n",
       "\t<tr><th scope=row>52</th><td>geneComp_00005394</td><td>PCMT1   </td><td>PCMT1   </td><td>NT</td><td>COCL2</td><td>ENST00000367378.6 </td><td>ENST00000367384.7 </td><td>isoComp_00008807</td><td>isoComp_00008808</td><td>tss             </td><td>FALSE</td><td>NA                 </td></tr>\n",
       "\t<tr><th scope=row>53</th><td>geneComp_00005394</td><td>PCMT1   </td><td>PCMT1   </td><td>NT</td><td>COCL2</td><td>ENST00000367378.6 </td><td>ENST00000367384.7 </td><td>isoComp_00008807</td><td>isoComp_00008808</td><td>tts             </td><td> TRUE</td><td>Tts more downstream</td></tr>\n",
       "\t<tr><th scope=row>54</th><td>geneComp_00005394</td><td>PCMT1   </td><td>PCMT1   </td><td>NT</td><td>COCL2</td><td>ENST00000367378.6 </td><td>ENST00000367384.7 </td><td>isoComp_00008807</td><td>isoComp_00008808</td><td>intron_structure</td><td>FALSE</td><td>NA                 </td></tr>\n",
       "\t<tr><th scope=row>55</th><td>geneComp_00005540</td><td>PHF19   </td><td>PHF19   </td><td>NT</td><td>COCL2</td><td>ENST00000312189.10</td><td>ENST00000373896.8 </td><td>isoComp_00009024</td><td>isoComp_00009025</td><td>tss             </td><td>FALSE</td><td>NA                 </td></tr>\n",
       "\t<tr><th scope=row>56</th><td>geneComp_00005540</td><td>PHF19   </td><td>PHF19   </td><td>NT</td><td>COCL2</td><td>ENST00000312189.10</td><td>ENST00000373896.8 </td><td>isoComp_00009024</td><td>isoComp_00009025</td><td>tts             </td><td> TRUE</td><td>Tts more downstream</td></tr>\n",
       "\t<tr><th scope=row>57</th><td>geneComp_00005540</td><td>PHF19   </td><td>PHF19   </td><td>NT</td><td>COCL2</td><td>ENST00000312189.10</td><td>ENST00000373896.8 </td><td>isoComp_00009024</td><td>isoComp_00009025</td><td>intron_structure</td><td>FALSE</td><td>NA                 </td></tr>\n",
       "\t<tr><th scope=row>58</th><td>geneComp_00005973</td><td>PRPF40A </td><td>PRPF40A </td><td>NT</td><td>COCL2</td><td>ENST00000545856.7 </td><td>ENST00000410080.8 </td><td>isoComp_00009731</td><td>isoComp_00009730</td><td>tss             </td><td> TRUE</td><td>Tss more downstream</td></tr>\n",
       "\t<tr><th scope=row>59</th><td>geneComp_00005973</td><td>PRPF40A </td><td>PRPF40A </td><td>NT</td><td>COCL2</td><td>ENST00000545856.7 </td><td>ENST00000410080.8 </td><td>isoComp_00009731</td><td>isoComp_00009730</td><td>tts             </td><td> TRUE</td><td>Tts more upstream  </td></tr>\n",
       "\t<tr><th scope=row>60</th><td>geneComp_00005973</td><td>PRPF40A </td><td>PRPF40A </td><td>NT</td><td>COCL2</td><td>ENST00000545856.7 </td><td>ENST00000410080.8 </td><td>isoComp_00009731</td><td>isoComp_00009730</td><td>intron_structure</td><td> TRUE</td><td>NA                 </td></tr>\n",
       "\t<tr><th scope=row>61</th><td>geneComp_00006287</td><td>RBCK1   </td><td>RBCK1   </td><td>NT</td><td>COCL2</td><td>ENST00000475269.5 </td><td>ENST00000356286.10</td><td>isoComp_00010256</td><td>isoComp_00010254</td><td>tss             </td><td> TRUE</td><td>Tss more upstream  </td></tr>\n",
       "\t<tr><th scope=row>62</th><td>geneComp_00006287</td><td>RBCK1   </td><td>RBCK1   </td><td>NT</td><td>COCL2</td><td>ENST00000475269.5 </td><td>ENST00000356286.10</td><td>isoComp_00010256</td><td>isoComp_00010254</td><td>tts             </td><td> TRUE</td><td>Tts more upstream  </td></tr>\n",
       "\t<tr><th scope=row>63</th><td>geneComp_00006287</td><td>RBCK1   </td><td>RBCK1   </td><td>NT</td><td>COCL2</td><td>ENST00000475269.5 </td><td>ENST00000356286.10</td><td>isoComp_00010256</td><td>isoComp_00010254</td><td>intron_structure</td><td> TRUE</td><td>NA                 </td></tr>\n",
       "\t<tr><th scope=row>64</th><td>geneComp_00006989</td><td>SEPTIN11</td><td>SEPTIN11</td><td>NT</td><td>COCL2</td><td>ENST00000502584.5 </td><td>ENST00000264893.11</td><td>isoComp_00011403</td><td>isoComp_00011402</td><td>tss             </td><td>FALSE</td><td>NA                 </td></tr>\n",
       "\t<tr><th scope=row>65</th><td>geneComp_00006989</td><td>SEPTIN11</td><td>SEPTIN11</td><td>NT</td><td>COCL2</td><td>ENST00000502584.5 </td><td>ENST00000264893.11</td><td>isoComp_00011403</td><td>isoComp_00011402</td><td>tts             </td><td> TRUE</td><td>Tts more upstream  </td></tr>\n",
       "\t<tr><th scope=row>66</th><td>geneComp_00006989</td><td>SEPTIN11</td><td>SEPTIN11</td><td>NT</td><td>COCL2</td><td>ENST00000502584.5 </td><td>ENST00000264893.11</td><td>isoComp_00011403</td><td>isoComp_00011402</td><td>intron_structure</td><td>FALSE</td><td>NA                 </td></tr>\n",
       "\t<tr><th scope=row>67</th><td>geneComp_00007970</td><td>TGM2    </td><td>TGM2    </td><td>NT</td><td>COCL2</td><td>ENST00000468262.5 </td><td>ENST00000361475.7 </td><td>isoComp_00013037</td><td>isoComp_00013036</td><td>tss             </td><td>FALSE</td><td>NA                 </td></tr>\n",
       "\t<tr><th scope=row>68</th><td>geneComp_00007970</td><td>TGM2    </td><td>TGM2    </td><td>NT</td><td>COCL2</td><td>ENST00000468262.5 </td><td>ENST00000361475.7 </td><td>isoComp_00013037</td><td>isoComp_00013036</td><td>tts             </td><td> TRUE</td><td>Tts more upstream  </td></tr>\n",
       "\t<tr><th scope=row>69</th><td>geneComp_00007970</td><td>TGM2    </td><td>TGM2    </td><td>NT</td><td>COCL2</td><td>ENST00000468262.5 </td><td>ENST00000361475.7 </td><td>isoComp_00013037</td><td>isoComp_00013036</td><td>intron_structure</td><td>FALSE</td><td>NA                 </td></tr>\n",
       "\t<tr><th scope=row>70</th><td>geneComp_00008452</td><td>TSC22D4 </td><td>TSC22D4 </td><td>NT</td><td>COCL2</td><td>ENST00000393991.5 </td><td>ENST00000300181.7 </td><td>isoComp_00013775</td><td>isoComp_00013774</td><td>tss             </td><td>FALSE</td><td>NA                 </td></tr>\n",
       "\t<tr><th scope=row>71</th><td>geneComp_00008452</td><td>TSC22D4 </td><td>TSC22D4 </td><td>NT</td><td>COCL2</td><td>ENST00000393991.5 </td><td>ENST00000300181.7 </td><td>isoComp_00013775</td><td>isoComp_00013774</td><td>tts             </td><td>FALSE</td><td>NA                 </td></tr>\n",
       "\t<tr><th scope=row>72</th><td>geneComp_00008452</td><td>TSC22D4 </td><td>TSC22D4 </td><td>NT</td><td>COCL2</td><td>ENST00000393991.5 </td><td>ENST00000300181.7 </td><td>isoComp_00013775</td><td>isoComp_00013774</td><td>intron_structure</td><td> TRUE</td><td>NA                 </td></tr>\n",
       "\t<tr><th scope=row>73</th><td>geneComp_00008538</td><td>TUBGCP2 </td><td>TUBGCP2 </td><td>NT</td><td>COCL2</td><td>ENST00000683673.1 </td><td>ENST00000252936.8 </td><td>isoComp_00013914</td><td>isoComp_00013910</td><td>tss             </td><td> TRUE</td><td>Tss more upstream  </td></tr>\n",
       "\t<tr><th scope=row>74</th><td>geneComp_00008538</td><td>TUBGCP2 </td><td>TUBGCP2 </td><td>NT</td><td>COCL2</td><td>ENST00000683673.1 </td><td>ENST00000252936.8 </td><td>isoComp_00013914</td><td>isoComp_00013910</td><td>tts             </td><td> TRUE</td><td>Tts more upstream  </td></tr>\n",
       "\t<tr><th scope=row>75</th><td>geneComp_00008538</td><td>TUBGCP2 </td><td>TUBGCP2 </td><td>NT</td><td>COCL2</td><td>ENST00000683673.1 </td><td>ENST00000252936.8 </td><td>isoComp_00013914</td><td>isoComp_00013910</td><td>intron_structure</td><td>FALSE</td><td>NA                 </td></tr>\n",
       "\t<tr><th scope=row>76</th><td>geneComp_00008901</td><td>WDR33   </td><td>WDR33   </td><td>NT</td><td>COCL2</td><td>ENST00000409658.7 </td><td>ENST00000322313.9 </td><td>isoComp_00014504</td><td>isoComp_00014503</td><td>tss             </td><td>FALSE</td><td>NA                 </td></tr>\n",
       "\t<tr><th scope=row>77</th><td>geneComp_00008901</td><td>WDR33   </td><td>WDR33   </td><td>NT</td><td>COCL2</td><td>ENST00000409658.7 </td><td>ENST00000322313.9 </td><td>isoComp_00014504</td><td>isoComp_00014503</td><td>tts             </td><td> TRUE</td><td>Tts more upstream  </td></tr>\n",
       "\t<tr><th scope=row>78</th><td>geneComp_00008901</td><td>WDR33   </td><td>WDR33   </td><td>NT</td><td>COCL2</td><td>ENST00000409658.7 </td><td>ENST00000322313.9 </td><td>isoComp_00014504</td><td>isoComp_00014503</td><td>intron_structure</td><td>FALSE</td><td>NA                 </td></tr>\n",
       "</tbody>\n",
       "</table>\n"
      ],
      "text/latex": [
       "A data.frame: 78 × 12\n",
       "\\begin{tabular}{r|llllllllllll}\n",
       "  & gene\\_ref & gene\\_id & gene\\_name & condition\\_1 & condition\\_2 & isoformUpregulated & isoformDownregulated & iso\\_ref\\_up & iso\\_ref\\_down & featureCompared & isoformsDifferent & switchConsequence\\\\\n",
       "  & <chr> & <chr> & <chr> & <chr> & <chr> & <chr> & <chr> & <chr> & <chr> & <chr> & <lgl> & <chr>\\\\\n",
       "\\hline\n",
       "\t1 & geneComp\\_00000223 & AK2     & AK2     & NT & COCL2 & ENST00000672308.1  & ENST00000373449.7  & isoComp\\_00000363 & isoComp\\_00000360 & tss              & FALSE & NA                 \\\\\n",
       "\t2 & geneComp\\_00000223 & AK2     & AK2     & NT & COCL2 & ENST00000672308.1  & ENST00000373449.7  & isoComp\\_00000363 & isoComp\\_00000360 & tts              &  TRUE & Tts more upstream  \\\\\n",
       "\t3 & geneComp\\_00000223 & AK2     & AK2     & NT & COCL2 & ENST00000672308.1  & ENST00000373449.7  & isoComp\\_00000363 & isoComp\\_00000360 & intron\\_structure &  TRUE & NA                 \\\\\n",
       "\t4 & geneComp\\_00000405 & APH1A   & APH1A   & NT & COCL2 & ENST00000369109.8  & ENST00000360244.8  & isoComp\\_00000679 & isoComp\\_00000678 & tss              &  TRUE & Tss more downstream\\\\\n",
       "\t5 & geneComp\\_00000405 & APH1A   & APH1A   & NT & COCL2 & ENST00000369109.8  & ENST00000360244.8  & isoComp\\_00000679 & isoComp\\_00000678 & tts              & FALSE & NA                 \\\\\n",
       "\t6 & geneComp\\_00000405 & APH1A   & APH1A   & NT & COCL2 & ENST00000369109.8  & ENST00000360244.8  & isoComp\\_00000679 & isoComp\\_00000678 & intron\\_structure & FALSE & NA                 \\\\\n",
       "\t7 & geneComp\\_00000753 & BCCIP   & BCCIP   & NT & COCL2 & ENST00000278100.11 & ENST00000368759.5  & isoComp\\_00001285 & isoComp\\_00001287 & tss              & FALSE & NA                 \\\\\n",
       "\t8 & geneComp\\_00000753 & BCCIP   & BCCIP   & NT & COCL2 & ENST00000278100.11 & ENST00000368759.5  & isoComp\\_00001285 & isoComp\\_00001287 & tts              &  TRUE & Tts more downstream\\\\\n",
       "\t9 & geneComp\\_00000753 & BCCIP   & BCCIP   & NT & COCL2 & ENST00000278100.11 & ENST00000368759.5  & isoComp\\_00001285 & isoComp\\_00001287 & intron\\_structure &  TRUE & NA                 \\\\\n",
       "\t10 & geneComp\\_00000881 & BUB3    & BUB3    & NT & COCL2 & ENST00000368858.9  & ENST00000368865.9  & isoComp\\_00001510 & isoComp\\_00001511 & tss              & FALSE & NA                 \\\\\n",
       "\t11 & geneComp\\_00000881 & BUB3    & BUB3    & NT & COCL2 & ENST00000368858.9  & ENST00000368865.9  & isoComp\\_00001510 & isoComp\\_00001511 & tts              &  TRUE & Tts more downstream\\\\\n",
       "\t12 & geneComp\\_00000881 & BUB3    & BUB3    & NT & COCL2 & ENST00000368858.9  & ENST00000368865.9  & isoComp\\_00001510 & isoComp\\_00001511 & intron\\_structure &  TRUE & NA                 \\\\\n",
       "\t13 & geneComp\\_00001338 & CENPN   & CENPN   & NT & COCL2 & ENST00000299572.9  & ENST00000305850.10 & isoComp\\_00002253 & isoComp\\_00002254 & tss              &  TRUE & Tss more upstream  \\\\\n",
       "\t14 & geneComp\\_00001338 & CENPN   & CENPN   & NT & COCL2 & ENST00000299572.9  & ENST00000305850.10 & isoComp\\_00002253 & isoComp\\_00002254 & tts              &  TRUE & Tts more downstream\\\\\n",
       "\t15 & geneComp\\_00001338 & CENPN   & CENPN   & NT & COCL2 & ENST00000299572.9  & ENST00000305850.10 & isoComp\\_00002253 & isoComp\\_00002254 & intron\\_structure &  TRUE & NA                 \\\\\n",
       "\t16 & geneComp\\_00001824 & CUL4A   & CUL4A   & NT & COCL2 & ENST00000488558.2  & ENST00000375440.9  & isoComp\\_00003020 & isoComp\\_00003018 & tss              & FALSE & NA                 \\\\\n",
       "\t17 & geneComp\\_00001824 & CUL4A   & CUL4A   & NT & COCL2 & ENST00000488558.2  & ENST00000375440.9  & isoComp\\_00003020 & isoComp\\_00003018 & tts              &  TRUE & Tts more upstream  \\\\\n",
       "\t18 & geneComp\\_00001824 & CUL4A   & CUL4A   & NT & COCL2 & ENST00000488558.2  & ENST00000375440.9  & isoComp\\_00003020 & isoComp\\_00003018 & intron\\_structure &  TRUE & NA                 \\\\\n",
       "\t19 & geneComp\\_00003147 & GRB2    & GRB2    & NT & COCL2 & ENST00000648046.1  & ENST00000316804.10 & isoComp\\_00005138 & isoComp\\_00005136 & tss              & FALSE & NA                 \\\\\n",
       "\t20 & geneComp\\_00003147 & GRB2    & GRB2    & NT & COCL2 & ENST00000648046.1  & ENST00000316804.10 & isoComp\\_00005138 & isoComp\\_00005136 & tts              &  TRUE & Tts more upstream  \\\\\n",
       "\t21 & geneComp\\_00003147 & GRB2    & GRB2    & NT & COCL2 & ENST00000648046.1  & ENST00000316804.10 & isoComp\\_00005138 & isoComp\\_00005136 & intron\\_structure & FALSE & NA                 \\\\\n",
       "\t22 & geneComp\\_00003156 & GRK6    & GRK6    & NT & COCL2 & ENST00000507633.5  & ENST00000355472.10 & isoComp\\_00005150 & isoComp\\_00005149 & tss              &  TRUE & Tss more downstream\\\\\n",
       "\t23 & geneComp\\_00003156 & GRK6    & GRK6    & NT & COCL2 & ENST00000507633.5  & ENST00000355472.10 & isoComp\\_00005150 & isoComp\\_00005149 & tts              &  TRUE & Tts more upstream  \\\\\n",
       "\t24 & geneComp\\_00003156 & GRK6    & GRK6    & NT & COCL2 & ENST00000507633.5  & ENST00000355472.10 & isoComp\\_00005150 & isoComp\\_00005149 & intron\\_structure & FALSE & NA                 \\\\\n",
       "\t25 & geneComp\\_00003235 & H2AZ2   & H2AZ2   & NT & COCL2 & ENST00000308153.9  & ENST00000222690.10 & isoComp\\_00005263 & isoComp\\_00005262 & tss              & FALSE & NA                 \\\\\n",
       "\t26 & geneComp\\_00003235 & H2AZ2   & H2AZ2   & NT & COCL2 & ENST00000308153.9  & ENST00000222690.10 & isoComp\\_00005263 & isoComp\\_00005262 & tts              &  TRUE & Tts more upstream  \\\\\n",
       "\t27 & geneComp\\_00003235 & H2AZ2   & H2AZ2   & NT & COCL2 & ENST00000308153.9  & ENST00000222690.10 & isoComp\\_00005263 & isoComp\\_00005262 & intron\\_structure &  TRUE & NA                 \\\\\n",
       "\t28 & geneComp\\_00003441 & HSP90B1 & HSP90B1 & NT & COCL2 & ENST00000640977.2  & ENST00000299767.10 & isoComp\\_00005630 & isoComp\\_00005628 & tss              & FALSE & NA                 \\\\\n",
       "\t29 & geneComp\\_00003441 & HSP90B1 & HSP90B1 & NT & COCL2 & ENST00000640977.2  & ENST00000299767.10 & isoComp\\_00005630 & isoComp\\_00005628 & tts              &  TRUE & Tts more upstream  \\\\\n",
       "\t30 & geneComp\\_00003441 & HSP90B1 & HSP90B1 & NT & COCL2 & ENST00000640977.2  & ENST00000299767.10 & isoComp\\_00005630 & isoComp\\_00005628 & intron\\_structure & FALSE & NA                 \\\\\n",
       "\t⋮ & ⋮ & ⋮ & ⋮ & ⋮ & ⋮ & ⋮ & ⋮ & ⋮ & ⋮ & ⋮ & ⋮ & ⋮\\\\\n",
       "\t49 & geneComp\\_00004922 & NECTIN2  & NECTIN2  & NT & COCL2 & ENST00000252485.8  & ENST00000252483.10 & isoComp\\_00007990 & isoComp\\_00007989 & tss              &  TRUE & Tss more upstream  \\\\\n",
       "\t50 & geneComp\\_00004922 & NECTIN2  & NECTIN2  & NT & COCL2 & ENST00000252485.8  & ENST00000252483.10 & isoComp\\_00007990 & isoComp\\_00007989 & tts              &  TRUE & Tts more upstream  \\\\\n",
       "\t51 & geneComp\\_00004922 & NECTIN2  & NECTIN2  & NT & COCL2 & ENST00000252485.8  & ENST00000252483.10 & isoComp\\_00007990 & isoComp\\_00007989 & intron\\_structure &  TRUE & NA                 \\\\\n",
       "\t52 & geneComp\\_00005394 & PCMT1    & PCMT1    & NT & COCL2 & ENST00000367378.6  & ENST00000367384.7  & isoComp\\_00008807 & isoComp\\_00008808 & tss              & FALSE & NA                 \\\\\n",
       "\t53 & geneComp\\_00005394 & PCMT1    & PCMT1    & NT & COCL2 & ENST00000367378.6  & ENST00000367384.7  & isoComp\\_00008807 & isoComp\\_00008808 & tts              &  TRUE & Tts more downstream\\\\\n",
       "\t54 & geneComp\\_00005394 & PCMT1    & PCMT1    & NT & COCL2 & ENST00000367378.6  & ENST00000367384.7  & isoComp\\_00008807 & isoComp\\_00008808 & intron\\_structure & FALSE & NA                 \\\\\n",
       "\t55 & geneComp\\_00005540 & PHF19    & PHF19    & NT & COCL2 & ENST00000312189.10 & ENST00000373896.8  & isoComp\\_00009024 & isoComp\\_00009025 & tss              & FALSE & NA                 \\\\\n",
       "\t56 & geneComp\\_00005540 & PHF19    & PHF19    & NT & COCL2 & ENST00000312189.10 & ENST00000373896.8  & isoComp\\_00009024 & isoComp\\_00009025 & tts              &  TRUE & Tts more downstream\\\\\n",
       "\t57 & geneComp\\_00005540 & PHF19    & PHF19    & NT & COCL2 & ENST00000312189.10 & ENST00000373896.8  & isoComp\\_00009024 & isoComp\\_00009025 & intron\\_structure & FALSE & NA                 \\\\\n",
       "\t58 & geneComp\\_00005973 & PRPF40A  & PRPF40A  & NT & COCL2 & ENST00000545856.7  & ENST00000410080.8  & isoComp\\_00009731 & isoComp\\_00009730 & tss              &  TRUE & Tss more downstream\\\\\n",
       "\t59 & geneComp\\_00005973 & PRPF40A  & PRPF40A  & NT & COCL2 & ENST00000545856.7  & ENST00000410080.8  & isoComp\\_00009731 & isoComp\\_00009730 & tts              &  TRUE & Tts more upstream  \\\\\n",
       "\t60 & geneComp\\_00005973 & PRPF40A  & PRPF40A  & NT & COCL2 & ENST00000545856.7  & ENST00000410080.8  & isoComp\\_00009731 & isoComp\\_00009730 & intron\\_structure &  TRUE & NA                 \\\\\n",
       "\t61 & geneComp\\_00006287 & RBCK1    & RBCK1    & NT & COCL2 & ENST00000475269.5  & ENST00000356286.10 & isoComp\\_00010256 & isoComp\\_00010254 & tss              &  TRUE & Tss more upstream  \\\\\n",
       "\t62 & geneComp\\_00006287 & RBCK1    & RBCK1    & NT & COCL2 & ENST00000475269.5  & ENST00000356286.10 & isoComp\\_00010256 & isoComp\\_00010254 & tts              &  TRUE & Tts more upstream  \\\\\n",
       "\t63 & geneComp\\_00006287 & RBCK1    & RBCK1    & NT & COCL2 & ENST00000475269.5  & ENST00000356286.10 & isoComp\\_00010256 & isoComp\\_00010254 & intron\\_structure &  TRUE & NA                 \\\\\n",
       "\t64 & geneComp\\_00006989 & SEPTIN11 & SEPTIN11 & NT & COCL2 & ENST00000502584.5  & ENST00000264893.11 & isoComp\\_00011403 & isoComp\\_00011402 & tss              & FALSE & NA                 \\\\\n",
       "\t65 & geneComp\\_00006989 & SEPTIN11 & SEPTIN11 & NT & COCL2 & ENST00000502584.5  & ENST00000264893.11 & isoComp\\_00011403 & isoComp\\_00011402 & tts              &  TRUE & Tts more upstream  \\\\\n",
       "\t66 & geneComp\\_00006989 & SEPTIN11 & SEPTIN11 & NT & COCL2 & ENST00000502584.5  & ENST00000264893.11 & isoComp\\_00011403 & isoComp\\_00011402 & intron\\_structure & FALSE & NA                 \\\\\n",
       "\t67 & geneComp\\_00007970 & TGM2     & TGM2     & NT & COCL2 & ENST00000468262.5  & ENST00000361475.7  & isoComp\\_00013037 & isoComp\\_00013036 & tss              & FALSE & NA                 \\\\\n",
       "\t68 & geneComp\\_00007970 & TGM2     & TGM2     & NT & COCL2 & ENST00000468262.5  & ENST00000361475.7  & isoComp\\_00013037 & isoComp\\_00013036 & tts              &  TRUE & Tts more upstream  \\\\\n",
       "\t69 & geneComp\\_00007970 & TGM2     & TGM2     & NT & COCL2 & ENST00000468262.5  & ENST00000361475.7  & isoComp\\_00013037 & isoComp\\_00013036 & intron\\_structure & FALSE & NA                 \\\\\n",
       "\t70 & geneComp\\_00008452 & TSC22D4  & TSC22D4  & NT & COCL2 & ENST00000393991.5  & ENST00000300181.7  & isoComp\\_00013775 & isoComp\\_00013774 & tss              & FALSE & NA                 \\\\\n",
       "\t71 & geneComp\\_00008452 & TSC22D4  & TSC22D4  & NT & COCL2 & ENST00000393991.5  & ENST00000300181.7  & isoComp\\_00013775 & isoComp\\_00013774 & tts              & FALSE & NA                 \\\\\n",
       "\t72 & geneComp\\_00008452 & TSC22D4  & TSC22D4  & NT & COCL2 & ENST00000393991.5  & ENST00000300181.7  & isoComp\\_00013775 & isoComp\\_00013774 & intron\\_structure &  TRUE & NA                 \\\\\n",
       "\t73 & geneComp\\_00008538 & TUBGCP2  & TUBGCP2  & NT & COCL2 & ENST00000683673.1  & ENST00000252936.8  & isoComp\\_00013914 & isoComp\\_00013910 & tss              &  TRUE & Tss more upstream  \\\\\n",
       "\t74 & geneComp\\_00008538 & TUBGCP2  & TUBGCP2  & NT & COCL2 & ENST00000683673.1  & ENST00000252936.8  & isoComp\\_00013914 & isoComp\\_00013910 & tts              &  TRUE & Tts more upstream  \\\\\n",
       "\t75 & geneComp\\_00008538 & TUBGCP2  & TUBGCP2  & NT & COCL2 & ENST00000683673.1  & ENST00000252936.8  & isoComp\\_00013914 & isoComp\\_00013910 & intron\\_structure & FALSE & NA                 \\\\\n",
       "\t76 & geneComp\\_00008901 & WDR33    & WDR33    & NT & COCL2 & ENST00000409658.7  & ENST00000322313.9  & isoComp\\_00014504 & isoComp\\_00014503 & tss              & FALSE & NA                 \\\\\n",
       "\t77 & geneComp\\_00008901 & WDR33    & WDR33    & NT & COCL2 & ENST00000409658.7  & ENST00000322313.9  & isoComp\\_00014504 & isoComp\\_00014503 & tts              &  TRUE & Tts more upstream  \\\\\n",
       "\t78 & geneComp\\_00008901 & WDR33    & WDR33    & NT & COCL2 & ENST00000409658.7  & ENST00000322313.9  & isoComp\\_00014504 & isoComp\\_00014503 & intron\\_structure & FALSE & NA                 \\\\\n",
       "\\end{tabular}\n"
      ],
      "text/markdown": [
       "\n",
       "A data.frame: 78 × 12\n",
       "\n",
       "| <!--/--> | gene_ref &lt;chr&gt; | gene_id &lt;chr&gt; | gene_name &lt;chr&gt; | condition_1 &lt;chr&gt; | condition_2 &lt;chr&gt; | isoformUpregulated &lt;chr&gt; | isoformDownregulated &lt;chr&gt; | iso_ref_up &lt;chr&gt; | iso_ref_down &lt;chr&gt; | featureCompared &lt;chr&gt; | isoformsDifferent &lt;lgl&gt; | switchConsequence &lt;chr&gt; |\n",
       "|---|---|---|---|---|---|---|---|---|---|---|---|---|\n",
       "| 1 | geneComp_00000223 | AK2     | AK2     | NT | COCL2 | ENST00000672308.1  | ENST00000373449.7  | isoComp_00000363 | isoComp_00000360 | tss              | FALSE | NA                  |\n",
       "| 2 | geneComp_00000223 | AK2     | AK2     | NT | COCL2 | ENST00000672308.1  | ENST00000373449.7  | isoComp_00000363 | isoComp_00000360 | tts              |  TRUE | Tts more upstream   |\n",
       "| 3 | geneComp_00000223 | AK2     | AK2     | NT | COCL2 | ENST00000672308.1  | ENST00000373449.7  | isoComp_00000363 | isoComp_00000360 | intron_structure |  TRUE | NA                  |\n",
       "| 4 | geneComp_00000405 | APH1A   | APH1A   | NT | COCL2 | ENST00000369109.8  | ENST00000360244.8  | isoComp_00000679 | isoComp_00000678 | tss              |  TRUE | Tss more downstream |\n",
       "| 5 | geneComp_00000405 | APH1A   | APH1A   | NT | COCL2 | ENST00000369109.8  | ENST00000360244.8  | isoComp_00000679 | isoComp_00000678 | tts              | FALSE | NA                  |\n",
       "| 6 | geneComp_00000405 | APH1A   | APH1A   | NT | COCL2 | ENST00000369109.8  | ENST00000360244.8  | isoComp_00000679 | isoComp_00000678 | intron_structure | FALSE | NA                  |\n",
       "| 7 | geneComp_00000753 | BCCIP   | BCCIP   | NT | COCL2 | ENST00000278100.11 | ENST00000368759.5  | isoComp_00001285 | isoComp_00001287 | tss              | FALSE | NA                  |\n",
       "| 8 | geneComp_00000753 | BCCIP   | BCCIP   | NT | COCL2 | ENST00000278100.11 | ENST00000368759.5  | isoComp_00001285 | isoComp_00001287 | tts              |  TRUE | Tts more downstream |\n",
       "| 9 | geneComp_00000753 | BCCIP   | BCCIP   | NT | COCL2 | ENST00000278100.11 | ENST00000368759.5  | isoComp_00001285 | isoComp_00001287 | intron_structure |  TRUE | NA                  |\n",
       "| 10 | geneComp_00000881 | BUB3    | BUB3    | NT | COCL2 | ENST00000368858.9  | ENST00000368865.9  | isoComp_00001510 | isoComp_00001511 | tss              | FALSE | NA                  |\n",
       "| 11 | geneComp_00000881 | BUB3    | BUB3    | NT | COCL2 | ENST00000368858.9  | ENST00000368865.9  | isoComp_00001510 | isoComp_00001511 | tts              |  TRUE | Tts more downstream |\n",
       "| 12 | geneComp_00000881 | BUB3    | BUB3    | NT | COCL2 | ENST00000368858.9  | ENST00000368865.9  | isoComp_00001510 | isoComp_00001511 | intron_structure |  TRUE | NA                  |\n",
       "| 13 | geneComp_00001338 | CENPN   | CENPN   | NT | COCL2 | ENST00000299572.9  | ENST00000305850.10 | isoComp_00002253 | isoComp_00002254 | tss              |  TRUE | Tss more upstream   |\n",
       "| 14 | geneComp_00001338 | CENPN   | CENPN   | NT | COCL2 | ENST00000299572.9  | ENST00000305850.10 | isoComp_00002253 | isoComp_00002254 | tts              |  TRUE | Tts more downstream |\n",
       "| 15 | geneComp_00001338 | CENPN   | CENPN   | NT | COCL2 | ENST00000299572.9  | ENST00000305850.10 | isoComp_00002253 | isoComp_00002254 | intron_structure |  TRUE | NA                  |\n",
       "| 16 | geneComp_00001824 | CUL4A   | CUL4A   | NT | COCL2 | ENST00000488558.2  | ENST00000375440.9  | isoComp_00003020 | isoComp_00003018 | tss              | FALSE | NA                  |\n",
       "| 17 | geneComp_00001824 | CUL4A   | CUL4A   | NT | COCL2 | ENST00000488558.2  | ENST00000375440.9  | isoComp_00003020 | isoComp_00003018 | tts              |  TRUE | Tts more upstream   |\n",
       "| 18 | geneComp_00001824 | CUL4A   | CUL4A   | NT | COCL2 | ENST00000488558.2  | ENST00000375440.9  | isoComp_00003020 | isoComp_00003018 | intron_structure |  TRUE | NA                  |\n",
       "| 19 | geneComp_00003147 | GRB2    | GRB2    | NT | COCL2 | ENST00000648046.1  | ENST00000316804.10 | isoComp_00005138 | isoComp_00005136 | tss              | FALSE | NA                  |\n",
       "| 20 | geneComp_00003147 | GRB2    | GRB2    | NT | COCL2 | ENST00000648046.1  | ENST00000316804.10 | isoComp_00005138 | isoComp_00005136 | tts              |  TRUE | Tts more upstream   |\n",
       "| 21 | geneComp_00003147 | GRB2    | GRB2    | NT | COCL2 | ENST00000648046.1  | ENST00000316804.10 | isoComp_00005138 | isoComp_00005136 | intron_structure | FALSE | NA                  |\n",
       "| 22 | geneComp_00003156 | GRK6    | GRK6    | NT | COCL2 | ENST00000507633.5  | ENST00000355472.10 | isoComp_00005150 | isoComp_00005149 | tss              |  TRUE | Tss more downstream |\n",
       "| 23 | geneComp_00003156 | GRK6    | GRK6    | NT | COCL2 | ENST00000507633.5  | ENST00000355472.10 | isoComp_00005150 | isoComp_00005149 | tts              |  TRUE | Tts more upstream   |\n",
       "| 24 | geneComp_00003156 | GRK6    | GRK6    | NT | COCL2 | ENST00000507633.5  | ENST00000355472.10 | isoComp_00005150 | isoComp_00005149 | intron_structure | FALSE | NA                  |\n",
       "| 25 | geneComp_00003235 | H2AZ2   | H2AZ2   | NT | COCL2 | ENST00000308153.9  | ENST00000222690.10 | isoComp_00005263 | isoComp_00005262 | tss              | FALSE | NA                  |\n",
       "| 26 | geneComp_00003235 | H2AZ2   | H2AZ2   | NT | COCL2 | ENST00000308153.9  | ENST00000222690.10 | isoComp_00005263 | isoComp_00005262 | tts              |  TRUE | Tts more upstream   |\n",
       "| 27 | geneComp_00003235 | H2AZ2   | H2AZ2   | NT | COCL2 | ENST00000308153.9  | ENST00000222690.10 | isoComp_00005263 | isoComp_00005262 | intron_structure |  TRUE | NA                  |\n",
       "| 28 | geneComp_00003441 | HSP90B1 | HSP90B1 | NT | COCL2 | ENST00000640977.2  | ENST00000299767.10 | isoComp_00005630 | isoComp_00005628 | tss              | FALSE | NA                  |\n",
       "| 29 | geneComp_00003441 | HSP90B1 | HSP90B1 | NT | COCL2 | ENST00000640977.2  | ENST00000299767.10 | isoComp_00005630 | isoComp_00005628 | tts              |  TRUE | Tts more upstream   |\n",
       "| 30 | geneComp_00003441 | HSP90B1 | HSP90B1 | NT | COCL2 | ENST00000640977.2  | ENST00000299767.10 | isoComp_00005630 | isoComp_00005628 | intron_structure | FALSE | NA                  |\n",
       "| ⋮ | ⋮ | ⋮ | ⋮ | ⋮ | ⋮ | ⋮ | ⋮ | ⋮ | ⋮ | ⋮ | ⋮ | ⋮ |\n",
       "| 49 | geneComp_00004922 | NECTIN2  | NECTIN2  | NT | COCL2 | ENST00000252485.8  | ENST00000252483.10 | isoComp_00007990 | isoComp_00007989 | tss              |  TRUE | Tss more upstream   |\n",
       "| 50 | geneComp_00004922 | NECTIN2  | NECTIN2  | NT | COCL2 | ENST00000252485.8  | ENST00000252483.10 | isoComp_00007990 | isoComp_00007989 | tts              |  TRUE | Tts more upstream   |\n",
       "| 51 | geneComp_00004922 | NECTIN2  | NECTIN2  | NT | COCL2 | ENST00000252485.8  | ENST00000252483.10 | isoComp_00007990 | isoComp_00007989 | intron_structure |  TRUE | NA                  |\n",
       "| 52 | geneComp_00005394 | PCMT1    | PCMT1    | NT | COCL2 | ENST00000367378.6  | ENST00000367384.7  | isoComp_00008807 | isoComp_00008808 | tss              | FALSE | NA                  |\n",
       "| 53 | geneComp_00005394 | PCMT1    | PCMT1    | NT | COCL2 | ENST00000367378.6  | ENST00000367384.7  | isoComp_00008807 | isoComp_00008808 | tts              |  TRUE | Tts more downstream |\n",
       "| 54 | geneComp_00005394 | PCMT1    | PCMT1    | NT | COCL2 | ENST00000367378.6  | ENST00000367384.7  | isoComp_00008807 | isoComp_00008808 | intron_structure | FALSE | NA                  |\n",
       "| 55 | geneComp_00005540 | PHF19    | PHF19    | NT | COCL2 | ENST00000312189.10 | ENST00000373896.8  | isoComp_00009024 | isoComp_00009025 | tss              | FALSE | NA                  |\n",
       "| 56 | geneComp_00005540 | PHF19    | PHF19    | NT | COCL2 | ENST00000312189.10 | ENST00000373896.8  | isoComp_00009024 | isoComp_00009025 | tts              |  TRUE | Tts more downstream |\n",
       "| 57 | geneComp_00005540 | PHF19    | PHF19    | NT | COCL2 | ENST00000312189.10 | ENST00000373896.8  | isoComp_00009024 | isoComp_00009025 | intron_structure | FALSE | NA                  |\n",
       "| 58 | geneComp_00005973 | PRPF40A  | PRPF40A  | NT | COCL2 | ENST00000545856.7  | ENST00000410080.8  | isoComp_00009731 | isoComp_00009730 | tss              |  TRUE | Tss more downstream |\n",
       "| 59 | geneComp_00005973 | PRPF40A  | PRPF40A  | NT | COCL2 | ENST00000545856.7  | ENST00000410080.8  | isoComp_00009731 | isoComp_00009730 | tts              |  TRUE | Tts more upstream   |\n",
       "| 60 | geneComp_00005973 | PRPF40A  | PRPF40A  | NT | COCL2 | ENST00000545856.7  | ENST00000410080.8  | isoComp_00009731 | isoComp_00009730 | intron_structure |  TRUE | NA                  |\n",
       "| 61 | geneComp_00006287 | RBCK1    | RBCK1    | NT | COCL2 | ENST00000475269.5  | ENST00000356286.10 | isoComp_00010256 | isoComp_00010254 | tss              |  TRUE | Tss more upstream   |\n",
       "| 62 | geneComp_00006287 | RBCK1    | RBCK1    | NT | COCL2 | ENST00000475269.5  | ENST00000356286.10 | isoComp_00010256 | isoComp_00010254 | tts              |  TRUE | Tts more upstream   |\n",
       "| 63 | geneComp_00006287 | RBCK1    | RBCK1    | NT | COCL2 | ENST00000475269.5  | ENST00000356286.10 | isoComp_00010256 | isoComp_00010254 | intron_structure |  TRUE | NA                  |\n",
       "| 64 | geneComp_00006989 | SEPTIN11 | SEPTIN11 | NT | COCL2 | ENST00000502584.5  | ENST00000264893.11 | isoComp_00011403 | isoComp_00011402 | tss              | FALSE | NA                  |\n",
       "| 65 | geneComp_00006989 | SEPTIN11 | SEPTIN11 | NT | COCL2 | ENST00000502584.5  | ENST00000264893.11 | isoComp_00011403 | isoComp_00011402 | tts              |  TRUE | Tts more upstream   |\n",
       "| 66 | geneComp_00006989 | SEPTIN11 | SEPTIN11 | NT | COCL2 | ENST00000502584.5  | ENST00000264893.11 | isoComp_00011403 | isoComp_00011402 | intron_structure | FALSE | NA                  |\n",
       "| 67 | geneComp_00007970 | TGM2     | TGM2     | NT | COCL2 | ENST00000468262.5  | ENST00000361475.7  | isoComp_00013037 | isoComp_00013036 | tss              | FALSE | NA                  |\n",
       "| 68 | geneComp_00007970 | TGM2     | TGM2     | NT | COCL2 | ENST00000468262.5  | ENST00000361475.7  | isoComp_00013037 | isoComp_00013036 | tts              |  TRUE | Tts more upstream   |\n",
       "| 69 | geneComp_00007970 | TGM2     | TGM2     | NT | COCL2 | ENST00000468262.5  | ENST00000361475.7  | isoComp_00013037 | isoComp_00013036 | intron_structure | FALSE | NA                  |\n",
       "| 70 | geneComp_00008452 | TSC22D4  | TSC22D4  | NT | COCL2 | ENST00000393991.5  | ENST00000300181.7  | isoComp_00013775 | isoComp_00013774 | tss              | FALSE | NA                  |\n",
       "| 71 | geneComp_00008452 | TSC22D4  | TSC22D4  | NT | COCL2 | ENST00000393991.5  | ENST00000300181.7  | isoComp_00013775 | isoComp_00013774 | tts              | FALSE | NA                  |\n",
       "| 72 | geneComp_00008452 | TSC22D4  | TSC22D4  | NT | COCL2 | ENST00000393991.5  | ENST00000300181.7  | isoComp_00013775 | isoComp_00013774 | intron_structure |  TRUE | NA                  |\n",
       "| 73 | geneComp_00008538 | TUBGCP2  | TUBGCP2  | NT | COCL2 | ENST00000683673.1  | ENST00000252936.8  | isoComp_00013914 | isoComp_00013910 | tss              |  TRUE | Tss more upstream   |\n",
       "| 74 | geneComp_00008538 | TUBGCP2  | TUBGCP2  | NT | COCL2 | ENST00000683673.1  | ENST00000252936.8  | isoComp_00013914 | isoComp_00013910 | tts              |  TRUE | Tts more upstream   |\n",
       "| 75 | geneComp_00008538 | TUBGCP2  | TUBGCP2  | NT | COCL2 | ENST00000683673.1  | ENST00000252936.8  | isoComp_00013914 | isoComp_00013910 | intron_structure | FALSE | NA                  |\n",
       "| 76 | geneComp_00008901 | WDR33    | WDR33    | NT | COCL2 | ENST00000409658.7  | ENST00000322313.9  | isoComp_00014504 | isoComp_00014503 | tss              | FALSE | NA                  |\n",
       "| 77 | geneComp_00008901 | WDR33    | WDR33    | NT | COCL2 | ENST00000409658.7  | ENST00000322313.9  | isoComp_00014504 | isoComp_00014503 | tts              |  TRUE | Tts more upstream   |\n",
       "| 78 | geneComp_00008901 | WDR33    | WDR33    | NT | COCL2 | ENST00000409658.7  | ENST00000322313.9  | isoComp_00014504 | isoComp_00014503 | intron_structure | FALSE | NA                  |\n",
       "\n"
      ],
      "text/plain": [
       "   gene_ref          gene_id  gene_name condition_1 condition_2\n",
       "1  geneComp_00000223 AK2      AK2       NT          COCL2      \n",
       "2  geneComp_00000223 AK2      AK2       NT          COCL2      \n",
       "3  geneComp_00000223 AK2      AK2       NT          COCL2      \n",
       "4  geneComp_00000405 APH1A    APH1A     NT          COCL2      \n",
       "5  geneComp_00000405 APH1A    APH1A     NT          COCL2      \n",
       "6  geneComp_00000405 APH1A    APH1A     NT          COCL2      \n",
       "7  geneComp_00000753 BCCIP    BCCIP     NT          COCL2      \n",
       "8  geneComp_00000753 BCCIP    BCCIP     NT          COCL2      \n",
       "9  geneComp_00000753 BCCIP    BCCIP     NT          COCL2      \n",
       "10 geneComp_00000881 BUB3     BUB3      NT          COCL2      \n",
       "11 geneComp_00000881 BUB3     BUB3      NT          COCL2      \n",
       "12 geneComp_00000881 BUB3     BUB3      NT          COCL2      \n",
       "13 geneComp_00001338 CENPN    CENPN     NT          COCL2      \n",
       "14 geneComp_00001338 CENPN    CENPN     NT          COCL2      \n",
       "15 geneComp_00001338 CENPN    CENPN     NT          COCL2      \n",
       "16 geneComp_00001824 CUL4A    CUL4A     NT          COCL2      \n",
       "17 geneComp_00001824 CUL4A    CUL4A     NT          COCL2      \n",
       "18 geneComp_00001824 CUL4A    CUL4A     NT          COCL2      \n",
       "19 geneComp_00003147 GRB2     GRB2      NT          COCL2      \n",
       "20 geneComp_00003147 GRB2     GRB2      NT          COCL2      \n",
       "21 geneComp_00003147 GRB2     GRB2      NT          COCL2      \n",
       "22 geneComp_00003156 GRK6     GRK6      NT          COCL2      \n",
       "23 geneComp_00003156 GRK6     GRK6      NT          COCL2      \n",
       "24 geneComp_00003156 GRK6     GRK6      NT          COCL2      \n",
       "25 geneComp_00003235 H2AZ2    H2AZ2     NT          COCL2      \n",
       "26 geneComp_00003235 H2AZ2    H2AZ2     NT          COCL2      \n",
       "27 geneComp_00003235 H2AZ2    H2AZ2     NT          COCL2      \n",
       "28 geneComp_00003441 HSP90B1  HSP90B1   NT          COCL2      \n",
       "29 geneComp_00003441 HSP90B1  HSP90B1   NT          COCL2      \n",
       "30 geneComp_00003441 HSP90B1  HSP90B1   NT          COCL2      \n",
       "⋮  ⋮                 ⋮        ⋮         ⋮           ⋮          \n",
       "49 geneComp_00004922 NECTIN2  NECTIN2   NT          COCL2      \n",
       "50 geneComp_00004922 NECTIN2  NECTIN2   NT          COCL2      \n",
       "51 geneComp_00004922 NECTIN2  NECTIN2   NT          COCL2      \n",
       "52 geneComp_00005394 PCMT1    PCMT1     NT          COCL2      \n",
       "53 geneComp_00005394 PCMT1    PCMT1     NT          COCL2      \n",
       "54 geneComp_00005394 PCMT1    PCMT1     NT          COCL2      \n",
       "55 geneComp_00005540 PHF19    PHF19     NT          COCL2      \n",
       "56 geneComp_00005540 PHF19    PHF19     NT          COCL2      \n",
       "57 geneComp_00005540 PHF19    PHF19     NT          COCL2      \n",
       "58 geneComp_00005973 PRPF40A  PRPF40A   NT          COCL2      \n",
       "59 geneComp_00005973 PRPF40A  PRPF40A   NT          COCL2      \n",
       "60 geneComp_00005973 PRPF40A  PRPF40A   NT          COCL2      \n",
       "61 geneComp_00006287 RBCK1    RBCK1     NT          COCL2      \n",
       "62 geneComp_00006287 RBCK1    RBCK1     NT          COCL2      \n",
       "63 geneComp_00006287 RBCK1    RBCK1     NT          COCL2      \n",
       "64 geneComp_00006989 SEPTIN11 SEPTIN11  NT          COCL2      \n",
       "65 geneComp_00006989 SEPTIN11 SEPTIN11  NT          COCL2      \n",
       "66 geneComp_00006989 SEPTIN11 SEPTIN11  NT          COCL2      \n",
       "67 geneComp_00007970 TGM2     TGM2      NT          COCL2      \n",
       "68 geneComp_00007970 TGM2     TGM2      NT          COCL2      \n",
       "69 geneComp_00007970 TGM2     TGM2      NT          COCL2      \n",
       "70 geneComp_00008452 TSC22D4  TSC22D4   NT          COCL2      \n",
       "71 geneComp_00008452 TSC22D4  TSC22D4   NT          COCL2      \n",
       "72 geneComp_00008452 TSC22D4  TSC22D4   NT          COCL2      \n",
       "73 geneComp_00008538 TUBGCP2  TUBGCP2   NT          COCL2      \n",
       "74 geneComp_00008538 TUBGCP2  TUBGCP2   NT          COCL2      \n",
       "75 geneComp_00008538 TUBGCP2  TUBGCP2   NT          COCL2      \n",
       "76 geneComp_00008901 WDR33    WDR33     NT          COCL2      \n",
       "77 geneComp_00008901 WDR33    WDR33     NT          COCL2      \n",
       "78 geneComp_00008901 WDR33    WDR33     NT          COCL2      \n",
       "   isoformUpregulated isoformDownregulated iso_ref_up       iso_ref_down    \n",
       "1  ENST00000672308.1  ENST00000373449.7    isoComp_00000363 isoComp_00000360\n",
       "2  ENST00000672308.1  ENST00000373449.7    isoComp_00000363 isoComp_00000360\n",
       "3  ENST00000672308.1  ENST00000373449.7    isoComp_00000363 isoComp_00000360\n",
       "4  ENST00000369109.8  ENST00000360244.8    isoComp_00000679 isoComp_00000678\n",
       "5  ENST00000369109.8  ENST00000360244.8    isoComp_00000679 isoComp_00000678\n",
       "6  ENST00000369109.8  ENST00000360244.8    isoComp_00000679 isoComp_00000678\n",
       "7  ENST00000278100.11 ENST00000368759.5    isoComp_00001285 isoComp_00001287\n",
       "8  ENST00000278100.11 ENST00000368759.5    isoComp_00001285 isoComp_00001287\n",
       "9  ENST00000278100.11 ENST00000368759.5    isoComp_00001285 isoComp_00001287\n",
       "10 ENST00000368858.9  ENST00000368865.9    isoComp_00001510 isoComp_00001511\n",
       "11 ENST00000368858.9  ENST00000368865.9    isoComp_00001510 isoComp_00001511\n",
       "12 ENST00000368858.9  ENST00000368865.9    isoComp_00001510 isoComp_00001511\n",
       "13 ENST00000299572.9  ENST00000305850.10   isoComp_00002253 isoComp_00002254\n",
       "14 ENST00000299572.9  ENST00000305850.10   isoComp_00002253 isoComp_00002254\n",
       "15 ENST00000299572.9  ENST00000305850.10   isoComp_00002253 isoComp_00002254\n",
       "16 ENST00000488558.2  ENST00000375440.9    isoComp_00003020 isoComp_00003018\n",
       "17 ENST00000488558.2  ENST00000375440.9    isoComp_00003020 isoComp_00003018\n",
       "18 ENST00000488558.2  ENST00000375440.9    isoComp_00003020 isoComp_00003018\n",
       "19 ENST00000648046.1  ENST00000316804.10   isoComp_00005138 isoComp_00005136\n",
       "20 ENST00000648046.1  ENST00000316804.10   isoComp_00005138 isoComp_00005136\n",
       "21 ENST00000648046.1  ENST00000316804.10   isoComp_00005138 isoComp_00005136\n",
       "22 ENST00000507633.5  ENST00000355472.10   isoComp_00005150 isoComp_00005149\n",
       "23 ENST00000507633.5  ENST00000355472.10   isoComp_00005150 isoComp_00005149\n",
       "24 ENST00000507633.5  ENST00000355472.10   isoComp_00005150 isoComp_00005149\n",
       "25 ENST00000308153.9  ENST00000222690.10   isoComp_00005263 isoComp_00005262\n",
       "26 ENST00000308153.9  ENST00000222690.10   isoComp_00005263 isoComp_00005262\n",
       "27 ENST00000308153.9  ENST00000222690.10   isoComp_00005263 isoComp_00005262\n",
       "28 ENST00000640977.2  ENST00000299767.10   isoComp_00005630 isoComp_00005628\n",
       "29 ENST00000640977.2  ENST00000299767.10   isoComp_00005630 isoComp_00005628\n",
       "30 ENST00000640977.2  ENST00000299767.10   isoComp_00005630 isoComp_00005628\n",
       "⋮  ⋮                  ⋮                    ⋮                ⋮               \n",
       "49 ENST00000252485.8  ENST00000252483.10   isoComp_00007990 isoComp_00007989\n",
       "50 ENST00000252485.8  ENST00000252483.10   isoComp_00007990 isoComp_00007989\n",
       "51 ENST00000252485.8  ENST00000252483.10   isoComp_00007990 isoComp_00007989\n",
       "52 ENST00000367378.6  ENST00000367384.7    isoComp_00008807 isoComp_00008808\n",
       "53 ENST00000367378.6  ENST00000367384.7    isoComp_00008807 isoComp_00008808\n",
       "54 ENST00000367378.6  ENST00000367384.7    isoComp_00008807 isoComp_00008808\n",
       "55 ENST00000312189.10 ENST00000373896.8    isoComp_00009024 isoComp_00009025\n",
       "56 ENST00000312189.10 ENST00000373896.8    isoComp_00009024 isoComp_00009025\n",
       "57 ENST00000312189.10 ENST00000373896.8    isoComp_00009024 isoComp_00009025\n",
       "58 ENST00000545856.7  ENST00000410080.8    isoComp_00009731 isoComp_00009730\n",
       "59 ENST00000545856.7  ENST00000410080.8    isoComp_00009731 isoComp_00009730\n",
       "60 ENST00000545856.7  ENST00000410080.8    isoComp_00009731 isoComp_00009730\n",
       "61 ENST00000475269.5  ENST00000356286.10   isoComp_00010256 isoComp_00010254\n",
       "62 ENST00000475269.5  ENST00000356286.10   isoComp_00010256 isoComp_00010254\n",
       "63 ENST00000475269.5  ENST00000356286.10   isoComp_00010256 isoComp_00010254\n",
       "64 ENST00000502584.5  ENST00000264893.11   isoComp_00011403 isoComp_00011402\n",
       "65 ENST00000502584.5  ENST00000264893.11   isoComp_00011403 isoComp_00011402\n",
       "66 ENST00000502584.5  ENST00000264893.11   isoComp_00011403 isoComp_00011402\n",
       "67 ENST00000468262.5  ENST00000361475.7    isoComp_00013037 isoComp_00013036\n",
       "68 ENST00000468262.5  ENST00000361475.7    isoComp_00013037 isoComp_00013036\n",
       "69 ENST00000468262.5  ENST00000361475.7    isoComp_00013037 isoComp_00013036\n",
       "70 ENST00000393991.5  ENST00000300181.7    isoComp_00013775 isoComp_00013774\n",
       "71 ENST00000393991.5  ENST00000300181.7    isoComp_00013775 isoComp_00013774\n",
       "72 ENST00000393991.5  ENST00000300181.7    isoComp_00013775 isoComp_00013774\n",
       "73 ENST00000683673.1  ENST00000252936.8    isoComp_00013914 isoComp_00013910\n",
       "74 ENST00000683673.1  ENST00000252936.8    isoComp_00013914 isoComp_00013910\n",
       "75 ENST00000683673.1  ENST00000252936.8    isoComp_00013914 isoComp_00013910\n",
       "76 ENST00000409658.7  ENST00000322313.9    isoComp_00014504 isoComp_00014503\n",
       "77 ENST00000409658.7  ENST00000322313.9    isoComp_00014504 isoComp_00014503\n",
       "78 ENST00000409658.7  ENST00000322313.9    isoComp_00014504 isoComp_00014503\n",
       "   featureCompared  isoformsDifferent switchConsequence  \n",
       "1  tss              FALSE             NA                 \n",
       "2  tts               TRUE             Tts more upstream  \n",
       "3  intron_structure  TRUE             NA                 \n",
       "4  tss               TRUE             Tss more downstream\n",
       "5  tts              FALSE             NA                 \n",
       "6  intron_structure FALSE             NA                 \n",
       "7  tss              FALSE             NA                 \n",
       "8  tts               TRUE             Tts more downstream\n",
       "9  intron_structure  TRUE             NA                 \n",
       "10 tss              FALSE             NA                 \n",
       "11 tts               TRUE             Tts more downstream\n",
       "12 intron_structure  TRUE             NA                 \n",
       "13 tss               TRUE             Tss more upstream  \n",
       "14 tts               TRUE             Tts more downstream\n",
       "15 intron_structure  TRUE             NA                 \n",
       "16 tss              FALSE             NA                 \n",
       "17 tts               TRUE             Tts more upstream  \n",
       "18 intron_structure  TRUE             NA                 \n",
       "19 tss              FALSE             NA                 \n",
       "20 tts               TRUE             Tts more upstream  \n",
       "21 intron_structure FALSE             NA                 \n",
       "22 tss               TRUE             Tss more downstream\n",
       "23 tts               TRUE             Tts more upstream  \n",
       "24 intron_structure FALSE             NA                 \n",
       "25 tss              FALSE             NA                 \n",
       "26 tts               TRUE             Tts more upstream  \n",
       "27 intron_structure  TRUE             NA                 \n",
       "28 tss              FALSE             NA                 \n",
       "29 tts               TRUE             Tts more upstream  \n",
       "30 intron_structure FALSE             NA                 \n",
       "⋮  ⋮                ⋮                 ⋮                  \n",
       "49 tss               TRUE             Tss more upstream  \n",
       "50 tts               TRUE             Tts more upstream  \n",
       "51 intron_structure  TRUE             NA                 \n",
       "52 tss              FALSE             NA                 \n",
       "53 tts               TRUE             Tts more downstream\n",
       "54 intron_structure FALSE             NA                 \n",
       "55 tss              FALSE             NA                 \n",
       "56 tts               TRUE             Tts more downstream\n",
       "57 intron_structure FALSE             NA                 \n",
       "58 tss               TRUE             Tss more downstream\n",
       "59 tts               TRUE             Tts more upstream  \n",
       "60 intron_structure  TRUE             NA                 \n",
       "61 tss               TRUE             Tss more upstream  \n",
       "62 tts               TRUE             Tts more upstream  \n",
       "63 intron_structure  TRUE             NA                 \n",
       "64 tss              FALSE             NA                 \n",
       "65 tts               TRUE             Tts more upstream  \n",
       "66 intron_structure FALSE             NA                 \n",
       "67 tss              FALSE             NA                 \n",
       "68 tts               TRUE             Tts more upstream  \n",
       "69 intron_structure FALSE             NA                 \n",
       "70 tss              FALSE             NA                 \n",
       "71 tts              FALSE             NA                 \n",
       "72 intron_structure  TRUE             NA                 \n",
       "73 tss               TRUE             Tss more upstream  \n",
       "74 tts               TRUE             Tts more upstream  \n",
       "75 intron_structure FALSE             NA                 \n",
       "76 tss              FALSE             NA                 \n",
       "77 tts               TRUE             Tts more upstream  \n",
       "78 intron_structure FALSE             NA                 "
      ]
     },
     "metadata": {},
     "output_type": "display_data"
    }
   ],
   "source": [
    "write.table(bioMechanismeAnalysis,file='IsoSwitch_AS_biomechanism_out.txt', sep = '\\t')\n",
    "bioMechanismeAnalysis"
   ]
  },
  {
   "cell_type": "code",
   "execution_count": 84,
   "id": "73854236-f4c9-4b48-9043-712a36f5a6f8",
   "metadata": {},
   "outputs": [],
   "source": [
    "bioMechanismeAnalysis <- bioMechanismeAnalysis[which(bioMechanismeAnalysis$isoformsDifferent),]"
   ]
  },
  {
   "cell_type": "code",
   "execution_count": 86,
   "id": "f917b41e-3a54-47be-95a5-1a71259ddcc3",
   "metadata": {},
   "outputs": [
    {
     "data": {
      "text/html": [
       "<table class=\"dataframe\">\n",
       "<caption>A data.frame: 44 × 12</caption>\n",
       "<thead>\n",
       "\t<tr><th></th><th scope=col>gene_ref</th><th scope=col>gene_id</th><th scope=col>gene_name</th><th scope=col>condition_1</th><th scope=col>condition_2</th><th scope=col>isoformUpregulated</th><th scope=col>isoformDownregulated</th><th scope=col>iso_ref_up</th><th scope=col>iso_ref_down</th><th scope=col>featureCompared</th><th scope=col>isoformsDifferent</th><th scope=col>switchConsequence</th></tr>\n",
       "\t<tr><th></th><th scope=col>&lt;chr&gt;</th><th scope=col>&lt;chr&gt;</th><th scope=col>&lt;chr&gt;</th><th scope=col>&lt;chr&gt;</th><th scope=col>&lt;chr&gt;</th><th scope=col>&lt;chr&gt;</th><th scope=col>&lt;chr&gt;</th><th scope=col>&lt;chr&gt;</th><th scope=col>&lt;chr&gt;</th><th scope=col>&lt;chr&gt;</th><th scope=col>&lt;lgl&gt;</th><th scope=col>&lt;chr&gt;</th></tr>\n",
       "</thead>\n",
       "<tbody>\n",
       "\t<tr><th scope=row>2</th><td>geneComp_00000223</td><td>AK2     </td><td>AK2     </td><td>NT</td><td>COCL2</td><td>ENST00000672308.1 </td><td>ENST00000373449.7 </td><td>isoComp_00000363</td><td>isoComp_00000360</td><td>tts             </td><td>TRUE</td><td>Tts more upstream  </td></tr>\n",
       "\t<tr><th scope=row>3</th><td>geneComp_00000223</td><td>AK2     </td><td>AK2     </td><td>NT</td><td>COCL2</td><td>ENST00000672308.1 </td><td>ENST00000373449.7 </td><td>isoComp_00000363</td><td>isoComp_00000360</td><td>intron_structure</td><td>TRUE</td><td>NA                 </td></tr>\n",
       "\t<tr><th scope=row>4</th><td>geneComp_00000405</td><td>APH1A   </td><td>APH1A   </td><td>NT</td><td>COCL2</td><td>ENST00000369109.8 </td><td>ENST00000360244.8 </td><td>isoComp_00000679</td><td>isoComp_00000678</td><td>tss             </td><td>TRUE</td><td>Tss more downstream</td></tr>\n",
       "\t<tr><th scope=row>8</th><td>geneComp_00000753</td><td>BCCIP   </td><td>BCCIP   </td><td>NT</td><td>COCL2</td><td>ENST00000278100.11</td><td>ENST00000368759.5 </td><td>isoComp_00001285</td><td>isoComp_00001287</td><td>tts             </td><td>TRUE</td><td>Tts more downstream</td></tr>\n",
       "\t<tr><th scope=row>9</th><td>geneComp_00000753</td><td>BCCIP   </td><td>BCCIP   </td><td>NT</td><td>COCL2</td><td>ENST00000278100.11</td><td>ENST00000368759.5 </td><td>isoComp_00001285</td><td>isoComp_00001287</td><td>intron_structure</td><td>TRUE</td><td>NA                 </td></tr>\n",
       "\t<tr><th scope=row>11</th><td>geneComp_00000881</td><td>BUB3    </td><td>BUB3    </td><td>NT</td><td>COCL2</td><td>ENST00000368858.9 </td><td>ENST00000368865.9 </td><td>isoComp_00001510</td><td>isoComp_00001511</td><td>tts             </td><td>TRUE</td><td>Tts more downstream</td></tr>\n",
       "\t<tr><th scope=row>12</th><td>geneComp_00000881</td><td>BUB3    </td><td>BUB3    </td><td>NT</td><td>COCL2</td><td>ENST00000368858.9 </td><td>ENST00000368865.9 </td><td>isoComp_00001510</td><td>isoComp_00001511</td><td>intron_structure</td><td>TRUE</td><td>NA                 </td></tr>\n",
       "\t<tr><th scope=row>13</th><td>geneComp_00001338</td><td>CENPN   </td><td>CENPN   </td><td>NT</td><td>COCL2</td><td>ENST00000299572.9 </td><td>ENST00000305850.10</td><td>isoComp_00002253</td><td>isoComp_00002254</td><td>tss             </td><td>TRUE</td><td>Tss more upstream  </td></tr>\n",
       "\t<tr><th scope=row>14</th><td>geneComp_00001338</td><td>CENPN   </td><td>CENPN   </td><td>NT</td><td>COCL2</td><td>ENST00000299572.9 </td><td>ENST00000305850.10</td><td>isoComp_00002253</td><td>isoComp_00002254</td><td>tts             </td><td>TRUE</td><td>Tts more downstream</td></tr>\n",
       "\t<tr><th scope=row>15</th><td>geneComp_00001338</td><td>CENPN   </td><td>CENPN   </td><td>NT</td><td>COCL2</td><td>ENST00000299572.9 </td><td>ENST00000305850.10</td><td>isoComp_00002253</td><td>isoComp_00002254</td><td>intron_structure</td><td>TRUE</td><td>NA                 </td></tr>\n",
       "\t<tr><th scope=row>17</th><td>geneComp_00001824</td><td>CUL4A   </td><td>CUL4A   </td><td>NT</td><td>COCL2</td><td>ENST00000488558.2 </td><td>ENST00000375440.9 </td><td>isoComp_00003020</td><td>isoComp_00003018</td><td>tts             </td><td>TRUE</td><td>Tts more upstream  </td></tr>\n",
       "\t<tr><th scope=row>18</th><td>geneComp_00001824</td><td>CUL4A   </td><td>CUL4A   </td><td>NT</td><td>COCL2</td><td>ENST00000488558.2 </td><td>ENST00000375440.9 </td><td>isoComp_00003020</td><td>isoComp_00003018</td><td>intron_structure</td><td>TRUE</td><td>NA                 </td></tr>\n",
       "\t<tr><th scope=row>20</th><td>geneComp_00003147</td><td>GRB2    </td><td>GRB2    </td><td>NT</td><td>COCL2</td><td>ENST00000648046.1 </td><td>ENST00000316804.10</td><td>isoComp_00005138</td><td>isoComp_00005136</td><td>tts             </td><td>TRUE</td><td>Tts more upstream  </td></tr>\n",
       "\t<tr><th scope=row>22</th><td>geneComp_00003156</td><td>GRK6    </td><td>GRK6    </td><td>NT</td><td>COCL2</td><td>ENST00000507633.5 </td><td>ENST00000355472.10</td><td>isoComp_00005150</td><td>isoComp_00005149</td><td>tss             </td><td>TRUE</td><td>Tss more downstream</td></tr>\n",
       "\t<tr><th scope=row>23</th><td>geneComp_00003156</td><td>GRK6    </td><td>GRK6    </td><td>NT</td><td>COCL2</td><td>ENST00000507633.5 </td><td>ENST00000355472.10</td><td>isoComp_00005150</td><td>isoComp_00005149</td><td>tts             </td><td>TRUE</td><td>Tts more upstream  </td></tr>\n",
       "\t<tr><th scope=row>26</th><td>geneComp_00003235</td><td>H2AZ2   </td><td>H2AZ2   </td><td>NT</td><td>COCL2</td><td>ENST00000308153.9 </td><td>ENST00000222690.10</td><td>isoComp_00005263</td><td>isoComp_00005262</td><td>tts             </td><td>TRUE</td><td>Tts more upstream  </td></tr>\n",
       "\t<tr><th scope=row>27</th><td>geneComp_00003235</td><td>H2AZ2   </td><td>H2AZ2   </td><td>NT</td><td>COCL2</td><td>ENST00000308153.9 </td><td>ENST00000222690.10</td><td>isoComp_00005263</td><td>isoComp_00005262</td><td>intron_structure</td><td>TRUE</td><td>NA                 </td></tr>\n",
       "\t<tr><th scope=row>29</th><td>geneComp_00003441</td><td>HSP90B1 </td><td>HSP90B1 </td><td>NT</td><td>COCL2</td><td>ENST00000640977.2 </td><td>ENST00000299767.10</td><td>isoComp_00005630</td><td>isoComp_00005628</td><td>tts             </td><td>TRUE</td><td>Tts more upstream  </td></tr>\n",
       "\t<tr><th scope=row>32</th><td>geneComp_00003496</td><td>IDS     </td><td>IDS     </td><td>NT</td><td>COCL2</td><td>ENST00000370441.8 </td><td>ENST00000340855.11</td><td>isoComp_00005733</td><td>isoComp_00005732</td><td>tts             </td><td>TRUE</td><td>Tts more upstream  </td></tr>\n",
       "\t<tr><th scope=row>33</th><td>geneComp_00003496</td><td>IDS     </td><td>IDS     </td><td>NT</td><td>COCL2</td><td>ENST00000370441.8 </td><td>ENST00000340855.11</td><td>isoComp_00005733</td><td>isoComp_00005732</td><td>intron_structure</td><td>TRUE</td><td>NA                 </td></tr>\n",
       "\t<tr><th scope=row>35</th><td>geneComp_00003553</td><td>IL11    </td><td>IL11    </td><td>NT</td><td>COCL2</td><td>ENST00000585513.1 </td><td>ENST00000264563.7 </td><td>isoComp_00005828</td><td>isoComp_00005827</td><td>tts             </td><td>TRUE</td><td>Tts more upstream  </td></tr>\n",
       "\t<tr><th scope=row>37</th><td>geneComp_00003676</td><td>ITGA3   </td><td>ITGA3   </td><td>NT</td><td>COCL2</td><td>ENST00000506437.1 </td><td>ENST00000320031.13</td><td>isoComp_00006017</td><td>isoComp_00006016</td><td>tss             </td><td>TRUE</td><td>Tss more downstream</td></tr>\n",
       "\t<tr><th scope=row>40</th><td>geneComp_00003871</td><td>KPNB1   </td><td>KPNB1   </td><td>NT</td><td>COCL2</td><td>ENST00000677341.1 </td><td>ENST00000290158.9 </td><td>isoComp_00006303</td><td>isoComp_00006302</td><td>tss             </td><td>TRUE</td><td>Tss more downstream</td></tr>\n",
       "\t<tr><th scope=row>41</th><td>geneComp_00003871</td><td>KPNB1   </td><td>KPNB1   </td><td>NT</td><td>COCL2</td><td>ENST00000677341.1 </td><td>ENST00000290158.9 </td><td>isoComp_00006303</td><td>isoComp_00006302</td><td>tts             </td><td>TRUE</td><td>Tts more upstream  </td></tr>\n",
       "\t<tr><th scope=row>43</th><td>geneComp_00003878</td><td>KRR1    </td><td>KRR1    </td><td>NT</td><td>COCL2</td><td>ENST00000551070.5 </td><td>ENST00000229214.9 </td><td>isoComp_00006316</td><td>isoComp_00006315</td><td>tss             </td><td>TRUE</td><td>Tss more downstream</td></tr>\n",
       "\t<tr><th scope=row>44</th><td>geneComp_00003878</td><td>KRR1    </td><td>KRR1    </td><td>NT</td><td>COCL2</td><td>ENST00000551070.5 </td><td>ENST00000229214.9 </td><td>isoComp_00006316</td><td>isoComp_00006315</td><td>tts             </td><td>TRUE</td><td>Tts more upstream  </td></tr>\n",
       "\t<tr><th scope=row>47</th><td>geneComp_00004472</td><td>MKRN1   </td><td>MKRN1   </td><td>NT</td><td>COCL2</td><td>ENST00000443720.6 </td><td>ENST00000255977.7 </td><td>isoComp_00007219</td><td>isoComp_00007218</td><td>tts             </td><td>TRUE</td><td>Tts more upstream  </td></tr>\n",
       "\t<tr><th scope=row>49</th><td>geneComp_00004922</td><td>NECTIN2 </td><td>NECTIN2 </td><td>NT</td><td>COCL2</td><td>ENST00000252485.8 </td><td>ENST00000252483.10</td><td>isoComp_00007990</td><td>isoComp_00007989</td><td>tss             </td><td>TRUE</td><td>Tss more upstream  </td></tr>\n",
       "\t<tr><th scope=row>50</th><td>geneComp_00004922</td><td>NECTIN2 </td><td>NECTIN2 </td><td>NT</td><td>COCL2</td><td>ENST00000252485.8 </td><td>ENST00000252483.10</td><td>isoComp_00007990</td><td>isoComp_00007989</td><td>tts             </td><td>TRUE</td><td>Tts more upstream  </td></tr>\n",
       "\t<tr><th scope=row>51</th><td>geneComp_00004922</td><td>NECTIN2 </td><td>NECTIN2 </td><td>NT</td><td>COCL2</td><td>ENST00000252485.8 </td><td>ENST00000252483.10</td><td>isoComp_00007990</td><td>isoComp_00007989</td><td>intron_structure</td><td>TRUE</td><td>NA                 </td></tr>\n",
       "\t<tr><th scope=row>53</th><td>geneComp_00005394</td><td>PCMT1   </td><td>PCMT1   </td><td>NT</td><td>COCL2</td><td>ENST00000367378.6 </td><td>ENST00000367384.7 </td><td>isoComp_00008807</td><td>isoComp_00008808</td><td>tts             </td><td>TRUE</td><td>Tts more downstream</td></tr>\n",
       "\t<tr><th scope=row>56</th><td>geneComp_00005540</td><td>PHF19   </td><td>PHF19   </td><td>NT</td><td>COCL2</td><td>ENST00000312189.10</td><td>ENST00000373896.8 </td><td>isoComp_00009024</td><td>isoComp_00009025</td><td>tts             </td><td>TRUE</td><td>Tts more downstream</td></tr>\n",
       "\t<tr><th scope=row>58</th><td>geneComp_00005973</td><td>PRPF40A </td><td>PRPF40A </td><td>NT</td><td>COCL2</td><td>ENST00000545856.7 </td><td>ENST00000410080.8 </td><td>isoComp_00009731</td><td>isoComp_00009730</td><td>tss             </td><td>TRUE</td><td>Tss more downstream</td></tr>\n",
       "\t<tr><th scope=row>59</th><td>geneComp_00005973</td><td>PRPF40A </td><td>PRPF40A </td><td>NT</td><td>COCL2</td><td>ENST00000545856.7 </td><td>ENST00000410080.8 </td><td>isoComp_00009731</td><td>isoComp_00009730</td><td>tts             </td><td>TRUE</td><td>Tts more upstream  </td></tr>\n",
       "\t<tr><th scope=row>60</th><td>geneComp_00005973</td><td>PRPF40A </td><td>PRPF40A </td><td>NT</td><td>COCL2</td><td>ENST00000545856.7 </td><td>ENST00000410080.8 </td><td>isoComp_00009731</td><td>isoComp_00009730</td><td>intron_structure</td><td>TRUE</td><td>NA                 </td></tr>\n",
       "\t<tr><th scope=row>61</th><td>geneComp_00006287</td><td>RBCK1   </td><td>RBCK1   </td><td>NT</td><td>COCL2</td><td>ENST00000475269.5 </td><td>ENST00000356286.10</td><td>isoComp_00010256</td><td>isoComp_00010254</td><td>tss             </td><td>TRUE</td><td>Tss more upstream  </td></tr>\n",
       "\t<tr><th scope=row>62</th><td>geneComp_00006287</td><td>RBCK1   </td><td>RBCK1   </td><td>NT</td><td>COCL2</td><td>ENST00000475269.5 </td><td>ENST00000356286.10</td><td>isoComp_00010256</td><td>isoComp_00010254</td><td>tts             </td><td>TRUE</td><td>Tts more upstream  </td></tr>\n",
       "\t<tr><th scope=row>63</th><td>geneComp_00006287</td><td>RBCK1   </td><td>RBCK1   </td><td>NT</td><td>COCL2</td><td>ENST00000475269.5 </td><td>ENST00000356286.10</td><td>isoComp_00010256</td><td>isoComp_00010254</td><td>intron_structure</td><td>TRUE</td><td>NA                 </td></tr>\n",
       "\t<tr><th scope=row>65</th><td>geneComp_00006989</td><td>SEPTIN11</td><td>SEPTIN11</td><td>NT</td><td>COCL2</td><td>ENST00000502584.5 </td><td>ENST00000264893.11</td><td>isoComp_00011403</td><td>isoComp_00011402</td><td>tts             </td><td>TRUE</td><td>Tts more upstream  </td></tr>\n",
       "\t<tr><th scope=row>68</th><td>geneComp_00007970</td><td>TGM2    </td><td>TGM2    </td><td>NT</td><td>COCL2</td><td>ENST00000468262.5 </td><td>ENST00000361475.7 </td><td>isoComp_00013037</td><td>isoComp_00013036</td><td>tts             </td><td>TRUE</td><td>Tts more upstream  </td></tr>\n",
       "\t<tr><th scope=row>72</th><td>geneComp_00008452</td><td>TSC22D4 </td><td>TSC22D4 </td><td>NT</td><td>COCL2</td><td>ENST00000393991.5 </td><td>ENST00000300181.7 </td><td>isoComp_00013775</td><td>isoComp_00013774</td><td>intron_structure</td><td>TRUE</td><td>NA                 </td></tr>\n",
       "\t<tr><th scope=row>73</th><td>geneComp_00008538</td><td>TUBGCP2 </td><td>TUBGCP2 </td><td>NT</td><td>COCL2</td><td>ENST00000683673.1 </td><td>ENST00000252936.8 </td><td>isoComp_00013914</td><td>isoComp_00013910</td><td>tss             </td><td>TRUE</td><td>Tss more upstream  </td></tr>\n",
       "\t<tr><th scope=row>74</th><td>geneComp_00008538</td><td>TUBGCP2 </td><td>TUBGCP2 </td><td>NT</td><td>COCL2</td><td>ENST00000683673.1 </td><td>ENST00000252936.8 </td><td>isoComp_00013914</td><td>isoComp_00013910</td><td>tts             </td><td>TRUE</td><td>Tts more upstream  </td></tr>\n",
       "\t<tr><th scope=row>77</th><td>geneComp_00008901</td><td>WDR33   </td><td>WDR33   </td><td>NT</td><td>COCL2</td><td>ENST00000409658.7 </td><td>ENST00000322313.9 </td><td>isoComp_00014504</td><td>isoComp_00014503</td><td>tts             </td><td>TRUE</td><td>Tts more upstream  </td></tr>\n",
       "</tbody>\n",
       "</table>\n"
      ],
      "text/latex": [
       "A data.frame: 44 × 12\n",
       "\\begin{tabular}{r|llllllllllll}\n",
       "  & gene\\_ref & gene\\_id & gene\\_name & condition\\_1 & condition\\_2 & isoformUpregulated & isoformDownregulated & iso\\_ref\\_up & iso\\_ref\\_down & featureCompared & isoformsDifferent & switchConsequence\\\\\n",
       "  & <chr> & <chr> & <chr> & <chr> & <chr> & <chr> & <chr> & <chr> & <chr> & <chr> & <lgl> & <chr>\\\\\n",
       "\\hline\n",
       "\t2 & geneComp\\_00000223 & AK2      & AK2      & NT & COCL2 & ENST00000672308.1  & ENST00000373449.7  & isoComp\\_00000363 & isoComp\\_00000360 & tts              & TRUE & Tts more upstream  \\\\\n",
       "\t3 & geneComp\\_00000223 & AK2      & AK2      & NT & COCL2 & ENST00000672308.1  & ENST00000373449.7  & isoComp\\_00000363 & isoComp\\_00000360 & intron\\_structure & TRUE & NA                 \\\\\n",
       "\t4 & geneComp\\_00000405 & APH1A    & APH1A    & NT & COCL2 & ENST00000369109.8  & ENST00000360244.8  & isoComp\\_00000679 & isoComp\\_00000678 & tss              & TRUE & Tss more downstream\\\\\n",
       "\t8 & geneComp\\_00000753 & BCCIP    & BCCIP    & NT & COCL2 & ENST00000278100.11 & ENST00000368759.5  & isoComp\\_00001285 & isoComp\\_00001287 & tts              & TRUE & Tts more downstream\\\\\n",
       "\t9 & geneComp\\_00000753 & BCCIP    & BCCIP    & NT & COCL2 & ENST00000278100.11 & ENST00000368759.5  & isoComp\\_00001285 & isoComp\\_00001287 & intron\\_structure & TRUE & NA                 \\\\\n",
       "\t11 & geneComp\\_00000881 & BUB3     & BUB3     & NT & COCL2 & ENST00000368858.9  & ENST00000368865.9  & isoComp\\_00001510 & isoComp\\_00001511 & tts              & TRUE & Tts more downstream\\\\\n",
       "\t12 & geneComp\\_00000881 & BUB3     & BUB3     & NT & COCL2 & ENST00000368858.9  & ENST00000368865.9  & isoComp\\_00001510 & isoComp\\_00001511 & intron\\_structure & TRUE & NA                 \\\\\n",
       "\t13 & geneComp\\_00001338 & CENPN    & CENPN    & NT & COCL2 & ENST00000299572.9  & ENST00000305850.10 & isoComp\\_00002253 & isoComp\\_00002254 & tss              & TRUE & Tss more upstream  \\\\\n",
       "\t14 & geneComp\\_00001338 & CENPN    & CENPN    & NT & COCL2 & ENST00000299572.9  & ENST00000305850.10 & isoComp\\_00002253 & isoComp\\_00002254 & tts              & TRUE & Tts more downstream\\\\\n",
       "\t15 & geneComp\\_00001338 & CENPN    & CENPN    & NT & COCL2 & ENST00000299572.9  & ENST00000305850.10 & isoComp\\_00002253 & isoComp\\_00002254 & intron\\_structure & TRUE & NA                 \\\\\n",
       "\t17 & geneComp\\_00001824 & CUL4A    & CUL4A    & NT & COCL2 & ENST00000488558.2  & ENST00000375440.9  & isoComp\\_00003020 & isoComp\\_00003018 & tts              & TRUE & Tts more upstream  \\\\\n",
       "\t18 & geneComp\\_00001824 & CUL4A    & CUL4A    & NT & COCL2 & ENST00000488558.2  & ENST00000375440.9  & isoComp\\_00003020 & isoComp\\_00003018 & intron\\_structure & TRUE & NA                 \\\\\n",
       "\t20 & geneComp\\_00003147 & GRB2     & GRB2     & NT & COCL2 & ENST00000648046.1  & ENST00000316804.10 & isoComp\\_00005138 & isoComp\\_00005136 & tts              & TRUE & Tts more upstream  \\\\\n",
       "\t22 & geneComp\\_00003156 & GRK6     & GRK6     & NT & COCL2 & ENST00000507633.5  & ENST00000355472.10 & isoComp\\_00005150 & isoComp\\_00005149 & tss              & TRUE & Tss more downstream\\\\\n",
       "\t23 & geneComp\\_00003156 & GRK6     & GRK6     & NT & COCL2 & ENST00000507633.5  & ENST00000355472.10 & isoComp\\_00005150 & isoComp\\_00005149 & tts              & TRUE & Tts more upstream  \\\\\n",
       "\t26 & geneComp\\_00003235 & H2AZ2    & H2AZ2    & NT & COCL2 & ENST00000308153.9  & ENST00000222690.10 & isoComp\\_00005263 & isoComp\\_00005262 & tts              & TRUE & Tts more upstream  \\\\\n",
       "\t27 & geneComp\\_00003235 & H2AZ2    & H2AZ2    & NT & COCL2 & ENST00000308153.9  & ENST00000222690.10 & isoComp\\_00005263 & isoComp\\_00005262 & intron\\_structure & TRUE & NA                 \\\\\n",
       "\t29 & geneComp\\_00003441 & HSP90B1  & HSP90B1  & NT & COCL2 & ENST00000640977.2  & ENST00000299767.10 & isoComp\\_00005630 & isoComp\\_00005628 & tts              & TRUE & Tts more upstream  \\\\\n",
       "\t32 & geneComp\\_00003496 & IDS      & IDS      & NT & COCL2 & ENST00000370441.8  & ENST00000340855.11 & isoComp\\_00005733 & isoComp\\_00005732 & tts              & TRUE & Tts more upstream  \\\\\n",
       "\t33 & geneComp\\_00003496 & IDS      & IDS      & NT & COCL2 & ENST00000370441.8  & ENST00000340855.11 & isoComp\\_00005733 & isoComp\\_00005732 & intron\\_structure & TRUE & NA                 \\\\\n",
       "\t35 & geneComp\\_00003553 & IL11     & IL11     & NT & COCL2 & ENST00000585513.1  & ENST00000264563.7  & isoComp\\_00005828 & isoComp\\_00005827 & tts              & TRUE & Tts more upstream  \\\\\n",
       "\t37 & geneComp\\_00003676 & ITGA3    & ITGA3    & NT & COCL2 & ENST00000506437.1  & ENST00000320031.13 & isoComp\\_00006017 & isoComp\\_00006016 & tss              & TRUE & Tss more downstream\\\\\n",
       "\t40 & geneComp\\_00003871 & KPNB1    & KPNB1    & NT & COCL2 & ENST00000677341.1  & ENST00000290158.9  & isoComp\\_00006303 & isoComp\\_00006302 & tss              & TRUE & Tss more downstream\\\\\n",
       "\t41 & geneComp\\_00003871 & KPNB1    & KPNB1    & NT & COCL2 & ENST00000677341.1  & ENST00000290158.9  & isoComp\\_00006303 & isoComp\\_00006302 & tts              & TRUE & Tts more upstream  \\\\\n",
       "\t43 & geneComp\\_00003878 & KRR1     & KRR1     & NT & COCL2 & ENST00000551070.5  & ENST00000229214.9  & isoComp\\_00006316 & isoComp\\_00006315 & tss              & TRUE & Tss more downstream\\\\\n",
       "\t44 & geneComp\\_00003878 & KRR1     & KRR1     & NT & COCL2 & ENST00000551070.5  & ENST00000229214.9  & isoComp\\_00006316 & isoComp\\_00006315 & tts              & TRUE & Tts more upstream  \\\\\n",
       "\t47 & geneComp\\_00004472 & MKRN1    & MKRN1    & NT & COCL2 & ENST00000443720.6  & ENST00000255977.7  & isoComp\\_00007219 & isoComp\\_00007218 & tts              & TRUE & Tts more upstream  \\\\\n",
       "\t49 & geneComp\\_00004922 & NECTIN2  & NECTIN2  & NT & COCL2 & ENST00000252485.8  & ENST00000252483.10 & isoComp\\_00007990 & isoComp\\_00007989 & tss              & TRUE & Tss more upstream  \\\\\n",
       "\t50 & geneComp\\_00004922 & NECTIN2  & NECTIN2  & NT & COCL2 & ENST00000252485.8  & ENST00000252483.10 & isoComp\\_00007990 & isoComp\\_00007989 & tts              & TRUE & Tts more upstream  \\\\\n",
       "\t51 & geneComp\\_00004922 & NECTIN2  & NECTIN2  & NT & COCL2 & ENST00000252485.8  & ENST00000252483.10 & isoComp\\_00007990 & isoComp\\_00007989 & intron\\_structure & TRUE & NA                 \\\\\n",
       "\t53 & geneComp\\_00005394 & PCMT1    & PCMT1    & NT & COCL2 & ENST00000367378.6  & ENST00000367384.7  & isoComp\\_00008807 & isoComp\\_00008808 & tts              & TRUE & Tts more downstream\\\\\n",
       "\t56 & geneComp\\_00005540 & PHF19    & PHF19    & NT & COCL2 & ENST00000312189.10 & ENST00000373896.8  & isoComp\\_00009024 & isoComp\\_00009025 & tts              & TRUE & Tts more downstream\\\\\n",
       "\t58 & geneComp\\_00005973 & PRPF40A  & PRPF40A  & NT & COCL2 & ENST00000545856.7  & ENST00000410080.8  & isoComp\\_00009731 & isoComp\\_00009730 & tss              & TRUE & Tss more downstream\\\\\n",
       "\t59 & geneComp\\_00005973 & PRPF40A  & PRPF40A  & NT & COCL2 & ENST00000545856.7  & ENST00000410080.8  & isoComp\\_00009731 & isoComp\\_00009730 & tts              & TRUE & Tts more upstream  \\\\\n",
       "\t60 & geneComp\\_00005973 & PRPF40A  & PRPF40A  & NT & COCL2 & ENST00000545856.7  & ENST00000410080.8  & isoComp\\_00009731 & isoComp\\_00009730 & intron\\_structure & TRUE & NA                 \\\\\n",
       "\t61 & geneComp\\_00006287 & RBCK1    & RBCK1    & NT & COCL2 & ENST00000475269.5  & ENST00000356286.10 & isoComp\\_00010256 & isoComp\\_00010254 & tss              & TRUE & Tss more upstream  \\\\\n",
       "\t62 & geneComp\\_00006287 & RBCK1    & RBCK1    & NT & COCL2 & ENST00000475269.5  & ENST00000356286.10 & isoComp\\_00010256 & isoComp\\_00010254 & tts              & TRUE & Tts more upstream  \\\\\n",
       "\t63 & geneComp\\_00006287 & RBCK1    & RBCK1    & NT & COCL2 & ENST00000475269.5  & ENST00000356286.10 & isoComp\\_00010256 & isoComp\\_00010254 & intron\\_structure & TRUE & NA                 \\\\\n",
       "\t65 & geneComp\\_00006989 & SEPTIN11 & SEPTIN11 & NT & COCL2 & ENST00000502584.5  & ENST00000264893.11 & isoComp\\_00011403 & isoComp\\_00011402 & tts              & TRUE & Tts more upstream  \\\\\n",
       "\t68 & geneComp\\_00007970 & TGM2     & TGM2     & NT & COCL2 & ENST00000468262.5  & ENST00000361475.7  & isoComp\\_00013037 & isoComp\\_00013036 & tts              & TRUE & Tts more upstream  \\\\\n",
       "\t72 & geneComp\\_00008452 & TSC22D4  & TSC22D4  & NT & COCL2 & ENST00000393991.5  & ENST00000300181.7  & isoComp\\_00013775 & isoComp\\_00013774 & intron\\_structure & TRUE & NA                 \\\\\n",
       "\t73 & geneComp\\_00008538 & TUBGCP2  & TUBGCP2  & NT & COCL2 & ENST00000683673.1  & ENST00000252936.8  & isoComp\\_00013914 & isoComp\\_00013910 & tss              & TRUE & Tss more upstream  \\\\\n",
       "\t74 & geneComp\\_00008538 & TUBGCP2  & TUBGCP2  & NT & COCL2 & ENST00000683673.1  & ENST00000252936.8  & isoComp\\_00013914 & isoComp\\_00013910 & tts              & TRUE & Tts more upstream  \\\\\n",
       "\t77 & geneComp\\_00008901 & WDR33    & WDR33    & NT & COCL2 & ENST00000409658.7  & ENST00000322313.9  & isoComp\\_00014504 & isoComp\\_00014503 & tts              & TRUE & Tts more upstream  \\\\\n",
       "\\end{tabular}\n"
      ],
      "text/markdown": [
       "\n",
       "A data.frame: 44 × 12\n",
       "\n",
       "| <!--/--> | gene_ref &lt;chr&gt; | gene_id &lt;chr&gt; | gene_name &lt;chr&gt; | condition_1 &lt;chr&gt; | condition_2 &lt;chr&gt; | isoformUpregulated &lt;chr&gt; | isoformDownregulated &lt;chr&gt; | iso_ref_up &lt;chr&gt; | iso_ref_down &lt;chr&gt; | featureCompared &lt;chr&gt; | isoformsDifferent &lt;lgl&gt; | switchConsequence &lt;chr&gt; |\n",
       "|---|---|---|---|---|---|---|---|---|---|---|---|---|\n",
       "| 2 | geneComp_00000223 | AK2      | AK2      | NT | COCL2 | ENST00000672308.1  | ENST00000373449.7  | isoComp_00000363 | isoComp_00000360 | tts              | TRUE | Tts more upstream   |\n",
       "| 3 | geneComp_00000223 | AK2      | AK2      | NT | COCL2 | ENST00000672308.1  | ENST00000373449.7  | isoComp_00000363 | isoComp_00000360 | intron_structure | TRUE | NA                  |\n",
       "| 4 | geneComp_00000405 | APH1A    | APH1A    | NT | COCL2 | ENST00000369109.8  | ENST00000360244.8  | isoComp_00000679 | isoComp_00000678 | tss              | TRUE | Tss more downstream |\n",
       "| 8 | geneComp_00000753 | BCCIP    | BCCIP    | NT | COCL2 | ENST00000278100.11 | ENST00000368759.5  | isoComp_00001285 | isoComp_00001287 | tts              | TRUE | Tts more downstream |\n",
       "| 9 | geneComp_00000753 | BCCIP    | BCCIP    | NT | COCL2 | ENST00000278100.11 | ENST00000368759.5  | isoComp_00001285 | isoComp_00001287 | intron_structure | TRUE | NA                  |\n",
       "| 11 | geneComp_00000881 | BUB3     | BUB3     | NT | COCL2 | ENST00000368858.9  | ENST00000368865.9  | isoComp_00001510 | isoComp_00001511 | tts              | TRUE | Tts more downstream |\n",
       "| 12 | geneComp_00000881 | BUB3     | BUB3     | NT | COCL2 | ENST00000368858.9  | ENST00000368865.9  | isoComp_00001510 | isoComp_00001511 | intron_structure | TRUE | NA                  |\n",
       "| 13 | geneComp_00001338 | CENPN    | CENPN    | NT | COCL2 | ENST00000299572.9  | ENST00000305850.10 | isoComp_00002253 | isoComp_00002254 | tss              | TRUE | Tss more upstream   |\n",
       "| 14 | geneComp_00001338 | CENPN    | CENPN    | NT | COCL2 | ENST00000299572.9  | ENST00000305850.10 | isoComp_00002253 | isoComp_00002254 | tts              | TRUE | Tts more downstream |\n",
       "| 15 | geneComp_00001338 | CENPN    | CENPN    | NT | COCL2 | ENST00000299572.9  | ENST00000305850.10 | isoComp_00002253 | isoComp_00002254 | intron_structure | TRUE | NA                  |\n",
       "| 17 | geneComp_00001824 | CUL4A    | CUL4A    | NT | COCL2 | ENST00000488558.2  | ENST00000375440.9  | isoComp_00003020 | isoComp_00003018 | tts              | TRUE | Tts more upstream   |\n",
       "| 18 | geneComp_00001824 | CUL4A    | CUL4A    | NT | COCL2 | ENST00000488558.2  | ENST00000375440.9  | isoComp_00003020 | isoComp_00003018 | intron_structure | TRUE | NA                  |\n",
       "| 20 | geneComp_00003147 | GRB2     | GRB2     | NT | COCL2 | ENST00000648046.1  | ENST00000316804.10 | isoComp_00005138 | isoComp_00005136 | tts              | TRUE | Tts more upstream   |\n",
       "| 22 | geneComp_00003156 | GRK6     | GRK6     | NT | COCL2 | ENST00000507633.5  | ENST00000355472.10 | isoComp_00005150 | isoComp_00005149 | tss              | TRUE | Tss more downstream |\n",
       "| 23 | geneComp_00003156 | GRK6     | GRK6     | NT | COCL2 | ENST00000507633.5  | ENST00000355472.10 | isoComp_00005150 | isoComp_00005149 | tts              | TRUE | Tts more upstream   |\n",
       "| 26 | geneComp_00003235 | H2AZ2    | H2AZ2    | NT | COCL2 | ENST00000308153.9  | ENST00000222690.10 | isoComp_00005263 | isoComp_00005262 | tts              | TRUE | Tts more upstream   |\n",
       "| 27 | geneComp_00003235 | H2AZ2    | H2AZ2    | NT | COCL2 | ENST00000308153.9  | ENST00000222690.10 | isoComp_00005263 | isoComp_00005262 | intron_structure | TRUE | NA                  |\n",
       "| 29 | geneComp_00003441 | HSP90B1  | HSP90B1  | NT | COCL2 | ENST00000640977.2  | ENST00000299767.10 | isoComp_00005630 | isoComp_00005628 | tts              | TRUE | Tts more upstream   |\n",
       "| 32 | geneComp_00003496 | IDS      | IDS      | NT | COCL2 | ENST00000370441.8  | ENST00000340855.11 | isoComp_00005733 | isoComp_00005732 | tts              | TRUE | Tts more upstream   |\n",
       "| 33 | geneComp_00003496 | IDS      | IDS      | NT | COCL2 | ENST00000370441.8  | ENST00000340855.11 | isoComp_00005733 | isoComp_00005732 | intron_structure | TRUE | NA                  |\n",
       "| 35 | geneComp_00003553 | IL11     | IL11     | NT | COCL2 | ENST00000585513.1  | ENST00000264563.7  | isoComp_00005828 | isoComp_00005827 | tts              | TRUE | Tts more upstream   |\n",
       "| 37 | geneComp_00003676 | ITGA3    | ITGA3    | NT | COCL2 | ENST00000506437.1  | ENST00000320031.13 | isoComp_00006017 | isoComp_00006016 | tss              | TRUE | Tss more downstream |\n",
       "| 40 | geneComp_00003871 | KPNB1    | KPNB1    | NT | COCL2 | ENST00000677341.1  | ENST00000290158.9  | isoComp_00006303 | isoComp_00006302 | tss              | TRUE | Tss more downstream |\n",
       "| 41 | geneComp_00003871 | KPNB1    | KPNB1    | NT | COCL2 | ENST00000677341.1  | ENST00000290158.9  | isoComp_00006303 | isoComp_00006302 | tts              | TRUE | Tts more upstream   |\n",
       "| 43 | geneComp_00003878 | KRR1     | KRR1     | NT | COCL2 | ENST00000551070.5  | ENST00000229214.9  | isoComp_00006316 | isoComp_00006315 | tss              | TRUE | Tss more downstream |\n",
       "| 44 | geneComp_00003878 | KRR1     | KRR1     | NT | COCL2 | ENST00000551070.5  | ENST00000229214.9  | isoComp_00006316 | isoComp_00006315 | tts              | TRUE | Tts more upstream   |\n",
       "| 47 | geneComp_00004472 | MKRN1    | MKRN1    | NT | COCL2 | ENST00000443720.6  | ENST00000255977.7  | isoComp_00007219 | isoComp_00007218 | tts              | TRUE | Tts more upstream   |\n",
       "| 49 | geneComp_00004922 | NECTIN2  | NECTIN2  | NT | COCL2 | ENST00000252485.8  | ENST00000252483.10 | isoComp_00007990 | isoComp_00007989 | tss              | TRUE | Tss more upstream   |\n",
       "| 50 | geneComp_00004922 | NECTIN2  | NECTIN2  | NT | COCL2 | ENST00000252485.8  | ENST00000252483.10 | isoComp_00007990 | isoComp_00007989 | tts              | TRUE | Tts more upstream   |\n",
       "| 51 | geneComp_00004922 | NECTIN2  | NECTIN2  | NT | COCL2 | ENST00000252485.8  | ENST00000252483.10 | isoComp_00007990 | isoComp_00007989 | intron_structure | TRUE | NA                  |\n",
       "| 53 | geneComp_00005394 | PCMT1    | PCMT1    | NT | COCL2 | ENST00000367378.6  | ENST00000367384.7  | isoComp_00008807 | isoComp_00008808 | tts              | TRUE | Tts more downstream |\n",
       "| 56 | geneComp_00005540 | PHF19    | PHF19    | NT | COCL2 | ENST00000312189.10 | ENST00000373896.8  | isoComp_00009024 | isoComp_00009025 | tts              | TRUE | Tts more downstream |\n",
       "| 58 | geneComp_00005973 | PRPF40A  | PRPF40A  | NT | COCL2 | ENST00000545856.7  | ENST00000410080.8  | isoComp_00009731 | isoComp_00009730 | tss              | TRUE | Tss more downstream |\n",
       "| 59 | geneComp_00005973 | PRPF40A  | PRPF40A  | NT | COCL2 | ENST00000545856.7  | ENST00000410080.8  | isoComp_00009731 | isoComp_00009730 | tts              | TRUE | Tts more upstream   |\n",
       "| 60 | geneComp_00005973 | PRPF40A  | PRPF40A  | NT | COCL2 | ENST00000545856.7  | ENST00000410080.8  | isoComp_00009731 | isoComp_00009730 | intron_structure | TRUE | NA                  |\n",
       "| 61 | geneComp_00006287 | RBCK1    | RBCK1    | NT | COCL2 | ENST00000475269.5  | ENST00000356286.10 | isoComp_00010256 | isoComp_00010254 | tss              | TRUE | Tss more upstream   |\n",
       "| 62 | geneComp_00006287 | RBCK1    | RBCK1    | NT | COCL2 | ENST00000475269.5  | ENST00000356286.10 | isoComp_00010256 | isoComp_00010254 | tts              | TRUE | Tts more upstream   |\n",
       "| 63 | geneComp_00006287 | RBCK1    | RBCK1    | NT | COCL2 | ENST00000475269.5  | ENST00000356286.10 | isoComp_00010256 | isoComp_00010254 | intron_structure | TRUE | NA                  |\n",
       "| 65 | geneComp_00006989 | SEPTIN11 | SEPTIN11 | NT | COCL2 | ENST00000502584.5  | ENST00000264893.11 | isoComp_00011403 | isoComp_00011402 | tts              | TRUE | Tts more upstream   |\n",
       "| 68 | geneComp_00007970 | TGM2     | TGM2     | NT | COCL2 | ENST00000468262.5  | ENST00000361475.7  | isoComp_00013037 | isoComp_00013036 | tts              | TRUE | Tts more upstream   |\n",
       "| 72 | geneComp_00008452 | TSC22D4  | TSC22D4  | NT | COCL2 | ENST00000393991.5  | ENST00000300181.7  | isoComp_00013775 | isoComp_00013774 | intron_structure | TRUE | NA                  |\n",
       "| 73 | geneComp_00008538 | TUBGCP2  | TUBGCP2  | NT | COCL2 | ENST00000683673.1  | ENST00000252936.8  | isoComp_00013914 | isoComp_00013910 | tss              | TRUE | Tss more upstream   |\n",
       "| 74 | geneComp_00008538 | TUBGCP2  | TUBGCP2  | NT | COCL2 | ENST00000683673.1  | ENST00000252936.8  | isoComp_00013914 | isoComp_00013910 | tts              | TRUE | Tts more upstream   |\n",
       "| 77 | geneComp_00008901 | WDR33    | WDR33    | NT | COCL2 | ENST00000409658.7  | ENST00000322313.9  | isoComp_00014504 | isoComp_00014503 | tts              | TRUE | Tts more upstream   |\n",
       "\n"
      ],
      "text/plain": [
       "   gene_ref          gene_id  gene_name condition_1 condition_2\n",
       "2  geneComp_00000223 AK2      AK2       NT          COCL2      \n",
       "3  geneComp_00000223 AK2      AK2       NT          COCL2      \n",
       "4  geneComp_00000405 APH1A    APH1A     NT          COCL2      \n",
       "8  geneComp_00000753 BCCIP    BCCIP     NT          COCL2      \n",
       "9  geneComp_00000753 BCCIP    BCCIP     NT          COCL2      \n",
       "11 geneComp_00000881 BUB3     BUB3      NT          COCL2      \n",
       "12 geneComp_00000881 BUB3     BUB3      NT          COCL2      \n",
       "13 geneComp_00001338 CENPN    CENPN     NT          COCL2      \n",
       "14 geneComp_00001338 CENPN    CENPN     NT          COCL2      \n",
       "15 geneComp_00001338 CENPN    CENPN     NT          COCL2      \n",
       "17 geneComp_00001824 CUL4A    CUL4A     NT          COCL2      \n",
       "18 geneComp_00001824 CUL4A    CUL4A     NT          COCL2      \n",
       "20 geneComp_00003147 GRB2     GRB2      NT          COCL2      \n",
       "22 geneComp_00003156 GRK6     GRK6      NT          COCL2      \n",
       "23 geneComp_00003156 GRK6     GRK6      NT          COCL2      \n",
       "26 geneComp_00003235 H2AZ2    H2AZ2     NT          COCL2      \n",
       "27 geneComp_00003235 H2AZ2    H2AZ2     NT          COCL2      \n",
       "29 geneComp_00003441 HSP90B1  HSP90B1   NT          COCL2      \n",
       "32 geneComp_00003496 IDS      IDS       NT          COCL2      \n",
       "33 geneComp_00003496 IDS      IDS       NT          COCL2      \n",
       "35 geneComp_00003553 IL11     IL11      NT          COCL2      \n",
       "37 geneComp_00003676 ITGA3    ITGA3     NT          COCL2      \n",
       "40 geneComp_00003871 KPNB1    KPNB1     NT          COCL2      \n",
       "41 geneComp_00003871 KPNB1    KPNB1     NT          COCL2      \n",
       "43 geneComp_00003878 KRR1     KRR1      NT          COCL2      \n",
       "44 geneComp_00003878 KRR1     KRR1      NT          COCL2      \n",
       "47 geneComp_00004472 MKRN1    MKRN1     NT          COCL2      \n",
       "49 geneComp_00004922 NECTIN2  NECTIN2   NT          COCL2      \n",
       "50 geneComp_00004922 NECTIN2  NECTIN2   NT          COCL2      \n",
       "51 geneComp_00004922 NECTIN2  NECTIN2   NT          COCL2      \n",
       "53 geneComp_00005394 PCMT1    PCMT1     NT          COCL2      \n",
       "56 geneComp_00005540 PHF19    PHF19     NT          COCL2      \n",
       "58 geneComp_00005973 PRPF40A  PRPF40A   NT          COCL2      \n",
       "59 geneComp_00005973 PRPF40A  PRPF40A   NT          COCL2      \n",
       "60 geneComp_00005973 PRPF40A  PRPF40A   NT          COCL2      \n",
       "61 geneComp_00006287 RBCK1    RBCK1     NT          COCL2      \n",
       "62 geneComp_00006287 RBCK1    RBCK1     NT          COCL2      \n",
       "63 geneComp_00006287 RBCK1    RBCK1     NT          COCL2      \n",
       "65 geneComp_00006989 SEPTIN11 SEPTIN11  NT          COCL2      \n",
       "68 geneComp_00007970 TGM2     TGM2      NT          COCL2      \n",
       "72 geneComp_00008452 TSC22D4  TSC22D4   NT          COCL2      \n",
       "73 geneComp_00008538 TUBGCP2  TUBGCP2   NT          COCL2      \n",
       "74 geneComp_00008538 TUBGCP2  TUBGCP2   NT          COCL2      \n",
       "77 geneComp_00008901 WDR33    WDR33     NT          COCL2      \n",
       "   isoformUpregulated isoformDownregulated iso_ref_up       iso_ref_down    \n",
       "2  ENST00000672308.1  ENST00000373449.7    isoComp_00000363 isoComp_00000360\n",
       "3  ENST00000672308.1  ENST00000373449.7    isoComp_00000363 isoComp_00000360\n",
       "4  ENST00000369109.8  ENST00000360244.8    isoComp_00000679 isoComp_00000678\n",
       "8  ENST00000278100.11 ENST00000368759.5    isoComp_00001285 isoComp_00001287\n",
       "9  ENST00000278100.11 ENST00000368759.5    isoComp_00001285 isoComp_00001287\n",
       "11 ENST00000368858.9  ENST00000368865.9    isoComp_00001510 isoComp_00001511\n",
       "12 ENST00000368858.9  ENST00000368865.9    isoComp_00001510 isoComp_00001511\n",
       "13 ENST00000299572.9  ENST00000305850.10   isoComp_00002253 isoComp_00002254\n",
       "14 ENST00000299572.9  ENST00000305850.10   isoComp_00002253 isoComp_00002254\n",
       "15 ENST00000299572.9  ENST00000305850.10   isoComp_00002253 isoComp_00002254\n",
       "17 ENST00000488558.2  ENST00000375440.9    isoComp_00003020 isoComp_00003018\n",
       "18 ENST00000488558.2  ENST00000375440.9    isoComp_00003020 isoComp_00003018\n",
       "20 ENST00000648046.1  ENST00000316804.10   isoComp_00005138 isoComp_00005136\n",
       "22 ENST00000507633.5  ENST00000355472.10   isoComp_00005150 isoComp_00005149\n",
       "23 ENST00000507633.5  ENST00000355472.10   isoComp_00005150 isoComp_00005149\n",
       "26 ENST00000308153.9  ENST00000222690.10   isoComp_00005263 isoComp_00005262\n",
       "27 ENST00000308153.9  ENST00000222690.10   isoComp_00005263 isoComp_00005262\n",
       "29 ENST00000640977.2  ENST00000299767.10   isoComp_00005630 isoComp_00005628\n",
       "32 ENST00000370441.8  ENST00000340855.11   isoComp_00005733 isoComp_00005732\n",
       "33 ENST00000370441.8  ENST00000340855.11   isoComp_00005733 isoComp_00005732\n",
       "35 ENST00000585513.1  ENST00000264563.7    isoComp_00005828 isoComp_00005827\n",
       "37 ENST00000506437.1  ENST00000320031.13   isoComp_00006017 isoComp_00006016\n",
       "40 ENST00000677341.1  ENST00000290158.9    isoComp_00006303 isoComp_00006302\n",
       "41 ENST00000677341.1  ENST00000290158.9    isoComp_00006303 isoComp_00006302\n",
       "43 ENST00000551070.5  ENST00000229214.9    isoComp_00006316 isoComp_00006315\n",
       "44 ENST00000551070.5  ENST00000229214.9    isoComp_00006316 isoComp_00006315\n",
       "47 ENST00000443720.6  ENST00000255977.7    isoComp_00007219 isoComp_00007218\n",
       "49 ENST00000252485.8  ENST00000252483.10   isoComp_00007990 isoComp_00007989\n",
       "50 ENST00000252485.8  ENST00000252483.10   isoComp_00007990 isoComp_00007989\n",
       "51 ENST00000252485.8  ENST00000252483.10   isoComp_00007990 isoComp_00007989\n",
       "53 ENST00000367378.6  ENST00000367384.7    isoComp_00008807 isoComp_00008808\n",
       "56 ENST00000312189.10 ENST00000373896.8    isoComp_00009024 isoComp_00009025\n",
       "58 ENST00000545856.7  ENST00000410080.8    isoComp_00009731 isoComp_00009730\n",
       "59 ENST00000545856.7  ENST00000410080.8    isoComp_00009731 isoComp_00009730\n",
       "60 ENST00000545856.7  ENST00000410080.8    isoComp_00009731 isoComp_00009730\n",
       "61 ENST00000475269.5  ENST00000356286.10   isoComp_00010256 isoComp_00010254\n",
       "62 ENST00000475269.5  ENST00000356286.10   isoComp_00010256 isoComp_00010254\n",
       "63 ENST00000475269.5  ENST00000356286.10   isoComp_00010256 isoComp_00010254\n",
       "65 ENST00000502584.5  ENST00000264893.11   isoComp_00011403 isoComp_00011402\n",
       "68 ENST00000468262.5  ENST00000361475.7    isoComp_00013037 isoComp_00013036\n",
       "72 ENST00000393991.5  ENST00000300181.7    isoComp_00013775 isoComp_00013774\n",
       "73 ENST00000683673.1  ENST00000252936.8    isoComp_00013914 isoComp_00013910\n",
       "74 ENST00000683673.1  ENST00000252936.8    isoComp_00013914 isoComp_00013910\n",
       "77 ENST00000409658.7  ENST00000322313.9    isoComp_00014504 isoComp_00014503\n",
       "   featureCompared  isoformsDifferent switchConsequence  \n",
       "2  tts              TRUE              Tts more upstream  \n",
       "3  intron_structure TRUE              NA                 \n",
       "4  tss              TRUE              Tss more downstream\n",
       "8  tts              TRUE              Tts more downstream\n",
       "9  intron_structure TRUE              NA                 \n",
       "11 tts              TRUE              Tts more downstream\n",
       "12 intron_structure TRUE              NA                 \n",
       "13 tss              TRUE              Tss more upstream  \n",
       "14 tts              TRUE              Tts more downstream\n",
       "15 intron_structure TRUE              NA                 \n",
       "17 tts              TRUE              Tts more upstream  \n",
       "18 intron_structure TRUE              NA                 \n",
       "20 tts              TRUE              Tts more upstream  \n",
       "22 tss              TRUE              Tss more downstream\n",
       "23 tts              TRUE              Tts more upstream  \n",
       "26 tts              TRUE              Tts more upstream  \n",
       "27 intron_structure TRUE              NA                 \n",
       "29 tts              TRUE              Tts more upstream  \n",
       "32 tts              TRUE              Tts more upstream  \n",
       "33 intron_structure TRUE              NA                 \n",
       "35 tts              TRUE              Tts more upstream  \n",
       "37 tss              TRUE              Tss more downstream\n",
       "40 tss              TRUE              Tss more downstream\n",
       "41 tts              TRUE              Tts more upstream  \n",
       "43 tss              TRUE              Tss more downstream\n",
       "44 tts              TRUE              Tts more upstream  \n",
       "47 tts              TRUE              Tts more upstream  \n",
       "49 tss              TRUE              Tss more upstream  \n",
       "50 tts              TRUE              Tts more upstream  \n",
       "51 intron_structure TRUE              NA                 \n",
       "53 tts              TRUE              Tts more downstream\n",
       "56 tts              TRUE              Tts more downstream\n",
       "58 tss              TRUE              Tss more downstream\n",
       "59 tts              TRUE              Tts more upstream  \n",
       "60 intron_structure TRUE              NA                 \n",
       "61 tss              TRUE              Tss more upstream  \n",
       "62 tts              TRUE              Tts more upstream  \n",
       "63 intron_structure TRUE              NA                 \n",
       "65 tts              TRUE              Tts more upstream  \n",
       "68 tts              TRUE              Tts more upstream  \n",
       "72 intron_structure TRUE              NA                 \n",
       "73 tss              TRUE              Tss more upstream  \n",
       "74 tts              TRUE              Tts more upstream  \n",
       "77 tts              TRUE              Tts more upstream  "
      ]
     },
     "metadata": {},
     "output_type": "display_data"
    }
   ],
   "source": [
    "bioMechanismeAnalysis"
   ]
  },
  {
   "cell_type": "code",
   "execution_count": 87,
   "id": "f07ed48c-dff6-4713-ac31-dbaa5adbce96",
   "metadata": {},
   "outputs": [],
   "source": [
    "myConsequences <- aSwitchListFilteredAnalyzed$switchConsequence\n",
    "myConsequences <- myConsequences[which(myConsequences$isoformsDifferent),]\n",
    "myConsequences$isoPair <- paste(myConsequences$isoformUpregulated, myConsequences$isoformDownregulated) # id for specific iso comparison"
   ]
  },
  {
   "cell_type": "code",
   "execution_count": 88,
   "id": "5f465c41-edf6-4ab4-9de7-9c87c895d079",
   "metadata": {},
   "outputs": [],
   "source": [
    "bioMechanismeAnalysis$isoPair <- paste(bioMechanismeAnalysis$isoformUpregulated, bioMechanismeAnalysis$isoformDownregulated)"
   ]
  },
  {
   "cell_type": "code",
   "execution_count": 89,
   "id": "f5b3fce1-45d8-45a6-a404-ecf90131069b",
   "metadata": {},
   "outputs": [],
   "source": [
    "bioMechanismeAnalysis <- bioMechanismeAnalysis[which(bioMechanismeAnalysis$isoPair %in% myConsequences$isoPair),]  # id for specific iso comparison"
   ]
  },
  {
   "cell_type": "code",
   "execution_count": 90,
   "id": "fa3a3c7d-ef4c-4043-a6e6-20f0ad8fd1dd",
   "metadata": {},
   "outputs": [],
   "source": [
    "### Create list with the isoPair ids for each consequence\n",
    "AS   <- bioMechanismeAnalysis$isoPair[ which( bioMechanismeAnalysis$featureCompared == 'intron_structure')]\n",
    "aTSS <- bioMechanismeAnalysis$isoPair[ which( bioMechanismeAnalysis$featureCompared == 'tss'             )]\n",
    "aTTS <- bioMechanismeAnalysis$isoPair[ which( bioMechanismeAnalysis$featureCompared == 'tts'             )]\n",
    "\n",
    "mechList <- list(\n",
    "    AS=AS,\n",
    "    aTSS=aTSS,\n",
    "    aTTS=aTTS\n",
    ")"
   ]
  },
  {
   "cell_type": "code",
   "execution_count": 93,
   "id": "dba89537-b092-435c-a326-7649d991a594",
   "metadata": {},
   "outputs": [
    {
     "data": {
      "text/html": [
       "<strong>png:</strong> 2"
      ],
      "text/latex": [
       "\\textbf{png:} 2"
      ],
      "text/markdown": [
       "**png:** 2"
      ],
      "text/plain": [
       "png \n",
       "  2 "
      ]
     },
     "metadata": {},
     "output_type": "display_data"
    }
   ],
   "source": [
    "jpeg(\"~/projects/STAMP/stamp_v3_pipeline/notebooks/figs/fig4/ASvenn_rplot.jpg\", width = 500, height = \"500\")\n",
    "png(\"~/projects/STAMP/stamp_v3_pipeline/notebooks/figs/fig4/ASvenn_rplot.png\", width = 500, height = \"500\")\n",
    "\n",
    "### Create Venn diagram\n",
    "library(VennDiagram)\n",
    "#> Loading required package: grid\n",
    "#> Loading required package: futile.logger\n",
    "#> \n",
    "#> Attaching package: 'futile.logger'\n",
    "#> The following object is masked from 'package:mgcv':\n",
    "#> \n",
    "#>     scat\n",
    "myVenn <- venn.diagram(\n",
    "    x = mechList,\n",
    "    col='transparent',\n",
    "    alpha=0.4,\n",
    "    fill=RColorBrewer::brewer.pal(n=3,name='Dark2'),\n",
    "    filename=NULL\n",
    ")\n",
    "\n",
    "### Plot the venn diagram\n",
    "grid.newpage() ; grid.draw(myVenn)\n",
    "dev.off()"
   ]
  },
  {
   "cell_type": "code",
   "execution_count": null,
   "id": "f517be39-7c5b-46b8-bcde-a2fde1a1c337",
   "metadata": {},
   "outputs": [],
   "source": []
  }
 ],
 "metadata": {
  "kernelspec": {
   "display_name": "Python 3 (ipykernel)",
   "language": "python",
   "name": "python3"
  },
  "language_info": {
   "codemirror_mode": {
    "name": "ipython",
    "version": 3
   },
   "file_extension": ".py",
   "mimetype": "text/x-python",
   "name": "python",
   "nbconvert_exporter": "python",
   "pygments_lexer": "ipython3",
   "version": "3.11.7"
  }
 },
 "nbformat": 4,
 "nbformat_minor": 5
}
