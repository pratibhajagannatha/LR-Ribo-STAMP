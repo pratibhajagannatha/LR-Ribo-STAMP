{
 "cells": [
  {
   "cell_type": "code",
   "execution_count": 29,
   "id": "ceb4eb17-403a-4f62-ba75-9215e45d0ae2",
   "metadata": {},
   "outputs": [],
   "source": [
    "library(\"tximport\")\n",
    "library(\"readr\")\n",
    "library(\"DESeq2\")"
   ]
  },
  {
   "cell_type": "code",
   "execution_count": 38,
   "id": "ac097e2d-60c7-455e-91ef-7f7d5b22b0fc",
   "metadata": {},
   "outputs": [],
   "source": [
    "cts <- as.matrix(read.csv('all_sample_counts_matrix.csv',row.names=\"transcript_id\"))"
   ]
  },
  {
   "cell_type": "code",
   "execution_count": 39,
   "id": "03d58682-26b9-41e3-831a-807b49572ec1",
   "metadata": {},
   "outputs": [
    {
     "data": {
      "text/html": [
       "<table class=\"dataframe\">\n",
       "<caption>A matrix: 6 × 4 of type dbl</caption>\n",
       "<thead>\n",
       "\t<tr><th></th><th scope=col>X231_NT_rep1</th><th scope=col>X231_NT_rep2</th><th scope=col>X231_cocl2_rep1</th><th scope=col>X231_cocl2_rep2</th></tr>\n",
       "</thead>\n",
       "<tbody>\n",
       "\t<tr><th scope=row>ENST00000003583.12</th><td>  3</td><td>  2</td><td>  1</td><td>  1</td></tr>\n",
       "\t<tr><th scope=row>ENST00000003912.7</th><td>  1</td><td>  0</td><td>  0</td><td>  0</td></tr>\n",
       "\t<tr><th scope=row>ENST00000040877.2</th><td>  2</td><td>  3</td><td>  0</td><td>  0</td></tr>\n",
       "\t<tr><th scope=row>ENST00000054650.8</th><td> 21</td><td> 37</td><td> 72</td><td> 37</td></tr>\n",
       "\t<tr><th scope=row>ENST00000054666.11</th><td>327</td><td>221</td><td>141</td><td>116</td></tr>\n",
       "\t<tr><th scope=row>ENST00000060969.6</th><td> 41</td><td> 50</td><td> 49</td><td> 63</td></tr>\n",
       "</tbody>\n",
       "</table>\n"
      ],
      "text/latex": [
       "A matrix: 6 × 4 of type dbl\n",
       "\\begin{tabular}{r|llll}\n",
       "  & X231\\_NT\\_rep1 & X231\\_NT\\_rep2 & X231\\_cocl2\\_rep1 & X231\\_cocl2\\_rep2\\\\\n",
       "\\hline\n",
       "\tENST00000003583.12 &   3 &   2 &   1 &   1\\\\\n",
       "\tENST00000003912.7 &   1 &   0 &   0 &   0\\\\\n",
       "\tENST00000040877.2 &   2 &   3 &   0 &   0\\\\\n",
       "\tENST00000054650.8 &  21 &  37 &  72 &  37\\\\\n",
       "\tENST00000054666.11 & 327 & 221 & 141 & 116\\\\\n",
       "\tENST00000060969.6 &  41 &  50 &  49 &  63\\\\\n",
       "\\end{tabular}\n"
      ],
      "text/markdown": [
       "\n",
       "A matrix: 6 × 4 of type dbl\n",
       "\n",
       "| <!--/--> | X231_NT_rep1 | X231_NT_rep2 | X231_cocl2_rep1 | X231_cocl2_rep2 |\n",
       "|---|---|---|---|---|\n",
       "| ENST00000003583.12 |   3 |   2 |   1 |   1 |\n",
       "| ENST00000003912.7 |   1 |   0 |   0 |   0 |\n",
       "| ENST00000040877.2 |   2 |   3 |   0 |   0 |\n",
       "| ENST00000054650.8 |  21 |  37 |  72 |  37 |\n",
       "| ENST00000054666.11 | 327 | 221 | 141 | 116 |\n",
       "| ENST00000060969.6 |  41 |  50 |  49 |  63 |\n",
       "\n"
      ],
      "text/plain": [
       "                   X231_NT_rep1 X231_NT_rep2 X231_cocl2_rep1 X231_cocl2_rep2\n",
       "ENST00000003583.12   3            2            1               1            \n",
       "ENST00000003912.7    1            0            0               0            \n",
       "ENST00000040877.2    2            3            0               0            \n",
       "ENST00000054650.8   21           37           72              37            \n",
       "ENST00000054666.11 327          221          141             116            \n",
       "ENST00000060969.6   41           50           49              63            "
      ]
     },
     "metadata": {},
     "output_type": "display_data"
    }
   ],
   "source": [
    "head(cts)"
   ]
  },
  {
   "cell_type": "code",
   "execution_count": 50,
   "id": "f93bc31d-3497-4a4d-80b9-6a6bce93c3a3",
   "metadata": {},
   "outputs": [],
   "source": [
    "coldata <- read.csv('sample_file.txt', sep='\\t', row.names=1)"
   ]
  },
  {
   "cell_type": "code",
   "execution_count": 51,
   "id": "9c03e710-31ca-4789-9c2f-9a07a2b762ec",
   "metadata": {},
   "outputs": [],
   "source": [
    "coldata <- coldata[,c(\"condition\",\"type\")]"
   ]
  },
  {
   "cell_type": "code",
   "execution_count": 52,
   "id": "995c11c2-c982-4b83-8cc0-08cc1430164a",
   "metadata": {},
   "outputs": [],
   "source": [
    "coldata$condition <- factor(coldata$condition)"
   ]
  },
  {
   "cell_type": "code",
   "execution_count": 53,
   "id": "26e7dfd9-b73f-4d23-a8fb-0ca78ec4d0d0",
   "metadata": {},
   "outputs": [],
   "source": [
    "coldata$type <- factor(coldata$type)"
   ]
  },
  {
   "cell_type": "code",
   "execution_count": 54,
   "id": "b47f7177-a7fa-4dfb-a9ea-dabe209763ad",
   "metadata": {},
   "outputs": [
    {
     "data": {
      "text/html": [
       "<table class=\"dataframe\">\n",
       "<caption>A data.frame: 4 × 2</caption>\n",
       "<thead>\n",
       "\t<tr><th></th><th scope=col>condition</th><th scope=col>type</th></tr>\n",
       "\t<tr><th></th><th scope=col>&lt;fct&gt;</th><th scope=col>&lt;fct&gt;</th></tr>\n",
       "</thead>\n",
       "<tbody>\n",
       "\t<tr><th scope=row>X231_NT_rep1</th><td>A</td><td>single-end</td></tr>\n",
       "\t<tr><th scope=row>X231_NT_rep2</th><td>A</td><td>single-end</td></tr>\n",
       "\t<tr><th scope=row>X231_cocl2_rep1</th><td>B</td><td>single-end</td></tr>\n",
       "\t<tr><th scope=row>X231_cocl2_rep2</th><td>B</td><td>single-end</td></tr>\n",
       "</tbody>\n",
       "</table>\n"
      ],
      "text/latex": [
       "A data.frame: 4 × 2\n",
       "\\begin{tabular}{r|ll}\n",
       "  & condition & type\\\\\n",
       "  & <fct> & <fct>\\\\\n",
       "\\hline\n",
       "\tX231\\_NT\\_rep1 & A & single-end\\\\\n",
       "\tX231\\_NT\\_rep2 & A & single-end\\\\\n",
       "\tX231\\_cocl2\\_rep1 & B & single-end\\\\\n",
       "\tX231\\_cocl2\\_rep2 & B & single-end\\\\\n",
       "\\end{tabular}\n"
      ],
      "text/markdown": [
       "\n",
       "A data.frame: 4 × 2\n",
       "\n",
       "| <!--/--> | condition &lt;fct&gt; | type &lt;fct&gt; |\n",
       "|---|---|---|\n",
       "| X231_NT_rep1 | A | single-end |\n",
       "| X231_NT_rep2 | A | single-end |\n",
       "| X231_cocl2_rep1 | B | single-end |\n",
       "| X231_cocl2_rep2 | B | single-end |\n",
       "\n"
      ],
      "text/plain": [
       "                condition type      \n",
       "X231_NT_rep1    A         single-end\n",
       "X231_NT_rep2    A         single-end\n",
       "X231_cocl2_rep1 B         single-end\n",
       "X231_cocl2_rep2 B         single-end"
      ]
     },
     "metadata": {},
     "output_type": "display_data"
    }
   ],
   "source": [
    "coldata"
   ]
  },
  {
   "cell_type": "code",
   "execution_count": 55,
   "id": "5a40ad34-93dd-40dd-a133-ceb897da310d",
   "metadata": {},
   "outputs": [
    {
     "name": "stderr",
     "output_type": "stream",
     "text": [
      "converting counts to integer mode\n",
      "\n"
     ]
    }
   ],
   "source": [
    "dds <- DESeqDataSetFromMatrix(countData = cts,\n",
    "                              colData = coldata,\n",
    "                              design = ~ condition)"
   ]
  },
  {
   "cell_type": "code",
   "execution_count": 57,
   "id": "7cd69c83-a402-43c6-8a17-c046935a9964",
   "metadata": {},
   "outputs": [],
   "source": [
    "smallestGroupSize <- 2\n",
    "keep <- rowSums(counts(dds) >= 10) >= smallestGroupSize\n",
    "dds <- dds[keep,]"
   ]
  },
  {
   "cell_type": "code",
   "execution_count": 58,
   "id": "f02f4447-0ad2-4f06-9b49-d4f9a02bbf10",
   "metadata": {},
   "outputs": [
    {
     "name": "stderr",
     "output_type": "stream",
     "text": [
      "estimating size factors\n",
      "\n",
      "estimating dispersions\n",
      "\n",
      "gene-wise dispersion estimates\n",
      "\n",
      "mean-dispersion relationship\n",
      "\n",
      "final dispersion estimates\n",
      "\n",
      "fitting model and testing\n",
      "\n"
     ]
    },
    {
     "data": {
      "text/plain": [
       "log2 fold change (MLE): condition B vs A \n",
       "Wald test p-value: condition B vs A \n",
       "DataFrame with 9545 rows and 6 columns\n",
       "                    baseMean log2FoldChange     lfcSE      stat      pvalue\n",
       "                   <numeric>      <numeric> <numeric> <numeric>   <numeric>\n",
       "ENST00000054650.8    42.0898       1.064245  0.508299  2.093739  0.03628326\n",
       "ENST00000054666.11  196.5458      -0.931843  0.288987 -3.224517  0.00126185\n",
       "ENST00000060969.6    51.0453       0.469306  0.430646  1.089773  0.27581326\n",
       "ENST00000072644.7    21.0668       0.440737  0.619688  0.711225  0.47694499\n",
       "ENST00000194214.10   76.3432       0.925525  0.362179  2.555432  0.01060561\n",
       "...                      ...            ...       ...       ...         ...\n",
       "ENST00000380763.7   10.68146        1.17309   2.23954   0.52381 6.00411e-01\n",
       "ENST00000651386.1   12.33837        7.15665   1.62644   4.40020 1.08153e-05\n",
       "ENST00000373238.5    5.54635        6.00182   1.81668   3.30373 9.54068e-04\n",
       "ENST00000581204.1    6.31321        6.18952   1.77559   3.48589 4.90502e-04\n",
       "ENST00000588807.1    6.31321        6.18952   1.77559   3.48589 4.90502e-04\n",
       "                        padj\n",
       "                   <numeric>\n",
       "ENST00000054650.8  0.0983498\n",
       "ENST00000054666.11 0.0107817\n",
       "ENST00000060969.6  0.3967916\n",
       "ENST00000072644.7         NA\n",
       "ENST00000194214.10 0.0440970\n",
       "...                      ...\n",
       "ENST00000380763.7         NA\n",
       "ENST00000651386.1         NA\n",
       "ENST00000373238.5         NA\n",
       "ENST00000581204.1         NA\n",
       "ENST00000588807.1         NA"
      ]
     },
     "metadata": {},
     "output_type": "display_data"
    }
   ],
   "source": [
    "dds <- DESeq(dds)\n",
    "res <- results(dds)\n",
    "res"
   ]
  },
  {
   "cell_type": "code",
   "execution_count": 59,
   "id": "0081b937-bb37-460c-b2ce-e3016db00173",
   "metadata": {},
   "outputs": [],
   "source": [
    "resOrdered <- res[order(res$pvalue),]\n"
   ]
  },
  {
   "cell_type": "code",
   "execution_count": 60,
   "id": "78b2df7f-1f06-429d-b9c7-218933abed99",
   "metadata": {},
   "outputs": [
    {
     "name": "stdout",
     "output_type": "stream",
     "text": [
      "\n",
      "out of 9545 with nonzero total read count\n",
      "adjusted p-value < 0.1\n",
      "LFC > 0 (up)       : 1402, 15%\n",
      "LFC < 0 (down)     : 986, 10%\n",
      "outliers [1]       : 0, 0%\n",
      "low counts [2]     : 3146, 33%\n",
      "(mean count < 21)\n",
      "[1] see 'cooksCutoff' argument of ?results\n",
      "[2] see 'independentFiltering' argument of ?results\n",
      "\n"
     ]
    }
   ],
   "source": [
    "summary(res)\n"
   ]
  },
  {
   "cell_type": "code",
   "execution_count": 62,
   "id": "ec17bb96-cb7b-4285-b5fe-de51043678f3",
   "metadata": {},
   "outputs": [
    {
     "data": {
      "text/html": [
       "718"
      ],
      "text/latex": [
       "718"
      ],
      "text/markdown": [
       "718"
      ],
      "text/plain": [
       "[1] 718"
      ]
     },
     "metadata": {},
     "output_type": "display_data"
    }
   ],
   "source": [
    "sum(res$padj < 0.01, na.rm=TRUE)\n"
   ]
  },
  {
   "cell_type": "code",
   "execution_count": 63,
   "id": "8460a397-563e-4a55-89f7-fa406078369b",
   "metadata": {},
   "outputs": [
    {
     "data": {
      "image/png": "[encoded data removed]",
      "text/plain": [
       "Plot with title “”"
      ]
     },
     "metadata": {
      "image/png": {
       "height": 420,
       "width": 420
      }
     },
     "output_type": "display_data"
    }
   ],
   "source": [
    "plotMA(res, ylim=c(-2,2))"
   ]
  },
  {
   "cell_type": "code",
   "execution_count": 65,
   "id": "83b183c7-33f8-4c7b-948e-da73390468e8",
   "metadata": {},
   "outputs": [],
   "source": [
    "write.csv(as.data.frame(resOrdered), \n",
    "          file=\"231_WT_vs_Cocl2_transcript.csv\")"
   ]
  },
  {
   "cell_type": "code",
   "execution_count": null,
   "id": "f45b49fe-4995-4539-82ad-287db52180d2",
   "metadata": {},
   "outputs": [],
   "source": []
  }
 ],
 "metadata": {
  "kernelspec": {
   "display_name": "R [conda env:R_env]",
   "language": "R",
   "name": "conda-env-R_env-r"
  },
  "language_info": {
   "codemirror_mode": "r",
   "file_extension": ".r",
   "mimetype": "text/x-r-source",
   "name": "R",
   "pygments_lexer": "r",
   "version": "4.3.1"
  }
 },
 "nbformat": 4,
 "nbformat_minor": 5
}
